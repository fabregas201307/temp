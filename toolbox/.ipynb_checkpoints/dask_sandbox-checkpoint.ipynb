{
 "cells": [
  {
   "cell_type": "code",
   "execution_count": 1,
   "metadata": {},
   "outputs": [
    {
     "data": {
      "application/vnd.jupyter.widget-view+json": {
       "model_id": "e5124d6b03b6410a891d3cb4c925ab19",
       "version_major": 2,
       "version_minor": 0
      },
      "text/plain": [
       "VBox(children=(HTML(value='<h2>LocalCluster</h2>'), HBox(children=(HTML(value='\\n<div>\\n  <style scoped>\\n    …"
      ]
     },
     "metadata": {},
     "output_type": "display_data"
    }
   ],
   "source": [
    "# Setup a local cluster.\n",
    "# By default this sets up 1 worker per core\n",
    "from dask.distributed import Client\n",
    "client = Client(threads_per_worker=4, n_workers=4)\n",
    "# client = Client('Dask-Scheduler.local-dask:8786')\n",
    "# client.restart()\n",
    "client.cluster"
   ]
  },
  {
   "cell_type": "code",
   "execution_count": 2,
   "metadata": {},
   "outputs": [
    {
     "name": "stdout",
     "output_type": "stream",
     "text": [
      "CPU times: user 10 µs, sys: 3 µs, total: 13 µs\n",
      "Wall time: 15.7 µs\n"
     ]
    }
   ],
   "source": [
    "%%time\n",
    "\n",
    "from dask import delayed\n",
    "import time\n",
    "\n",
    "def inc(x):\n",
    "    time.sleep(2)\n",
    "    return x + 1\n",
    "\n",
    "def dec(x):\n",
    "    time.sleep(1)\n",
    "    return x - 1\n",
    "\n",
    "def add(x, y):\n",
    "    time.sleep(3)\n",
    "    return x + y"
   ]
  },
  {
   "cell_type": "code",
   "execution_count": 3,
   "metadata": {},
   "outputs": [],
   "source": [
    "@delayed\n",
    "def inc2(x):\n",
    "    time.sleep(2)\n",
    "    return x + 1\n",
    "\n",
    "@delayed\n",
    "def dec2(x):\n",
    "    time.sleep(1)\n",
    "    return x - 1\n",
    "\n",
    "@delayed\n",
    "def add2(x, y):\n",
    "    time.sleep(3)\n",
    "    return x + y"
   ]
  },
  {
   "cell_type": "code",
   "execution_count": 4,
   "metadata": {},
   "outputs": [],
   "source": [
    "# %%time\n",
    "\n",
    "# x = delayed(inc)(1)\n",
    "# y = delayed(dec)(2)\n",
    "# total = delayed(add)(x, y)\n",
    "# total.compute()"
   ]
  },
  {
   "cell_type": "code",
   "execution_count": 5,
   "metadata": {},
   "outputs": [
    {
     "name": "stdout",
     "output_type": "stream",
     "text": [
      "44850\n",
      "CPU times: user 12.5 s, sys: 1.37 s, total: 13.8 s\n",
      "Wall time: 5min\n"
     ]
    }
   ],
   "source": [
    "%%time\n",
    "count = 0\n",
    "results0 = list()\n",
    "while True:\n",
    "    count += 1\n",
    "#     print(count)\n",
    "\n",
    "    if count > 300:\n",
    "        break\n",
    "    cur = dec(count)\n",
    "    results0.append(cur)\n",
    "    \n",
    "ans0 = sum(results0)\n",
    "print(ans0)"
   ]
  },
  {
   "cell_type": "code",
   "execution_count": 6,
   "metadata": {},
   "outputs": [
    {
     "name": "stdout",
     "output_type": "stream",
     "text": [
      "44850\n",
      "CPU times: user 1.02 s, sys: 92.6 ms, total: 1.11 s\n",
      "Wall time: 19.5 s\n"
     ]
    }
   ],
   "source": [
    "%%time\n",
    "count = 0\n",
    "results1 = list()\n",
    "while True:\n",
    "    count += 1\n",
    "#     print(count)\n",
    "\n",
    "    if count > 300:\n",
    "        break\n",
    "    cur = delayed(dec)(count)\n",
    "    results1.append(cur)\n",
    "    \n",
    "\n",
    "total_1 = delayed(sum)(results1)\n",
    "ans1 = total_1.compute()\n",
    "print(ans1)"
   ]
  },
  {
   "cell_type": "code",
   "execution_count": 7,
   "metadata": {},
   "outputs": [
    {
     "name": "stdout",
     "output_type": "stream",
     "text": [
      "44850\n",
      "CPU times: user 853 ms, sys: 87.1 ms, total: 940 ms\n",
      "Wall time: 19.2 s\n"
     ]
    }
   ],
   "source": [
    "%%time\n",
    "count = 0\n",
    "results2 = list()\n",
    "while True:\n",
    "    count += 1\n",
    "    if count > 300:\n",
    "        break\n",
    "    cur = dec2(count)\n",
    "    results2.append(cur)\n",
    "    \n",
    "\n",
    "total2 = delayed(sum)(results2)\n",
    "ans2 = total2.compute()\n",
    "print(ans2)"
   ]
  },
  {
   "cell_type": "code",
   "execution_count": null,
   "metadata": {},
   "outputs": [],
   "source": []
  }
 ],
 "metadata": {
  "kernelspec": {
   "display_name": "Python 3",
   "language": "python",
   "name": "python3"
  },
  "language_info": {
   "codemirror_mode": {
    "name": "ipython",
    "version": 3
   },
   "file_extension": ".py",
   "mimetype": "text/x-python",
   "name": "python",
   "nbconvert_exporter": "python",
   "pygments_lexer": "ipython3",
   "version": "3.7.6"
  }
 },
 "nbformat": 4,
 "nbformat_minor": 5
}
