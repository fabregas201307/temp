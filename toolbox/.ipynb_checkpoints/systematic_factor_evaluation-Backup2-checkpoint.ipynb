{
 "cells": [
  {
   "cell_type": "markdown",
   "metadata": {},
   "source": [
    "<center><h2>Systematic Factor Evaluation<h2></center>"
   ]
  },
  {
   "cell_type": "code",
   "execution_count": 29,
   "metadata": {
    "slideshow": {
     "slide_type": "subslide"
    }
   },
   "outputs": [
    {
     "data": {
      "text/html": [
       "<script>\n",
       "code_show=true; \n",
       "function code_toggle() {\n",
       " if (code_show){\n",
       " $('div.input').hide();\n",
       " } else {\n",
       " $('div.input').show();\n",
       " }\n",
       " code_show = !code_show\n",
       "} \n",
       "$( document ).ready(code_toggle);\n",
       "</script>\n",
       "<form action=\"javascript:code_toggle()\"><input type=\"submit\" value=\"Click here to show/hide the raw code.\"></form>"
      ],
      "text/plain": [
       "<IPython.core.display.HTML object>"
      ]
     },
     "execution_count": 29,
     "metadata": {},
     "output_type": "execute_result"
    }
   ],
   "source": [
    "from IPython.display import HTML\n",
    "HTML('''<script>\n",
    "code_show=true; \n",
    "function code_toggle() {\n",
    " if (code_show){\n",
    " $('div.input').hide();\n",
    " } else {\n",
    " $('div.input').show();\n",
    " }\n",
    " code_show = !code_show\n",
    "} \n",
    "$( document ).ready(code_toggle);\n",
    "</script>\n",
    "<form action=\"javascript:code_toggle()\"><input type=\"submit\" value=\"Click here to show/hide the raw code.\"></form>''')"
   ]
  },
  {
   "cell_type": "code",
   "execution_count": 30,
   "metadata": {
    "scrolled": false
   },
   "outputs": [
    {
     "data": {
      "application/javascript": [
       "IPython.notebook.set_autosave_interval(0)"
      ]
     },
     "metadata": {},
     "output_type": "display_data"
    },
    {
     "name": "stdout",
     "output_type": "stream",
     "text": [
      "Autosave disabled\n"
     ]
    },
    {
     "data": {
      "text/html": [
       "        <script type=\"text/javascript\">\n",
       "        window.PlotlyConfig = {MathJaxConfig: 'local'};\n",
       "        if (window.MathJax) {MathJax.Hub.Config({SVG: {font: \"STIX-Web\"}});}\n",
       "        if (typeof require !== 'undefined') {\n",
       "        require.undef(\"plotly\");\n",
       "        requirejs.config({\n",
       "            paths: {\n",
       "                'plotly': ['https://cdn.plot.ly/plotly-latest.min']\n",
       "            }\n",
       "        });\n",
       "        require(['plotly'], function(Plotly) {\n",
       "            window._Plotly = Plotly;\n",
       "        });\n",
       "        }\n",
       "        </script>\n",
       "        "
      ]
     },
     "metadata": {},
     "output_type": "display_data"
    }
   ],
   "source": [
    "import alphalens\n",
    "import sys\n",
    "import os\n",
    "import re\n",
    "import datetime\n",
    "import getpass\n",
    "import logging\n",
    "import sklearn\n",
    "from sklearn.base import clone\n",
    "import ipywidgets as widgets\n",
    "import pandas as pd\n",
    "from datetime import datetime\n",
    "\n",
    "%matplotlib inline\n",
    "%config IPCompleter.greedy=True\n",
    "%autosave 0\n",
    "\n",
    "import pandas as pd\n",
    "import numpy as np\n",
    "import plotly.graph_objs as go\n",
    "from dslab.dsdata import MLData\n",
    "from dslab.dsmodel import MLModel\n",
    "from ipywidgets import *\n",
    "from IPython.display import display, clear_output, Image, Javascript, SVG\n",
    "from plotly.offline import init_notebook_mode, iplot\n",
    "from plotly.tools import FigureFactory as FF       \n",
    "\n",
    "# Initialize data and model object instances\n",
    "dsData = MLData(regret=True)\n",
    "model_obj = MLModel()\n",
    "\n",
    "# for plotly\n",
    "init_notebook_mode(connected=True)"
   ]
  },
  {
   "cell_type": "code",
   "execution_count": 31,
   "metadata": {},
   "outputs": [],
   "source": [
    "import warnings\n",
    "with warnings.catch_warnings():\n",
    "    warnings.simplefilter('ignore')"
   ]
  },
  {
   "cell_type": "code",
   "execution_count": 32,
   "metadata": {},
   "outputs": [],
   "source": [
    "import functools\n",
    "import scipy.interpolate\n",
    "import itertools\n",
    "import math\n",
    "from scipy.optimize import minimize\n",
    "from scipy.signal import fftconvolve\n",
    "from scipy.stats import norm\n",
    "import copy"
   ]
  },
  {
   "cell_type": "code",
   "execution_count": 33,
   "metadata": {},
   "outputs": [],
   "source": [
    "# display settings\n",
    "\n",
    "# widgets\n",
    "row_layout = Layout(display='flex', flex_flow='row', align_items='center')\n",
    "col_layout = dict(display='flex', flex_flow='column', justify_content='space-between', width='auto')\n",
    "\n",
    "def leftm(m=10):\n",
    "    '''Set left margin'''\n",
    "    return '0px 0px 0px {}px'.format(m)\n",
    "\n",
    "max_col = IntSlider(value=50, max=100, width='600px')\n",
    "max_row = IntSlider(value=100, max=250, width='600px')\n",
    "\n",
    "bs_row1 = Box([Label('Max Columns to Display:', layout=Layout(width='200px')),  max_col], layout=row_layout)\n",
    "bs_row2 = Box([Label('Max Rows to Display:', layout=Layout(width='200px')),  max_row], layout=row_layout)\n",
    "# display(Box([bs_row1, bs_row2], layout=Layout(**col_layout)))\n",
    "\n",
    "# function\n",
    "pd.options.display.max_columns = max_col.value\n",
    "pd.options.display.max_rows = max_row.value\n",
    "\n",
    "def chg_setting(chg):\n",
    "    '''Change basic settings.'''\n",
    "    pd.options.display.max_rows = max_row.value\n",
    "    pd.options.display.max_columns = max_col.value\n",
    "\n",
    "max_col.observe(chg_setting, names='value')\n",
    "max_row.observe(chg_setting, names='value')"
   ]
  },
  {
   "cell_type": "markdown",
   "metadata": {},
   "source": [
    "## 1. Load Data"
   ]
  },
  {
   "cell_type": "code",
   "execution_count": 34,
   "metadata": {
    "scrolled": false
   },
   "outputs": [
    {
     "name": "stdout",
     "output_type": "stream",
     "text": [
      "\n",
      " Data Head\n"
     ]
    },
    {
     "data": {
      "text/html": [
       "<div>\n",
       "<style scoped>\n",
       "    .dataframe tbody tr th:only-of-type {\n",
       "        vertical-align: middle;\n",
       "    }\n",
       "\n",
       "    .dataframe tbody tr th {\n",
       "        vertical-align: top;\n",
       "    }\n",
       "\n",
       "    .dataframe thead th {\n",
       "        text-align: right;\n",
       "    }\n",
       "</style>\n",
       "<table border=\"1\" class=\"dataframe\">\n",
       "  <thead>\n",
       "    <tr style=\"text-align: right;\">\n",
       "      <th></th>\n",
       "      <th>date</th>\n",
       "      <th>sid</th>\n",
       "      <th>symbol</th>\n",
       "      <th>Constant_nonConstant</th>\n",
       "      <th>EPS_surprise</th>\n",
       "      <th>Sector</th>\n",
       "      <th>price_to_book</th>\n",
       "      <th>transactions</th>\n",
       "      <th>returns_1mo_forward</th>\n",
       "      <th>returns_3mo_forward</th>\n",
       "    </tr>\n",
       "  </thead>\n",
       "  <tbody>\n",
       "    <tr>\n",
       "      <th>0</th>\n",
       "      <td>2006-01-03</td>\n",
       "      <td>1234</td>\n",
       "      <td>CAKE</td>\n",
       "      <td>0.933179</td>\n",
       "      <td>-0.007353</td>\n",
       "      <td>Consumer Services</td>\n",
       "      <td>3.99316</td>\n",
       "      <td>3.747790e+08</td>\n",
       "      <td>0.018553</td>\n",
       "      <td>-0.002958</td>\n",
       "    </tr>\n",
       "    <tr>\n",
       "      <th>1</th>\n",
       "      <td>2006-01-03</td>\n",
       "      <td>1787</td>\n",
       "      <td>COST</td>\n",
       "      <td>1.218542</td>\n",
       "      <td>0.006901</td>\n",
       "      <td>Consumer Non-Cyclicals</td>\n",
       "      <td>2.61398</td>\n",
       "      <td>6.597873e+09</td>\n",
       "      <td>-0.007820</td>\n",
       "      <td>0.091378</td>\n",
       "    </tr>\n",
       "    <tr>\n",
       "      <th>2</th>\n",
       "      <td>2006-01-03</td>\n",
       "      <td>3496</td>\n",
       "      <td>HD</td>\n",
       "      <td>1.365184</td>\n",
       "      <td>0.054695</td>\n",
       "      <td>Consumer Cyclicals</td>\n",
       "      <td>3.33687</td>\n",
       "      <td>2.787000e+10</td>\n",
       "      <td>-0.024491</td>\n",
       "      <td>0.030616</td>\n",
       "    </tr>\n",
       "    <tr>\n",
       "      <th>3</th>\n",
       "      <td>2006-01-03</td>\n",
       "      <td>3846</td>\n",
       "      <td>DIN</td>\n",
       "      <td>2.117332</td>\n",
       "      <td>0.135531</td>\n",
       "      <td>Consumer Services</td>\n",
       "      <td>2.49685</td>\n",
       "      <td>3.272870e+08</td>\n",
       "      <td>0.029802</td>\n",
       "      <td>-0.008905</td>\n",
       "    </tr>\n",
       "    <tr>\n",
       "      <th>4</th>\n",
       "      <td>2006-01-03</td>\n",
       "      <td>4313</td>\n",
       "      <td>KSS</td>\n",
       "      <td>2.502261</td>\n",
       "      <td>0.006178</td>\n",
       "      <td>Consumer Non-Cyclicals</td>\n",
       "      <td>2.82385</td>\n",
       "      <td>3.995940e+09</td>\n",
       "      <td>-0.060363</td>\n",
       "      <td>0.092550</td>\n",
       "    </tr>\n",
       "  </tbody>\n",
       "</table>\n",
       "</div>"
      ],
      "text/plain": [
       "         date   sid symbol  Constant_nonConstant  EPS_surprise  \\\n",
       "0  2006-01-03  1234   CAKE              0.933179     -0.007353   \n",
       "1  2006-01-03  1787   COST              1.218542      0.006901   \n",
       "2  2006-01-03  3496     HD              1.365184      0.054695   \n",
       "3  2006-01-03  3846    DIN              2.117332      0.135531   \n",
       "4  2006-01-03  4313    KSS              2.502261      0.006178   \n",
       "\n",
       "                   Sector  price_to_book  transactions  returns_1mo_forward  \\\n",
       "0       Consumer Services        3.99316  3.747790e+08             0.018553   \n",
       "1  Consumer Non-Cyclicals        2.61398  6.597873e+09            -0.007820   \n",
       "2      Consumer Cyclicals        3.33687  2.787000e+10            -0.024491   \n",
       "3       Consumer Services        2.49685  3.272870e+08             0.029802   \n",
       "4  Consumer Non-Cyclicals        2.82385  3.995940e+09            -0.060363   \n",
       "\n",
       "   returns_3mo_forward  \n",
       "0            -0.002958  \n",
       "1             0.091378  \n",
       "2             0.030616  \n",
       "3            -0.008905  \n",
       "4             0.092550  "
      ]
     },
     "metadata": {},
     "output_type": "display_data"
    },
    {
     "name": "stdout",
     "output_type": "stream",
     "text": [
      "\n",
      " Data Tail\n"
     ]
    },
    {
     "data": {
      "text/html": [
       "<div>\n",
       "<style scoped>\n",
       "    .dataframe tbody tr th:only-of-type {\n",
       "        vertical-align: middle;\n",
       "    }\n",
       "\n",
       "    .dataframe tbody tr th {\n",
       "        vertical-align: top;\n",
       "    }\n",
       "\n",
       "    .dataframe thead th {\n",
       "        text-align: right;\n",
       "    }\n",
       "</style>\n",
       "<table border=\"1\" class=\"dataframe\">\n",
       "  <thead>\n",
       "    <tr style=\"text-align: right;\">\n",
       "      <th></th>\n",
       "      <th>date</th>\n",
       "      <th>sid</th>\n",
       "      <th>symbol</th>\n",
       "      <th>Constant_nonConstant</th>\n",
       "      <th>EPS_surprise</th>\n",
       "      <th>Sector</th>\n",
       "      <th>price_to_book</th>\n",
       "      <th>transactions</th>\n",
       "      <th>returns_1mo_forward</th>\n",
       "      <th>returns_3mo_forward</th>\n",
       "    </tr>\n",
       "  </thead>\n",
       "  <tbody>\n",
       "    <tr>\n",
       "      <th>24342</th>\n",
       "      <td>2018-12-31</td>\n",
       "      <td>3846</td>\n",
       "      <td>DIN</td>\n",
       "      <td>1.337881</td>\n",
       "      <td>0.004926</td>\n",
       "      <td>Consumer Services</td>\n",
       "      <td>3.15025</td>\n",
       "      <td>-1.656700e+07</td>\n",
       "      <td>0.139908</td>\n",
       "      <td>0.381292</td>\n",
       "    </tr>\n",
       "    <tr>\n",
       "      <th>24343</th>\n",
       "      <td>2018-12-31</td>\n",
       "      <td>4313</td>\n",
       "      <td>KSS</td>\n",
       "      <td>2.010939</td>\n",
       "      <td>0.026666</td>\n",
       "      <td>Consumer Non-Cyclicals</td>\n",
       "      <td>2.32688</td>\n",
       "      <td>1.322400e+10</td>\n",
       "      <td>0.041604</td>\n",
       "      <td>0.068697</td>\n",
       "    </tr>\n",
       "    <tr>\n",
       "      <th>24344</th>\n",
       "      <td>2018-12-31</td>\n",
       "      <td>12652</td>\n",
       "      <td>DLTR</td>\n",
       "      <td>1.600609</td>\n",
       "      <td>0.031481</td>\n",
       "      <td>Consumer Non-Cyclicals</td>\n",
       "      <td>2.55136</td>\n",
       "      <td>4.666900e+09</td>\n",
       "      <td>0.063441</td>\n",
       "      <td>0.147808</td>\n",
       "    </tr>\n",
       "    <tr>\n",
       "      <th>24345</th>\n",
       "      <td>2018-12-31</td>\n",
       "      <td>12882</td>\n",
       "      <td>DRI</td>\n",
       "      <td>0.399856</td>\n",
       "      <td>0.010816</td>\n",
       "      <td>Consumer Services</td>\n",
       "      <td>6.23661</td>\n",
       "      <td>6.935000e+08</td>\n",
       "      <td>0.070588</td>\n",
       "      <td>0.214712</td>\n",
       "    </tr>\n",
       "    <tr>\n",
       "      <th>24346</th>\n",
       "      <td>2018-12-31</td>\n",
       "      <td>43201</td>\n",
       "      <td>FIVE</td>\n",
       "      <td>2.914763</td>\n",
       "      <td>0.092467</td>\n",
       "      <td>Consumer Non-Cyclicals</td>\n",
       "      <td>12.84670</td>\n",
       "      <td>1.725730e+08</td>\n",
       "      <td>0.187921</td>\n",
       "      <td>0.179908</td>\n",
       "    </tr>\n",
       "  </tbody>\n",
       "</table>\n",
       "</div>"
      ],
      "text/plain": [
       "             date    sid symbol  Constant_nonConstant  EPS_surprise  \\\n",
       "24342  2018-12-31   3846    DIN              1.337881      0.004926   \n",
       "24343  2018-12-31   4313    KSS              2.010939      0.026666   \n",
       "24344  2018-12-31  12652   DLTR              1.600609      0.031481   \n",
       "24345  2018-12-31  12882    DRI              0.399856      0.010816   \n",
       "24346  2018-12-31  43201   FIVE              2.914763      0.092467   \n",
       "\n",
       "                       Sector  price_to_book  transactions  \\\n",
       "24342       Consumer Services        3.15025 -1.656700e+07   \n",
       "24343  Consumer Non-Cyclicals        2.32688  1.322400e+10   \n",
       "24344  Consumer Non-Cyclicals        2.55136  4.666900e+09   \n",
       "24345       Consumer Services        6.23661  6.935000e+08   \n",
       "24346  Consumer Non-Cyclicals       12.84670  1.725730e+08   \n",
       "\n",
       "       returns_1mo_forward  returns_3mo_forward  \n",
       "24342             0.139908             0.381292  \n",
       "24343             0.041604             0.068697  \n",
       "24344             0.063441             0.147808  \n",
       "24345             0.070588             0.214712  \n",
       "24346             0.187921             0.179908  "
      ]
     },
     "metadata": {},
     "output_type": "display_data"
    },
    {
     "name": "stdout",
     "output_type": "stream",
     "text": [
      "\n",
      " Summary Statistics\n"
     ]
    },
    {
     "data": {
      "text/html": [
       "<div>\n",
       "<style scoped>\n",
       "    .dataframe tbody tr th:only-of-type {\n",
       "        vertical-align: middle;\n",
       "    }\n",
       "\n",
       "    .dataframe tbody tr th {\n",
       "        vertical-align: top;\n",
       "    }\n",
       "\n",
       "    .dataframe thead th {\n",
       "        text-align: right;\n",
       "    }\n",
       "</style>\n",
       "<table border=\"1\" class=\"dataframe\">\n",
       "  <thead>\n",
       "    <tr style=\"text-align: right;\">\n",
       "      <th></th>\n",
       "      <th>column name</th>\n",
       "      <th>dtype</th>\n",
       "      <th>unique</th>\n",
       "      <th>count</th>\n",
       "      <th>nulls</th>\n",
       "      <th>mode</th>\n",
       "      <th>mode_freq</th>\n",
       "      <th>mean</th>\n",
       "      <th>std</th>\n",
       "      <th>min</th>\n",
       "      <th>25%</th>\n",
       "      <th>50% (median)</th>\n",
       "      <th>75%</th>\n",
       "      <th>max</th>\n",
       "    </tr>\n",
       "  </thead>\n",
       "  <tbody>\n",
       "    <tr>\n",
       "      <th>0</th>\n",
       "      <td>date</td>\n",
       "      <td>object</td>\n",
       "      <td>3271</td>\n",
       "      <td>24347</td>\n",
       "      <td>0</td>\n",
       "      <td>2016-02-26</td>\n",
       "      <td>8</td>\n",
       "      <td>NaN</td>\n",
       "      <td>NaN</td>\n",
       "      <td>NaN</td>\n",
       "      <td>NaN</td>\n",
       "      <td>NaN</td>\n",
       "      <td>NaN</td>\n",
       "      <td>NaN</td>\n",
       "    </tr>\n",
       "    <tr>\n",
       "      <th>1</th>\n",
       "      <td>sid</td>\n",
       "      <td>int</td>\n",
       "      <td>NaN</td>\n",
       "      <td>24347</td>\n",
       "      <td>0</td>\n",
       "      <td>NaN</td>\n",
       "      <td>NaN</td>\n",
       "      <td>7975.04</td>\n",
       "      <td>9905.32</td>\n",
       "      <td>1234</td>\n",
       "      <td>1787</td>\n",
       "      <td>3846</td>\n",
       "      <td>12652</td>\n",
       "      <td>43201</td>\n",
       "    </tr>\n",
       "    <tr>\n",
       "      <th>2</th>\n",
       "      <td>symbol</td>\n",
       "      <td>category</td>\n",
       "      <td>8</td>\n",
       "      <td>24347</td>\n",
       "      <td>0</td>\n",
       "      <td>KSS</td>\n",
       "      <td>3271</td>\n",
       "      <td>NaN</td>\n",
       "      <td>NaN</td>\n",
       "      <td>NaN</td>\n",
       "      <td>NaN</td>\n",
       "      <td>NaN</td>\n",
       "      <td>NaN</td>\n",
       "      <td>NaN</td>\n",
       "    </tr>\n",
       "    <tr>\n",
       "      <th>3</th>\n",
       "      <td>Constant_nonConstant</td>\n",
       "      <td>float</td>\n",
       "      <td>NaN</td>\n",
       "      <td>24347</td>\n",
       "      <td>0</td>\n",
       "      <td>NaN</td>\n",
       "      <td>NaN</td>\n",
       "      <td>1.41139</td>\n",
       "      <td>0.651244</td>\n",
       "      <td>0.367995</td>\n",
       "      <td>1.01822</td>\n",
       "      <td>1.2489</td>\n",
       "      <td>1.87835</td>\n",
       "      <td>3.29496</td>\n",
       "    </tr>\n",
       "    <tr>\n",
       "      <th>4</th>\n",
       "      <td>EPS_surprise</td>\n",
       "      <td>float</td>\n",
       "      <td>NaN</td>\n",
       "      <td>24347</td>\n",
       "      <td>0</td>\n",
       "      <td>NaN</td>\n",
       "      <td>NaN</td>\n",
       "      <td>0.0162189</td>\n",
       "      <td>0.61063</td>\n",
       "      <td>-7.81821</td>\n",
       "      <td>0.00107282</td>\n",
       "      <td>0.027408</td>\n",
       "      <td>0.0741988</td>\n",
       "      <td>4.10969</td>\n",
       "    </tr>\n",
       "    <tr>\n",
       "      <th>5</th>\n",
       "      <td>Sector</td>\n",
       "      <td>category</td>\n",
       "      <td>3</td>\n",
       "      <td>24347</td>\n",
       "      <td>0</td>\n",
       "      <td>Consumer Non-Cyclicals</td>\n",
       "      <td>11263</td>\n",
       "      <td>NaN</td>\n",
       "      <td>NaN</td>\n",
       "      <td>NaN</td>\n",
       "      <td>NaN</td>\n",
       "      <td>NaN</td>\n",
       "      <td>NaN</td>\n",
       "      <td>NaN</td>\n",
       "    </tr>\n",
       "    <tr>\n",
       "      <th>6</th>\n",
       "      <td>price_to_book</td>\n",
       "      <td>float</td>\n",
       "      <td>NaN</td>\n",
       "      <td>24347</td>\n",
       "      <td>0</td>\n",
       "      <td>NaN</td>\n",
       "      <td>NaN</td>\n",
       "      <td>6.57894</td>\n",
       "      <td>13.5265</td>\n",
       "      <td>1.25285</td>\n",
       "      <td>2.84917</td>\n",
       "      <td>3.59609</td>\n",
       "      <td>5.57972</td>\n",
       "      <td>165.043</td>\n",
       "    </tr>\n",
       "    <tr>\n",
       "      <th>7</th>\n",
       "      <td>transactions</td>\n",
       "      <td>float</td>\n",
       "      <td>NaN</td>\n",
       "      <td>24347</td>\n",
       "      <td>0</td>\n",
       "      <td>NaN</td>\n",
       "      <td>NaN</td>\n",
       "      <td>6.09989e+09</td>\n",
       "      <td>8.86174e+09</td>\n",
       "      <td>-2.00433e+08</td>\n",
       "      <td>5.89631e+08</td>\n",
       "      <td>1.774e+09</td>\n",
       "      <td>7.585e+09</td>\n",
       "      <td>4.5235e+10</td>\n",
       "    </tr>\n",
       "    <tr>\n",
       "      <th>8</th>\n",
       "      <td>returns_1mo_forward</td>\n",
       "      <td>float</td>\n",
       "      <td>NaN</td>\n",
       "      <td>24345</td>\n",
       "      <td>2</td>\n",
       "      <td>NaN</td>\n",
       "      <td>NaN</td>\n",
       "      <td>0.0131904</td>\n",
       "      <td>0.0991962</td>\n",
       "      <td>-0.659868</td>\n",
       "      <td>-0.0348119</td>\n",
       "      <td>0.012357</td>\n",
       "      <td>0.0576202</td>\n",
       "      <td>1.66974</td>\n",
       "    </tr>\n",
       "    <tr>\n",
       "      <th>9</th>\n",
       "      <td>returns_3mo_forward</td>\n",
       "      <td>float</td>\n",
       "      <td>NaN</td>\n",
       "      <td>24345</td>\n",
       "      <td>2</td>\n",
       "      <td>NaN</td>\n",
       "      <td>NaN</td>\n",
       "      <td>0.0417691</td>\n",
       "      <td>0.194894</td>\n",
       "      <td>-0.737782</td>\n",
       "      <td>-0.0471028</td>\n",
       "      <td>0.0353256</td>\n",
       "      <td>0.123562</td>\n",
       "      <td>4.52712</td>\n",
       "    </tr>\n",
       "  </tbody>\n",
       "</table>\n",
       "</div>"
      ],
      "text/plain": [
       "            column name     dtype unique  count  nulls  \\\n",
       "0                  date    object   3271  24347      0   \n",
       "1                   sid       int    NaN  24347      0   \n",
       "2                symbol  category      8  24347      0   \n",
       "3  Constant_nonConstant     float    NaN  24347      0   \n",
       "4          EPS_surprise     float    NaN  24347      0   \n",
       "5                Sector  category      3  24347      0   \n",
       "6         price_to_book     float    NaN  24347      0   \n",
       "7          transactions     float    NaN  24347      0   \n",
       "8   returns_1mo_forward     float    NaN  24345      2   \n",
       "9   returns_3mo_forward     float    NaN  24345      2   \n",
       "\n",
       "                     mode mode_freq         mean          std          min  \\\n",
       "0              2016-02-26         8          NaN          NaN          NaN   \n",
       "1                     NaN       NaN      7975.04      9905.32         1234   \n",
       "2                     KSS      3271          NaN          NaN          NaN   \n",
       "3                     NaN       NaN      1.41139     0.651244     0.367995   \n",
       "4                     NaN       NaN    0.0162189      0.61063     -7.81821   \n",
       "5  Consumer Non-Cyclicals     11263          NaN          NaN          NaN   \n",
       "6                     NaN       NaN      6.57894      13.5265      1.25285   \n",
       "7                     NaN       NaN  6.09989e+09  8.86174e+09 -2.00433e+08   \n",
       "8                     NaN       NaN    0.0131904    0.0991962    -0.659868   \n",
       "9                     NaN       NaN    0.0417691     0.194894    -0.737782   \n",
       "\n",
       "           25% 50% (median)        75%         max  \n",
       "0          NaN          NaN        NaN         NaN  \n",
       "1         1787         3846      12652       43201  \n",
       "2          NaN          NaN        NaN         NaN  \n",
       "3      1.01822       1.2489    1.87835     3.29496  \n",
       "4   0.00107282     0.027408  0.0741988     4.10969  \n",
       "5          NaN          NaN        NaN         NaN  \n",
       "6      2.84917      3.59609    5.57972     165.043  \n",
       "7  5.89631e+08    1.774e+09  7.585e+09  4.5235e+10  \n",
       "8   -0.0348119     0.012357  0.0576202     1.66974  \n",
       "9   -0.0471028    0.0353256   0.123562     4.52712  "
      ]
     },
     "metadata": {},
     "output_type": "display_data"
    }
   ],
   "source": [
    "# load data\n",
    "# widgets\n",
    "filepath = Text(description='File Path:', value='demo.csv')\n",
    "loaddata_button = Button(description=\"Load Data\", button_style='success', margin=leftm(650))\n",
    "prog = FloatProgress(value=0, min=0, max=10, step=1, description='Progress:',\n",
    "                     margin=leftm(550), width='250px')\n",
    "display(filepath, loaddata_button, prog)\n",
    "\n",
    "# functions\n",
    "def loaddata(b):\n",
    "    '''Load data.'''\n",
    "#     clear_output()\n",
    "#     display(filepath, loaddata_button, prog)\n",
    "    global all_tickers, all_factors\n",
    "    prog.value = 0\n",
    "    prog.description = 'Start...'\n",
    "    filepath_ = filepath.value # os.path.join(PATH.value, filename.value)\n",
    "    dsData.read_data(filepath_)  # read data\n",
    "    prog.value = 5\n",
    "    prog.description = 'In Progress...'\n",
    "    dsData.save_current()  # save a copy of current snapshot\n",
    "    prog.value = 10\n",
    "    prog.description = 'Done!'\n",
    "    dsData.infer_categorical()\n",
    "    clear_output()\n",
    "    print('\\n', 'Data Head')\n",
    "    display(dsData.head())  # display data head\n",
    "    print('\\n', 'Data Tail')\n",
    "    display(dsData.tail())  # display data tail\n",
    "    print('\\n', 'Summary Statistics')    \n",
    "    display(dsData.get_summary())  # display summary statistics\n",
    "    \n",
    "    all_tickers = list(dsData.data['symbol'].unique())\n",
    "    all_factors = [j for j in dsData.data.columns if j not in ['date', 'sid', 'symbol', 'Sector']]\n",
    "\n",
    "loaddata_button.on_click(loaddata)"
   ]
  },
  {
   "cell_type": "code",
   "execution_count": 58,
   "metadata": {},
   "outputs": [
    {
     "data": {
      "text/html": [
       "<div>\n",
       "<style scoped>\n",
       "    .dataframe tbody tr th:only-of-type {\n",
       "        vertical-align: middle;\n",
       "    }\n",
       "\n",
       "    .dataframe tbody tr th {\n",
       "        vertical-align: top;\n",
       "    }\n",
       "\n",
       "    .dataframe thead th {\n",
       "        text-align: right;\n",
       "    }\n",
       "</style>\n",
       "<table border=\"1\" class=\"dataframe\">\n",
       "  <thead>\n",
       "    <tr style=\"text-align: right;\">\n",
       "      <th></th>\n",
       "      <th></th>\n",
       "      <th>symbol</th>\n",
       "      <th>Constant_nonConstant</th>\n",
       "      <th>EPS_surprise</th>\n",
       "      <th>Sector</th>\n",
       "      <th>price_to_book</th>\n",
       "      <th>transactions</th>\n",
       "      <th>returns_1mo_forward</th>\n",
       "      <th>returns_3mo_forward</th>\n",
       "    </tr>\n",
       "    <tr>\n",
       "      <th>date</th>\n",
       "      <th>sid</th>\n",
       "      <th></th>\n",
       "      <th></th>\n",
       "      <th></th>\n",
       "      <th></th>\n",
       "      <th></th>\n",
       "      <th></th>\n",
       "      <th></th>\n",
       "      <th></th>\n",
       "    </tr>\n",
       "  </thead>\n",
       "  <tbody>\n",
       "    <tr>\n",
       "      <th rowspan=\"5\" valign=\"top\">2006-01-03</th>\n",
       "      <th>1234</th>\n",
       "      <td>CAKE</td>\n",
       "      <td>0.933179</td>\n",
       "      <td>-0.007353</td>\n",
       "      <td>Consumer Services</td>\n",
       "      <td>3.99316</td>\n",
       "      <td>3.747790e+08</td>\n",
       "      <td>0.018553</td>\n",
       "      <td>-0.002958</td>\n",
       "    </tr>\n",
       "    <tr>\n",
       "      <th>1787</th>\n",
       "      <td>COST</td>\n",
       "      <td>1.218542</td>\n",
       "      <td>0.006901</td>\n",
       "      <td>Consumer Non-Cyclicals</td>\n",
       "      <td>2.61398</td>\n",
       "      <td>6.597873e+09</td>\n",
       "      <td>-0.007820</td>\n",
       "      <td>0.091378</td>\n",
       "    </tr>\n",
       "    <tr>\n",
       "      <th>3496</th>\n",
       "      <td>HD</td>\n",
       "      <td>1.365184</td>\n",
       "      <td>0.054695</td>\n",
       "      <td>Consumer Cyclicals</td>\n",
       "      <td>3.33687</td>\n",
       "      <td>2.787000e+10</td>\n",
       "      <td>-0.024491</td>\n",
       "      <td>0.030616</td>\n",
       "    </tr>\n",
       "    <tr>\n",
       "      <th>3846</th>\n",
       "      <td>DIN</td>\n",
       "      <td>2.117332</td>\n",
       "      <td>0.135531</td>\n",
       "      <td>Consumer Services</td>\n",
       "      <td>2.49685</td>\n",
       "      <td>3.272870e+08</td>\n",
       "      <td>0.029802</td>\n",
       "      <td>-0.008905</td>\n",
       "    </tr>\n",
       "    <tr>\n",
       "      <th>4313</th>\n",
       "      <td>KSS</td>\n",
       "      <td>2.502261</td>\n",
       "      <td>0.006178</td>\n",
       "      <td>Consumer Non-Cyclicals</td>\n",
       "      <td>2.82385</td>\n",
       "      <td>3.995940e+09</td>\n",
       "      <td>-0.060363</td>\n",
       "      <td>0.092550</td>\n",
       "    </tr>\n",
       "    <tr>\n",
       "      <th>...</th>\n",
       "      <th>...</th>\n",
       "      <td>...</td>\n",
       "      <td>...</td>\n",
       "      <td>...</td>\n",
       "      <td>...</td>\n",
       "      <td>...</td>\n",
       "      <td>...</td>\n",
       "      <td>...</td>\n",
       "      <td>...</td>\n",
       "    </tr>\n",
       "    <tr>\n",
       "      <th rowspan=\"5\" valign=\"top\">2018-12-31</th>\n",
       "      <th>3846</th>\n",
       "      <td>DIN</td>\n",
       "      <td>1.337881</td>\n",
       "      <td>0.004926</td>\n",
       "      <td>Consumer Services</td>\n",
       "      <td>3.15025</td>\n",
       "      <td>-1.656700e+07</td>\n",
       "      <td>0.139908</td>\n",
       "      <td>0.381292</td>\n",
       "    </tr>\n",
       "    <tr>\n",
       "      <th>4313</th>\n",
       "      <td>KSS</td>\n",
       "      <td>2.010939</td>\n",
       "      <td>0.026666</td>\n",
       "      <td>Consumer Non-Cyclicals</td>\n",
       "      <td>2.32688</td>\n",
       "      <td>1.322400e+10</td>\n",
       "      <td>0.041604</td>\n",
       "      <td>0.068697</td>\n",
       "    </tr>\n",
       "    <tr>\n",
       "      <th>12652</th>\n",
       "      <td>DLTR</td>\n",
       "      <td>1.600609</td>\n",
       "      <td>0.031481</td>\n",
       "      <td>Consumer Non-Cyclicals</td>\n",
       "      <td>2.55136</td>\n",
       "      <td>4.666900e+09</td>\n",
       "      <td>0.063441</td>\n",
       "      <td>0.147808</td>\n",
       "    </tr>\n",
       "    <tr>\n",
       "      <th>12882</th>\n",
       "      <td>DRI</td>\n",
       "      <td>0.399856</td>\n",
       "      <td>0.010816</td>\n",
       "      <td>Consumer Services</td>\n",
       "      <td>6.23661</td>\n",
       "      <td>6.935000e+08</td>\n",
       "      <td>0.070588</td>\n",
       "      <td>0.214712</td>\n",
       "    </tr>\n",
       "    <tr>\n",
       "      <th>43201</th>\n",
       "      <td>FIVE</td>\n",
       "      <td>2.914763</td>\n",
       "      <td>0.092467</td>\n",
       "      <td>Consumer Non-Cyclicals</td>\n",
       "      <td>12.84670</td>\n",
       "      <td>1.725730e+08</td>\n",
       "      <td>0.187921</td>\n",
       "      <td>0.179908</td>\n",
       "    </tr>\n",
       "  </tbody>\n",
       "</table>\n",
       "<p>24347 rows × 8 columns</p>\n",
       "</div>"
      ],
      "text/plain": [
       "                 symbol  Constant_nonConstant  EPS_surprise  \\\n",
       "date       sid                                                \n",
       "2006-01-03 1234    CAKE              0.933179     -0.007353   \n",
       "           1787    COST              1.218542      0.006901   \n",
       "           3496      HD              1.365184      0.054695   \n",
       "           3846     DIN              2.117332      0.135531   \n",
       "           4313     KSS              2.502261      0.006178   \n",
       "...                 ...                   ...           ...   \n",
       "2018-12-31 3846     DIN              1.337881      0.004926   \n",
       "           4313     KSS              2.010939      0.026666   \n",
       "           12652   DLTR              1.600609      0.031481   \n",
       "           12882    DRI              0.399856      0.010816   \n",
       "           43201   FIVE              2.914763      0.092467   \n",
       "\n",
       "                                  Sector  price_to_book  transactions  \\\n",
       "date       sid                                                          \n",
       "2006-01-03 1234        Consumer Services        3.99316  3.747790e+08   \n",
       "           1787   Consumer Non-Cyclicals        2.61398  6.597873e+09   \n",
       "           3496       Consumer Cyclicals        3.33687  2.787000e+10   \n",
       "           3846        Consumer Services        2.49685  3.272870e+08   \n",
       "           4313   Consumer Non-Cyclicals        2.82385  3.995940e+09   \n",
       "...                                  ...            ...           ...   \n",
       "2018-12-31 3846        Consumer Services        3.15025 -1.656700e+07   \n",
       "           4313   Consumer Non-Cyclicals        2.32688  1.322400e+10   \n",
       "           12652  Consumer Non-Cyclicals        2.55136  4.666900e+09   \n",
       "           12882       Consumer Services        6.23661  6.935000e+08   \n",
       "           43201  Consumer Non-Cyclicals       12.84670  1.725730e+08   \n",
       "\n",
       "                  returns_1mo_forward  returns_3mo_forward  \n",
       "date       sid                                              \n",
       "2006-01-03 1234              0.018553            -0.002958  \n",
       "           1787             -0.007820             0.091378  \n",
       "           3496             -0.024491             0.030616  \n",
       "           3846              0.029802            -0.008905  \n",
       "           4313             -0.060363             0.092550  \n",
       "...                               ...                  ...  \n",
       "2018-12-31 3846              0.139908             0.381292  \n",
       "           4313              0.041604             0.068697  \n",
       "           12652             0.063441             0.147808  \n",
       "           12882             0.070588             0.214712  \n",
       "           43201             0.187921             0.179908  \n",
       "\n",
       "[24347 rows x 8 columns]"
      ]
     },
     "execution_count": 58,
     "metadata": {},
     "output_type": "execute_result"
    }
   ],
   "source": [
    "dsData.data.set_index(['date', 'sid'])"
   ]
  },
  {
   "cell_type": "markdown",
   "metadata": {},
   "source": [
    "## 2. Explore Data"
   ]
  },
  {
   "cell_type": "code",
   "execution_count": 35,
   "metadata": {
    "scrolled": false
   },
   "outputs": [
    {
     "data": {
      "application/vnd.jupyter.widget-view+json": {
       "model_id": "4cca7c38ea8b4ee2ac773fa89e238cdc",
       "version_major": 2,
       "version_minor": 0
      },
      "text/plain": [
       "HBox(children=(Label(value='Graph Type: '), ToggleButtons(index=4, options=('Coverage', 'Pie Chart', 'Histogra…"
      ]
     },
     "metadata": {},
     "output_type": "display_data"
    },
    {
     "data": {
      "application/vnd.plotly.v1+json": {
       "config": {
        "linkText": "Export to plot.ly",
        "plotlyServerURL": "https://plot.ly",
        "showLink": false
       },
       "data": [
        {
         "colorscale": [
          [
           0,
           "rgba(255,0,0,0.3)"
          ],
          [
           0.5,
           "rgba(255,255,0,0.3)"
          ],
          [
           1,
           "rgba(0,255,0,0.3)"
          ]
         ],
         "showscale": true,
         "type": "heatmap",
         "x": [
          "EPS_surprise",
          "price_to_book",
          "returns_1mo_forward",
          "returns_3mo_forward",
          "transactions"
         ],
         "y": [
          "transactions",
          "returns_3mo_forward",
          "returns_1mo_forward",
          "price_to_book",
          "EPS_surprise"
         ],
         "z": [
          [
           0.02,
           0.49,
           -0.02,
           -0.03,
           1
          ],
          [
           -0.14,
           0.02,
           0.56,
           1,
           -0.03
          ],
          [
           -0.04,
           0.03,
           1,
           0.56,
           -0.02
          ],
          [
           0,
           1,
           0.03,
           0.02,
           0.49
          ],
          [
           1,
           0,
           -0.04,
           -0.14,
           0.02
          ]
         ],
         "zmax": 1,
         "zmin": -1
        }
       ],
       "layout": {
        "annotations": [
         {
          "font": {
           "color": "black"
          },
          "showarrow": false,
          "text": "0.02",
          "x": "EPS_surprise",
          "xref": "x",
          "y": "transactions",
          "yref": "y"
         },
         {
          "font": {
           "color": "black"
          },
          "showarrow": false,
          "text": "0.49",
          "x": "price_to_book",
          "xref": "x",
          "y": "transactions",
          "yref": "y"
         },
         {
          "font": {
           "color": "black"
          },
          "showarrow": false,
          "text": "-0.02",
          "x": "returns_1mo_forward",
          "xref": "x",
          "y": "transactions",
          "yref": "y"
         },
         {
          "font": {
           "color": "black"
          },
          "showarrow": false,
          "text": "-0.03",
          "x": "returns_3mo_forward",
          "xref": "x",
          "y": "transactions",
          "yref": "y"
         },
         {
          "font": {
           "color": "black"
          },
          "showarrow": false,
          "text": "1.0",
          "x": "transactions",
          "xref": "x",
          "y": "transactions",
          "yref": "y"
         },
         {
          "font": {
           "color": "black"
          },
          "showarrow": false,
          "text": "-0.14",
          "x": "EPS_surprise",
          "xref": "x",
          "y": "returns_3mo_forward",
          "yref": "y"
         },
         {
          "font": {
           "color": "black"
          },
          "showarrow": false,
          "text": "0.02",
          "x": "price_to_book",
          "xref": "x",
          "y": "returns_3mo_forward",
          "yref": "y"
         },
         {
          "font": {
           "color": "black"
          },
          "showarrow": false,
          "text": "0.56",
          "x": "returns_1mo_forward",
          "xref": "x",
          "y": "returns_3mo_forward",
          "yref": "y"
         },
         {
          "font": {
           "color": "black"
          },
          "showarrow": false,
          "text": "1.0",
          "x": "returns_3mo_forward",
          "xref": "x",
          "y": "returns_3mo_forward",
          "yref": "y"
         },
         {
          "font": {
           "color": "black"
          },
          "showarrow": false,
          "text": "-0.03",
          "x": "transactions",
          "xref": "x",
          "y": "returns_3mo_forward",
          "yref": "y"
         },
         {
          "font": {
           "color": "black"
          },
          "showarrow": false,
          "text": "-0.04",
          "x": "EPS_surprise",
          "xref": "x",
          "y": "returns_1mo_forward",
          "yref": "y"
         },
         {
          "font": {
           "color": "black"
          },
          "showarrow": false,
          "text": "0.03",
          "x": "price_to_book",
          "xref": "x",
          "y": "returns_1mo_forward",
          "yref": "y"
         },
         {
          "font": {
           "color": "black"
          },
          "showarrow": false,
          "text": "1.0",
          "x": "returns_1mo_forward",
          "xref": "x",
          "y": "returns_1mo_forward",
          "yref": "y"
         },
         {
          "font": {
           "color": "black"
          },
          "showarrow": false,
          "text": "0.56",
          "x": "returns_3mo_forward",
          "xref": "x",
          "y": "returns_1mo_forward",
          "yref": "y"
         },
         {
          "font": {
           "color": "black"
          },
          "showarrow": false,
          "text": "-0.02",
          "x": "transactions",
          "xref": "x",
          "y": "returns_1mo_forward",
          "yref": "y"
         },
         {
          "font": {
           "color": "black"
          },
          "showarrow": false,
          "text": "-0.0",
          "x": "EPS_surprise",
          "xref": "x",
          "y": "price_to_book",
          "yref": "y"
         },
         {
          "font": {
           "color": "black"
          },
          "showarrow": false,
          "text": "1.0",
          "x": "price_to_book",
          "xref": "x",
          "y": "price_to_book",
          "yref": "y"
         },
         {
          "font": {
           "color": "black"
          },
          "showarrow": false,
          "text": "0.03",
          "x": "returns_1mo_forward",
          "xref": "x",
          "y": "price_to_book",
          "yref": "y"
         },
         {
          "font": {
           "color": "black"
          },
          "showarrow": false,
          "text": "0.02",
          "x": "returns_3mo_forward",
          "xref": "x",
          "y": "price_to_book",
          "yref": "y"
         },
         {
          "font": {
           "color": "black"
          },
          "showarrow": false,
          "text": "0.49",
          "x": "transactions",
          "xref": "x",
          "y": "price_to_book",
          "yref": "y"
         },
         {
          "font": {
           "color": "black"
          },
          "showarrow": false,
          "text": "1.0",
          "x": "EPS_surprise",
          "xref": "x",
          "y": "EPS_surprise",
          "yref": "y"
         },
         {
          "font": {
           "color": "black"
          },
          "showarrow": false,
          "text": "-0.0",
          "x": "price_to_book",
          "xref": "x",
          "y": "EPS_surprise",
          "yref": "y"
         },
         {
          "font": {
           "color": "black"
          },
          "showarrow": false,
          "text": "-0.04",
          "x": "returns_1mo_forward",
          "xref": "x",
          "y": "EPS_surprise",
          "yref": "y"
         },
         {
          "font": {
           "color": "black"
          },
          "showarrow": false,
          "text": "-0.14",
          "x": "returns_3mo_forward",
          "xref": "x",
          "y": "EPS_surprise",
          "yref": "y"
         },
         {
          "font": {
           "color": "black"
          },
          "showarrow": false,
          "text": "0.02",
          "x": "transactions",
          "xref": "x",
          "y": "EPS_surprise",
          "yref": "y"
         }
        ],
        "autosize": false,
        "height": 700,
        "template": {
         "data": {
          "bar": [
           {
            "error_x": {
             "color": "#2a3f5f"
            },
            "error_y": {
             "color": "#2a3f5f"
            },
            "marker": {
             "line": {
              "color": "#E5ECF6",
              "width": 0.5
             }
            },
            "type": "bar"
           }
          ],
          "barpolar": [
           {
            "marker": {
             "line": {
              "color": "#E5ECF6",
              "width": 0.5
             }
            },
            "type": "barpolar"
           }
          ],
          "carpet": [
           {
            "aaxis": {
             "endlinecolor": "#2a3f5f",
             "gridcolor": "white",
             "linecolor": "white",
             "minorgridcolor": "white",
             "startlinecolor": "#2a3f5f"
            },
            "baxis": {
             "endlinecolor": "#2a3f5f",
             "gridcolor": "white",
             "linecolor": "white",
             "minorgridcolor": "white",
             "startlinecolor": "#2a3f5f"
            },
            "type": "carpet"
           }
          ],
          "choropleth": [
           {
            "colorbar": {
             "outlinewidth": 0,
             "ticks": ""
            },
            "type": "choropleth"
           }
          ],
          "contour": [
           {
            "colorbar": {
             "outlinewidth": 0,
             "ticks": ""
            },
            "colorscale": [
             [
              0,
              "#0d0887"
             ],
             [
              0.1111111111111111,
              "#46039f"
             ],
             [
              0.2222222222222222,
              "#7201a8"
             ],
             [
              0.3333333333333333,
              "#9c179e"
             ],
             [
              0.4444444444444444,
              "#bd3786"
             ],
             [
              0.5555555555555556,
              "#d8576b"
             ],
             [
              0.6666666666666666,
              "#ed7953"
             ],
             [
              0.7777777777777778,
              "#fb9f3a"
             ],
             [
              0.8888888888888888,
              "#fdca26"
             ],
             [
              1,
              "#f0f921"
             ]
            ],
            "type": "contour"
           }
          ],
          "contourcarpet": [
           {
            "colorbar": {
             "outlinewidth": 0,
             "ticks": ""
            },
            "type": "contourcarpet"
           }
          ],
          "heatmap": [
           {
            "colorbar": {
             "outlinewidth": 0,
             "ticks": ""
            },
            "colorscale": [
             [
              0,
              "#0d0887"
             ],
             [
              0.1111111111111111,
              "#46039f"
             ],
             [
              0.2222222222222222,
              "#7201a8"
             ],
             [
              0.3333333333333333,
              "#9c179e"
             ],
             [
              0.4444444444444444,
              "#bd3786"
             ],
             [
              0.5555555555555556,
              "#d8576b"
             ],
             [
              0.6666666666666666,
              "#ed7953"
             ],
             [
              0.7777777777777778,
              "#fb9f3a"
             ],
             [
              0.8888888888888888,
              "#fdca26"
             ],
             [
              1,
              "#f0f921"
             ]
            ],
            "type": "heatmap"
           }
          ],
          "heatmapgl": [
           {
            "colorbar": {
             "outlinewidth": 0,
             "ticks": ""
            },
            "colorscale": [
             [
              0,
              "#0d0887"
             ],
             [
              0.1111111111111111,
              "#46039f"
             ],
             [
              0.2222222222222222,
              "#7201a8"
             ],
             [
              0.3333333333333333,
              "#9c179e"
             ],
             [
              0.4444444444444444,
              "#bd3786"
             ],
             [
              0.5555555555555556,
              "#d8576b"
             ],
             [
              0.6666666666666666,
              "#ed7953"
             ],
             [
              0.7777777777777778,
              "#fb9f3a"
             ],
             [
              0.8888888888888888,
              "#fdca26"
             ],
             [
              1,
              "#f0f921"
             ]
            ],
            "type": "heatmapgl"
           }
          ],
          "histogram": [
           {
            "marker": {
             "colorbar": {
              "outlinewidth": 0,
              "ticks": ""
             }
            },
            "type": "histogram"
           }
          ],
          "histogram2d": [
           {
            "colorbar": {
             "outlinewidth": 0,
             "ticks": ""
            },
            "colorscale": [
             [
              0,
              "#0d0887"
             ],
             [
              0.1111111111111111,
              "#46039f"
             ],
             [
              0.2222222222222222,
              "#7201a8"
             ],
             [
              0.3333333333333333,
              "#9c179e"
             ],
             [
              0.4444444444444444,
              "#bd3786"
             ],
             [
              0.5555555555555556,
              "#d8576b"
             ],
             [
              0.6666666666666666,
              "#ed7953"
             ],
             [
              0.7777777777777778,
              "#fb9f3a"
             ],
             [
              0.8888888888888888,
              "#fdca26"
             ],
             [
              1,
              "#f0f921"
             ]
            ],
            "type": "histogram2d"
           }
          ],
          "histogram2dcontour": [
           {
            "colorbar": {
             "outlinewidth": 0,
             "ticks": ""
            },
            "colorscale": [
             [
              0,
              "#0d0887"
             ],
             [
              0.1111111111111111,
              "#46039f"
             ],
             [
              0.2222222222222222,
              "#7201a8"
             ],
             [
              0.3333333333333333,
              "#9c179e"
             ],
             [
              0.4444444444444444,
              "#bd3786"
             ],
             [
              0.5555555555555556,
              "#d8576b"
             ],
             [
              0.6666666666666666,
              "#ed7953"
             ],
             [
              0.7777777777777778,
              "#fb9f3a"
             ],
             [
              0.8888888888888888,
              "#fdca26"
             ],
             [
              1,
              "#f0f921"
             ]
            ],
            "type": "histogram2dcontour"
           }
          ],
          "mesh3d": [
           {
            "colorbar": {
             "outlinewidth": 0,
             "ticks": ""
            },
            "type": "mesh3d"
           }
          ],
          "parcoords": [
           {
            "line": {
             "colorbar": {
              "outlinewidth": 0,
              "ticks": ""
             }
            },
            "type": "parcoords"
           }
          ],
          "scatter": [
           {
            "marker": {
             "colorbar": {
              "outlinewidth": 0,
              "ticks": ""
             }
            },
            "type": "scatter"
           }
          ],
          "scatter3d": [
           {
            "line": {
             "colorbar": {
              "outlinewidth": 0,
              "ticks": ""
             }
            },
            "marker": {
             "colorbar": {
              "outlinewidth": 0,
              "ticks": ""
             }
            },
            "type": "scatter3d"
           }
          ],
          "scattercarpet": [
           {
            "marker": {
             "colorbar": {
              "outlinewidth": 0,
              "ticks": ""
             }
            },
            "type": "scattercarpet"
           }
          ],
          "scattergeo": [
           {
            "marker": {
             "colorbar": {
              "outlinewidth": 0,
              "ticks": ""
             }
            },
            "type": "scattergeo"
           }
          ],
          "scattergl": [
           {
            "marker": {
             "colorbar": {
              "outlinewidth": 0,
              "ticks": ""
             }
            },
            "type": "scattergl"
           }
          ],
          "scattermapbox": [
           {
            "marker": {
             "colorbar": {
              "outlinewidth": 0,
              "ticks": ""
             }
            },
            "type": "scattermapbox"
           }
          ],
          "scatterpolar": [
           {
            "marker": {
             "colorbar": {
              "outlinewidth": 0,
              "ticks": ""
             }
            },
            "type": "scatterpolar"
           }
          ],
          "scatterpolargl": [
           {
            "marker": {
             "colorbar": {
              "outlinewidth": 0,
              "ticks": ""
             }
            },
            "type": "scatterpolargl"
           }
          ],
          "scatterternary": [
           {
            "marker": {
             "colorbar": {
              "outlinewidth": 0,
              "ticks": ""
             }
            },
            "type": "scatterternary"
           }
          ],
          "surface": [
           {
            "colorbar": {
             "outlinewidth": 0,
             "ticks": ""
            },
            "colorscale": [
             [
              0,
              "#0d0887"
             ],
             [
              0.1111111111111111,
              "#46039f"
             ],
             [
              0.2222222222222222,
              "#7201a8"
             ],
             [
              0.3333333333333333,
              "#9c179e"
             ],
             [
              0.4444444444444444,
              "#bd3786"
             ],
             [
              0.5555555555555556,
              "#d8576b"
             ],
             [
              0.6666666666666666,
              "#ed7953"
             ],
             [
              0.7777777777777778,
              "#fb9f3a"
             ],
             [
              0.8888888888888888,
              "#fdca26"
             ],
             [
              1,
              "#f0f921"
             ]
            ],
            "type": "surface"
           }
          ],
          "table": [
           {
            "cells": {
             "fill": {
              "color": "#EBF0F8"
             },
             "line": {
              "color": "white"
             }
            },
            "header": {
             "fill": {
              "color": "#C8D4E3"
             },
             "line": {
              "color": "white"
             }
            },
            "type": "table"
           }
          ]
         },
         "layout": {
          "annotationdefaults": {
           "arrowcolor": "#2a3f5f",
           "arrowhead": 0,
           "arrowwidth": 1
          },
          "colorscale": {
           "diverging": [
            [
             0,
             "#8e0152"
            ],
            [
             0.1,
             "#c51b7d"
            ],
            [
             0.2,
             "#de77ae"
            ],
            [
             0.3,
             "#f1b6da"
            ],
            [
             0.4,
             "#fde0ef"
            ],
            [
             0.5,
             "#f7f7f7"
            ],
            [
             0.6,
             "#e6f5d0"
            ],
            [
             0.7,
             "#b8e186"
            ],
            [
             0.8,
             "#7fbc41"
            ],
            [
             0.9,
             "#4d9221"
            ],
            [
             1,
             "#276419"
            ]
           ],
           "sequential": [
            [
             0,
             "#0d0887"
            ],
            [
             0.1111111111111111,
             "#46039f"
            ],
            [
             0.2222222222222222,
             "#7201a8"
            ],
            [
             0.3333333333333333,
             "#9c179e"
            ],
            [
             0.4444444444444444,
             "#bd3786"
            ],
            [
             0.5555555555555556,
             "#d8576b"
            ],
            [
             0.6666666666666666,
             "#ed7953"
            ],
            [
             0.7777777777777778,
             "#fb9f3a"
            ],
            [
             0.8888888888888888,
             "#fdca26"
            ],
            [
             1,
             "#f0f921"
            ]
           ],
           "sequentialminus": [
            [
             0,
             "#0d0887"
            ],
            [
             0.1111111111111111,
             "#46039f"
            ],
            [
             0.2222222222222222,
             "#7201a8"
            ],
            [
             0.3333333333333333,
             "#9c179e"
            ],
            [
             0.4444444444444444,
             "#bd3786"
            ],
            [
             0.5555555555555556,
             "#d8576b"
            ],
            [
             0.6666666666666666,
             "#ed7953"
            ],
            [
             0.7777777777777778,
             "#fb9f3a"
            ],
            [
             0.8888888888888888,
             "#fdca26"
            ],
            [
             1,
             "#f0f921"
            ]
           ]
          },
          "colorway": [
           "#636efa",
           "#EF553B",
           "#00cc96",
           "#ab63fa",
           "#FFA15A",
           "#19d3f3",
           "#FF6692",
           "#B6E880",
           "#FF97FF",
           "#FECB52"
          ],
          "font": {
           "color": "#2a3f5f"
          },
          "geo": {
           "bgcolor": "white",
           "lakecolor": "white",
           "landcolor": "#E5ECF6",
           "showlakes": true,
           "showland": true,
           "subunitcolor": "white"
          },
          "hoverlabel": {
           "align": "left"
          },
          "hovermode": "closest",
          "mapbox": {
           "style": "light"
          },
          "paper_bgcolor": "white",
          "plot_bgcolor": "#E5ECF6",
          "polar": {
           "angularaxis": {
            "gridcolor": "white",
            "linecolor": "white",
            "ticks": ""
           },
           "bgcolor": "#E5ECF6",
           "radialaxis": {
            "gridcolor": "white",
            "linecolor": "white",
            "ticks": ""
           }
          },
          "scene": {
           "xaxis": {
            "backgroundcolor": "#E5ECF6",
            "gridcolor": "white",
            "gridwidth": 2,
            "linecolor": "white",
            "showbackground": true,
            "ticks": "",
            "zerolinecolor": "white"
           },
           "yaxis": {
            "backgroundcolor": "#E5ECF6",
            "gridcolor": "white",
            "gridwidth": 2,
            "linecolor": "white",
            "showbackground": true,
            "ticks": "",
            "zerolinecolor": "white"
           },
           "zaxis": {
            "backgroundcolor": "#E5ECF6",
            "gridcolor": "white",
            "gridwidth": 2,
            "linecolor": "white",
            "showbackground": true,
            "ticks": "",
            "zerolinecolor": "white"
           }
          },
          "shapedefaults": {
           "line": {
            "color": "#2a3f5f"
           }
          },
          "ternary": {
           "aaxis": {
            "gridcolor": "white",
            "linecolor": "white",
            "ticks": ""
           },
           "baxis": {
            "gridcolor": "white",
            "linecolor": "white",
            "ticks": ""
           },
           "bgcolor": "#E5ECF6",
           "caxis": {
            "gridcolor": "white",
            "linecolor": "white",
            "ticks": ""
           }
          },
          "title": {
           "x": 0.05
          },
          "xaxis": {
           "automargin": true,
           "gridcolor": "white",
           "linecolor": "white",
           "ticks": "",
           "zerolinecolor": "white",
           "zerolinewidth": 2
          },
          "yaxis": {
           "automargin": true,
           "gridcolor": "white",
           "linecolor": "white",
           "ticks": "",
           "zerolinecolor": "white",
           "zerolinewidth": 2
          }
         }
        },
        "title": {
         "text": "Correlations"
        },
        "width": 700,
        "xaxis": {
         "ticks": ""
        },
        "yaxis": {
         "ticks": "",
         "ticksuffix": "  "
        }
       }
      },
      "text/html": [
       "<div>\n",
       "        \n",
       "        \n",
       "            <div id=\"906a5fe8-aa72-43b5-90af-f07462784ca8\" class=\"plotly-graph-div\" style=\"height:700px; width:700px;\"></div>\n",
       "            <script type=\"text/javascript\">\n",
       "                require([\"plotly\"], function(Plotly) {\n",
       "                    window.PLOTLYENV=window.PLOTLYENV || {};\n",
       "                    \n",
       "                if (document.getElementById(\"906a5fe8-aa72-43b5-90af-f07462784ca8\")) {\n",
       "                    Plotly.newPlot(\n",
       "                        '906a5fe8-aa72-43b5-90af-f07462784ca8',\n",
       "                        [{\"colorscale\": [[0, \"rgba(255,0,0,0.3)\"], [0.5, \"rgba(255,255,0,0.3)\"], [1, \"rgba(0,255,0,0.3)\"]], \"showscale\": true, \"type\": \"heatmap\", \"x\": [\"EPS_surprise\", \"price_to_book\", \"returns_1mo_forward\", \"returns_3mo_forward\", \"transactions\"], \"y\": [\"transactions\", \"returns_3mo_forward\", \"returns_1mo_forward\", \"price_to_book\", \"EPS_surprise\"], \"z\": [[0.02, 0.49, -0.02, -0.03, 1.0], [-0.14, 0.02, 0.56, 1.0, -0.03], [-0.04, 0.03, 1.0, 0.56, -0.02], [-0.0, 1.0, 0.03, 0.02, 0.49], [1.0, -0.0, -0.04, -0.14, 0.02]], \"zmax\": 1, \"zmin\": -1}],\n",
       "                        {\"annotations\": [{\"font\": {\"color\": \"black\"}, \"showarrow\": false, \"text\": \"0.02\", \"x\": \"EPS_surprise\", \"xref\": \"x\", \"y\": \"transactions\", \"yref\": \"y\"}, {\"font\": {\"color\": \"black\"}, \"showarrow\": false, \"text\": \"0.49\", \"x\": \"price_to_book\", \"xref\": \"x\", \"y\": \"transactions\", \"yref\": \"y\"}, {\"font\": {\"color\": \"black\"}, \"showarrow\": false, \"text\": \"-0.02\", \"x\": \"returns_1mo_forward\", \"xref\": \"x\", \"y\": \"transactions\", \"yref\": \"y\"}, {\"font\": {\"color\": \"black\"}, \"showarrow\": false, \"text\": \"-0.03\", \"x\": \"returns_3mo_forward\", \"xref\": \"x\", \"y\": \"transactions\", \"yref\": \"y\"}, {\"font\": {\"color\": \"black\"}, \"showarrow\": false, \"text\": \"1.0\", \"x\": \"transactions\", \"xref\": \"x\", \"y\": \"transactions\", \"yref\": \"y\"}, {\"font\": {\"color\": \"black\"}, \"showarrow\": false, \"text\": \"-0.14\", \"x\": \"EPS_surprise\", \"xref\": \"x\", \"y\": \"returns_3mo_forward\", \"yref\": \"y\"}, {\"font\": {\"color\": \"black\"}, \"showarrow\": false, \"text\": \"0.02\", \"x\": \"price_to_book\", \"xref\": \"x\", \"y\": \"returns_3mo_forward\", \"yref\": \"y\"}, {\"font\": {\"color\": \"black\"}, \"showarrow\": false, \"text\": \"0.56\", \"x\": \"returns_1mo_forward\", \"xref\": \"x\", \"y\": \"returns_3mo_forward\", \"yref\": \"y\"}, {\"font\": {\"color\": \"black\"}, \"showarrow\": false, \"text\": \"1.0\", \"x\": \"returns_3mo_forward\", \"xref\": \"x\", \"y\": \"returns_3mo_forward\", \"yref\": \"y\"}, {\"font\": {\"color\": \"black\"}, \"showarrow\": false, \"text\": \"-0.03\", \"x\": \"transactions\", \"xref\": \"x\", \"y\": \"returns_3mo_forward\", \"yref\": \"y\"}, {\"font\": {\"color\": \"black\"}, \"showarrow\": false, \"text\": \"-0.04\", \"x\": \"EPS_surprise\", \"xref\": \"x\", \"y\": \"returns_1mo_forward\", \"yref\": \"y\"}, {\"font\": {\"color\": \"black\"}, \"showarrow\": false, \"text\": \"0.03\", \"x\": \"price_to_book\", \"xref\": \"x\", \"y\": \"returns_1mo_forward\", \"yref\": \"y\"}, {\"font\": {\"color\": \"black\"}, \"showarrow\": false, \"text\": \"1.0\", \"x\": \"returns_1mo_forward\", \"xref\": \"x\", \"y\": \"returns_1mo_forward\", \"yref\": \"y\"}, {\"font\": {\"color\": \"black\"}, \"showarrow\": false, \"text\": \"0.56\", \"x\": \"returns_3mo_forward\", \"xref\": \"x\", \"y\": \"returns_1mo_forward\", \"yref\": \"y\"}, {\"font\": {\"color\": \"black\"}, \"showarrow\": false, \"text\": \"-0.02\", \"x\": \"transactions\", \"xref\": \"x\", \"y\": \"returns_1mo_forward\", \"yref\": \"y\"}, {\"font\": {\"color\": \"black\"}, \"showarrow\": false, \"text\": \"-0.0\", \"x\": \"EPS_surprise\", \"xref\": \"x\", \"y\": \"price_to_book\", \"yref\": \"y\"}, {\"font\": {\"color\": \"black\"}, \"showarrow\": false, \"text\": \"1.0\", \"x\": \"price_to_book\", \"xref\": \"x\", \"y\": \"price_to_book\", \"yref\": \"y\"}, {\"font\": {\"color\": \"black\"}, \"showarrow\": false, \"text\": \"0.03\", \"x\": \"returns_1mo_forward\", \"xref\": \"x\", \"y\": \"price_to_book\", \"yref\": \"y\"}, {\"font\": {\"color\": \"black\"}, \"showarrow\": false, \"text\": \"0.02\", \"x\": \"returns_3mo_forward\", \"xref\": \"x\", \"y\": \"price_to_book\", \"yref\": \"y\"}, {\"font\": {\"color\": \"black\"}, \"showarrow\": false, \"text\": \"0.49\", \"x\": \"transactions\", \"xref\": \"x\", \"y\": \"price_to_book\", \"yref\": \"y\"}, {\"font\": {\"color\": \"black\"}, \"showarrow\": false, \"text\": \"1.0\", \"x\": \"EPS_surprise\", \"xref\": \"x\", \"y\": \"EPS_surprise\", \"yref\": \"y\"}, {\"font\": {\"color\": \"black\"}, \"showarrow\": false, \"text\": \"-0.0\", \"x\": \"price_to_book\", \"xref\": \"x\", \"y\": \"EPS_surprise\", \"yref\": \"y\"}, {\"font\": {\"color\": \"black\"}, \"showarrow\": false, \"text\": \"-0.04\", \"x\": \"returns_1mo_forward\", \"xref\": \"x\", \"y\": \"EPS_surprise\", \"yref\": \"y\"}, {\"font\": {\"color\": \"black\"}, \"showarrow\": false, \"text\": \"-0.14\", \"x\": \"returns_3mo_forward\", \"xref\": \"x\", \"y\": \"EPS_surprise\", \"yref\": \"y\"}, {\"font\": {\"color\": \"black\"}, \"showarrow\": false, \"text\": \"0.02\", \"x\": \"transactions\", \"xref\": \"x\", \"y\": \"EPS_surprise\", \"yref\": \"y\"}], \"autosize\": false, \"height\": 700, \"template\": {\"data\": {\"bar\": [{\"error_x\": {\"color\": \"#2a3f5f\"}, \"error_y\": {\"color\": \"#2a3f5f\"}, \"marker\": {\"line\": {\"color\": \"#E5ECF6\", \"width\": 0.5}}, \"type\": \"bar\"}], \"barpolar\": [{\"marker\": {\"line\": {\"color\": \"#E5ECF6\", \"width\": 0.5}}, \"type\": \"barpolar\"}], \"carpet\": [{\"aaxis\": {\"endlinecolor\": \"#2a3f5f\", \"gridcolor\": \"white\", \"linecolor\": \"white\", \"minorgridcolor\": \"white\", \"startlinecolor\": \"#2a3f5f\"}, \"baxis\": {\"endlinecolor\": \"#2a3f5f\", \"gridcolor\": \"white\", \"linecolor\": \"white\", \"minorgridcolor\": \"white\", \"startlinecolor\": \"#2a3f5f\"}, \"type\": \"carpet\"}], \"choropleth\": [{\"colorbar\": {\"outlinewidth\": 0, \"ticks\": \"\"}, \"type\": \"choropleth\"}], \"contour\": [{\"colorbar\": {\"outlinewidth\": 0, \"ticks\": \"\"}, \"colorscale\": [[0.0, \"#0d0887\"], [0.1111111111111111, \"#46039f\"], [0.2222222222222222, \"#7201a8\"], [0.3333333333333333, \"#9c179e\"], [0.4444444444444444, \"#bd3786\"], [0.5555555555555556, \"#d8576b\"], [0.6666666666666666, \"#ed7953\"], [0.7777777777777778, \"#fb9f3a\"], [0.8888888888888888, \"#fdca26\"], [1.0, \"#f0f921\"]], \"type\": \"contour\"}], \"contourcarpet\": [{\"colorbar\": {\"outlinewidth\": 0, \"ticks\": \"\"}, \"type\": \"contourcarpet\"}], \"heatmap\": [{\"colorbar\": {\"outlinewidth\": 0, \"ticks\": \"\"}, \"colorscale\": [[0.0, \"#0d0887\"], [0.1111111111111111, \"#46039f\"], [0.2222222222222222, \"#7201a8\"], [0.3333333333333333, \"#9c179e\"], [0.4444444444444444, \"#bd3786\"], [0.5555555555555556, \"#d8576b\"], [0.6666666666666666, \"#ed7953\"], [0.7777777777777778, \"#fb9f3a\"], [0.8888888888888888, \"#fdca26\"], [1.0, \"#f0f921\"]], \"type\": \"heatmap\"}], \"heatmapgl\": [{\"colorbar\": {\"outlinewidth\": 0, \"ticks\": \"\"}, \"colorscale\": [[0.0, \"#0d0887\"], [0.1111111111111111, \"#46039f\"], [0.2222222222222222, \"#7201a8\"], [0.3333333333333333, \"#9c179e\"], [0.4444444444444444, \"#bd3786\"], [0.5555555555555556, \"#d8576b\"], [0.6666666666666666, \"#ed7953\"], [0.7777777777777778, \"#fb9f3a\"], [0.8888888888888888, \"#fdca26\"], [1.0, \"#f0f921\"]], \"type\": \"heatmapgl\"}], \"histogram\": [{\"marker\": {\"colorbar\": {\"outlinewidth\": 0, \"ticks\": \"\"}}, \"type\": \"histogram\"}], \"histogram2d\": [{\"colorbar\": {\"outlinewidth\": 0, \"ticks\": \"\"}, \"colorscale\": [[0.0, \"#0d0887\"], [0.1111111111111111, \"#46039f\"], [0.2222222222222222, \"#7201a8\"], [0.3333333333333333, \"#9c179e\"], [0.4444444444444444, \"#bd3786\"], [0.5555555555555556, \"#d8576b\"], [0.6666666666666666, \"#ed7953\"], [0.7777777777777778, \"#fb9f3a\"], [0.8888888888888888, \"#fdca26\"], [1.0, \"#f0f921\"]], \"type\": \"histogram2d\"}], \"histogram2dcontour\": [{\"colorbar\": {\"outlinewidth\": 0, \"ticks\": \"\"}, \"colorscale\": [[0.0, \"#0d0887\"], [0.1111111111111111, \"#46039f\"], [0.2222222222222222, \"#7201a8\"], [0.3333333333333333, \"#9c179e\"], [0.4444444444444444, \"#bd3786\"], [0.5555555555555556, \"#d8576b\"], [0.6666666666666666, \"#ed7953\"], [0.7777777777777778, \"#fb9f3a\"], [0.8888888888888888, \"#fdca26\"], [1.0, \"#f0f921\"]], \"type\": \"histogram2dcontour\"}], \"mesh3d\": [{\"colorbar\": {\"outlinewidth\": 0, \"ticks\": \"\"}, \"type\": \"mesh3d\"}], \"parcoords\": [{\"line\": {\"colorbar\": {\"outlinewidth\": 0, \"ticks\": \"\"}}, \"type\": \"parcoords\"}], \"scatter\": [{\"marker\": {\"colorbar\": {\"outlinewidth\": 0, \"ticks\": \"\"}}, \"type\": \"scatter\"}], \"scatter3d\": [{\"line\": {\"colorbar\": {\"outlinewidth\": 0, \"ticks\": \"\"}}, \"marker\": {\"colorbar\": {\"outlinewidth\": 0, \"ticks\": \"\"}}, \"type\": \"scatter3d\"}], \"scattercarpet\": [{\"marker\": {\"colorbar\": {\"outlinewidth\": 0, \"ticks\": \"\"}}, \"type\": \"scattercarpet\"}], \"scattergeo\": [{\"marker\": {\"colorbar\": {\"outlinewidth\": 0, \"ticks\": \"\"}}, \"type\": \"scattergeo\"}], \"scattergl\": [{\"marker\": {\"colorbar\": {\"outlinewidth\": 0, \"ticks\": \"\"}}, \"type\": \"scattergl\"}], \"scattermapbox\": [{\"marker\": {\"colorbar\": {\"outlinewidth\": 0, \"ticks\": \"\"}}, \"type\": \"scattermapbox\"}], \"scatterpolar\": [{\"marker\": {\"colorbar\": {\"outlinewidth\": 0, \"ticks\": \"\"}}, \"type\": \"scatterpolar\"}], \"scatterpolargl\": [{\"marker\": {\"colorbar\": {\"outlinewidth\": 0, \"ticks\": \"\"}}, \"type\": \"scatterpolargl\"}], \"scatterternary\": [{\"marker\": {\"colorbar\": {\"outlinewidth\": 0, \"ticks\": \"\"}}, \"type\": \"scatterternary\"}], \"surface\": [{\"colorbar\": {\"outlinewidth\": 0, \"ticks\": \"\"}, \"colorscale\": [[0.0, \"#0d0887\"], [0.1111111111111111, \"#46039f\"], [0.2222222222222222, \"#7201a8\"], [0.3333333333333333, \"#9c179e\"], [0.4444444444444444, \"#bd3786\"], [0.5555555555555556, \"#d8576b\"], [0.6666666666666666, \"#ed7953\"], [0.7777777777777778, \"#fb9f3a\"], [0.8888888888888888, \"#fdca26\"], [1.0, \"#f0f921\"]], \"type\": \"surface\"}], \"table\": [{\"cells\": {\"fill\": {\"color\": \"#EBF0F8\"}, \"line\": {\"color\": \"white\"}}, \"header\": {\"fill\": {\"color\": \"#C8D4E3\"}, \"line\": {\"color\": \"white\"}}, \"type\": \"table\"}]}, \"layout\": {\"annotationdefaults\": {\"arrowcolor\": \"#2a3f5f\", \"arrowhead\": 0, \"arrowwidth\": 1}, \"colorscale\": {\"diverging\": [[0, \"#8e0152\"], [0.1, \"#c51b7d\"], [0.2, \"#de77ae\"], [0.3, \"#f1b6da\"], [0.4, \"#fde0ef\"], [0.5, \"#f7f7f7\"], [0.6, \"#e6f5d0\"], [0.7, \"#b8e186\"], [0.8, \"#7fbc41\"], [0.9, \"#4d9221\"], [1, \"#276419\"]], \"sequential\": [[0.0, \"#0d0887\"], [0.1111111111111111, \"#46039f\"], [0.2222222222222222, \"#7201a8\"], [0.3333333333333333, \"#9c179e\"], [0.4444444444444444, \"#bd3786\"], [0.5555555555555556, \"#d8576b\"], [0.6666666666666666, \"#ed7953\"], [0.7777777777777778, \"#fb9f3a\"], [0.8888888888888888, \"#fdca26\"], [1.0, \"#f0f921\"]], \"sequentialminus\": [[0.0, \"#0d0887\"], [0.1111111111111111, \"#46039f\"], [0.2222222222222222, \"#7201a8\"], [0.3333333333333333, \"#9c179e\"], [0.4444444444444444, \"#bd3786\"], [0.5555555555555556, \"#d8576b\"], [0.6666666666666666, \"#ed7953\"], [0.7777777777777778, \"#fb9f3a\"], [0.8888888888888888, \"#fdca26\"], [1.0, \"#f0f921\"]]}, \"colorway\": [\"#636efa\", \"#EF553B\", \"#00cc96\", \"#ab63fa\", \"#FFA15A\", \"#19d3f3\", \"#FF6692\", \"#B6E880\", \"#FF97FF\", \"#FECB52\"], \"font\": {\"color\": \"#2a3f5f\"}, \"geo\": {\"bgcolor\": \"white\", \"lakecolor\": \"white\", \"landcolor\": \"#E5ECF6\", \"showlakes\": true, \"showland\": true, \"subunitcolor\": \"white\"}, \"hoverlabel\": {\"align\": \"left\"}, \"hovermode\": \"closest\", \"mapbox\": {\"style\": \"light\"}, \"paper_bgcolor\": \"white\", \"plot_bgcolor\": \"#E5ECF6\", \"polar\": {\"angularaxis\": {\"gridcolor\": \"white\", \"linecolor\": \"white\", \"ticks\": \"\"}, \"bgcolor\": \"#E5ECF6\", \"radialaxis\": {\"gridcolor\": \"white\", \"linecolor\": \"white\", \"ticks\": \"\"}}, \"scene\": {\"xaxis\": {\"backgroundcolor\": \"#E5ECF6\", \"gridcolor\": \"white\", \"gridwidth\": 2, \"linecolor\": \"white\", \"showbackground\": true, \"ticks\": \"\", \"zerolinecolor\": \"white\"}, \"yaxis\": {\"backgroundcolor\": \"#E5ECF6\", \"gridcolor\": \"white\", \"gridwidth\": 2, \"linecolor\": \"white\", \"showbackground\": true, \"ticks\": \"\", \"zerolinecolor\": \"white\"}, \"zaxis\": {\"backgroundcolor\": \"#E5ECF6\", \"gridcolor\": \"white\", \"gridwidth\": 2, \"linecolor\": \"white\", \"showbackground\": true, \"ticks\": \"\", \"zerolinecolor\": \"white\"}}, \"shapedefaults\": {\"line\": {\"color\": \"#2a3f5f\"}}, \"ternary\": {\"aaxis\": {\"gridcolor\": \"white\", \"linecolor\": \"white\", \"ticks\": \"\"}, \"baxis\": {\"gridcolor\": \"white\", \"linecolor\": \"white\", \"ticks\": \"\"}, \"bgcolor\": \"#E5ECF6\", \"caxis\": {\"gridcolor\": \"white\", \"linecolor\": \"white\", \"ticks\": \"\"}}, \"title\": {\"x\": 0.05}, \"xaxis\": {\"automargin\": true, \"gridcolor\": \"white\", \"linecolor\": \"white\", \"ticks\": \"\", \"zerolinecolor\": \"white\", \"zerolinewidth\": 2}, \"yaxis\": {\"automargin\": true, \"gridcolor\": \"white\", \"linecolor\": \"white\", \"ticks\": \"\", \"zerolinecolor\": \"white\", \"zerolinewidth\": 2}}}, \"title\": {\"text\": \"Correlations\"}, \"width\": 700, \"xaxis\": {\"ticks\": \"\"}, \"yaxis\": {\"ticks\": \"\", \"ticksuffix\": \"  \"}},\n",
       "                        {\"responsive\": true}\n",
       "                    ).then(function(){\n",
       "                            \n",
       "var gd = document.getElementById('906a5fe8-aa72-43b5-90af-f07462784ca8');\n",
       "var x = new MutationObserver(function (mutations, observer) {{\n",
       "        var display = window.getComputedStyle(gd).display;\n",
       "        if (!display || display === 'none') {{\n",
       "            console.log([gd, 'removed!']);\n",
       "            Plotly.purge(gd);\n",
       "            observer.disconnect();\n",
       "        }}\n",
       "}});\n",
       "\n",
       "// Listen for the removal of the full notebook cells\n",
       "var notebookContainer = gd.closest('#notebook-container');\n",
       "if (notebookContainer) {{\n",
       "    x.observe(notebookContainer, {childList: true});\n",
       "}}\n",
       "\n",
       "// Listen for the clearing of the current output cell\n",
       "var outputEl = gd.closest('.output');\n",
       "if (outputEl) {{\n",
       "    x.observe(outputEl, {childList: true});\n",
       "}}\n",
       "\n",
       "                        })\n",
       "                };\n",
       "                });\n",
       "            </script>\n",
       "        </div>"
      ]
     },
     "metadata": {},
     "output_type": "display_data"
    }
   ],
   "source": [
    "# Select Graph\n",
    "\n",
    "# widgets\n",
    "chart_select = ToggleButtons(\n",
    "    options=['Coverage', 'Pie Chart', 'Histogram', 'Scatter Plot', 'Correlations'],\n",
    "    tooltips=['Explore feature coverage', 'Visualize single categorical variable', 'Visualize single numerical variable',\n",
    "             'Visualize pairwise distributions among a group of numerical variables',\n",
    "             'Visualize pairwise correlations among a group of numerical variables'],\n",
    "    value='Correlations', \n",
    "    margin=leftm()\n",
    ")\n",
    "\n",
    "display(HBox([Label('Graph Type: '), chart_select], layout=Layout(margin='0px 0px 30px 0px')))\n",
    "\n",
    "# functions\n",
    "grph = HTML('')\n",
    "\n",
    "def switch_chart(chg):\n",
    "    '''Switch between graph type.'''\n",
    "    global grph\n",
    "    clear_output()\n",
    "    display(HBox([Label('Graph Type: '), chart_select], layout=Layout(margin='0px 0px 30px 0px')))\n",
    "    grph.close()\n",
    "    grph = graph_mapping[chart_select.value]()\n",
    "    display(grph)\n",
    "\n",
    "chart_select.observe(switch_chart, names='value')"
   ]
  },
  {
   "cell_type": "code",
   "execution_count": 36,
   "metadata": {},
   "outputs": [],
   "source": [
    "# Coverage check\n",
    "# widgets\n",
    "def make_coverage():    \n",
    "    coverage_b = Button(description=\"Coverage\", button_style='success', width='70px', height='30px',\n",
    "                  margin=leftm(20))\n",
    "    \n",
    "    row0 = Box([HTML('<h4>Pie Chart - Visualize Distributions of Categorical Variables</h4>')],\n",
    "                layout=Layout(display='flex', flex_flow='row', align_items='center',\n",
    "                              justify_content='center', width='90%'))\n",
    "    row1 = Box([Label(layout=Layout(width='200px')), coverage_b], layout=row_layout)\n",
    "    coverage_chart = Box([row0, row1], layout=Layout(**col_layout),\n",
    "                    height='160px')    \n",
    "    return(coverage_chart)"
   ]
  },
  {
   "cell_type": "code",
   "execution_count": 37,
   "metadata": {},
   "outputs": [],
   "source": [
    "# Pie chart\n",
    "# widgets\n",
    "def make_pie():\n",
    "    '''create widgets for pie chart'''\n",
    "    global pie_filter, pie_select, pie_limit, group_less_freq, pieb\n",
    "    pie_filter = Text(value='', width='500px')\n",
    "    pie_select = Dropdown(options=dsData.get_header(sort=True), height='30px', width='200px',\n",
    "                          margin=leftm())\n",
    "    pie_limit = IntText(value=20, width='70px')\n",
    "    group_less_freq = Checkbox(value=False)\n",
    "    pieb = Button(description=\"Plot\", button_style='success', width='70px', height='30px',\n",
    "                  margin=leftm(20))\n",
    "    \n",
    "    row0 = Box([HTML('<h4>Pie Chart - Visualize Distributions of Categorical Variables</h4>')],\n",
    "                layout=Layout(display='flex', flex_flow='row', align_items='center',\n",
    "                              justify_content='center', width='90%'))\n",
    "#     row1 = Box([Label('Filter by Criterion: ', layout=Layout(width='200px')), pie_filter, pieb], layout=row_layout)\n",
    "    row1 = Box([Label('Pie Chart Plot: ', layout=Layout(width='200px')), pieb], layout=row_layout)\n",
    "#     row1 = Box([pieb], layout=row_layout)\n",
    "    row2 = Box([Label('Select a Categorical Column: ', layout=Layout(width='200px')), pie_select,\n",
    "                Label('Limit on # of Values: ', layout=Layout(width='200px'), margin=leftm(20)), pie_limit], layout=row_layout)\n",
    "    row3 = Box([Label('Group Everything Below the Limit as \"others\": ', layout=Layout(width='400px')), group_less_freq],\n",
    "                layout=row_layout)\n",
    "    pie_chart = Box([row0, row1, row2, row3], layout=Layout(**col_layout),\n",
    "                    height='160px')\n",
    "\n",
    "    pie_select.observe(plot_pie, names='value')\n",
    "    pieb.on_click(plot_pie)\n",
    "    return pie_chart\n",
    "\n",
    "\n",
    "# functions\n",
    "def plot_pie(chg):\n",
    "    '''plot the pie chart'''\n",
    "#     with warnings.catch_warnings():\n",
    "#         print(\"ignore warning\")\n",
    "#         warnings.simplefilter('ignore')\n",
    "    clear_output()\n",
    "    display(HBox([Label('Graph Type: '), chart_select], layout=Layout(margin='0px 0px 30px 0px'))) ## kai test\n",
    "\n",
    "    if pie_filter.value.strip() != '':\n",
    "        try:\n",
    "            vc = dsData.query_chain(pie_filter.value).ct_freq(pie_select.value, group_less_freq.value,\n",
    "                                                           pie_limit.value)\n",
    "            vc.astype('category').cat.remove_unused_categories(True)\n",
    "        except Exception as e:\n",
    "            print(e)\n",
    "            vc = dsData.ct_freq(pie_select.value, group_less_freq.value, pie_limit.value)\n",
    "    else:\n",
    "        vc = dsData.ct_freq(pie_select.value, group_less_freq.value, pie_limit.value)\n",
    "    trace = go.Pie(labels=list(vc.index), values=vc.values)\n",
    "    figp = go.Figure(data=go.Data([trace]),\n",
    "                     layout=dict(title='Break Down of {}'.format(pie_select.value.upper())))\n",
    "    iplot(figp)"
   ]
  },
  {
   "cell_type": "code",
   "execution_count": 38,
   "metadata": {
    "scrolled": false
   },
   "outputs": [],
   "source": [
    "# Histogram\n",
    "\n",
    "# widgets\n",
    "def make_hist():\n",
    "    '''make widgets for histogram'''\n",
    "    global hist_filter, histb, hist_select, hist_min, hist_max, hist_bins\n",
    "    hist_filter = Text(value='', width='500px')\n",
    "    histb = Button(description=\"Plot\", button_style='success', width='70px', height='30px',\n",
    "                   margin=leftm(20))\n",
    "    hist_select = Dropdown(options=dsData.get_header(['int', 'float'], sort=True), height='30px',\n",
    "                           width='200px', margin=leftm())\n",
    "    hist_min = FloatText(value=float('-Inf'), width='70px')\n",
    "    hist_max = FloatText(value=float('Inf'), width='70px')\n",
    "    hist_bins = IntText(value=10, width='70px')\n",
    "    \n",
    "    row0 = Box([HTML('<h4>Histogram - Visualize Distributions of Numerical Variables</h4>')],\n",
    "                layout=Layout(display='flex', flex_flow='row', align_items='center',\n",
    "                              justify_content='center', width='90%'))\n",
    "#     row1 = Box([Label('Filter by Criterion: ', layout=Layout(width='200px')), hist_filter, histb], layout=row_layout)\n",
    "    row1 = Box([Label('Histogram Plot: ', layout=Layout(width='200px')), histb], layout=row_layout)\n",
    "        \n",
    "    row2 = Box([Label('Select a Numerical Column: ', layout=Layout(width='200px')), hist_select], layout=row_layout)\n",
    "    row3 = Box([Label('Min: ', layout=Layout(width='200px')), hist_min, Label('Max: ', margin=leftm(20)), hist_max,\n",
    "                Label('# of Bins: ', margin=leftm(20)), hist_bins], layout=row_layout)\n",
    "\n",
    "    hist_chart = Box([row0, row1, row2, row3], layout=Layout(**col_layout), height='160px')\n",
    "    \n",
    "    hist_select.observe(plot_hist_new_col)\n",
    "    histb.on_click(plot_hist)\n",
    "    return hist_chart\n",
    "\n",
    "\n",
    "# functions\n",
    "def plot_hist_new_col(chg):\n",
    "    '''plot histogram when switching columns'''\n",
    "    hist_min.value = float('-Inf')\n",
    "    hist_max.value = float('Inf')\n",
    "    plot_hist(chg)\n",
    "    \n",
    "def plot_hist(chg):\n",
    "    '''plot histogram'''\n",
    "    clear_output()\n",
    "    display(HBox([Label('Graph Type: '), chart_select], layout=Layout(margin='0px 0px 30px 0px'))) ## kai test\n",
    "    if hist_filter.value.strip() != '':\n",
    "        x = dsData.query(hist_filter.value)[hist_select.value]\n",
    "    else:\n",
    "        x = dsData.data[hist_select.value]\n",
    "    n = len(x)\n",
    "    x = x[x > hist_min.value]\n",
    "    x = x[x < hist_max.value]\n",
    "    print('Percentage covered (after filtering): {:.2f}%'.format(len(x) / n * 100))\n",
    "    if hist_min.value == float('-Inf'):\n",
    "        hist_min.value = np.round(np.min(x), 2) - 1\n",
    "    if hist_max.value == float('Inf'):\n",
    "        hist_max.value = np.round(np.max(x), 2) + 1\n",
    "\n",
    "    size = (hist_max.value - hist_min.value) / hist_bins.value\n",
    "    trh = go.Histogram(x=x, histnorm='percent', marker=dict(color='rgb(0,0,100)'),\n",
    "                       xbins=dict(start=hist_min.value - 0.5, size=size, end=hist_max.value + 0.5))\n",
    "\n",
    "    layout = dict(bargap= 0.015, hovermode= 'x',\n",
    "                  title='Histogram for {}'.format(hist_select.value.upper()),\n",
    "                  yaxis= dict(title='Percentage (%)', autorange= True, showticklabels= True))\n",
    "    figh = go.Figure(data=go.Data([trh]), layout=layout)\n",
    "    iplot(figh)"
   ]
  },
  {
   "cell_type": "code",
   "execution_count": 39,
   "metadata": {
    "scrolled": false
   },
   "outputs": [],
   "source": [
    "# Scatter Plot\n",
    "# widgets\n",
    "def make_scatter():\n",
    "    '''Make widgets for scatter plot.'''\n",
    "    global sp_filter, spb, sp_height, sp_select, sp_ccol\n",
    "    num_cols = dsData.get_header(['int', 'float'], sort=True)\n",
    "    sp_filter = Text(value='', width='500px')\n",
    "    spb = Button(description=\"Plot\", button_style='success', width='70px', height='30px',\n",
    "                 margin=leftm(20))\n",
    "    sp_height = np.min([300, np.max([len(num_cols) * 15, 100])])\n",
    "    sp_select = SelectMultiple(options=num_cols, margin=leftm(),\n",
    "                               height='{}px'.format(sp_height))\n",
    "    sp_ccol = Dropdown(options=[None] + dsData.get_header('category', sort=True), height='30px', width='200px', margin=leftm())\n",
    "\n",
    "    row0 = Box([HTML('<h4>Scatter Plot - Visualize Pairwise Distributions among a Group of Numerical '\n",
    "                     'Variables</h4>')],\n",
    "                layout=Layout(display='flex', flex_flow='row', align_items='center',\n",
    "                              justify_content='center', width='90%'))\n",
    "#     row1 = Box([Label('Filter by Criterion: ', layout=Layout(width='200px')), sp_filter, spb], layout=row_layout)\n",
    "    row1 = Box([Label('Scatter Plot: ', layout=Layout(width='200px')), spb], layout=row_layout)\n",
    "    row2 = Box([Label(\"Select Columns: \", layout=Layout(width='200px')), sp_select, Label(\"Group by: \", margin=leftm(30)), sp_ccol],\n",
    "                layout=row_layout)\n",
    "    scatter_chart = Box([row0, row1, row2], layout=Layout(**col_layout),\n",
    "                        height='{}px'.format(sp_height + 110))\n",
    "    spb.on_click(plot_scatter)\n",
    "    return scatter_chart\n",
    "\n",
    "# functions\n",
    "def plot_scatter(chg):\n",
    "    '''Generate scatter plot.'''\n",
    "    clear_output()\n",
    "    display(HBox([Label('Graph Type: '), chart_select], layout=Layout(margin='0px 0px 30px 0px'))) ## kai test\n",
    "\n",
    "    if sp_filter.value.strip() != '':\n",
    "        temp_data = dsData.query(sp_filter.value).copy(True)\n",
    "    else:\n",
    "        temp_data = dsData.data.copy(True)\n",
    "    \n",
    "    sel_cols = list(sp_select.value)\n",
    "    if sp_ccol.value is not None:\n",
    "        temp_data[sp_ccol.value].cat.remove_unused_categories(True)\n",
    "        temp_data[sp_ccol.value] = temp_data[sp_ccol.value].astype('object')\n",
    "        sel_cols.append(sp_ccol.value)\n",
    "\n",
    "    temp = temp_data[sel_cols]\n",
    "    \n",
    "    fig = FF.create_scatterplotmatrix(temp, index=sp_ccol.value, diag='histogram', height=800,\n",
    "                                      width=800)\n",
    "    iplot(fig)"
   ]
  },
  {
   "cell_type": "code",
   "execution_count": 40,
   "metadata": {},
   "outputs": [],
   "source": [
    "# Correlations\n",
    "# widgets\n",
    "def make_cor():\n",
    "    '''Make widgets for correlations plot.'''\n",
    "    global cor_filter, corb, cor_height, cor_select\n",
    "    num_cols = dsData.get_header(['int', 'float'], sort=True)\n",
    "    cor_filter = Text(value='', width='500px')\n",
    "    corb = Button(description=\"Plot\", button_style='success', width='70px', height='30px',\n",
    "                  margin=leftm(20))\n",
    "    cor_height = np.min([300, np.max([len(num_cols) * 15, 100])])\n",
    "    cor_select = SelectMultiple(options=num_cols, margin=leftm(),\n",
    "                                height='{}px'.format(cor_height))\n",
    "    row0 = Box([HTML('<h4>Correlations - Visualize Correlations among a Group of Numerical Variables</h4>')],\n",
    "                layout=Layout(display='flex', flex_flow='row', align_items='center',\n",
    "                              justify_content='center', width='90%'))\n",
    "#     row1 = Box([Label('Filter by Criterion: ', layout=Layout(width='200px')), cor_filter, corb], layout=row_layout)\n",
    "    row1 = Box([Label('Correlation Plot: ', layout=Layout(width='200px')), corb], layout=row_layout)\n",
    "    row2 = Box([Label(\"Select Columns: \", layout=Layout(width='200px')), cor_select], layout=row_layout)\n",
    "    cor_chart = Box([row0, row1, row2], layout=Layout(**col_layout),\n",
    "                    height='{}px'.format(cor_height + 100))\n",
    "    corb.on_click(plot_cor)\n",
    "    return cor_chart\n",
    "\n",
    "# functions\n",
    "def plot_cor(chg):\n",
    "    '''Generate correlations plot.'''\n",
    "    clear_output()\n",
    "    display(HBox([Label('Graph Type: '), chart_select], layout=Layout(margin='0px 0px 30px 0px'))) ## kai test\n",
    "    \n",
    "    if cor_filter.value.strip() != '':\n",
    "        temp_data = dsData.query(cor_filter.value).copy(True)\n",
    "    else:\n",
    "        temp_data = dsData.data.copy(True)\n",
    "    \n",
    "    sel_cols = list(cor_select.value)\n",
    "    x, y = sel_cols, list(reversed(sel_cols))\n",
    "\n",
    "    corr = temp_data[sel_cols].corr().round(2)\n",
    "    z = np.flipud(corr.values)\n",
    "    annotations = []\n",
    "    for n, row in enumerate(z):\n",
    "        for m, val in enumerate(row):\n",
    "            var = z[n][m]\n",
    "            annotations.append(\n",
    "                dict(\n",
    "                    text=str(val),\n",
    "                    x=x[m], y=y[n],\n",
    "                    xref='x1', yref='y1',\n",
    "                    font=dict(color='black'),\n",
    "                    showarrow=False)\n",
    "                )\n",
    "\n",
    "    colorscale = [[0, 'rgba(255,0,0,0.3)'], [0.5, 'rgba(255,255,0,0.3)'], [1, 'rgba(0,255,0,0.3)']]\n",
    "    trace = go.Heatmap(x=x, y=y, z=z, zmin=-1, zmax=1, colorscale=colorscale, showscale=True)\n",
    "\n",
    "    fig = go.Figure(data=[trace])\n",
    "    fig['layout'].update(\n",
    "        title=\"Correlations\",\n",
    "        annotations=annotations,\n",
    "        xaxis=dict(ticks=''),\n",
    "        yaxis=dict(ticks='', ticksuffix='  '),\n",
    "        width=700,\n",
    "        height=700,\n",
    "        autosize=False\n",
    "    )\n",
    "    \n",
    "    iplot(fig)"
   ]
  },
  {
   "cell_type": "code",
   "execution_count": 41,
   "metadata": {},
   "outputs": [],
   "source": [
    "# graph_mapping = {'Pie Chart': make_pie, 'Histogram': make_hist, 'Box Plot': make_boxp,\n",
    "#                  'Cross Tab': make_xtab, 'Scatter Plot': make_scatter, 'Correlations': make_cor}\n",
    "\n",
    "graph_mapping = {'Coverage': make_coverage, 'Pie Chart': make_pie, 'Histogram': make_hist, \n",
    "                 'Scatter Plot': make_scatter, 'Correlations': make_cor}"
   ]
  },
  {
   "cell_type": "markdown",
   "metadata": {},
   "source": [
    "## 3. Data Imputation"
   ]
  },
  {
   "cell_type": "code",
   "execution_count": 42,
   "metadata": {},
   "outputs": [],
   "source": [
    "def impute_data(b):\n",
    "    '''impute & update global variable mld.mldata'''\n",
    "    df = dsData.data.copy(deep=True)\n",
    "    df = df.replace([np.inf, -np.inf], np.nan)\n",
    "    data_types = df.dtypes\n",
    "    \n",
    "    num_factor_cols = [j for j in df.columns if((data_types[j].name!='category') and (data_types[j].name!='object') \n",
    "                                                and (j != \"sid\") and (j != \"date\"))]\n",
    "                                                \n",
    "    cate_factor_cols = [j for j in df.columns if(((data_types[j].name=='category') or (data_types[j].name=='object')) \n",
    "                                                 and (j != \"sid\") and (j != \"date\"))]\n",
    "\n",
    "    ### first fillna for numerical columns\n",
    "    num_cols = ['date'] + num_factor_cols\n",
    "    df[num_factor_cols] = df[num_cols].groupby(\"date\").transform(lambda x: x.fillna(x.mean()))\n",
    "    ### first fillna for categorical columns\n",
    "    cate_cols = ['date'] + cate_factor_cols\n",
    "    df[cate_factor_cols] = df[cate_cols].groupby(\"date\").transform(lambda x: x.fillna(x.mode()))\n",
    "    df = df.dropna()  ### if still na, drop that row\n",
    "    dsData.data = df.copy(deep=True)"
   ]
  },
  {
   "cell_type": "code",
   "execution_count": 43,
   "metadata": {},
   "outputs": [
    {
     "data": {
      "application/vnd.jupyter.widget-view+json": {
       "model_id": "4327955099da4329b7faf43953bece68",
       "version_major": 2,
       "version_minor": 0
      },
      "text/plain": [
       "Button(button_style='success', description='Data Imputation (Default)', layout=Layout(height='40px', width='au…"
      ]
     },
     "metadata": {},
     "output_type": "display_data"
    }
   ],
   "source": [
    "layout_data_impute = widgets.Layout(width='auto', height='40px') #set width and height\n",
    "data_imputation = Button(description=\"Data Imputation (Default)\", button_style='success', \n",
    "                         width='500px', margin=leftm(5), layout=layout_data_impute)\n",
    "display(data_imputation, height='120px', margin='10px 10px 10px 10px')\n",
    "data_imputation.on_click(impute_data)"
   ]
  },
  {
   "cell_type": "markdown",
   "metadata": {},
   "source": [
    "## 4. Single Factor Evaluate"
   ]
  },
  {
   "cell_type": "code",
   "execution_count": 44,
   "metadata": {},
   "outputs": [],
   "source": [
    "def cal_hit(ts):\n",
    "    ts = ts.dropna()\n",
    "    same_sign_counts, diff_sign_counts = sum(ts > 0), sum(ts <= 0)\n",
    "    hit_rate = same_sign_counts / (same_sign_counts + diff_sign_counts)   \n",
    "    return(hit_rate)"
   ]
  },
  {
   "cell_type": "code",
   "execution_count": 45,
   "metadata": {},
   "outputs": [],
   "source": [
    "def run_single_factor_single_ticker(data):\n",
    "    current_ticker = data['symbol'].unique()[0]\n",
    "    print(\"single ticker: \", current_ticker)\n",
    "    display(data.tail(5))\n",
    "    compare_df = data[[factor_select.value, target_select.value]]\n",
    "    print(\"Correlation:\")\n",
    "    display(compare_df.corr())\n",
    "    print(\"Hit Rate (Same Sign):\")\n",
    "    check_sign = compare_df[factor_select.value] * compare_df[target_select.value]\n",
    "    check_sign.index = data[\"date\"]\n",
    "    check_sign = check_sign.dropna()\n",
    "    display(check_sign.tail(5))\n",
    "#     check_sign_mvg60 = check_sign.rolling(60).mean()\n",
    "    check_sign_mvg60 = check_sign.rolling(60).apply(cal_hit)\n",
    "    check_sign_mvg60.plot(rot=45)\n",
    "    same_sign_counts, diff_sign_counts = sum(check_sign > 0), sum(check_sign <= 0)\n",
    "    hit_rate = same_sign_counts / (same_sign_counts + diff_sign_counts)\n",
    "    print(\"Over the history Hit Rate: \", hit_rate)\n",
    "    "
   ]
  },
  {
   "cell_type": "code",
   "execution_count": 46,
   "metadata": {},
   "outputs": [],
   "source": [
    "def run_single_factor(b):\n",
    "    target_cols = [target_select.value]\n",
    "#     cols = ['date', 'sid',  factor_select.value] + target_cols\n",
    "    cols = ['date', 'sid', 'symbol', factor_select.value] + target_cols\n",
    "\n",
    "    al_data = dsData.data[cols].copy()\n",
    "    ticker_selected = ticker_select.value\n",
    "    if ticker_selected != 'cross_tickers':\n",
    "        al_data = al_data[al_data['symbol']==ticker_selected]\n",
    "        run_single_factor_single_ticker(al_data)\n",
    "        return()\n",
    "        \n",
    "    al_data = al_data.drop(\"symbol\", axis=1)\n",
    "    al_data = al_data.set_index(['date', 'sid'])\n",
    "\n",
    "    factor_to_evaluate = al_data[factor_select.value]\n",
    "    forward_returns = al_data[target_select.value]   \n",
    "\n",
    "    data_for_alphalens = alphalens.utils.get_clean_factor(factor_to_evaluate, pd.DataFrame(forward_returns), max_loss=0.9) \n",
    "\n",
    "    data_for_alphalens = data_for_alphalens.reset_index()\n",
    "    data_for_alphalens['date'] = pd.to_datetime(data_for_alphalens['date'])  ### make sure the dtype of date column\n",
    "    data_for_alphalens.columns = ['date', 'asset'] + list(data_for_alphalens.columns[2:])\n",
    "    data_for_alphalens = data_for_alphalens.set_index(['date', 'asset'])\n",
    "    data_for_alphalens.columns = ['21D'] + list(data_for_alphalens.columns[1:])  ### alphalens only take standard column names\n",
    "    # data_for_alphalens.columns = forward_returns_cols + list(data_for_alphalens.columns[1:])  ### alphalens only take standard column names\n",
    "\n",
    "    # alphalens.tears.create_full_tear_sheet(ttt)\n",
    "    alphalens.tears.create_returns_tear_sheet(data_for_alphalens)\n",
    "\n",
    "    alphalens.tears.create_information_tear_sheet(\n",
    "        factor_data=data_for_alphalens, group_neutral=False, by_group=False, set_context=False\n",
    "    )\n",
    "\n",
    "    alphalens.plotting.plot_quantile_statistics_table(data_for_alphalens)\n"
   ]
  },
  {
   "cell_type": "code",
   "execution_count": 47,
   "metadata": {},
   "outputs": [],
   "source": [
    "def alpha_single(b):\n",
    "    '''Make widgets for single model.'''\n",
    "    clear_output()\n",
    "    display(individual_eval_button)\n",
    "    global factor_select, target_select, ticker_select, run_eval_button\n",
    "    factor_select = Dropdown(options=all_factors, height='30px', margin=leftm(), width='200px')\n",
    "    target_select = Dropdown(options=all_factors, height='30px', margin=leftm(), width='200px')\n",
    "    tickers_options = ['cross_tickers'] + all_tickers\n",
    "    ticker_select = Dropdown(options=tickers_options, height='30px', margin=leftm(), width='200px')\n",
    "    \n",
    "    rows = []\n",
    "    rows.append(Box([Label('Independent Factor: ', layout=Layout(width='200px')), factor_select], layout=row_layout))\n",
    "    rows.append(Box([Label('Target Variable: ', layout=Layout(width='200px')), target_select], layout=row_layout))\n",
    "    rows.append(Box([Label('Ticker Only: ', layout=Layout(width='200px')), ticker_select], layout=row_layout))\n",
    "\n",
    "    result = Box(rows, layout=Layout(**col_layout))\n",
    "    display(result)\n",
    "    \n",
    "    run_eval_button = Button(description=\"Run_Evaluation\", button_style='success', margin=leftm(650))\n",
    "    display(run_eval_button)\n",
    "    run_eval_button.on_click(run_single_factor)\n"
   ]
  },
  {
   "cell_type": "code",
   "execution_count": 48,
   "metadata": {
    "scrolled": false
   },
   "outputs": [
    {
     "data": {
      "application/vnd.jupyter.widget-view+json": {
       "model_id": "fc9dcb8b33b94d83b9307ce3a28631d3",
       "version_major": 2,
       "version_minor": 0
      },
      "text/plain": [
       "Button(button_style='success', description='Individual_Evaluation', style=ButtonStyle())"
      ]
     },
     "metadata": {},
     "output_type": "display_data"
    },
    {
     "data": {
      "application/vnd.jupyter.widget-view+json": {
       "model_id": "5022958d92b94d92be35b018611f4950",
       "version_major": 2,
       "version_minor": 0
      },
      "text/plain": [
       "Box(children=(Box(children=(Label(value='Independent Factor: ', layout=Layout(width='200px')), Dropdown(option…"
      ]
     },
     "metadata": {},
     "output_type": "display_data"
    },
    {
     "data": {
      "application/vnd.jupyter.widget-view+json": {
       "model_id": "1172b514d6f546e8a8389b4a105839a1",
       "version_major": 2,
       "version_minor": 0
      },
      "text/plain": [
       "Button(button_style='success', description='Run_Evaluation', style=ButtonStyle())"
      ]
     },
     "metadata": {},
     "output_type": "display_data"
    },
    {
     "name": "stdout",
     "output_type": "stream",
     "text": [
      "Dropped 0.0% entries from factor data: 0.0% in forward returns computation and 0.0% in binning phase (set max_loss=0 to see potentially suppressed Exceptions).\n",
      "max_loss is 90.0%, not exceeded: OK!\n",
      "Returns Analysis\n"
     ]
    },
    {
     "data": {
      "text/html": [
       "<div>\n",
       "<style scoped>\n",
       "    .dataframe tbody tr th:only-of-type {\n",
       "        vertical-align: middle;\n",
       "    }\n",
       "\n",
       "    .dataframe tbody tr th {\n",
       "        vertical-align: top;\n",
       "    }\n",
       "\n",
       "    .dataframe thead th {\n",
       "        text-align: right;\n",
       "    }\n",
       "</style>\n",
       "<table border=\"1\" class=\"dataframe\">\n",
       "  <thead>\n",
       "    <tr style=\"text-align: right;\">\n",
       "      <th></th>\n",
       "      <th>21D</th>\n",
       "    </tr>\n",
       "  </thead>\n",
       "  <tbody>\n",
       "    <tr>\n",
       "      <th>Ann. alpha</th>\n",
       "      <td>-0.031</td>\n",
       "    </tr>\n",
       "    <tr>\n",
       "      <th>beta</th>\n",
       "      <td>0.393</td>\n",
       "    </tr>\n",
       "    <tr>\n",
       "      <th>Mean Period Wise Return Top Quantile (bps)</th>\n",
       "      <td>33.833</td>\n",
       "    </tr>\n",
       "    <tr>\n",
       "      <th>Mean Period Wise Return Bottom Quantile (bps)</th>\n",
       "      <td>25.709</td>\n",
       "    </tr>\n",
       "    <tr>\n",
       "      <th>Mean Period Wise Spread (bps)</th>\n",
       "      <td>8.123</td>\n",
       "    </tr>\n",
       "  </tbody>\n",
       "</table>\n",
       "</div>"
      ],
      "text/plain": [
       "                                                  21D\n",
       "Ann. alpha                                     -0.031\n",
       "beta                                            0.393\n",
       "Mean Period Wise Return Top Quantile (bps)     33.833\n",
       "Mean Period Wise Return Bottom Quantile (bps)  25.709\n",
       "Mean Period Wise Spread (bps)                   8.123"
      ]
     },
     "metadata": {},
     "output_type": "display_data"
    },
    {
     "name": "stderr",
     "output_type": "stream",
     "text": [
      "/Users/kai/anaconda3/lib/python3.7/site-packages/alphalens/tears.py:275: UserWarning:\n",
      "\n",
      "'freq' not set in factor_data index: assuming business day\n",
      "\n"
     ]
    },
    {
     "data": {
      "text/plain": [
       "<Figure size 432x288 with 0 Axes>"
      ]
     },
     "metadata": {},
     "output_type": "display_data"
    },
    {
     "data": {
      "image/png": "[encoded data removed]",
      "text/plain": [
       "<Figure size 1008x2520 with 3 Axes>"
      ]
     },
     "metadata": {},
     "output_type": "display_data"
    },
    {
     "name": "stdout",
     "output_type": "stream",
     "text": [
      "Information Analysis\n"
     ]
    },
    {
     "data": {
      "text/html": [
       "<div>\n",
       "<style scoped>\n",
       "    .dataframe tbody tr th:only-of-type {\n",
       "        vertical-align: middle;\n",
       "    }\n",
       "\n",
       "    .dataframe tbody tr th {\n",
       "        vertical-align: top;\n",
       "    }\n",
       "\n",
       "    .dataframe thead th {\n",
       "        text-align: right;\n",
       "    }\n",
       "</style>\n",
       "<table border=\"1\" class=\"dataframe\">\n",
       "  <thead>\n",
       "    <tr style=\"text-align: right;\">\n",
       "      <th></th>\n",
       "      <th>21D</th>\n",
       "    </tr>\n",
       "  </thead>\n",
       "  <tbody>\n",
       "    <tr>\n",
       "      <th>IC Mean</th>\n",
       "      <td>-0.023</td>\n",
       "    </tr>\n",
       "    <tr>\n",
       "      <th>IC Std.</th>\n",
       "      <td>0.406</td>\n",
       "    </tr>\n",
       "    <tr>\n",
       "      <th>Risk-Adjusted IC</th>\n",
       "      <td>-0.056</td>\n",
       "    </tr>\n",
       "    <tr>\n",
       "      <th>t-stat(IC)</th>\n",
       "      <td>-3.181</td>\n",
       "    </tr>\n",
       "    <tr>\n",
       "      <th>p-value(IC)</th>\n",
       "      <td>0.001</td>\n",
       "    </tr>\n",
       "    <tr>\n",
       "      <th>IC Skew</th>\n",
       "      <td>0.057</td>\n",
       "    </tr>\n",
       "    <tr>\n",
       "      <th>IC Kurtosis</th>\n",
       "      <td>-0.506</td>\n",
       "    </tr>\n",
       "  </tbody>\n",
       "</table>\n",
       "</div>"
      ],
      "text/plain": [
       "                    21D\n",
       "IC Mean          -0.023\n",
       "IC Std.           0.406\n",
       "Risk-Adjusted IC -0.056\n",
       "t-stat(IC)       -3.181\n",
       "p-value(IC)       0.001\n",
       "IC Skew           0.057\n",
       "IC Kurtosis      -0.506"
      ]
     },
     "metadata": {},
     "output_type": "display_data"
    },
    {
     "data": {
      "image/png": "[encoded data removed]",
      "text/plain": [
       "<Figure size 1008x3024 with 4 Axes>"
      ]
     },
     "metadata": {
      "needs_background": "light"
     },
     "output_type": "display_data"
    },
    {
     "name": "stdout",
     "output_type": "stream",
     "text": [
      "Quantiles Statistics\n"
     ]
    },
    {
     "data": {
      "text/html": [
       "<div>\n",
       "<style scoped>\n",
       "    .dataframe tbody tr th:only-of-type {\n",
       "        vertical-align: middle;\n",
       "    }\n",
       "\n",
       "    .dataframe tbody tr th {\n",
       "        vertical-align: top;\n",
       "    }\n",
       "\n",
       "    .dataframe thead th {\n",
       "        text-align: right;\n",
       "    }\n",
       "</style>\n",
       "<table border=\"1\" class=\"dataframe\">\n",
       "  <thead>\n",
       "    <tr style=\"text-align: right;\">\n",
       "      <th></th>\n",
       "      <th>min</th>\n",
       "      <th>max</th>\n",
       "      <th>mean</th>\n",
       "      <th>std</th>\n",
       "      <th>count</th>\n",
       "      <th>count %</th>\n",
       "    </tr>\n",
       "    <tr>\n",
       "      <th>factor_quantile</th>\n",
       "      <th></th>\n",
       "      <th></th>\n",
       "      <th></th>\n",
       "      <th></th>\n",
       "      <th></th>\n",
       "      <th></th>\n",
       "    </tr>\n",
       "  </thead>\n",
       "  <tbody>\n",
       "    <tr>\n",
       "      <th>1</th>\n",
       "      <td>1.25285</td>\n",
       "      <td>4.21098</td>\n",
       "      <td>2.444847</td>\n",
       "      <td>0.661940</td>\n",
       "      <td>6542</td>\n",
       "      <td>26.869840</td>\n",
       "    </tr>\n",
       "    <tr>\n",
       "      <th>2</th>\n",
       "      <td>1.66146</td>\n",
       "      <td>4.86184</td>\n",
       "      <td>3.285164</td>\n",
       "      <td>0.743106</td>\n",
       "      <td>3271</td>\n",
       "      <td>13.434920</td>\n",
       "    </tr>\n",
       "    <tr>\n",
       "      <th>3</th>\n",
       "      <td>1.98550</td>\n",
       "      <td>7.07384</td>\n",
       "      <td>4.194888</td>\n",
       "      <td>1.178410</td>\n",
       "      <td>4721</td>\n",
       "      <td>19.390479</td>\n",
       "    </tr>\n",
       "    <tr>\n",
       "      <th>4</th>\n",
       "      <td>2.17357</td>\n",
       "      <td>8.56742</td>\n",
       "      <td>4.972789</td>\n",
       "      <td>1.977961</td>\n",
       "      <td>3271</td>\n",
       "      <td>13.434920</td>\n",
       "    </tr>\n",
       "    <tr>\n",
       "      <th>5</th>\n",
       "      <td>2.28600</td>\n",
       "      <td>165.04300</td>\n",
       "      <td>14.883434</td>\n",
       "      <td>24.092678</td>\n",
       "      <td>6542</td>\n",
       "      <td>26.869840</td>\n",
       "    </tr>\n",
       "  </tbody>\n",
       "</table>\n",
       "</div>"
      ],
      "text/plain": [
       "                     min        max       mean        std  count    count %\n",
       "factor_quantile                                                            \n",
       "1                1.25285    4.21098   2.444847   0.661940   6542  26.869840\n",
       "2                1.66146    4.86184   3.285164   0.743106   3271  13.434920\n",
       "3                1.98550    7.07384   4.194888   1.178410   4721  19.390479\n",
       "4                2.17357    8.56742   4.972789   1.977961   3271  13.434920\n",
       "5                2.28600  165.04300  14.883434  24.092678   6542  26.869840"
      ]
     },
     "metadata": {},
     "output_type": "display_data"
    }
   ],
   "source": [
    "individual_eval_button = Button(description=\"Individual_Evaluation\", button_style='success', margin=leftm(650))\n",
    "display(individual_eval_button)\n",
    "individual_eval_button.on_click(alpha_single)"
   ]
  },
  {
   "cell_type": "markdown",
   "metadata": {},
   "source": [
    "## 5. Build Model"
   ]
  },
  {
   "cell_type": "code",
   "execution_count": 49,
   "metadata": {},
   "outputs": [],
   "source": [
    "# override ipythonwidgets build in function\n",
    "def _get_min_max_value(min, max, value=None, step=None):\n",
    "    \"\"\"Return min, max, value given input values with possible None.\"\"\"\n",
    "    if value is None:\n",
    "        if not max > min:\n",
    "            raise ValueError('max must be greater than min: (min={0}, max={1})'.format(min, max))\n",
    "        diff = max - min\n",
    "        value = min + (diff / 2)\n",
    "        # Ensure that value has the same type as diff\n",
    "        if not isinstance(value, type(diff)):\n",
    "            value = min + (diff // 2)\n",
    "    elif min is None and max is None:\n",
    "        if not value:\n",
    "            t = type(value)\n",
    "            min, max = (t(0), t(1))\n",
    "        elif value > 0:\n",
    "            min, max = (0, np.max([10*value, 10]))\n",
    "        else:\n",
    "            min, max = (np.min([10*value, -10]), 0)\n",
    "    else:\n",
    "        raise ValueError('unable to infer range, value from: ({0}, {1}, {2})'.format(min, max, value))\n",
    "    if step is not None:\n",
    "        # ensure value is on a step\n",
    "        r = (value - min) % step\n",
    "        value = value - r\n",
    "    return min, max, value\n",
    "\n",
    "interaction._get_min_max_value = _get_min_max_value"
   ]
  },
  {
   "cell_type": "code",
   "execution_count": 50,
   "metadata": {
    "scrolled": true
   },
   "outputs": [],
   "source": [
    "# Run single model\n",
    "model_options = {'LinearRegression': 'ols',\n",
    "            'Ridge': 'ridge',\n",
    "            'Lasso': 'lasso',\n",
    "            'ElasticNet': 'enet',\n",
    "            'BayesianRidge': 'bayes',\n",
    "            'SVR': 'svr',\n",
    "            'KNeighborsRegressor': 'knnrgr',\n",
    "            'DecisionTreeRegressor': 'dtrgr',\n",
    "            'AdaBoostRegressor': 'ab',\n",
    "            'GradientBoostingRegressor': 'gbrgr',\n",
    "            'RandomForestRegressor': 'rfrgr',\n",
    "            'ExtraTreesRegressor': 'ert',\n",
    "            'BaggingRegressor': 'bag'}\n",
    "\n",
    "model_args = {\n",
    "    'ols': {'fit_intercept': True, 'normalize': False, 'n_jobs': 1},\n",
    "    'ridge': {'alpha': 1.0, 'fit_intercept': True, 'normalize': False},\n",
    "    'lasso': {'alpha': 1.0, 'fit_intercept': True, 'normalize': False},\n",
    "    'enet': {'alpha':1.0, 'l1_ratio': 0.5, 'fit_intercept': True, 'normalize': False},\n",
    "    'bayes': {'alpha_1': 1e-06, 'alpha_2': 1e-06, 'lambda_1': 1e-06, 'lambda_2': 1e-06, \n",
    "              'compute_score': False, 'fit_intercept': True, 'normalize': False},\n",
    "    'svr': {'kernel': ['linear', 'poly', 'rbf', 'sigmoid', 'precomputed'], 'degree': 3,\n",
    "            'gamma': 'auto', 'coef0': 0.0, 'C': 1.0, 'epsilon': 0.1,'shrinking': True},\n",
    "    'knnrgr': {'n_neighbors': 5, 'weights': ['uniform', 'distance'],\n",
    "            'algorithm': ['auto', 'ball_tree', 'kd_tree', 'brute'],\n",
    "            'leaf_size': 30, 'p': 2, 'metric': 'minkowski', 'n_jobs': 1},\n",
    "    'dtrgr': {'criterion': 'mse', 'splitter': 'best', 'max_depth': 5, 'min_samples_split': 10,\n",
    "           'min_samples_leaf': 15, 'min_weight_fraction_leaf': 0.0},\n",
    "    'ab': {'n_estimators': 50, 'learning_rate': 1.0, 'loss': 'linear'},\n",
    "    'gbrgr': {'loss': 'ls', 'learning_rate': 0.1, 'n_estimators': 100, 'subsample': 1.0,\n",
    "           'min_samples_split': 2, 'min_samples_leaf': 1, 'min_weight_fraction_leaf': 0.0,\n",
    "           'max_depth': 3, 'alpha': 0.9},\n",
    "    'rfrgr': {'n_estimators': 10, 'criterion': 'mse', 'max_depth': 20, 'min_samples_split': 2,\n",
    "           'min_samples_leaf': 1, 'min_weight_fraction_leaf': 0.0, 'max_features': 'auto',\n",
    "           'bootstrap': True, 'oob_score': False, 'n_jobs': 1},\n",
    "    'ert': {'n_estimators': 10, 'criterion': 'mse', 'max_depth': 20, 'min_samples_split': 2,\n",
    "            'min_samples_leaf': 1, 'min_weight_fraction_leaf': 0.0, 'max_features': 'auto',\n",
    "            'bootstrap': False, 'oob_score': False, 'n_jobs': 1},\n",
    "    'bag': {'n_estimators': 10, 'max_samples': 1.0, 'max_features': 1.0, 'bootstrap': True,\n",
    "            'bootstrap_features': False, 'oob_score': False, 'n_jobs': 1}}\n",
    "\n",
    "metric_options = {'R2 Score': 'r2', 'Mean Squared Error': 'mse', 'Mean Absolute Error': 'mae', \n",
    "                  'Median Absolute Error': 'meae', 'Explained Variance Score': 'evs'}\n",
    "\n",
    "# widgets\n",
    "model_dropcat = Checkbox(value=True, margin=leftm(), width='50px')\n",
    "model_dropthrh = IntSlider(value=500, max=500, margin=leftm())\n",
    "\n",
    "model_seed = IntText(value=0, width='150px', margin=leftm())\n",
    "model_split = FloatSlider(value=0.7, min=0, max=1, step=0.01, width='600px', margin=leftm())\n",
    "model_select = Dropdown(options=model_options, value='dtrgr', height='30px', margin=leftm(),\n",
    "                        width='200px')\n",
    "model_metric = SelectMultiple(options=metric_options, value=('r2',), height='90px', margin=leftm(),\n",
    "                              width='200px')\n",
    "model_prog = FloatProgress(value=0, min=0, max=10, step=1, description='Progress:',\n",
    "                           margin=leftm(600), width='200px')\n",
    "modelb = Button(description=\"Run Model\", button_style='success', width='100px', margin=leftm(150))\n",
    "model_save = Button(description=\"Save Results\", button_style='warning', width='100px', margin=leftm(150))\n",
    "\n",
    "def make_single():\n",
    "    '''Make widgets for single model.'''\n",
    "    global model_target, model_features, selection_range_slider\n",
    "    ### kai test for time range\n",
    "    all_dates = list(dsData.data['date'].sort_values())\n",
    "    minimum_date, max_date = all_dates[0], all_dates[-1]\n",
    "    start_date, end_date = pd.to_datetime(minimum_date), pd.to_datetime(max_date)\n",
    "    dates = pd.date_range(start_date, end_date, freq='D')\n",
    "    options = [(date.strftime('%d%b%Y'), date) for date in dates]\n",
    "    index = (0, len(options)-1)\n",
    "    selection_range_slider = widgets.SelectionRangeSlider(\n",
    "        options=options,\n",
    "        index=index,\n",
    "        description='Dates',\n",
    "        orientation='horizontal',\n",
    "        layout={'width': '500px'}\n",
    "    )\n",
    "    ### kai test for time range\n",
    "    model_obj.define_regressor(model_name=model_select.value, **model_args[model_select.value])\n",
    "    print(model_obj.model)\n",
    "    model_target = Dropdown(options=dsData.get_header(['float', 'int'], sort=True), height='30px',\n",
    "                            margin=leftm(), width='200px')\n",
    "    columns = dsData.get_header(['float', 'int', 'category', 'object'], sort=True)\n",
    "    features_height = np.min([300, np.max([len(columns) * 12, 100])])\n",
    "    model_features = SelectMultiple(options=columns, margin=leftm(),\n",
    "                                    height='{}px'.format(features_height))\n",
    "    rows = []\n",
    "    rows.append(Box([Label('Insample Date Range: ', layout=Layout(width='200px')), selection_range_slider], layout=row_layout))\n",
    "    rows.append(Box([Label('Target Variable: ', layout=Layout(width='200px')), model_target], layout=row_layout))\n",
    "    rows.append(Box([Label('Independent Variables: ', layout=Layout(width='200px')), model_features], layout=row_layout))\n",
    "    rows.append(Box([Label('Evaluation Metric: ', layout=Layout(width='200px')), model_metric], layout=row_layout))\n",
    "    rows.append(Box([Label('Select Model: ', layout=Layout(width='200px')), model_select, model_save, modelb], layout=row_layout))\n",
    "    rows.append(Box([model_prog], layout=row_layout))\n",
    "    rows.append(Box([model_toggle_param], margin='0px 0px 20px 0px'))\n",
    "    return Box(rows, layout=Layout(**col_layout), height='{}px'.format(300 + features_height))\n",
    "\n",
    "# functions\n",
    "def model_chg(chg):\n",
    "    '''Listen to model change event, and re-define regressor and create model parameter Box.'''\n",
    "    global model_param_displayed, w\n",
    "#     clear_output()\n",
    "    w.close()\n",
    "    model_obj.define_regressor(model_name=model_select.value)\n",
    "    print(model_obj.model)\n",
    "    args = model_args[model_select.value]\n",
    "    w = interactive(set_params, **args)\n",
    "    w = modify_box_widget(w)\n",
    "    if model_param_displayed:\n",
    "        display(w)\n",
    "\n",
    "def set_params(**args):\n",
    "    '''Set model parameters and print.'''\n",
    "    model_obj.model.set_params(**args)\n",
    "    print(model_obj.model)\n",
    "\n",
    "def modify_box_widget(w):\n",
    "    '''Modify the model parameter box widget.'''\n",
    "    children = []\n",
    "    for child in w.children:\n",
    "        child.margin = leftm()\n",
    "        if hasattr(child, 'description'):\n",
    "            desc = child.description\n",
    "            child.description = ''\n",
    "            children.append(Box([Label('{}: '.format(desc), layout=Layout(width='200px')), child], layout=row_layout))\n",
    "        else:\n",
    "            children.append(child)\n",
    "    return Box(children, layout=Layout(**col_layout), height='{}px'.format(40 * len(w.children)))\n",
    "\n",
    "model_select.observe(model_chg, names='value')"
   ]
  },
  {
   "cell_type": "code",
   "execution_count": 51,
   "metadata": {
    "scrolled": true
   },
   "outputs": [],
   "source": [
    "# Run Multiple Model\n",
    "# widgets\n",
    "model_select2 = SelectMultiple(options=model_options, height='200px', margin=leftm(),\n",
    "                               width='200px')\n",
    "\n",
    "model_metric2 = Dropdown(options=metric_options, value='r2', height='30px', margin=leftm(),\n",
    "                         width='200px')\n",
    "\n",
    "model_toggle_param = Button(description=\"Toggle Model Settings\", button_style='success',\n",
    "                            width='170px')\n",
    "    \n",
    "def make_multiple():\n",
    "    '''Make widgets for multiple models'''\n",
    "    global model_target, model_features\n",
    "    #model_obj.define_regressor(model_name='all')\n",
    "    model_obj.define_regressor(model_name='run_all_regressors')\n",
    "    model_target = Dropdown(options=dsData.get_header(['float', 'int'], sort=True), height='30px',\n",
    "                            margin=leftm(), width='200px')\n",
    "    columns = dsData.get_header(['float', 'int', 'category', 'object'], sort=True)\n",
    "    features_height = np.min([300, np.max([len(columns) * 12, 100])])\n",
    "    model_features = SelectMultiple(options=columns, margin=leftm(),\n",
    "                                    height='{}px'.format(features_height))\n",
    "    rows = []\n",
    "    rows.append(Box([Label('Target Variable: ', layout=Layout(width='200px')), model_target], layout=row_layout))\n",
    "    rows.append(Box([Label('Independent Variables: ', layout=Layout(width='200px')), model_features], layout=row_layout))\n",
    "    rows.append(Box([Label('Evaluation Metric: ', layout=Layout(width='200px')), model_metric2], layout=row_layout))\n",
    "    rows.append(Box([Label('Select Models: ', layout=Layout(width='200px')), model_select2], layout=row_layout))\n",
    "    rows.append(Box([modelb], margin=leftm(500)))\n",
    "    rows.append(Box([model_prog], layout=row_layout))\n",
    "    rows.append(model_toggle_param)\n",
    "    return Box(rows, layout=Layout(**col_layout), height='{}px'.format(450 + features_height))\n",
    "\n",
    "# functions\n",
    "model_param_displayed = False\n",
    "def toggle_param(b):\n",
    "    '''Toggle model parameters.'''\n",
    "    global model_param_displayed, w\n",
    "    if model_param_displayed:\n",
    "        w.close()\n",
    "    else:\n",
    "        if mode_select.value == 'Run Single Model':\n",
    "            args = model_args[model_select.value]\n",
    "            w = interactive(set_params, **args)\n",
    "            w = modify_box_widget(w)\n",
    "        else:\n",
    "            w = get_multiple_params()\n",
    "        display(w)\n",
    "    model_param_displayed = not model_param_displayed\n",
    "\n",
    "def get_multiple_params():\n",
    "    '''Create parameter Box for multiple models.'''\n",
    "    rows = []\n",
    "    for model in model_select2.value:\n",
    "        args = model_args[model]\n",
    "        w = interactive(set_params_model, model=fixed(model), **args)\n",
    "        w = modify_box_widget(w)\n",
    "        name = re.match('(\\w+)\\(' , str(model_obj.models[model])).group(1)\n",
    "        rows.append(HTML('<b>{}</b>'.format(name), margin='20px 0px 10px 0px'))\n",
    "        rows.append(w)\n",
    "    return VBox(rows)\n",
    "\n",
    "def set_params_model(model, **args):\n",
    "    '''Set parameters for a specific model and print.'''\n",
    "    model_obj.models[model].set_params(**args)\n",
    "    print(model_obj.models[model])\n",
    "\n",
    "model_toggle_param.on_click(toggle_param)\n",
    "  \n",
    "\n",
    "def run_model(b):\n",
    "    if len(model_features.value) == 0:\n",
    "        raise ValueError(\"Please select independent variables.\")\n",
    "    \n",
    "    model_prog.value = 0\n",
    "    model_prog.description = 'Start...'\n",
    "    features = list(np.setdiff1d(model_features.value, [model_target.value]))\n",
    "    all_cols = features + [model_target.value]\n",
    "    dsData.create_dummy_data(features)\n",
    "    \n",
    "    global XX_train, yy_train, XX_test, yy_test\n",
    "    \n",
    "    ### kai test\n",
    "    insample_start_date, insample_end_date = selection_range_slider.value[0], selection_range_slider.value[1]\n",
    "    all_data = dsData.data\n",
    "    all_data[\"date\"] = pd.to_datetime(all_data[\"date\"])\n",
    "    flg1 = [(j>=insample_start_date) for j in all_data[\"date\"]]\n",
    "    insample_data = all_data[flg1]\n",
    "    flg2 = [(j<=insample_end_date) for j in insample_data[\"date\"]]\n",
    "    insample_data = insample_data[flg2]\n",
    "\n",
    "    flg3 = [(j<insample_start_date) for j in all_data[\"date\"]]\n",
    "    outsample_data_1 = all_data[flg3]\n",
    "    flg4 = [(j>insample_end_date) for j in all_data[\"date\"]]\n",
    "    outsample_data_2 = all_data[flg4]\n",
    "    outsample_data = pd.concat([outsample_data_1, outsample_data_2])\n",
    "\n",
    "    XX_train, yy_train = insample_data[list(model_features.value)], insample_data[model_target.value]\n",
    "    XX_test, yy_test = outsample_data[list(model_features.value)], outsample_data[model_target.value]\n",
    "    # insample_data = all_data.loc[(all_data[\"date\"]>start_date) & (all_data[\"date\"]<end_date)]\n",
    "    ### kai test\n",
    "\n",
    "#     XX_train, yy_train, XX_test, yy_test = \\\n",
    "#         model_obj.split_random(mld.dummies, mld.data[model_target.value],\n",
    "#                          train_ratio=model_split.value)\n",
    "    \n",
    "    \n",
    "    \n",
    "    if mode_select.value == 'Run Single Model':\n",
    "        model_obj.fit_model(XX_train, yy_train, indep_cols=features) \n",
    "        pred_name = \"predicted_\" + model_target.value\n",
    "        dsData.data[pred_name] = model_obj.predict(dsData.dummies)\n",
    "        pred_error_name = \"error_predicted_\" + model_target.value\n",
    "        dsData.data[pred_error_name] = model_obj.predict(dsData.dummies) - dsData.data[model_target.value]\n",
    "        model_prog.value = 5\n",
    "        model_prog.description = 'Progress.'\n",
    "        model_prog.description = 'Done!'\n",
    "        model_prog.value = 10\n",
    "    else:\n",
    "        model_prog.value = 5\n",
    "        model_prog.description = 'Progress.'\n",
    "        res = model_obj.model_comparison(XX_train, yy_train, XX_test, yy_test, features,\n",
    "                                   list(model_select2.value))\n",
    "        res = pd.Series(res).reset_index().round(4)\n",
    "        res.columns = ['Model', model_metric2.value]\n",
    "        res.sort_values(model_metric2.value, ascending=False, inplace=True)\n",
    "        print('\\nModel Performance')\n",
    "        display(res)\n",
    "        model_prog.description = 'Done!'\n",
    "        model_prog.value = 10\n",
    "\n",
    "def show_results(X_train, y_train, X_test, y_test):\n",
    "    '''Show prediction results and performance scores.'''\n",
    "    global train_scores, test_scores, fi, coef \n",
    "    # performance score\n",
    "    print(\"performance score\")\n",
    "    print(\"On Training Set\")\n",
    "    pred_train = model_obj.predict(X_train)\n",
    "    train_scores = model_obj.eval_model(ytrue=y_train, ypred=pred_train, metric_list=model_metric.value)\n",
    "    train_scores = pd.DataFrame({'metric': model_metric.value, 'score': train_scores}).round(4)\n",
    "    display(train_scores)\n",
    "\n",
    "    print(\"On Testing Set\")\n",
    "    pred_test = model_obj.predict(X_test)\n",
    "    test_scores = model_obj.eval_model(ytrue=y_test, ypred=pred_test, metric_list=model_metric.value)\n",
    "    test_scores = pd.DataFrame({'metric': model_metric.value, 'score': test_scores}).round(4)\n",
    "    display(test_scores)\n",
    "\n",
    "    if hasattr(model_obj.model, 'feature_importances_'):\n",
    "        fi = model_obj.check_feature_importance(group=True).round(4)\n",
    "        print('\\nFeature Importance')\n",
    "        display(fi)\n",
    "\n",
    "    if model_select.value == 'dtrgr':\n",
    "       img_bi = model_obj.decision_tree_plot()\n",
    "       display(SVG(img_bi))\n",
    "\n",
    "    if model_select.value == 'ols':\n",
    "        coef = pd.DataFrame({'Feature': model_obj.dummy_indep_cols, 'Coef': model_obj.model.coef_})\n",
    "        pos_mask = coef['Coef'] > 0\n",
    "        pos_coef = coef[pos_mask].sort_values('Coef', ascending=False)\n",
    "        neg_coef = coef[~pos_mask].sort_values('Coef')\n",
    "        display('Positive Coefficients', pos_coef)\n",
    "        display('Negative Coefficients', neg_coef)\n",
    "\n",
    "    # make prediction\n",
    "    print(\"Predictions on Test Data\")\n",
    "#     display(pd.concat([pred_test, y_test, dsData.data.ix[y_test.index, model_obj.indep_cols]], axis=1))\n",
    "    display(pd.concat([pred_test, y_test, dsData.data.loc[y_test.index, model_obj.indep_cols]], axis=1))\n",
    "\n",
    "def save_results(b):\n",
    "    try:\n",
    "        if not os.path.exists('results'):\n",
    "            os.makedirs('results')\n",
    "        train_scores.to_csv('results/train_scores.csv', index=False)\n",
    "        test_scores.to_csv('results/test_scores.csv', index=False)\n",
    "        fi.to_csv('results/feature_importance,csv', index=False)\n",
    "        if model_select.value == 'ols':\n",
    "            coef.to_csv('results/coefficients.csv')\n",
    "        elif model_select.value == 'dtrgr':\n",
    "            png = model_obj.decision_tree_plot('png')\n",
    "            with open('results/decision_tree_plot.png', 'wb') as f:\n",
    "                f.write(png)\n",
    "        print('Done!')\n",
    "    except Exception as e:\n",
    "        print(str(e))\n",
    "\n",
    "modelb.on_click(run_model)\n",
    "model_save.on_click(save_results)"
   ]
  },
  {
   "cell_type": "code",
   "execution_count": 52,
   "metadata": {
    "scrolled": false
   },
   "outputs": [
    {
     "name": "stdout",
     "output_type": "stream",
     "text": [
      "DecisionTreeRegressor(max_depth=5, min_samples_leaf=15, min_samples_split=10)\n"
     ]
    },
    {
     "data": {
      "application/vnd.jupyter.widget-view+json": {
       "model_id": "2db277faccb641f4934c769090ba207f",
       "version_major": 2,
       "version_minor": 0
      },
      "text/plain": [
       "Box(children=(Box(children=(Label(value='Insample Date Range: ', layout=Layout(width='200px')), SelectionRange…"
      ]
     },
     "metadata": {},
     "output_type": "display_data"
    },
    {
     "name": "stdout",
     "output_type": "stream",
     "text": [
      "GradientBoostingRegressor()\n"
     ]
    }
   ],
   "source": [
    "# Select Mode\n",
    "mode_select = ToggleButtons(options=['Run Single Model', 'Run Multiple Models'], value='Run Multiple Models', margin=leftm())\n",
    "\n",
    "display(HBox([Label('Mode: '), mode_select], layout=Layout(margin='0px 0px 30px 0px')))\n",
    "\n",
    "mode_mapping = {'Run Single Model': make_single, 'Run Multiple Models': make_multiple}\n",
    "mode = HTML('')\n",
    "w = HTML('')\n",
    "\n",
    "rows = []\n",
    "rows.append(Box([Label('Drop Categorical Column if Too Many Distinct Values: ', layout=Layout(width='600px')), model_dropcat,\n",
    "                 Label('Threshold: '), model_dropthrh], layout=row_layout))\n",
    "rows.append(Box([Label('Random Seed: ', layout=Layout(width='200px')), model_seed], layout=row_layout))\n",
    "rows.append(Box([Label('Proportion for Training: ', layout=Layout(width='200px')), model_split], layout=row_layout))\n",
    "\n",
    "display(Box(rows, layout=Layout(**col_layout), height='120px', margin='0px 0px 10px 0px'))\n",
    "\n",
    "def switch_mode(chg):\n",
    "    '''Switch between modeling mode.'''\n",
    "    global mode\n",
    "    clear_output()\n",
    "\n",
    "    mode.close()\n",
    "    mode = mode_mapping[mode_select.value]()\n",
    "    display(mode)\n",
    "\n",
    "mode_select.observe(switch_mode, names='value')"
   ]
  },
  {
   "cell_type": "markdown",
   "metadata": {},
   "source": [
    "## 6. Model Result (only for single model)\n",
    "- model result in testing data set:"
   ]
  },
  {
   "cell_type": "code",
   "execution_count": 53,
   "metadata": {
    "scrolled": false
   },
   "outputs": [
    {
     "data": {
      "application/vnd.jupyter.widget-view+json": {
       "model_id": "f3518eaebf0e4e37be6658ff21cdd078",
       "version_major": 2,
       "version_minor": 0
      },
      "text/plain": [
       "HBox(children=(Label(value='Model Result Type: ', layout=Layout(width='200px')), ToggleButtons(index=1, option…"
      ]
     },
     "metadata": {},
     "output_type": "display_data"
    },
    {
     "name": "stdout",
     "output_type": "stream",
     "text": [
      "performance score\n",
      "On Training Set\n"
     ]
    },
    {
     "data": {
      "text/html": [
       "<div>\n",
       "<style scoped>\n",
       "    .dataframe tbody tr th:only-of-type {\n",
       "        vertical-align: middle;\n",
       "    }\n",
       "\n",
       "    .dataframe tbody tr th {\n",
       "        vertical-align: top;\n",
       "    }\n",
       "\n",
       "    .dataframe thead th {\n",
       "        text-align: right;\n",
       "    }\n",
       "</style>\n",
       "<table border=\"1\" class=\"dataframe\">\n",
       "  <thead>\n",
       "    <tr style=\"text-align: right;\">\n",
       "      <th></th>\n",
       "      <th>metric</th>\n",
       "      <th>score</th>\n",
       "    </tr>\n",
       "  </thead>\n",
       "  <tbody>\n",
       "    <tr>\n",
       "      <th>0</th>\n",
       "      <td>r2</td>\n",
       "      <td>0.3687</td>\n",
       "    </tr>\n",
       "  </tbody>\n",
       "</table>\n",
       "</div>"
      ],
      "text/plain": [
       "  metric   score\n",
       "0     r2  0.3687"
      ]
     },
     "metadata": {},
     "output_type": "display_data"
    },
    {
     "name": "stdout",
     "output_type": "stream",
     "text": [
      "On Testing Set\n"
     ]
    },
    {
     "data": {
      "text/html": [
       "<div>\n",
       "<style scoped>\n",
       "    .dataframe tbody tr th:only-of-type {\n",
       "        vertical-align: middle;\n",
       "    }\n",
       "\n",
       "    .dataframe tbody tr th {\n",
       "        vertical-align: top;\n",
       "    }\n",
       "\n",
       "    .dataframe thead th {\n",
       "        text-align: right;\n",
       "    }\n",
       "</style>\n",
       "<table border=\"1\" class=\"dataframe\">\n",
       "  <thead>\n",
       "    <tr style=\"text-align: right;\">\n",
       "      <th></th>\n",
       "      <th>metric</th>\n",
       "      <th>score</th>\n",
       "    </tr>\n",
       "  </thead>\n",
       "  <tbody>\n",
       "    <tr>\n",
       "      <th>0</th>\n",
       "      <td>r2</td>\n",
       "      <td>-2.2043</td>\n",
       "    </tr>\n",
       "  </tbody>\n",
       "</table>\n",
       "</div>"
      ],
      "text/plain": [
       "  metric   score\n",
       "0     r2 -2.2043"
      ]
     },
     "metadata": {},
     "output_type": "display_data"
    },
    {
     "name": "stdout",
     "output_type": "stream",
     "text": [
      "\n",
      "Feature Importance\n"
     ]
    },
    {
     "data": {
      "text/html": [
       "<div>\n",
       "<style scoped>\n",
       "    .dataframe tbody tr th:only-of-type {\n",
       "        vertical-align: middle;\n",
       "    }\n",
       "\n",
       "    .dataframe tbody tr th {\n",
       "        vertical-align: top;\n",
       "    }\n",
       "\n",
       "    .dataframe thead th {\n",
       "        text-align: right;\n",
       "    }\n",
       "</style>\n",
       "<table border=\"1\" class=\"dataframe\">\n",
       "  <thead>\n",
       "    <tr style=\"text-align: right;\">\n",
       "      <th></th>\n",
       "      <th>feature</th>\n",
       "      <th>mean</th>\n",
       "      <th>count</th>\n",
       "      <th>sum</th>\n",
       "    </tr>\n",
       "  </thead>\n",
       "  <tbody>\n",
       "    <tr>\n",
       "      <th>0</th>\n",
       "      <td>price_to_book</td>\n",
       "      <td>0.8791</td>\n",
       "      <td>1</td>\n",
       "      <td>0.8791</td>\n",
       "    </tr>\n",
       "    <tr>\n",
       "      <th>1</th>\n",
       "      <td>transactions</td>\n",
       "      <td>0.0874</td>\n",
       "      <td>1</td>\n",
       "      <td>0.0874</td>\n",
       "    </tr>\n",
       "    <tr>\n",
       "      <th>2</th>\n",
       "      <td>Constant_nonConstant</td>\n",
       "      <td>0.0335</td>\n",
       "      <td>1</td>\n",
       "      <td>0.0335</td>\n",
       "    </tr>\n",
       "  </tbody>\n",
       "</table>\n",
       "</div>"
      ],
      "text/plain": [
       "                feature    mean  count     sum\n",
       "0         price_to_book  0.8791      1  0.8791\n",
       "1          transactions  0.0874      1  0.0874\n",
       "2  Constant_nonConstant  0.0335      1  0.0335"
      ]
     },
     "metadata": {},
     "output_type": "display_data"
    },
    {
     "name": "stdout",
     "output_type": "stream",
     "text": [
      "Predictions on Test Data\n"
     ]
    },
    {
     "data": {
      "text/html": [
       "<div>\n",
       "<style scoped>\n",
       "    .dataframe tbody tr th:only-of-type {\n",
       "        vertical-align: middle;\n",
       "    }\n",
       "\n",
       "    .dataframe tbody tr th {\n",
       "        vertical-align: top;\n",
       "    }\n",
       "\n",
       "    .dataframe thead th {\n",
       "        text-align: right;\n",
       "    }\n",
       "</style>\n",
       "<table border=\"1\" class=\"dataframe\">\n",
       "  <thead>\n",
       "    <tr style=\"text-align: right;\">\n",
       "      <th></th>\n",
       "      <th>Predicted returns_1mo_forward</th>\n",
       "      <th>returns_1mo_forward</th>\n",
       "      <th>Constant_nonConstant</th>\n",
       "      <th>price_to_book</th>\n",
       "      <th>transactions</th>\n",
       "    </tr>\n",
       "  </thead>\n",
       "  <tbody>\n",
       "    <tr>\n",
       "      <th>0</th>\n",
       "      <td>0.017026</td>\n",
       "      <td>0.018553</td>\n",
       "      <td>0.933179</td>\n",
       "      <td>3.99316</td>\n",
       "      <td>3.747790e+08</td>\n",
       "    </tr>\n",
       "    <tr>\n",
       "      <th>1</th>\n",
       "      <td>0.015925</td>\n",
       "      <td>-0.007820</td>\n",
       "      <td>1.218542</td>\n",
       "      <td>2.61398</td>\n",
       "      <td>6.597873e+09</td>\n",
       "    </tr>\n",
       "    <tr>\n",
       "      <th>2</th>\n",
       "      <td>0.030159</td>\n",
       "      <td>-0.024491</td>\n",
       "      <td>1.365184</td>\n",
       "      <td>3.33687</td>\n",
       "      <td>2.787000e+10</td>\n",
       "    </tr>\n",
       "    <tr>\n",
       "      <th>3</th>\n",
       "      <td>0.037742</td>\n",
       "      <td>0.029802</td>\n",
       "      <td>2.117332</td>\n",
       "      <td>2.49685</td>\n",
       "      <td>3.272870e+08</td>\n",
       "    </tr>\n",
       "    <tr>\n",
       "      <th>4</th>\n",
       "      <td>0.033420</td>\n",
       "      <td>-0.060363</td>\n",
       "      <td>2.502261</td>\n",
       "      <td>2.82385</td>\n",
       "      <td>3.995940e+09</td>\n",
       "    </tr>\n",
       "    <tr>\n",
       "      <th>...</th>\n",
       "      <td>...</td>\n",
       "      <td>...</td>\n",
       "      <td>...</td>\n",
       "      <td>...</td>\n",
       "      <td>...</td>\n",
       "    </tr>\n",
       "    <tr>\n",
       "      <th>24342</th>\n",
       "      <td>0.090467</td>\n",
       "      <td>0.139908</td>\n",
       "      <td>1.337881</td>\n",
       "      <td>3.15025</td>\n",
       "      <td>-1.656700e+07</td>\n",
       "    </tr>\n",
       "    <tr>\n",
       "      <th>24343</th>\n",
       "      <td>0.029913</td>\n",
       "      <td>0.041604</td>\n",
       "      <td>2.010939</td>\n",
       "      <td>2.32688</td>\n",
       "      <td>1.322400e+10</td>\n",
       "    </tr>\n",
       "    <tr>\n",
       "      <th>24344</th>\n",
       "      <td>0.014567</td>\n",
       "      <td>0.063441</td>\n",
       "      <td>1.600609</td>\n",
       "      <td>2.55136</td>\n",
       "      <td>4.666900e+09</td>\n",
       "    </tr>\n",
       "    <tr>\n",
       "      <th>24345</th>\n",
       "      <td>-0.005640</td>\n",
       "      <td>0.070588</td>\n",
       "      <td>0.399856</td>\n",
       "      <td>6.23661</td>\n",
       "      <td>6.935000e+08</td>\n",
       "    </tr>\n",
       "    <tr>\n",
       "      <th>24346</th>\n",
       "      <td>-0.038531</td>\n",
       "      <td>0.187921</td>\n",
       "      <td>2.914763</td>\n",
       "      <td>12.84670</td>\n",
       "      <td>1.725730e+08</td>\n",
       "    </tr>\n",
       "  </tbody>\n",
       "</table>\n",
       "<p>13812 rows × 5 columns</p>\n",
       "</div>"
      ],
      "text/plain": [
       "       Predicted returns_1mo_forward  returns_1mo_forward  \\\n",
       "0                           0.017026             0.018553   \n",
       "1                           0.015925            -0.007820   \n",
       "2                           0.030159            -0.024491   \n",
       "3                           0.037742             0.029802   \n",
       "4                           0.033420            -0.060363   \n",
       "...                              ...                  ...   \n",
       "24342                       0.090467             0.139908   \n",
       "24343                       0.029913             0.041604   \n",
       "24344                       0.014567             0.063441   \n",
       "24345                      -0.005640             0.070588   \n",
       "24346                      -0.038531             0.187921   \n",
       "\n",
       "       Constant_nonConstant  price_to_book  transactions  \n",
       "0                  0.933179        3.99316  3.747790e+08  \n",
       "1                  1.218542        2.61398  6.597873e+09  \n",
       "2                  1.365184        3.33687  2.787000e+10  \n",
       "3                  2.117332        2.49685  3.272870e+08  \n",
       "4                  2.502261        2.82385  3.995940e+09  \n",
       "...                     ...            ...           ...  \n",
       "24342              1.337881        3.15025 -1.656700e+07  \n",
       "24343              2.010939        2.32688  1.322400e+10  \n",
       "24344              1.600609        2.55136  4.666900e+09  \n",
       "24345              0.399856        6.23661  6.935000e+08  \n",
       "24346              2.914763       12.84670  1.725730e+08  \n",
       "\n",
       "[13812 rows x 5 columns]"
      ]
     },
     "metadata": {},
     "output_type": "display_data"
    },
    {
     "data": {
      "text/plain": [
       "None"
      ]
     },
     "metadata": {},
     "output_type": "display_data"
    }
   ],
   "source": [
    "# Select Graph\n",
    "\n",
    "# widgets\n",
    "Result_chart_select = ToggleButtons(\n",
    "    options=['Visualize Prediction', 'Display Predictions'],\n",
    "    tooltips=['Visualize Prediction outside training set, Confidence Interval and real values', 'Display Predictions'],\n",
    "    value='Visualize Prediction', \n",
    "    margin=leftm()\n",
    ")\n",
    "\n",
    "display(HBox([Label('Model Result Type: ', layout=Layout(width='200px')), Result_chart_select], layout=Layout(margin='0px 0px 30px 0px')))\n",
    "\n",
    "# functions\n",
    "grph = HTML('')\n",
    "\n",
    "def Result_switch_chart(chg):\n",
    "    '''Switch between graph type.'''\n",
    "    global grph\n",
    "    clear_output()\n",
    "    display(HBox([Label('Model Result Type: ', layout=Layout(width='200px')), Result_chart_select], layout=Layout(margin='0px 0px 30px 0px')))\n",
    "\n",
    "    if (grph != None):\n",
    "        grph.close()\n",
    "    #grph.close()\n",
    "    grph = Result_graph_mapping[Result_chart_select.value]()\n",
    "    display(grph)\n",
    "\n",
    "Result_chart_select.observe(Result_switch_chart, names='value')"
   ]
  },
  {
   "cell_type": "code",
   "execution_count": 54,
   "metadata": {},
   "outputs": [],
   "source": [
    "# Confidence Interval chart\n",
    "# widgets\n",
    "def make_Confidence_Interval():\n",
    "    '''create widgets for Confidence_Interval'''\n",
    "    #global pie_filter2, pie_select2, pie_limit2, group_less_freq2, pieb2\n",
    "    global pie_select2, pieb2\n",
    "    #pie_filter2 = Text(value='', width='500px')\n",
    "    pie_select2 = Dropdown(options=dsData.get_header(sort=True), height='30px', width='200px',\n",
    "                          margin=leftm())\n",
    "    #pie_limit2 = IntText(value=20, width='70px')\n",
    "    #group_less_freq2 = Checkbox(value=False)\n",
    "    pieb2 = Button(description=\"Plot\", button_style='success', width='70px', height='30px',\n",
    "                  margin=leftm(20))\n",
    "    row0 = Box([HTML('<h4> Visualize outsample prediction and confidence interval</h4>')],\n",
    "                layout=Layout(display='flex', flex_flow='row', align_items='center',\n",
    "                              justify_content='center', width='90%'))\n",
    "    row1 = Box([pieb2], layout=row_layout)\n",
    "    scatter_chart = Box([row0, row1], layout=Layout(**col_layout),\n",
    "                    height='160px')\n",
    "    pie_select2.observe(plot_Confidence_Interval, names='value')\n",
    "    pieb2.on_click(plot_Confidence_Interval)\n",
    "    return scatter_chart\n",
    "\n",
    "# functions\n",
    "def gradientBoostingRegr_band(clf_outside, X_train, y_train, X_test, y_test):\n",
    "    '''clf must be gradient boosting regressor'''\n",
    "    ## for upper bound\n",
    "    clf = clone(clf_outside)\n",
    "    alpha = 0.95\n",
    "    clf.set_params(loss='quantile')\n",
    "    clf.set_params(alpha=alpha)\n",
    "    clf.fit(X_train, y_train)\n",
    "    y_upper = clf.predict(X_test)\n",
    "    ## for lower bound\n",
    "    clf.set_params(alpha=1.0 - alpha)\n",
    "    clf.fit(X_train, y_train)\n",
    "    y_lower = clf.predict(X_test)\n",
    "    ## for prediction\n",
    "    clf.set_params(loss='ls')\n",
    "    clf.fit(X_train, y_train)\n",
    "    y_pred = clf.predict(X_test)\n",
    "    return y_pred, y_upper, y_lower\n",
    "    \n",
    "def plot_Confidence_Interval(chg):\n",
    "    '''plot the Confidence Interval chart'''\n",
    "    clear_output()\n",
    "    display(HBox([Label('Model Result Type: ', layout=Layout(width='200px')), \n",
    "                  Result_chart_select], layout=Layout(margin='0px 0px 30px 0px')))  ## kai test\n",
    "\n",
    "#     if ((type(model_obj.model) != sklearn.ensemble.forest.RandomForestRegressor) and (type(model_obj.model) != sklearn.ensemble.gradient_boosting.GradientBoostingRegressor)):\n",
    "#         return None\n",
    "    if ((type(model_obj.model) != sklearn.ensemble.RandomForestRegressor) and (type(model_obj.model) != sklearn.ensemble.GradientBoostingRegressor)):\n",
    "        return None    \n",
    "    \n",
    "    forest = model_obj.model\n",
    "\n",
    "    if (type(forest) == sklearn.ensemble.RandomForestRegressor):\n",
    "        #forest.fit(X_train, y_train)\n",
    "        y_hat = forest.predict(XX_test)\n",
    "        #V_IJ_calibrated = fci.random_forest_error(forest,X_train, X_test)\n",
    "        V_IJ_calibrated = random_forest_error(forest,XX_train, XX_test)\n",
    "\n",
    "        yerr=np.sqrt(V_IJ_calibrated)\n",
    "        y_mid = y_hat\n",
    "\n",
    "    if (type(forest) == sklearn.ensemble.GradientBoostingRegressor):\n",
    "        y_hat, y_upper, y_lower = gradientBoostingRegr_band(clf_outside=model_obj.model, X_train=XX_train, \n",
    "                                                            y_train=yy_train, X_test=XX_test, y_test=yy_test)\n",
    "        y_mid = 0.5 * (y_upper + y_lower)\n",
    "        yerr = y_upper - y_mid\n",
    "            \n",
    "    confidence_band = go.Scatter(\n",
    "                x=list(yy_test),\n",
    "                y=list(y_mid),\n",
    "                error_y=dict(\n",
    "                    type='data',\n",
    "                    array=list(yerr),\n",
    "                    visible=True\n",
    "                ),\n",
    "                mode='markers',\n",
    "                name='confidence_band'\n",
    "            )\n",
    "\n",
    "    real_value = go.Scatter(\n",
    "                x=list(yy_test),\n",
    "                y=list(yy_test),\n",
    "                mode='markers',\n",
    "                name='real_value'\n",
    "            )\n",
    "    \n",
    "    prediction = go.Scatter(\n",
    "                x=list(yy_test),\n",
    "                y=list(y_hat),\n",
    "                mode='markers',\n",
    "                name='prediction'\n",
    "            )\n",
    "        \n",
    "    data = [confidence_band, real_value, prediction]\n",
    "    \n",
    "    layout = go.Layout(xaxis=dict(title='ytest'),\n",
    "                   yaxis=dict(title='ypred')\n",
    "                   )\n",
    "\n",
    "    figp = go.Figure(data=data, layout=layout)\n",
    "    #figp = go.Figure(data=[trace0, trace1, fx, observations], layout=layout)\n",
    "    \n",
    "    iplot(figp)\n",
    "#     logger.info('plotted Confidence Interval')"
   ]
  },
  {
   "cell_type": "code",
   "execution_count": 55,
   "metadata": {},
   "outputs": [],
   "source": [
    "def display_predictions_on_test():    \n",
    "    # make prediction\n",
    "    #print(\"Predictions on Test Data\")\n",
    "    forest = model_obj.model\n",
    "    #X_train, y_train, X_test, y_test = \\\n",
    "    #    model_obj.split_random(mld.dummies, mld.data[model_target.value],\n",
    "    #                     train_ratio=model_split.value)\n",
    "    \n",
    "    #show_results(X_train=XX_train, y_train=yy_train, X_test=XX_test, y_test=yy_test)\n",
    "    \n",
    "    try:\n",
    "        show_results(X_train=XX_train, y_train=yy_train, X_test=XX_test, y_test=yy_test)\n",
    "    except Exception as e:\n",
    "        print(e)\n",
    "#         print(\"Capture error: need to run model first, and Graphviz executables are on your systems' path\")\n",
    "    #display(pd.concat([pred_test, y_test, mld.data.ix[y_test.index, model_obj.indep_cols]], axis=1))\n"
   ]
  },
  {
   "cell_type": "code",
   "execution_count": 56,
   "metadata": {},
   "outputs": [],
   "source": [
    "Result_graph_mapping = {'Visualize Prediction': make_Confidence_Interval, 'Display Predictions': display_predictions_on_test}"
   ]
  }
 ],
 "metadata": {
  "anaconda-cloud": {},
  "kernelspec": {
   "display_name": "Python 3",
   "language": "python",
   "name": "python3"
  },
  "language_info": {
   "codemirror_mode": {
    "name": "ipython",
    "version": 3
   },
   "file_extension": ".py",
   "mimetype": "text/x-python",
   "name": "python",
   "nbconvert_exporter": "python",
   "pygments_lexer": "ipython3",
   "version": "3.7.6"
  }
 },
 "nbformat": 4,
 "nbformat_minor": 1
}
