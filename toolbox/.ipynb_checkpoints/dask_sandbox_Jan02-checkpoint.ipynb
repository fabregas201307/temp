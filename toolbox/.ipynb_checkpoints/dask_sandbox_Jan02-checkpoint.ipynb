{
 "cells": [
  {
   "cell_type": "code",
   "execution_count": 1,
   "id": "95440302",
   "metadata": {},
   "outputs": [],
   "source": [
    "# Setup a local cluster.\n",
    "# By default this sets up 1 worker per core\n",
    "# from dask.distributed import Client\n",
    "# client = Client()\n",
    "# client.cluster"
   ]
  },
  {
   "cell_type": "code",
   "execution_count": 2,
   "id": "7daa1644",
   "metadata": {},
   "outputs": [
    {
     "name": "stdout",
     "output_type": "stream",
     "text": [
      "CPU times: user 141 ms, sys: 3.88 ms, total: 144 ms\n",
      "Wall time: 144 ms\n"
     ]
    }
   ],
   "source": [
    "%%time\n",
    "\n",
    "from dask import delayed\n",
    "import time\n",
    "\n",
    "def inc(x):\n",
    "    time.sleep(2)\n",
    "    return x + 1\n",
    "\n",
    "def dec(x):\n",
    "    time.sleep(1)\n",
    "    return x - 1\n",
    "\n",
    "def add(x, y):\n",
    "    time.sleep(3)\n",
    "    return x + y"
   ]
  },
  {
   "cell_type": "code",
   "execution_count": 3,
   "id": "2e009352",
   "metadata": {},
   "outputs": [],
   "source": [
    "# %%time\n",
    "\n",
    "# x = delayed(inc)(1)\n",
    "# y = delayed(dec)(2)\n",
    "# total = delayed(add)(x, y)\n",
    "# total.compute()"
   ]
  },
  {
   "cell_type": "code",
   "execution_count": 4,
   "id": "d6c49d40",
   "metadata": {},
   "outputs": [
    {
     "name": "stdout",
     "output_type": "stream",
     "text": [
      "44850\n",
      "CPU times: user 136 ms, sys: 48.4 ms, total: 184 ms\n",
      "Wall time: 2min 30s\n"
     ]
    }
   ],
   "source": [
    "%%time\n",
    "count = 0\n",
    "results1 = list()\n",
    "while True:\n",
    "    count += 1\n",
    "#     print(count)\n",
    "\n",
    "    if count > 300:\n",
    "        break\n",
    "    cur = delayed(dec)(count)\n",
    "    results1.append(cur)\n",
    "    \n",
    "\n",
    "total = delayed(sum)(results1)\n",
    "ans = total.compute()\n",
    "print(ans)"
   ]
  },
  {
   "cell_type": "code",
   "execution_count": 5,
   "id": "c2f27589",
   "metadata": {},
   "outputs": [
    {
     "name": "stdout",
     "output_type": "stream",
     "text": [
      "44850\n",
      "CPU times: user 34.1 ms, sys: 19.2 ms, total: 53.3 ms\n",
      "Wall time: 5min\n"
     ]
    }
   ],
   "source": [
    "%%time\n",
    "count = 0\n",
    "results2 = list()\n",
    "while True:\n",
    "    count += 1\n",
    "#     print(count)\n",
    "\n",
    "    if count > 300:\n",
    "        break\n",
    "    cur = dec(count)\n",
    "    results2.append(cur)\n",
    "    \n",
    "ans = sum(results2)\n",
    "print(ans)"
   ]
  },
  {
   "cell_type": "code",
   "execution_count": null,
   "id": "e73a0539",
   "metadata": {},
   "outputs": [],
   "source": []
  }
 ],
 "metadata": {
  "kernelspec": {
   "display_name": "Python 3 (ipykernel)",
   "language": "python",
   "name": "python3"
  },
  "language_info": {
   "codemirror_mode": {
    "name": "ipython",
    "version": 3
   },
   "file_extension": ".py",
   "mimetype": "text/x-python",
   "name": "python",
   "nbconvert_exporter": "python",
   "pygments_lexer": "ipython3",
   "version": "3.8.9"
  }
 },
 "nbformat": 4,
 "nbformat_minor": 5
}
