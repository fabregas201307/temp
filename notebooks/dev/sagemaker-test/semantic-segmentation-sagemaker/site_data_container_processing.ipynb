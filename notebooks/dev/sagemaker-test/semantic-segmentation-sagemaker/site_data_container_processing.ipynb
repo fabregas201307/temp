{
 "cells": [
  {
   "cell_type": "markdown",
   "metadata": {
    "heading_collapsed": true
   },
   "source": [
    "## Imports and Setup"
   ]
  },
  {
   "cell_type": "code",
   "execution_count": 1,
   "metadata": {
    "hidden": true
   },
   "outputs": [],
   "source": [
    "import sagemaker\n",
    "import boto3\n",
    "import time\n",
    "\n",
    "from PIL import Image\n",
    "import numpy as np\n",
    "import io\n",
    "\n",
    "profile = 'crayon-site'\n",
    "region_name='us-east-2'\n",
    "bucket = 'st-crayon-dev'\n",
    "prefix = 'sagemaker/labelbox/'\n",
    "role = 'arn:aws:iam::395166463292:role/service-role/AmazonSageMaker-ExecutionRole-20200714T182988'\n",
    "\n",
    "from botocore.exceptions import ProfileNotFound\n",
    "\n",
    "try:\n",
    "    boto3.setup_default_session(profile_name=profile)\n",
    "except ProfileNotFound:\n",
    "    print(\"crayon-site profile not found. Using default aws profile.\")\n",
    "    \n",
    "\n",
    "session = boto3.session.Session(profile_name = profile, region_name = region_name)\n",
    "sess = sagemaker.Session(session,default_bucket=bucket)\n",
    "sagemaker_client = session.client('sagemaker')\n",
    "account_id = session.client('sts').get_caller_identity().get('Account')"
   ]
  },
  {
   "cell_type": "markdown",
   "metadata": {
    "heading_collapsed": true
   },
   "source": [
    "## Creates an Amazon Elastic Container Registry (Amazon ECR) repository"
   ]
  },
  {
   "cell_type": "markdown",
   "metadata": {
    "hidden": true
   },
   "source": [
    "This step needs the aws cli installed locally, and sets up the repository to store the docker container to run the script processor with.\n",
    "\n",
    "NOTE: This only needs to be done once!"
   ]
  },
  {
   "cell_type": "code",
   "execution_count": 4,
   "metadata": {
    "hidden": true,
    "tags": []
   },
   "outputs": [
    {
     "output_type": "execute_result",
     "data": {
      "text/plain": "'395166463292.dkr.ecr.us-east-2.amazonaws.com/ss-processing-container-python37:latest'"
     },
     "metadata": {},
     "execution_count": 4
    }
   ],
   "source": [
    "ecr_repository = 'ss-processing-container-python37'\n",
    "tag = ':latest'\n",
    "processing_repository_uri = '{}.dkr.ecr.{}.amazonaws.com/{}'.format(account_id, region_name, ecr_repository + tag)\n",
    "processing_repository_uri"
   ]
  },
  {
   "cell_type": "markdown",
   "metadata": {
    "heading_collapsed": true
   },
   "source": [
    "## Build the container using the docker command and Push to ECR"
   ]
  },
  {
   "cell_type": "code",
   "execution_count": 5,
   "metadata": {
    "hidden": true,
    "tags": []
   },
   "outputs": [
    {
     "output_type": "stream",
     "name": "stdout",
     "text": "\u001b[1A\u001b[1B\u001b[0G\u001b[?25l[+] Building 0.0s (0/2)                                                         \n\u001b[?25h\u001b[1A\u001b[0G\u001b[?25l[+] Building 0.2s (2/3)                                                         \n\u001b[34m => [internal] load .dockerignore                                          0.0s\n\u001b[0m\u001b[34m => => transferring context: 2B                                            0.0s\n\u001b[0m\u001b[34m => [internal] load build definition from Dockerfile                       0.1s\n\u001b[0m\u001b[34m => => transferring dockerfile: 704B                                       0.0s\n\u001b[0m => [internal] load metadata for docker.io/library/python:3.7              0.1s\n\u001b[?25h\u001b[1A\u001b[1A\u001b[1A\u001b[1A\u001b[1A\u001b[1A\u001b[0G\u001b[?25l[+] Building 0.3s (2/3)                                                         \n\u001b[34m => [internal] load .dockerignore                                          0.0s\n\u001b[0m\u001b[34m => => transferring context: 2B                                            0.0s\n\u001b[0m\u001b[34m => [internal] load build definition from Dockerfile                       0.1s\n\u001b[0m\u001b[34m => => transferring dockerfile: 704B                                       0.0s\n\u001b[0m => [internal] load metadata for docker.io/library/python:3.7              0.2s\n\u001b[?25h\u001b[1A\u001b[1A\u001b[1A\u001b[1A\u001b[1A\u001b[1A\u001b[0G\u001b[?25l[+] Building 0.5s (2/3)                                                         \n\u001b[34m => [internal] load .dockerignore                                          0.0s\n\u001b[0m\u001b[34m => => transferring context: 2B                                            0.0s\n\u001b[0m\u001b[34m => [internal] load build definition from Dockerfile                       0.1s\n\u001b[0m\u001b[34m => => transferring dockerfile: 704B                                       0.0s\n\u001b[0m => [internal] load metadata for docker.io/library/python:3.7              0.4s\n\u001b[?25h\u001b[1A\u001b[1A\u001b[1A\u001b[1A\u001b[1A\u001b[1A\u001b[0G\u001b[?25l[+] Building 0.6s (2/3)                                                         \n\u001b[34m => [internal] load .dockerignore                                          0.0s\n\u001b[0m\u001b[34m => => transferring context: 2B                                            0.0s\n\u001b[0m\u001b[34m => [internal] load build definition from Dockerfile                       0.1s\n\u001b[0m\u001b[34m => => transferring dockerfile: 704B                                       0.0s\n\u001b[0m => [internal] load metadata for docker.io/library/python:3.7              0.5s\n\u001b[?25h\u001b[1A\u001b[1A\u001b[1A\u001b[1A\u001b[1A\u001b[1A\u001b[0G\u001b[?25l[+] Building 0.8s (2/3)                                                         \n\u001b[34m => [internal] load .dockerignore                                          0.0s\n\u001b[0m\u001b[34m => => transferring context: 2B                                            0.0s\n\u001b[0m\u001b[34m => [internal] load build definition from Dockerfile                       0.1s\n\u001b[0m\u001b[34m => => transferring dockerfile: 704B                                       0.0s\n\u001b[0m => [internal] load metadata for docker.io/library/python:3.7              0.7s\n\u001b[?25h\u001b[1A\u001b[1A\u001b[1A\u001b[1A\u001b[1A\u001b[1A\u001b[0G\u001b[?25l[+] Building 0.9s (2/3)                                                         \n\u001b[34m => [internal] load .dockerignore                                          0.0s\n\u001b[0m\u001b[34m => => transferring context: 2B                                            0.0s\n\u001b[0m\u001b[34m => [internal] load build definition from Dockerfile                       0.1s\n\u001b[0m\u001b[34m => => transferring dockerfile: 704B                                       0.0s\n\u001b[0m => [internal] load metadata for docker.io/library/python:3.7              0.8s\n\u001b[?25h\u001b[1A\u001b[1A\u001b[1A\u001b[1A\u001b[1A\u001b[1A\u001b[0G\u001b[?25l[+] Building 1.1s (2/3)                                                         \n\u001b[34m => [internal] load .dockerignore                                          0.0s\n\u001b[0m\u001b[34m => => transferring context: 2B                                            0.0s\n\u001b[0m\u001b[34m => [internal] load build definition from Dockerfile                       0.1s\n\u001b[0m\u001b[34m => => transferring dockerfile: 704B                                       0.0s\n\u001b[0m => [internal] load metadata for docker.io/library/python:3.7              1.0s\n\u001b[?25h\u001b[1A\u001b[1A\u001b[1A\u001b[1A\u001b[1A\u001b[1A\u001b[0G\u001b[?25l[+] Building 1.2s (2/3)                                                         \n\u001b[34m => [internal] load .dockerignore                                          0.0s\n\u001b[0m\u001b[34m => => transferring context: 2B                                            0.0s\n\u001b[0m\u001b[34m => [internal] load build definition from Dockerfile                       0.1s\n\u001b[0m\u001b[34m => => transferring dockerfile: 704B                                       0.0s\n\u001b[0m => [internal] load metadata for docker.io/library/python:3.7              1.1s\n\u001b[?25h\u001b[1A\u001b[1A\u001b[1A\u001b[1A\u001b[1A\u001b[1A\u001b[0G\u001b[?25l[+] Building 1.4s (2/3)                                                         \n\u001b[34m => [internal] load .dockerignore                                          0.0s\n\u001b[0m\u001b[34m => => transferring context: 2B                                            0.0s\n\u001b[0m\u001b[34m => [internal] load build definition from Dockerfile                       0.1s\n\u001b[0m\u001b[34m => => transferring dockerfile: 704B                                       0.0s\n\u001b[0m => [internal] load metadata for docker.io/library/python:3.7              1.3s\n\u001b[?25h\u001b[1A\u001b[1A\u001b[1A\u001b[1A\u001b[1A\u001b[1A\u001b[0G\u001b[?25l[+] Building 1.5s (2/3)                                                         \n\u001b[34m => [internal] load .dockerignore                                          0.0s\n\u001b[0m\u001b[34m => => transferring context: 2B                                            0.0s\n\u001b[0m\u001b[34m => [internal] load build definition from Dockerfile                       0.1s\n\u001b[0m\u001b[34m => => transferring dockerfile: 704B                                       0.0s\n\u001b[0m => [internal] load metadata for docker.io/library/python:3.7              1.4s\n\u001b[?25h\u001b[1A\u001b[1A\u001b[1A\u001b[1A\u001b[1A\u001b[1A\u001b[0G\u001b[?25l[+] Building 1.6s (3/3)                                                         \n\u001b[34m => [internal] load .dockerignore                                          0.0s\n\u001b[0m\u001b[34m => => transferring context: 2B                                            0.0s\n\u001b[0m\u001b[34m => [internal] load build definition from Dockerfile                       0.1s\n\u001b[0m\u001b[34m => => transferring dockerfile: 704B                                       0.0s\n\u001b[0m\u001b[34m => [internal] load metadata for docker.io/library/python:3.7              1.5s\n\u001b[0m\u001b[?25h\u001b[1A\u001b[1A\u001b[1A\u001b[1A\u001b[1A\u001b[1A\u001b[0G\u001b[?25l[+] Building 1.7s (10/10) FINISHED                                              \n\u001b[34m => [internal] load .dockerignore                                          0.0s\n\u001b[0m\u001b[34m => => transferring context: 2B                                            0.0s\n\u001b[0m\u001b[34m => [internal] load build definition from Dockerfile                       0.1s\n\u001b[0m\u001b[34m => => transferring dockerfile: 704B                                       0.0s\n\u001b[0m\u001b[34m => [internal] load metadata for docker.io/library/python:3.7              1.5s\n\u001b[0m\u001b[34m => [1/6] FROM docker.io/library/python:3.7@sha256:0bb57c218e452ace5a4d55  0.0s\n\u001b[0m\u001b[34m => CACHED [2/6] RUN apt-get -y update                                     0.0s\n\u001b[0m\u001b[34m => CACHED [3/6] RUN apt-get -y upgrade                                    0.0s\n\u001b[0m\u001b[34m => CACHED [4/6] RUN apt-get install -y libglib2.0-0 libsm6 libxext6 libx  0.0s\n\u001b[0m\u001b[34m => CACHED [5/6] RUN pip3 install pandas==0.25.3 scikit-learn==0.21.3 num  0.0s\n\u001b[0m\u001b[34m => CACHED [6/6] RUN pip install git+https://github.com/lucasb-eyer/pyden  0.0s\n\u001b[0m\u001b[34m => exporting to image                                                     0.1s\n\u001b[0m\u001b[34m => => exporting layers                                                    0.0s\n\u001b[0m\u001b[34m => => writing image sha256:232fc894421b07701bb2ae35da566cdcf2403fe8981a5  0.0s\n\u001b[0m\u001b[34m => => naming to docker.io/library/ss-processing-container-python37        0.0s\n\u001b[0m\u001b[?25h"
    }
   ],
   "source": [
    "!docker build -t $ecr_repository docker"
   ]
  },
  {
   "cell_type": "code",
   "execution_count": 6,
   "metadata": {
    "hidden": true,
    "tags": []
   },
   "outputs": [
    {
     "output_type": "stream",
     "name": "stdout",
     "text": "WARNING! Using --password via the CLI is insecure. Use --password-stdin.\nLogin Succeeded\n{\n    \"repository\": {\n        \"repositoryArn\": \"arn:aws:ecr:us-east-2:395166463292:repository/ss-processing-container-python37\",\n        \"registryId\": \"395166463292\",\n        \"repositoryName\": \"ss-processing-container-python37\",\n        \"repositoryUri\": \"395166463292.dkr.ecr.us-east-2.amazonaws.com/ss-processing-container-python37\",\n        \"createdAt\": 1598630958.0,\n        \"imageTagMutability\": \"MUTABLE\",\n        \"imageScanningConfiguration\": {\n            \"scanOnPush\": false\n        }\n    }\n}\n"
    }
   ],
   "source": [
    "!$(aws ecr get-login --region $region_name --registry-ids $account_id --no-include-email --profile $profile)\n",
    "!aws ecr create-repository --repository-name $ecr_repository --profile $profile"
   ]
  },
  {
   "cell_type": "markdown",
   "metadata": {
    "hidden": true
   },
   "source": [
    "Building the container and pushing into Amazon ECR.\n",
    "\n",
    "NOTE: This only needs to be done once!"
   ]
  },
  {
   "cell_type": "code",
   "execution_count": 7,
   "metadata": {
    "hidden": true,
    "tags": []
   },
   "outputs": [
    {
     "output_type": "stream",
     "name": "stdout",
     "text": "The push refers to repository [395166463292.dkr.ecr.us-east-2.amazonaws.com/ss-processing-container-python37]\n\n\u001b[1B\n\u001b[1B\n\u001b[1B\n\u001b[1B\n\u001b[1B\n\u001b[1B\n\u001b[1B\n\u001b[1B\n\u001b[1B\n\u001b[1B\n\u001b[1B\n\u001b[1B\n\u001b[1B\n\u001b[12Blatest: digest: sha256:9aee0e655c62893eb0da2d10a9071a649648208494198fad24366fba5fc4416a size: 3272\n"
    }
   ],
   "source": [
    "!docker tag {ecr_repository + tag} $processing_repository_uri\n",
    "!docker push $processing_repository_uri"
   ]
  },
  {
   "cell_type": "markdown",
   "metadata": {
    "heading_collapsed": true
   },
   "source": [
    "## Set up the ScriptProcessor from the Amazon SageMaker Python SDK to run the script."
   ]
  },
  {
   "cell_type": "markdown",
   "metadata": {
    "hidden": true
   },
   "source": [
    "Setup ScriptProcessor by pointing it to the docker container we created and specifying the instance count and type that it will run on. The `endpoint` is passed in as an argument."
   ]
  },
  {
   "cell_type": "code",
   "execution_count": 57,
   "metadata": {
    "hidden": true
   },
   "outputs": [],
   "source": [
    "from sagemaker.processing import ScriptProcessor, ProcessingInput, ProcessingOutput\n",
    "script_processor = ScriptProcessor(command=['python3'],\n",
    "                image_uri=processing_repository_uri,\n",
    "                role=role,\n",
    "                instance_count=1,\n",
    "                instance_type='ml.c5.xlarge',\n",
    "                sagemaker_session=sess,\n",
    "                env={'endpoint':'endpointvalues'})"
   ]
  },
  {
   "cell_type": "code",
   "execution_count": 58,
   "metadata": {
    "hidden": true,
    "tags": []
   },
   "outputs": [
    {
     "output_type": "stream",
     "name": "stdout",
     "text": "lss-all-ml-p2-xlarge\n"
    }
   ],
   "source": [
    "endpoints = sagemaker_client.list_endpoints()\n",
    "endpoint = endpoints['Endpoints'][0]['EndpointName']\n",
    "print(endpoint)"
   ]
  },
  {
   "cell_type": "markdown",
   "metadata": {
    "heading_collapsed": true
   },
   "source": [
    "## Run the script in the docker container\n",
    "You can also use existing Docker images, including images that you run on other platforms, such Kubernetes.\n",
    "This will be output into the training folder as `output-1` for the script processor."
   ]
  },
  {
   "cell_type": "code",
   "execution_count": null,
   "metadata": {},
   "outputs": [],
   "source": []
  },
  {
   "cell_type": "code",
   "execution_count": 59,
   "metadata": {
    "hidden": true,
    "tags": [
     "outputPrepend"
    ]
   },
   "outputs": [
    {
     "output_type": "stream",
     "name": "stdout",
     "text": "darray'>\u001b[0m\n\u001b[34m<class 'numpy.ndarray'>\u001b[0m\n\u001b[34m3\u001b[0m\n\u001b[34m<class 'numpy.ndarray'>\u001b[0m\n\u001b[34m<class 'numpy.ndarray'>\u001b[0m\n\u001b[34m4\u001b[0m\n\u001b[34m<class 'numpy.ndarray'>\u001b[0m\n\u001b[34m<class 'numpy.ndarray'>\u001b[0m\n\u001b[34m3\u001b[0m\n\u001b[34m<class 'numpy.ndarray'>\u001b[0m\n\u001b[34m<class 'numpy.ndarray'>\u001b[0m\n\u001b[34m5\u001b[0m\n\u001b[34m<class 'numpy.ndarray'>\u001b[0m\n\u001b[34m<class 'numpy.ndarray'>\u001b[0m\n\u001b[34m5\u001b[0m\n\u001b[34m<class 'numpy.ndarray'>\u001b[0m\n\u001b[34m<class 'numpy.ndarray'>\u001b[0m\n\u001b[34m2\u001b[0m\n\u001b[34m<class 'numpy.ndarray'>\u001b[0m\n\u001b[34m<class 'numpy.ndarray'>\u001b[0m\n\u001b[34m2\u001b[0m\n\u001b[34m<class 'numpy.ndarray'>\u001b[0m\n\u001b[34m<class 'numpy.ndarray'>\u001b[0m\n\u001b[34m2\u001b[0m\n\u001b[34m<class 'numpy.ndarray'>\u001b[0m\n\u001b[34m<class 'numpy.ndarray'>\u001b[0m\n\u001b[34m3\u001b[0m\n\u001b[34m<class 'numpy.ndarray'>\u001b[0m\n\u001b[34m<class 'numpy.ndarray'>\u001b[0m\n\u001b[34m4\u001b[0m\n\u001b[34m<class 'numpy.ndarray'>\u001b[0m\n\u001b[34m<class 'numpy.ndarray'>\u001b[0m\n\u001b[34m5\u001b[0m\n\u001b[34m<class 'numpy.ndarray'>\u001b[0m\n\u001b[34m<class 'numpy.ndarray'>\u001b[0m\n\u001b[34m5\u001b[0m\n\u001b[34m<class 'numpy.ndarray'>\u001b[0m\n\u001b[34m<class 'numpy.ndarray'>\u001b[0m\n\u001b[34m4\u001b[0m\n\u001b[34m<class 'numpy.ndarray'>\u001b[0m\n\u001b[34m<class 'numpy.ndarray'>\u001b[0m\n\u001b[34m3\u001b[0m\n\u001b[34m<class 'numpy.ndarray'>\u001b[0m\n\u001b[34m<class 'numpy.ndarray'>\u001b[0m\n\u001b[34m3\u001b[0m\n\u001b[34m<class 'numpy.ndarray'>\u001b[0m\n\u001b[34m<class 'numpy.ndarray'>\u001b[0m\n\u001b[34m3\u001b[0m\n\u001b[34m<class 'numpy.ndarray'>\u001b[0m\n\u001b[34m<class 'numpy.ndarray'>\u001b[0m\n\u001b[34m4\u001b[0m\n\u001b[34m<class 'numpy.ndarray'>\u001b[0m\n\u001b[34m<class 'numpy.ndarray'>\u001b[0m\n\u001b[34m4\u001b[0m\n\u001b[34m<class 'numpy.ndarray'>\u001b[0m\n\u001b[34m<class 'numpy.ndarray'>\u001b[0m\n\u001b[34m2\u001b[0m\n\u001b[34m<class 'numpy.ndarray'>\u001b[0m\n\u001b[34m<class 'numpy.ndarray'>\u001b[0m\n\u001b[34m2\u001b[0m\n\u001b[34m<class 'numpy.ndarray'>\u001b[0m\n\u001b[34m<class 'numpy.ndarray'>\u001b[0m\n\u001b[34m5\u001b[0m\n\u001b[34m<class 'numpy.ndarray'>\u001b[0m\n\u001b[34m<class 'numpy.ndarray'>\u001b[0m\n\u001b[34m4\u001b[0m\n\u001b[34m<class 'numpy.ndarray'>\u001b[0m\n\u001b[34m<class 'numpy.ndarray'>\u001b[0m\n\u001b[34m3\u001b[0m\n\u001b[34m<class 'numpy.ndarray'>\u001b[0m\n\u001b[34m<class 'numpy.ndarray'>\u001b[0m\n\u001b[34m3\u001b[0m\n\u001b[34m<class 'numpy.ndarray'>\u001b[0m\n\u001b[34m<class 'numpy.ndarray'>\u001b[0m\n\u001b[34m2\u001b[0m\n\u001b[34m<class 'numpy.ndarray'>\u001b[0m\n\u001b[34m<class 'numpy.ndarray'>\u001b[0m\n\u001b[34m4\u001b[0m\n\u001b[34m<class 'numpy.ndarray'>\u001b[0m\n\u001b[34m<class 'numpy.ndarray'>\u001b[0m\n\u001b[34m4\u001b[0m\n\u001b[34m<class 'numpy.ndarray'>\u001b[0m\n\u001b[34m<class 'numpy.ndarray'>\u001b[0m\n\u001b[34m4\u001b[0m\n\u001b[34m<class 'numpy.ndarray'>\u001b[0m\n\u001b[34m<class 'numpy.ndarray'>\u001b[0m\n\u001b[34m<class 'numpy.ndarray'>\u001b[0m\n\u001b[34m<class 'numpy.ndarray'>\u001b[0m\n\u001b[34m<class 'numpy.ndarray'>\u001b[0m\n\u001b[34m<class 'numpy.ndarray'>\u001b[0m\n\u001b[34m4\u001b[0m\n\u001b[34m<class 'numpy.ndarray'>\u001b[0m\n\u001b[34m<class 'numpy.ndarray'>\u001b[0m\n\u001b[34m3\u001b[0m\n\u001b[34m<class 'numpy.ndarray'>\u001b[0m\n\u001b[34m<class 'numpy.ndarray'>\u001b[0m\n\u001b[34m4\u001b[0m\n\u001b[34m<class 'numpy.ndarray'>\u001b[0m\n\u001b[34m<class 'numpy.ndarray'>\u001b[0m\n\u001b[34m<class 'numpy.ndarray'>\u001b[0m\n\u001b[34m<class 'numpy.ndarray'>\u001b[0m\n\u001b[34m3\u001b[0m\n\u001b[34m<class 'numpy.ndarray'>\u001b[0m\n\u001b[34m<class 'numpy.ndarray'>\u001b[0m\n\u001b[34m3\u001b[0m\n\u001b[34m<class 'numpy.ndarray'>\u001b[0m\n\u001b[34m<class 'numpy.ndarray'>\u001b[0m\n\u001b[34m2\u001b[0m\n\u001b[34m<class 'numpy.ndarray'>\u001b[0m\n\u001b[34m<class 'numpy.ndarray'>\u001b[0m\n\u001b[34m4\u001b[0m\n\u001b[34m<class 'numpy.ndarray'>\u001b[0m\n\u001b[34m<class 'numpy.ndarray'>\u001b[0m\n\u001b[34m2\u001b[0m\n\u001b[34m<class 'numpy.ndarray'>\u001b[0m\n\u001b[34m<class 'numpy.ndarray'>\u001b[0m\n\u001b[34m5\u001b[0m\n\u001b[34m<class 'numpy.ndarray'>\u001b[0m\n\u001b[34m<class 'numpy.ndarray'>\u001b[0m\n\u001b[34m4\u001b[0m\n\u001b[34m<class 'numpy.ndarray'>\u001b[0m\n\u001b[34m<class 'numpy.ndarray'>\u001b[0m\n\u001b[34m2\u001b[0m\n\u001b[34m<class 'numpy.ndarray'>\u001b[0m\n\u001b[34m<class 'numpy.ndarray'>\u001b[0m\n\u001b[34m3\u001b[0m\n\u001b[34m<class 'numpy.ndarray'>\u001b[0m\n\u001b[34m<class 'numpy.ndarray'>\u001b[0m\n\u001b[34m2\u001b[0m\n\u001b[34m<class 'numpy.ndarray'>\u001b[0m\n\u001b[34m<class 'numpy.ndarray'>\u001b[0m\n\u001b[34m3\u001b[0m\n\u001b[34m<class 'numpy.ndarray'>\u001b[0m\n\u001b[34m<class 'numpy.ndarray'>\u001b[0m\n\u001b[34m4\u001b[0m\n\u001b[34m<class 'numpy.ndarray'>\u001b[0m\n\u001b[34m<class 'numpy.ndarray'>\u001b[0m\n\u001b[34m<class 'numpy.ndarray'>\u001b[0m\n\u001b[34m<class 'numpy.ndarray'>\u001b[0m\n\u001b[34m5\u001b[0m\n\u001b[34m<class 'numpy.ndarray'>\u001b[0m\n\u001b[34m<class 'numpy.ndarray'>\u001b[0m\n\u001b[34m3\u001b[0m\n\u001b[34m<class 'numpy.ndarray'>\u001b[0m\n\u001b[34m<class 'numpy.ndarray'>\u001b[0m\n\u001b[34m3\u001b[0m\n\u001b[34m<class 'numpy.ndarray'>\u001b[0m\n\u001b[34m<class 'numpy.ndarray'>\u001b[0m\n\u001b[34m3\u001b[0m\n\u001b[34m<class 'numpy.ndarray'>\u001b[0m\n\u001b[34m<class 'numpy.ndarray'>\u001b[0m\n\u001b[34m4\u001b[0m\n\u001b[34m<class 'numpy.ndarray'>\u001b[0m\n\u001b[34m<class 'numpy.ndarray'>\u001b[0m\n\u001b[34m4\u001b[0m\n\u001b[34m<class 'numpy.ndarray'>\u001b[0m\n\u001b[34m<class 'numpy.ndarray'>\u001b[0m\n\u001b[34m6\u001b[0m\n\u001b[34m<class 'numpy.ndarray'>\u001b[0m\n\u001b[34m<class 'numpy.ndarray'>\u001b[0m\n\u001b[34m3\u001b[0m\n\u001b[34m<class 'numpy.ndarray'>\u001b[0m\n\u001b[34m<class 'numpy.ndarray'>\u001b[0m\n\u001b[34m3\u001b[0m\n\u001b[34m<class 'numpy.ndarray'>\u001b[0m\n\u001b[34m<class 'numpy.ndarray'>\u001b[0m\n\u001b[34m6\u001b[0m\n\u001b[34m<class 'numpy.ndarray'>\u001b[0m\n\u001b[34m<class 'numpy.ndarray'>\u001b[0m\n\u001b[34m4\u001b[0m\n\u001b[34m<class 'numpy.ndarray'>\u001b[0m\n\u001b[34m<class 'numpy.ndarray'>\u001b[0m\n\u001b[34m3\u001b[0m\n\u001b[34m<class 'numpy.ndarray'>\u001b[0m\n\u001b[34m<class 'numpy.ndarray'>\u001b[0m\n\u001b[34m5\u001b[0m\n\u001b[34m<class 'numpy.ndarray'>\u001b[0m\n\u001b[34m<class 'numpy.ndarray'>\u001b[0m\n\u001b[34m5\u001b[0m\n\u001b[34m<class 'numpy.ndarray'>\u001b[0m\n\u001b[34m<class 'numpy.ndarray'>\u001b[0m\n\u001b[34m5\u001b[0m\n\u001b[34m<class 'numpy.ndarray'>\u001b[0m\n\u001b[34m<class 'numpy.ndarray'>\u001b[0m\n\u001b[34m2\u001b[0m\n\u001b[34m<class 'numpy.ndarray'>\u001b[0m\n\u001b[34m<class 'numpy.ndarray'>\u001b[0m\n\u001b[34m5\u001b[0m\n\u001b[34m<class 'numpy.ndarray'>\u001b[0m\n\u001b[34m<class 'numpy.ndarray'>\u001b[0m\n\u001b[34m5\u001b[0m\n\u001b[34m<class 'numpy.ndarray'>\u001b[0m\n\u001b[34m<class 'numpy.ndarray'>\u001b[0m\n\u001b[34m6\u001b[0m\n\u001b[34m<class 'numpy.ndarray'>\u001b[0m\n\u001b[34m<class 'numpy.ndarray'>\u001b[0m\n\u001b[34m3\u001b[0m\n\u001b[34m<class 'numpy.ndarray'>\u001b[0m\n\u001b[34m<class 'numpy.ndarray'>\u001b[0m\n\u001b[34m3\u001b[0m\n\u001b[34m<class 'numpy.ndarray'>\u001b[0m\n\u001b[34m<class 'numpy.ndarray'>\u001b[0m\n\u001b[34m6\u001b[0m\n\u001b[34m<class 'numpy.ndarray'>\u001b[0m\n\u001b[34m<class 'numpy.ndarray'>\u001b[0m\n\u001b[34m6\u001b[0m\n\u001b[34m<class 'numpy.ndarray'>\u001b[0m\n\u001b[34m<class 'numpy.ndarray'>\u001b[0m\n\u001b[34m6\u001b[0m\n\u001b[34m<class 'numpy.ndarray'>\u001b[0m\n\u001b[34m<class 'numpy.ndarray'>\u001b[0m\n\u001b[34m4\u001b[0m\n\u001b[34m<class 'numpy.ndarray'>\u001b[0m\n\u001b[34m<class 'numpy.ndarray'>\u001b[0m\n\u001b[34m6\u001b[0m\n\u001b[34m<class 'numpy.ndarray'>\u001b[0m\n\u001b[34m<class 'numpy.ndarray'>\u001b[0m\n\u001b[34m3\u001b[0m\n\u001b[34m<class 'numpy.ndarray'>\u001b[0m\n\u001b[34m<class 'numpy.ndarray'>\u001b[0m\n\u001b[34m2\u001b[0m\n\u001b[34m<class 'numpy.ndarray'>\u001b[0m\n\u001b[34m<class 'numpy.ndarray'>\u001b[0m\n\u001b[34m3\u001b[0m\n\u001b[34m<class 'numpy.ndarray'>\u001b[0m\n\u001b[34m<class 'numpy.ndarray'>\u001b[0m\n\u001b[34m4\u001b[0m\n\u001b[34m<class 'numpy.ndarray'>\u001b[0m\n\u001b[34m<class 'numpy.ndarray'>\u001b[0m\n\u001b[34m3\u001b[0m\n\u001b[34m<class 'numpy.ndarray'>\u001b[0m\n\u001b[34m<class 'numpy.ndarray'>\u001b[0m\n\u001b[34m2\u001b[0m\n\u001b[34m<class 'numpy.ndarray'>\u001b[0m\n\u001b[34m<class 'numpy.ndarray'>\u001b[0m\n\u001b[34m<class 'numpy.ndarray'>\u001b[0m\n\u001b[34m<class 'numpy.ndarray'>\u001b[0m\n\u001b[34m5\u001b[0m\n\u001b[34m<class 'numpy.ndarray'>\u001b[0m\n\u001b[34m<class 'numpy.ndarray'>\u001b[0m\n\u001b[34m<class 'numpy.ndarray'>\u001b[0m\n\u001b[34m<class 'numpy.ndarray'>\u001b[0m\n\u001b[34m3\u001b[0m\n\u001b[34m<class 'numpy.ndarray'>\u001b[0m\n\u001b[34m<class 'numpy.ndarray'>\u001b[0m\n\u001b[34m<class 'numpy.ndarray'>\u001b[0m\n\u001b[34m<class 'numpy.ndarray'>\u001b[0m\n\u001b[34m2\u001b[0m\n\u001b[34m<class 'numpy.ndarray'>\u001b[0m\n\u001b[34m<class 'numpy.ndarray'>\u001b[0m\n\u001b[34m<class 'numpy.ndarray'>\u001b[0m\n\u001b[34m<class 'numpy.ndarray'>\u001b[0m\n\u001b[34m6\u001b[0m\n\u001b[34m<class 'numpy.ndarray'>\u001b[0m\n\u001b[34m<class 'numpy.ndarray'>\u001b[0m\n\u001b[34m6\u001b[0m\n\u001b[34m<class 'numpy.ndarray'>\u001b[0m\n\u001b[34m<class 'numpy.ndarray'>\u001b[0m\n\u001b[34m5\u001b[0m\n\u001b[34m<class 'numpy.ndarray'>\u001b[0m\n\u001b[34m<class 'numpy.ndarray'>\u001b[0m\n\u001b[34m<class 'numpy.ndarray'>\u001b[0m\n\u001b[34m<class 'numpy.ndarray'>\u001b[0m\n\u001b[34m6\u001b[0m\n\u001b[34m<class 'numpy.ndarray'>\u001b[0m\n\u001b[34m<class 'numpy.ndarray'>\u001b[0m\n\u001b[34m5\u001b[0m\n\u001b[34m<class 'numpy.ndarray'>\u001b[0m\n\u001b[34m<class 'numpy.ndarray'>\u001b[0m\n\u001b[34m4\u001b[0m\n\u001b[34m<class 'numpy.ndarray'>\u001b[0m\n\u001b[34m<class 'numpy.ndarray'>\u001b[0m\n\u001b[34m5\u001b[0m\n\u001b[34m<class 'numpy.ndarray'>\u001b[0m\n\u001b[34m<class 'numpy.ndarray'>\u001b[0m\n\u001b[34m6\u001b[0m\n\u001b[34m<class 'numpy.ndarray'>\u001b[0m\n\u001b[34m<class 'numpy.ndarray'>\u001b[0m\n\u001b[34m6\u001b[0m\n\u001b[34m<class 'numpy.ndarray'>\u001b[0m\n\u001b[34m<class 'numpy.ndarray'>\u001b[0m\n\u001b[34m2\u001b[0m\n\u001b[34m<class 'numpy.ndarray'>\u001b[0m\n\u001b[34m<class 'numpy.ndarray'>\u001b[0m\n\u001b[34m3\u001b[0m\n\u001b[34m<class 'numpy.ndarray'>\u001b[0m\n\u001b[34m<class 'numpy.ndarray'>\u001b[0m\n\u001b[34m3\u001b[0m\n\u001b[34m<class 'numpy.ndarray'>\u001b[0m\n\u001b[34m<class 'numpy.ndarray'>\u001b[0m\n\u001b[34m3\u001b[0m\n\u001b[34m<class 'numpy.ndarray'>\u001b[0m\n\u001b[34m<class 'numpy.ndarray'>\u001b[0m\n\u001b[34m6\u001b[0m\n\u001b[34m<class 'numpy.ndarray'>\u001b[0m\n\u001b[34m<class 'numpy.ndarray'>\u001b[0m\n\u001b[34m2\u001b[0m\n\u001b[34m<class 'numpy.ndarray'>\u001b[0m\n\u001b[34m<class 'numpy.ndarray'>\u001b[0m\n\u001b[34m3\u001b[0m\n\u001b[34m<class 'numpy.ndarray'>\u001b[0m\n\u001b[34m<class 'numpy.ndarray'>\u001b[0m\n\u001b[34m3\u001b[0m\n\u001b[34m<class 'numpy.ndarray'>\u001b[0m\n\u001b[34m<class 'numpy.ndarray'>\u001b[0m\n\u001b[34m5\u001b[0m\n\u001b[34m<class 'numpy.ndarray'>\u001b[0m\n\u001b[34m<class 'numpy.ndarray'>\u001b[0m\n\u001b[34m2\u001b[0m\n\u001b[34m<class 'numpy.ndarray'>\u001b[0m\n\u001b[34m<class 'numpy.ndarray'>\u001b[0m\n\u001b[34m4\u001b[0m\n\u001b[34m<class 'numpy.ndarray'>\u001b[0m\n\u001b[34m<class 'numpy.ndarray'>\u001b[0m\n\u001b[34m5\u001b[0m\n\u001b[34m<class 'numpy.ndarray'>\u001b[0m\n\u001b[34m<class 'numpy.ndarray'>\u001b[0m\n\u001b[34m4\u001b[0m\n\u001b[34m<class 'numpy.ndarray'>\u001b[0m\n\u001b[34m<class 'numpy.ndarray'>\u001b[0m\n\u001b[34m2\u001b[0m\n\u001b[34m<class 'numpy.ndarray'>\u001b[0m\n\u001b[34m<class 'numpy.ndarray'>\u001b[0m\n\u001b[34m3\u001b[0m\n\u001b[34m<class 'numpy.ndarray'>\u001b[0m\n\u001b[34m<class 'numpy.ndarray'>\u001b[0m\n\u001b[34m5\u001b[0m\n\u001b[34m<class 'numpy.ndarray'>\u001b[0m\n\u001b[34m<class 'numpy.ndarray'>\u001b[0m\n\u001b[34m6\u001b[0m\n\u001b[34m<class 'numpy.ndarray'>\u001b[0m\n\u001b[34m<class 'numpy.ndarray'>\u001b[0m\n\u001b[34m3\u001b[0m\n\u001b[34m<class 'numpy.ndarray'>\u001b[0m\n\u001b[34m<class 'numpy.ndarray'>\u001b[0m\n\u001b[34m4\u001b[0m\n\u001b[34m<class 'numpy.ndarray'>\u001b[0m\n\u001b[34m<class 'numpy.ndarray'>\u001b[0m\n\u001b[34m5\u001b[0m\n\u001b[34m<class 'numpy.ndarray'>\u001b[0m\n\u001b[34m<class 'numpy.ndarray'>\u001b[0m\n\u001b[34m5\u001b[0m\n\u001b[34m<class 'numpy.ndarray'>\u001b[0m\n\u001b[34m<class 'numpy.ndarray'>\u001b[0m\n\u001b[34m5\u001b[0m\n\u001b[34m<class 'numpy.ndarray'>\u001b[0m\n\u001b[34m<class 'numpy.ndarray'>\u001b[0m\n\u001b[34m5\u001b[0m\n\u001b[34m<class 'numpy.ndarray'>\u001b[0m\n\u001b[34m<class 'numpy.ndarray'>\u001b[0m\n\u001b[34m5\u001b[0m\n\u001b[34m<class 'numpy.ndarray'>\u001b[0m\n\u001b[34m<class 'numpy.ndarray'>\u001b[0m\n\u001b[34m5\u001b[0m\n\u001b[34m<class 'numpy.ndarray'>\u001b[0m\n\u001b[34m<class 'numpy.ndarray'>\u001b[0m\n\u001b[34m5\u001b[0m\n\u001b[34m<class 'numpy.ndarray'>\u001b[0m\n\u001b[34m<class 'numpy.ndarray'>\u001b[0m\n\u001b[34m5\u001b[0m\n\u001b[34m<class 'numpy.ndarray'>\u001b[0m\n\u001b[34m<class 'numpy.ndarray'>\u001b[0m\n\u001b[34m3\u001b[0m\n\u001b[34m<class 'numpy.ndarray'>\u001b[0m\n\u001b[34m<class 'numpy.ndarray'>\u001b[0m\n\u001b[34m5\u001b[0m\n\u001b[34m<class 'numpy.ndarray'>\u001b[0m\n\u001b[34m<class 'numpy.ndarray'>\u001b[0m\n\u001b[34m3\u001b[0m\n\u001b[34m<class 'numpy.ndarray'>\u001b[0m\n\u001b[34m<class 'numpy.ndarray'>\u001b[0m\n\u001b[34m4\u001b[0m\n\u001b[34m<class 'numpy.ndarray'>\u001b[0m\n\u001b[34m<class 'numpy.ndarray'>\u001b[0m\n\u001b[34m2\u001b[0m\n\u001b[34m<class 'numpy.ndarray'>\u001b[0m\n\u001b[34m<class 'numpy.ndarray'>\u001b[0m\n\u001b[34m2\u001b[0m\n\u001b[34m<class 'numpy.ndarray'>\u001b[0m\n\u001b[34m<class 'numpy.ndarray'>\u001b[0m\n\u001b[34m5\u001b[0m\n\u001b[34m<class 'numpy.ndarray'>\u001b[0m\n\u001b[34m<class 'numpy.ndarray'>\u001b[0m\n\u001b[34m6\u001b[0m\n\u001b[34m<class 'numpy.ndarray'>\u001b[0m\n\u001b[34m<class 'numpy.ndarray'>\u001b[0m\n\u001b[34m<class 'numpy.ndarray'>\u001b[0m\n\u001b[34m<class 'numpy.ndarray'>\u001b[0m\n\u001b[34m2\u001b[0m\n\u001b[34m<class 'numpy.ndarray'>\u001b[0m\n\u001b[34m<class 'numpy.ndarray'>\u001b[0m\n\u001b[34m3\u001b[0m\n\u001b[34m<class 'numpy.ndarray'>\u001b[0m\n\u001b[34m<class 'numpy.ndarray'>\u001b[0m\n\u001b[34m5\u001b[0m\n\u001b[34m<class 'numpy.ndarray'>\u001b[0m\n\u001b[34m<class 'numpy.ndarray'>\u001b[0m\n\u001b[34m6\u001b[0m\n\u001b[34m<class 'numpy.ndarray'>\u001b[0m\n\u001b[34m<class 'numpy.ndarray'>\u001b[0m\n\u001b[34m6\u001b[0m\n\u001b[34m<class 'numpy.ndarray'>\u001b[0m\n\u001b[34m<class 'numpy.ndarray'>\u001b[0m\n\u001b[34m5\u001b[0m\n\u001b[34m<class 'numpy.ndarray'>\u001b[0m\n\u001b[34m<class 'numpy.ndarray'>\u001b[0m\n\u001b[34m6\u001b[0m\n\u001b[34m<class 'numpy.ndarray'>\u001b[0m\n\u001b[34m<class 'numpy.ndarray'>\u001b[0m\n\u001b[34m2\u001b[0m\n\u001b[34m<class 'numpy.ndarray'>\u001b[0m\n\u001b[34m<class 'numpy.ndarray'>\u001b[0m\n\u001b[34m3\u001b[0m\n\u001b[34m<class 'numpy.ndarray'>\u001b[0m\n\u001b[34m<class 'numpy.ndarray'>\u001b[0m\n\u001b[34m<class 'numpy.ndarray'>\u001b[0m\n\u001b[34m<class 'numpy.ndarray'>\u001b[0m\n\u001b[34m5\u001b[0m\n\u001b[34m<class 'numpy.ndarray'>\u001b[0m\n\u001b[34m<class 'numpy.ndarray'>\u001b[0m\n\u001b[34m5\u001b[0m\n\u001b[34m<class 'numpy.ndarray'>\u001b[0m\n\u001b[34m<class 'numpy.ndarray'>\u001b[0m\n\u001b[34m4\u001b[0m\n\u001b[34m<class 'numpy.ndarray'>\u001b[0m\n\u001b[34m<class 'numpy.ndarray'>\u001b[0m\n\u001b[34m2\u001b[0m\n\u001b[34m<class 'numpy.ndarray'>\u001b[0m\n\u001b[34m<class 'numpy.ndarray'>\u001b[0m\n\u001b[34m2\u001b[0m\n\u001b[34m<class 'numpy.ndarray'>\u001b[0m\n\u001b[34m<class 'numpy.ndarray'>\u001b[0m\n\u001b[34m3\u001b[0m\n\u001b[34m<class 'numpy.ndarray'>\u001b[0m\n\u001b[34m<class 'numpy.ndarray'>\u001b[0m\n\u001b[34m6\u001b[0m\n\u001b[34m<class 'numpy.ndarray'>\u001b[0m\n\u001b[34m<class 'numpy.ndarray'>\u001b[0m\n\u001b[34m4\u001b[0m\n\u001b[34m<class 'numpy.ndarray'>\u001b[0m\n\u001b[34m<class 'numpy.ndarray'>\u001b[0m\n\u001b[34m3\u001b[0m\n\u001b[34m<class 'numpy.ndarray'>\u001b[0m\n\u001b[34m<class 'numpy.ndarray'>\u001b[0m\n\u001b[34m4\u001b[0m\n\u001b[34m<class 'numpy.ndarray'>\u001b[0m\n\u001b[34m<class 'numpy.ndarray'>\u001b[0m\n\u001b[34m6\u001b[0m\n\u001b[34m<class 'numpy.ndarray'>\u001b[0m\n\u001b[34m<class 'numpy.ndarray'>\u001b[0m\n\u001b[34m4\u001b[0m\n\u001b[34m<class 'numpy.ndarray'>\u001b[0m\n\u001b[34m<class 'numpy.ndarray'>\u001b[0m\n\u001b[34m4\u001b[0m\n\u001b[34m<class 'numpy.ndarray'>\u001b[0m\n\u001b[34m<class 'numpy.ndarray'>\u001b[0m\n\u001b[34m4\u001b[0m\n\u001b[34m<class 'numpy.ndarray'>\u001b[0m\n\u001b[34m<class 'numpy.ndarray'>\u001b[0m\n\u001b[34m5\u001b[0m\n\u001b[34m<class 'numpy.ndarray'>\u001b[0m\n\u001b[34m<class 'numpy.ndarray'>\u001b[0m\n\u001b[34m3\u001b[0m\n\u001b[34m<class 'numpy.ndarray'>\u001b[0m\n\u001b[34m<class 'numpy.ndarray'>\u001b[0m\n\u001b[34m4\u001b[0m\n\u001b[34m<class 'numpy.ndarray'>\u001b[0m\n\u001b[34m<class 'numpy.ndarray'>\u001b[0m\n\u001b[34m5\u001b[0m\n\u001b[34m<class 'numpy.ndarray'>\u001b[0m\n\u001b[34m<class 'numpy.ndarray'>\u001b[0m\n\u001b[34m5\u001b[0m\n\u001b[34m<class 'numpy.ndarray'>\u001b[0m\n\u001b[34m<class 'numpy.ndarray'>\u001b[0m\n\u001b[34m2\u001b[0m\n\u001b[34m<class 'numpy.ndarray'>\u001b[0m\n\u001b[34m<class 'numpy.ndarray'>\u001b[0m\n\u001b[34m4\u001b[0m\n\u001b[34m<class 'numpy.ndarray'>\u001b[0m\n\u001b[34m<class 'numpy.ndarray'>\u001b[0m\n\u001b[34m4\u001b[0m\n\u001b[34m<class 'numpy.ndarray'>\u001b[0m\n\u001b[34m<class 'numpy.ndarray'>\u001b[0m\n\u001b[34m2\u001b[0m\n\u001b[34m<class 'numpy.ndarray'>\u001b[0m\n\u001b[34m<class 'numpy.ndarray'>\u001b[0m\n\u001b[34m3\u001b[0m\n\u001b[34m<class 'numpy.ndarray'>\u001b[0m\n\u001b[34m<class 'numpy.ndarray'>\u001b[0m\n\u001b[34m6\u001b[0m\n\u001b[34m<class 'numpy.ndarray'>\u001b[0m\n\u001b[34m<class 'numpy.ndarray'>\u001b[0m\n\u001b[34m6\u001b[0m\n\u001b[34m<class 'numpy.ndarray'>\u001b[0m\n\u001b[34m<class 'numpy.ndarray'>\u001b[0m\n\u001b[34m2\u001b[0m\n\u001b[34m<class 'numpy.ndarray'>\u001b[0m\n\u001b[34m<class 'numpy.ndarray'>\u001b[0m\n\u001b[34m<class 'numpy.ndarray'>\u001b[0m\n\u001b[34m<class 'numpy.ndarray'>\u001b[0m\n\u001b[34m<class 'numpy.ndarray'>\u001b[0m\n\u001b[34m<class 'numpy.ndarray'>\u001b[0m\n\u001b[34m6\u001b[0m\n\u001b[34m<class 'numpy.ndarray'>\u001b[0m\n\u001b[34m<class 'numpy.ndarray'>\u001b[0m\n\u001b[34m5\u001b[0m\n\u001b[34m<class 'numpy.ndarray'>\u001b[0m\n\u001b[34m<class 'numpy.ndarray'>\u001b[0m\n\u001b[34m2\u001b[0m\n\u001b[34m<class 'numpy.ndarray'>\u001b[0m\n\u001b[34m<class 'numpy.ndarray'>\u001b[0m\n\u001b[34m<class 'numpy.ndarray'>\u001b[0m\n\u001b[34m<class 'numpy.ndarray'>\u001b[0m\n\u001b[34m3\u001b[0m\n\u001b[34m<class 'numpy.ndarray'>\u001b[0m\n\u001b[34m<class 'numpy.ndarray'>\u001b[0m\n\u001b[34m6\u001b[0m\n\u001b[34m<class 'numpy.ndarray'>\u001b[0m\n\u001b[34m<class 'numpy.ndarray'>\u001b[0m\n\u001b[34m4\u001b[0m\n\u001b[34m<class 'numpy.ndarray'>\u001b[0m\n\u001b[34m<class 'numpy.ndarray'>\u001b[0m\n\u001b[34m<class 'numpy.ndarray'>\u001b[0m\n\u001b[34m<class 'numpy.ndarray'>\u001b[0m\n\u001b[34m4\u001b[0m\n\u001b[34m<class 'numpy.ndarray'>\u001b[0m\n\u001b[34m<class 'numpy.ndarray'>\u001b[0m\n\u001b[34m6\u001b[0m\n\u001b[34m<class 'numpy.ndarray'>\u001b[0m\n\u001b[34m<class 'numpy.ndarray'>\u001b[0m\n\u001b[34m2\u001b[0m\n\u001b[34m<class 'numpy.ndarray'>\u001b[0m\n\u001b[34m<class 'numpy.ndarray'>\u001b[0m\n\u001b[34m4\u001b[0m\n\u001b[34m<class 'numpy.ndarray'>\u001b[0m\n\u001b[34m<class 'numpy.ndarray'>\u001b[0m\n\u001b[34m4\u001b[0m\n\u001b[34m<class 'numpy.ndarray'>\u001b[0m\n\u001b[34m<class 'numpy.ndarray'>\u001b[0m\n\u001b[34m5\u001b[0m\n\u001b[34m<class 'numpy.ndarray'>\u001b[0m\n\u001b[34m<class 'numpy.ndarray'>\u001b[0m\n\u001b[34m4\u001b[0m\n\u001b[34m<class 'numpy.ndarray'>\u001b[0m\n\u001b[34m<class 'numpy.ndarray'>\u001b[0m\n\u001b[34m6\u001b[0m\n\u001b[34m<class 'numpy.ndarray'>\u001b[0m\n\u001b[34m<class 'numpy.ndarray'>\u001b[0m\n\u001b[34m4\u001b[0m\n\u001b[34m<class 'numpy.ndarray'>\u001b[0m\n\u001b[34m<class 'numpy.ndarray'>\u001b[0m\n\u001b[34m3\u001b[0m\n\u001b[34m<class 'numpy.ndarray'>\u001b[0m\n\u001b[34m<class 'numpy.ndarray'>\u001b[0m\n\u001b[34m5\u001b[0m\n\u001b[34m<class 'numpy.ndarray'>\u001b[0m\n\u001b[34m<class 'numpy.ndarray'>\u001b[0m\n\u001b[34m5\u001b[0m\n\u001b[34m<class 'numpy.ndarray'>\u001b[0m\n\u001b[34m<class 'numpy.ndarray'>\u001b[0m\n\u001b[34m2\u001b[0m\n\u001b[34m<class 'numpy.ndarray'>\u001b[0m\n\u001b[34m<class 'numpy.ndarray'>\u001b[0m\n\u001b[34m3\u001b[0m\n\u001b[34m<class 'numpy.ndarray'>\u001b[0m\n\u001b[34m<class 'numpy.ndarray'>\u001b[0m\n\u001b[34m6\u001b[0m\n\u001b[34m<class 'numpy.ndarray'>\u001b[0m\n\u001b[34m<class 'numpy.ndarray'>\u001b[0m\n\u001b[34m6\u001b[0m\n\u001b[34m<class 'numpy.ndarray'>\u001b[0m\n\u001b[34m<class 'numpy.ndarray'>\u001b[0m\n\u001b[34m4\u001b[0m\n\u001b[34m<class 'numpy.ndarray'>\u001b[0m\n\u001b[34m<class 'numpy.ndarray'>\u001b[0m\n\u001b[34m5\u001b[0m\n\u001b[34m<class 'numpy.ndarray'>\u001b[0m\n\u001b[34m<class 'numpy.ndarray'>\u001b[0m\n\u001b[34m2\u001b[0m\n\u001b[34m<class 'numpy.ndarray'>\u001b[0m\n\u001b[34m<class 'numpy.ndarray'>\u001b[0m\n\u001b[34m2\u001b[0m\n\u001b[34m<class 'numpy.ndarray'>\u001b[0m\n\u001b[34m<class 'numpy.ndarray'>\u001b[0m\n\u001b[34m2\u001b[0m\n\u001b[34m<class 'numpy.ndarray'>\u001b[0m\n\u001b[34m<class 'numpy.ndarray'>\u001b[0m\n\u001b[34m4\u001b[0m\n\u001b[34m<class 'numpy.ndarray'>\u001b[0m\n\u001b[34m<class 'numpy.ndarray'>\u001b[0m\n\u001b[34m<class 'numpy.ndarray'>\u001b[0m\n\u001b[34m<class 'numpy.ndarray'>\u001b[0m\n\u001b[34m<class 'numpy.ndarray'>\u001b[0m\n\u001b[34m<class 'numpy.ndarray'>\u001b[0m\n\u001b[34m<class 'numpy.ndarray'>\u001b[0m\n\u001b[34m<class 'numpy.ndarray'>\u001b[0m\n\u001b[34m<class 'numpy.ndarray'>\u001b[0m\n\u001b[34m<class 'numpy.ndarray'>\u001b[0m\n\u001b[34m<class 'numpy.ndarray'>\u001b[0m\n\u001b[34m<class 'numpy.ndarray'>\u001b[0m\n\u001b[34m<class 'numpy.ndarray'>\u001b[0m\n\u001b[34m<class 'numpy.ndarray'>\u001b[0m\n\u001b[34m<class 'numpy.ndarray'>\u001b[0m\n\u001b[34m<class 'numpy.ndarray'>\u001b[0m\n\u001b[34m<class 'numpy.ndarray'>\u001b[0m\n\u001b[34m<class 'numpy.ndarray'>\u001b[0m\n\u001b[34m<class 'numpy.ndarray'>\u001b[0m\n\u001b[34m<class 'numpy.ndarray'>\u001b[0m\n\u001b[34m2\u001b[0m\n\u001b[34m<class 'numpy.ndarray'>\u001b[0m\n\u001b[34m<class 'numpy.ndarray'>\u001b[0m\n\u001b[34m5\u001b[0m\n\u001b[34m<class 'numpy.ndarray'>\u001b[0m\n\u001b[34m<class 'numpy.ndarray'>\u001b[0m\n\u001b[34m2\u001b[0m\n\u001b[34m<class 'numpy.ndarray'>\u001b[0m\n\u001b[34m<class 'numpy.ndarray'>\u001b[0m\n\u001b[34m2\u001b[0m\n\u001b[34m<class 'numpy.ndarray'>\u001b[0m\n\u001b[34m<class 'numpy.ndarray'>\u001b[0m\n\u001b[34m2\u001b[0m\n\u001b[34m<class 'numpy.ndarray'>\u001b[0m\n\u001b[34m<class 'numpy.ndarray'>\u001b[0m\n\u001b[34m4\u001b[0m\n\u001b[34m<class 'numpy.ndarray'>\u001b[0m\n\u001b[34m<class 'numpy.ndarray'>\u001b[0m\n\u001b[34m5\u001b[0m\n\u001b[34m<class 'numpy.ndarray'>\u001b[0m\n\u001b[34m<class 'numpy.ndarray'>\u001b[0m\n\u001b[34m3\u001b[0m\n\u001b[34m<class 'numpy.ndarray'>\u001b[0m\n\u001b[34m<class 'numpy.ndarray'>\u001b[0m\n\u001b[34m5\u001b[0m\n\u001b[34m<class 'numpy.ndarray'>\u001b[0m\n\u001b[34m<class 'numpy.ndarray'>\u001b[0m\n\u001b[34m2\u001b[0m\n\u001b[34m<class 'numpy.ndarray'>\u001b[0m\n\u001b[34m<class 'numpy.ndarray'>\u001b[0m\n\u001b[34m2\u001b[0m\n\u001b[34m<class 'numpy.ndarray'>\u001b[0m\n\u001b[34m<class 'numpy.ndarray'>\u001b[0m\n\u001b[34m5\u001b[0m\n\u001b[34m<class 'numpy.ndarray'>\u001b[0m\n\u001b[34m<class 'numpy.ndarray'>\u001b[0m\n\u001b[34m5\u001b[0m\n\u001b[34m<class 'numpy.ndarray'>\u001b[0m\n\u001b[34m<class 'numpy.ndarray'>\u001b[0m\n\u001b[34m2\u001b[0m\n\u001b[34m<class 'numpy.ndarray'>\u001b[0m\n\u001b[34m<class 'numpy.ndarray'>\u001b[0m\n\u001b[34m2\u001b[0m\n\u001b[34m<class 'numpy.ndarray'>\u001b[0m\n\u001b[34m<class 'numpy.ndarray'>\u001b[0m\n\u001b[34m4\u001b[0m\n\u001b[34m<class 'numpy.ndarray'>\u001b[0m\n\u001b[34m<class 'numpy.ndarray'>\u001b[0m\n\u001b[34m5\u001b[0m\n\u001b[34m<class 'numpy.ndarray'>\u001b[0m\n\u001b[34m<class 'numpy.ndarray'>\u001b[0m\n\u001b[34m6\u001b[0m\n\u001b[34m<class 'numpy.ndarray'>\u001b[0m\n\u001b[34m<class 'numpy.ndarray'>\u001b[0m\n\u001b[34m6\u001b[0m\n\u001b[34m<class 'numpy.ndarray'>\u001b[0m\n\u001b[34m<class 'numpy.ndarray'>\u001b[0m\n\u001b[34m6\u001b[0m\n\u001b[34m<class 'numpy.ndarray'>\u001b[0m\n\u001b[34m<class 'numpy.ndarray'>\u001b[0m\n\u001b[34m5\u001b[0m\n\u001b[34m<class 'numpy.ndarray'>\u001b[0m\n\u001b[34m<class 'numpy.ndarray'>\u001b[0m\n\u001b[34m6\u001b[0m\n\u001b[34m<class 'numpy.ndarray'>\u001b[0m\n\u001b[34m<class 'numpy.ndarray'>\u001b[0m\n\u001b[34m6\u001b[0m\n\u001b[34m<class 'numpy.ndarray'>\u001b[0m\n\u001b[34m<class 'numpy.ndarray'>\u001b[0m\n\u001b[34m4\u001b[0m\n\u001b[34m<class 'numpy.ndarray'>\u001b[0m\n\u001b[34m<class 'numpy.ndarray'>\u001b[0m\n\u001b[34m3\u001b[0m\n\u001b[34m<class 'numpy.ndarray'>\u001b[0m\n\u001b[34m<class 'numpy.ndarray'>\u001b[0m\n\u001b[34m3\u001b[0m\n\u001b[34m<class 'numpy.ndarray'>\u001b[0m\n\u001b[34m<class 'numpy.ndarray'>\u001b[0m\n\u001b[34m5\u001b[0m\n\u001b[34m<class 'numpy.ndarray'>\u001b[0m\n\u001b[34m<class 'numpy.ndarray'>\u001b[0m\n\u001b[34m3\u001b[0m\n\u001b[34m<class 'numpy.ndarray'>\u001b[0m\n\u001b[34m<class 'numpy.ndarray'>\u001b[0m\n\u001b[34m2\u001b[0m\n\u001b[34m<class 'numpy.ndarray'>\u001b[0m\n\u001b[34m<class 'numpy.ndarray'>\u001b[0m\n\u001b[34m2\u001b[0m\n\u001b[34m<class 'numpy.ndarray'>\u001b[0m\n\u001b[34m<class 'numpy.ndarray'>\u001b[0m\n\u001b[34m2\u001b[0m\n\u001b[34m<class 'numpy.ndarray'>\u001b[0m\n\u001b[34m<class 'numpy.ndarray'>\u001b[0m\n\u001b[34m6\u001b[0m\n\u001b[34m<class 'numpy.ndarray'>\u001b[0m\n\u001b[34m<class 'numpy.ndarray'>\u001b[0m\n\u001b[34m5\u001b[0m\n\u001b[34m<class 'numpy.ndarray'>\u001b[0m\n\u001b[34m<class 'numpy.ndarray'>\u001b[0m\n\u001b[34m4\u001b[0m\n\u001b[34m<class 'numpy.ndarray'>\u001b[0m\n\u001b[34m<class 'numpy.ndarray'>\u001b[0m\n\u001b[34m5\u001b[0m\n\u001b[34m<class 'numpy.ndarray'>\u001b[0m\n\u001b[34m<class 'numpy.ndarray'>\u001b[0m\n\u001b[34m2\u001b[0m\n\u001b[34m<class 'numpy.ndarray'>\u001b[0m\n\u001b[34m<class 'numpy.ndarray'>\u001b[0m\n\u001b[34m4\u001b[0m\n\u001b[34m<class 'numpy.ndarray'>\u001b[0m\n\u001b[34m<class 'numpy.ndarray'>\u001b[0m\n\u001b[34m4\u001b[0m\n\u001b[34m<class 'numpy.ndarray'>\u001b[0m\n\u001b[34m<class 'numpy.ndarray'>\u001b[0m\n\u001b[34m4\u001b[0m\n\u001b[34m<class 'numpy.ndarray'>\u001b[0m\n\u001b[34m<class 'numpy.ndarray'>\u001b[0m\n\u001b[34m6\u001b[0m\n\u001b[34m<class 'numpy.ndarray'>\u001b[0m\n\u001b[34m<class 'numpy.ndarray'>\u001b[0m\n\u001b[34m4\u001b[0m\n\u001b[34m<class 'numpy.ndarray'>\u001b[0m\n\u001b[34m<class 'numpy.ndarray'>\u001b[0m\n\u001b[34m4\u001b[0m\n\u001b[34m<class 'numpy.ndarray'>\u001b[0m\n\u001b[34m<class 'numpy.ndarray'>\u001b[0m\n\u001b[34m6\u001b[0m\n\u001b[34m<class 'numpy.ndarray'>\u001b[0m\n\u001b[34m<class 'numpy.ndarray'>\u001b[0m\n\u001b[34m4\u001b[0m\n\u001b[34m<class 'numpy.ndarray'>\u001b[0m\n\u001b[34m<class 'numpy.ndarray'>\u001b[0m\n\u001b[34m5\u001b[0m\n\u001b[34m<class 'numpy.ndarray'>\u001b[0m\n\u001b[34m<class 'numpy.ndarray'>\u001b[0m\n\u001b[34m3\u001b[0m\n\u001b[34m<class 'numpy.ndarray'>\u001b[0m\n\u001b[34m<class 'numpy.ndarray'>\u001b[0m\n\u001b[34m4\u001b[0m\n\u001b[34m<class 'numpy.ndarray'>\u001b[0m\n\u001b[34m<class 'numpy.ndarray'>\u001b[0m\n\u001b[34m5\u001b[0m\n\u001b[34m<class 'numpy.ndarray'>\u001b[0m\n\u001b[34m<class 'numpy.ndarray'>\u001b[0m\n\u001b[34m5\u001b[0m\n\u001b[34m<class 'numpy.ndarray'>\u001b[0m\n\u001b[34m<class 'numpy.ndarray'>\u001b[0m\n\u001b[34m3\u001b[0m\n\u001b[34m<class 'numpy.ndarray'>\u001b[0m\n\u001b[34m<class 'numpy.ndarray'>\u001b[0m\n\u001b[34m3\u001b[0m\n\u001b[34m<class 'numpy.ndarray'>\u001b[0m\n\u001b[34m<class 'numpy.ndarray'>\u001b[0m\n\u001b[34m6\u001b[0m\n\u001b[34m<class 'numpy.ndarray'>\u001b[0m\n\u001b[34m<class 'numpy.ndarray'>\u001b[0m\n\u001b[34m5\u001b[0m\n\u001b[34m<class 'numpy.ndarray'>\u001b[0m\n"
    },
    {
     "output_type": "error",
     "ename": "KeyboardInterrupt",
     "evalue": "",
     "traceback": [
      "\u001b[0;31m---------------------------------------------------------------------------\u001b[0m",
      "\u001b[0;31mKeyboardInterrupt\u001b[0m                         Traceback (most recent call last)",
      "\u001b[0;32m<timed eval>\u001b[0m in \u001b[0;36m<module>\u001b[0;34m\u001b[0m\n",
      "\u001b[0;32m~/anaconda3/envs/tf_py3.6/lib/python3.6/site-packages/sagemaker/processing.py\u001b[0m in \u001b[0;36mrun\u001b[0;34m(self, code, inputs, outputs, arguments, wait, logs, job_name, experiment_config)\u001b[0m\n\u001b[1;32m    410\u001b[0m         \u001b[0mself\u001b[0m\u001b[0;34m.\u001b[0m\u001b[0mjobs\u001b[0m\u001b[0;34m.\u001b[0m\u001b[0mappend\u001b[0m\u001b[0;34m(\u001b[0m\u001b[0mself\u001b[0m\u001b[0;34m.\u001b[0m\u001b[0mlatest_job\u001b[0m\u001b[0;34m)\u001b[0m\u001b[0;34m\u001b[0m\u001b[0;34m\u001b[0m\u001b[0m\n\u001b[1;32m    411\u001b[0m         \u001b[0;32mif\u001b[0m \u001b[0mwait\u001b[0m\u001b[0;34m:\u001b[0m\u001b[0;34m\u001b[0m\u001b[0;34m\u001b[0m\u001b[0m\n\u001b[0;32m--> 412\u001b[0;31m             \u001b[0mself\u001b[0m\u001b[0;34m.\u001b[0m\u001b[0mlatest_job\u001b[0m\u001b[0;34m.\u001b[0m\u001b[0mwait\u001b[0m\u001b[0;34m(\u001b[0m\u001b[0mlogs\u001b[0m\u001b[0;34m=\u001b[0m\u001b[0mlogs\u001b[0m\u001b[0;34m)\u001b[0m\u001b[0;34m\u001b[0m\u001b[0;34m\u001b[0m\u001b[0m\n\u001b[0m\u001b[1;32m    413\u001b[0m \u001b[0;34m\u001b[0m\u001b[0m\n\u001b[1;32m    414\u001b[0m     \u001b[0;32mdef\u001b[0m \u001b[0m_get_user_code_name\u001b[0m\u001b[0;34m(\u001b[0m\u001b[0mself\u001b[0m\u001b[0;34m,\u001b[0m \u001b[0mcode\u001b[0m\u001b[0;34m)\u001b[0m\u001b[0;34m:\u001b[0m\u001b[0;34m\u001b[0m\u001b[0;34m\u001b[0m\u001b[0m\n",
      "\u001b[0;32m~/anaconda3/envs/tf_py3.6/lib/python3.6/site-packages/sagemaker/processing.py\u001b[0m in \u001b[0;36mwait\u001b[0;34m(self, logs)\u001b[0m\n\u001b[1;32m    762\u001b[0m         \"\"\"\n\u001b[1;32m    763\u001b[0m         \u001b[0;32mif\u001b[0m \u001b[0mlogs\u001b[0m\u001b[0;34m:\u001b[0m\u001b[0;34m\u001b[0m\u001b[0;34m\u001b[0m\u001b[0m\n\u001b[0;32m--> 764\u001b[0;31m             \u001b[0mself\u001b[0m\u001b[0;34m.\u001b[0m\u001b[0msagemaker_session\u001b[0m\u001b[0;34m.\u001b[0m\u001b[0mlogs_for_processing_job\u001b[0m\u001b[0;34m(\u001b[0m\u001b[0mself\u001b[0m\u001b[0;34m.\u001b[0m\u001b[0mjob_name\u001b[0m\u001b[0;34m,\u001b[0m \u001b[0mwait\u001b[0m\u001b[0;34m=\u001b[0m\u001b[0;32mTrue\u001b[0m\u001b[0;34m)\u001b[0m\u001b[0;34m\u001b[0m\u001b[0;34m\u001b[0m\u001b[0m\n\u001b[0m\u001b[1;32m    765\u001b[0m         \u001b[0;32melse\u001b[0m\u001b[0;34m:\u001b[0m\u001b[0;34m\u001b[0m\u001b[0;34m\u001b[0m\u001b[0m\n\u001b[1;32m    766\u001b[0m             \u001b[0mself\u001b[0m\u001b[0;34m.\u001b[0m\u001b[0msagemaker_session\u001b[0m\u001b[0;34m.\u001b[0m\u001b[0mwait_for_processing_job\u001b[0m\u001b[0;34m(\u001b[0m\u001b[0mself\u001b[0m\u001b[0;34m.\u001b[0m\u001b[0mjob_name\u001b[0m\u001b[0;34m)\u001b[0m\u001b[0;34m\u001b[0m\u001b[0;34m\u001b[0m\u001b[0m\n",
      "\u001b[0;32m~/anaconda3/envs/tf_py3.6/lib/python3.6/site-packages/sagemaker/session.py\u001b[0m in \u001b[0;36mlogs_for_processing_job\u001b[0;34m(self, job_name, wait, poll)\u001b[0m\n\u001b[1;32m   3340\u001b[0m                 \u001b[0;32mbreak\u001b[0m\u001b[0;34m\u001b[0m\u001b[0;34m\u001b[0m\u001b[0m\n\u001b[1;32m   3341\u001b[0m \u001b[0;34m\u001b[0m\u001b[0m\n\u001b[0;32m-> 3342\u001b[0;31m             \u001b[0mtime\u001b[0m\u001b[0;34m.\u001b[0m\u001b[0msleep\u001b[0m\u001b[0;34m(\u001b[0m\u001b[0mpoll\u001b[0m\u001b[0;34m)\u001b[0m\u001b[0;34m\u001b[0m\u001b[0;34m\u001b[0m\u001b[0m\n\u001b[0m\u001b[1;32m   3343\u001b[0m \u001b[0;34m\u001b[0m\u001b[0m\n\u001b[1;32m   3344\u001b[0m             \u001b[0;32mif\u001b[0m \u001b[0mstate\u001b[0m \u001b[0;34m==\u001b[0m \u001b[0mLogState\u001b[0m\u001b[0;34m.\u001b[0m\u001b[0mJOB_COMPLETE\u001b[0m\u001b[0;34m:\u001b[0m\u001b[0;34m\u001b[0m\u001b[0;34m\u001b[0m\u001b[0m\n",
      "\u001b[0;31mKeyboardInterrupt\u001b[0m: "
     ]
    }
   ],
   "source": [
    "%%time\n",
    "script_processor.run(\n",
    "    code=\"inference_script.py\",\n",
    "    inputs=[\n",
    "        ProcessingInput(\n",
    "            source=f\"s3://{bucket}/data/raw/imgs/original/testing/\",\n",
    "            destination=\"/opt/ml/processing/input/data\",\n",
    "        )\n",
    "    ],\n",
    "    outputs=[\n",
    "        ProcessingOutput(\n",
    "            source=\"/opt/ml/processing/output/train\", \n",
    "            destination=f\"s3://{bucket}/data/raw/imgs/original/testing/anno_{endpoint}-chip1024-crf\",\n",
    "            s3_upload_mode=\"Continuous\"),\n",
    "            \n",
    "    ],\n",
    "    arguments=[\n",
    "        \"s3_input_bucket\",\n",
    "        bucket,\n",
    "        \"s3_input_key_prefix\",\n",
    "        prefix,\n",
    "        \"endpoint\",\n",
    "        endpoint,\n",
    "        \"chipsize\",\n",
    "        \"1024\"\n",
    "    ],\n",
    ")"
   ]
  },
  {
   "cell_type": "code",
   "execution_count": null,
   "metadata": {},
   "outputs": [],
   "source": []
  }
 ],
 "metadata": {
  "kernelspec": {
   "display_name": "Python 3",
   "language": "python",
   "name": "python3"
  },
  "language_info": {
   "codemirror_mode": {
    "name": "ipython",
    "version": 3
   },
   "file_extension": ".py",
   "mimetype": "text/x-python",
   "name": "python",
   "nbconvert_exporter": "python",
   "pygments_lexer": "ipython3",
   "version": "3.6.10-final"
  },
  "toc": {
   "base_numbering": 1,
   "nav_menu": {},
   "number_sections": true,
   "sideBar": true,
   "skip_h1_title": false,
   "title_cell": "Table of Contents",
   "title_sidebar": "Contents",
   "toc_cell": false,
   "toc_position": {},
   "toc_section_display": true,
   "toc_window_display": false
  },
  "varInspector": {
   "cols": {
    "lenName": 16,
    "lenType": 16,
    "lenVar": 40
   },
   "kernels_config": {
    "python": {
     "delete_cmd_postfix": "",
     "delete_cmd_prefix": "del ",
     "library": "var_list.py",
     "varRefreshCmd": "print(var_dic_list())"
    },
    "r": {
     "delete_cmd_postfix": ") ",
     "delete_cmd_prefix": "rm(",
     "library": "var_list.r",
     "varRefreshCmd": "cat(var_dic_list()) "
    }
   },
   "types_to_exclude": [
    "module",
    "function",
    "builtin_function_or_method",
    "instance",
    "_Feature"
   ],
   "window_display": false
  }
 },
 "nbformat": 4,
 "nbformat_minor": 2
}