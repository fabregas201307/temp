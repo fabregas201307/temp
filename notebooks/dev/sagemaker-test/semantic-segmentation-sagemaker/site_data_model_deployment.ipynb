{
 "metadata": {
  "language_info": {
   "codemirror_mode": {
    "name": "ipython",
    "version": 3
   },
   "file_extension": ".py",
   "mimetype": "text/x-python",
   "name": "python",
   "nbconvert_exporter": "python",
   "pygments_lexer": "ipython3",
   "version": 3
  },
  "orig_nbformat": 2,
  "kernelspec": {
   "name": "python_defaultSpec_1596798886634",
   "display_name": "Python 3.8.0 64-bit"
  }
 },
 "nbformat": 4,
 "nbformat_minor": 2,
 "cells": [
  {
   "cell_type": "markdown",
   "metadata": {},
   "source": [
    "# Hosting\n",
    "Once the training is done, we can deploy the trained model as an Amazon SageMaker hosted endpoint. This will allow us to make predictions (or inference) from the model. Note that we don't have to host on the same instance (or type of instance) that we used to train. Training is a prolonged and compute heavy job that require a different of compute and memory requirements that hosting typically do not. We can choose any sagemaker supported instance we want to host the model. The notebooks walks through the endpoint deployment.:"
   ]
  },
  {
   "cell_type": "markdown",
   "metadata": {},
   "source": [
    "## Setup\n",
    "The S3 bucket and prefix that you want to use for training and model data. This should be within the same region as the Notebook Instance, training, and hosting. If you don't specify a bucket, SageMaker SDK will create a default bucket following a pre-defined naming convention in the same region. The IAM role ARN used to give SageMaker access to your data. It can be fetched using the get_execution_role method from sagemaker python SDK if running this notebook in sagemaker studio\n",
    "\n",
    "profile = aws profile\n",
    "role = predefined role arn"
   ]
  },
  {
   "cell_type": "code",
   "execution_count": 10,
   "metadata": {
    "tags": []
   },
   "outputs": [
    {
     "output_type": "stream",
     "name": "stdout",
     "text": "Session(region_name='us-east-2')\n"
    }
   ],
   "source": [
    "import sagemaker\n",
    "import boto3\n",
    "import time\n",
    "from PIL import Image\n",
    "\n",
    "role='arn:aws:iam::395166463292:role/service-role/AmazonSageMaker-ExecutionRole-20200714T182988'\n",
    "\n",
    "profile = 'sites'\n",
    "region_name='us-east-2'\n",
    "bucket = 'st-crayon-dev'\n",
    "prefix = 'sagemaker/labelbox/'\n",
    "\n",
    "session = boto3.session.Session(profile_name = profile, region_name = region_name)\n",
    "sess = sagemaker.Session(session,default_bucket=bucket)\n",
    "sagemaker_client = session.client('sagemaker')\n",
    "print(sess.boto_session)"
   ]
  },
  {
   "cell_type": "markdown",
   "metadata": {},
   "source": [
    "## Training image\n",
    "Since we are using prebaked aws semantic segmentation algo, we need the Amazon SageMaker Semantic Segmentaion docker image, which is static and need not be changed"
   ]
  },
  {
   "cell_type": "code",
   "execution_count": 11,
   "metadata": {
    "tags": []
   },
   "outputs": [
    {
     "output_type": "stream",
     "name": "stderr",
     "text": "'get_image_uri' method will be deprecated in favor of 'ImageURIProvider' class in SageMaker Python SDK v2.\n825641698319.dkr.ecr.us-east-2.amazonaws.com/semantic-segmentation:latest\n"
    }
   ],
   "source": [
    "from sagemaker.amazon.amazon_estimator import get_image_uri\n",
    "training_image = get_image_uri(sess.boto_region_name, 'semantic-segmentation', repo_version=\"latest\")\n",
    "print (training_image)"
   ]
  },
  {
   "cell_type": "code",
   "execution_count": 12,
   "metadata": {
    "tags": []
   },
   "outputs": [
    {
     "output_type": "stream",
     "name": "stdout",
     "text": "{\n    \"TrainingJobSummaries\": [\n        {\n            \"TrainingJobName\": \"ss-labelbox-train-aug-manifest-15965354-2020-08-04-10-18-20-513\",\n            \"TrainingJobArn\": \"arn:aws:sagemaker:us-east-2:395166463292:training-job/ss-labelbox-train-aug-manifest-15965354-2020-08-04-10-18-20-513\",\n            \"CreationTime\": 1596536301.162,\n            \"TrainingEndTime\": 1596541653.786,\n            \"LastModifiedTime\": 1596541653.786,\n            \"TrainingJobStatus\": \"Completed\"\n        },\n        {\n            \"TrainingJobName\": \"ss-labelbox-train-aug-manifest-15965315-2020-08-04-08-59-08-997\",\n            \"TrainingJobArn\": \"arn:aws:sagemaker:us-east-2:395166463292:training-job/ss-labelbox-train-aug-manifest-15965315-2020-08-04-08-59-08-997\",\n            \"CreationTime\": 1596531549.702,\n            \"TrainingEndTime\": 1596533214.363,\n            \"LastModifiedTime\": 1596533214.363,\n            \"TrainingJobStatus\": \"Completed\"\n        },\n        {\n            \"TrainingJobName\": \"ss-labelbox-train-aug-manifest-15964472-2020-08-03-09-49-26-446\",\n            \"TrainingJobArn\": \"arn:aws:sagemaker:us-east-2:395166463292:training-job/ss-labelbox-train-aug-manifest-15964472-2020-08-03-09-49-26-446\",\n            \"CreationTime\": 1596448167.075,\n            \"TrainingEndTime\": 1596452097.485,\n            \"LastModifiedTime\": 1596452097.485,\n            \"TrainingJobStatus\": \"Completed\"\n        }\n    ]\n}\n"
    }
   ],
   "source": [
    "!aws sagemaker list-training-jobs --name-contains ss-labelbox-train-aug-manifest --status-equals Completed --profile $profile"
   ]
  },
  {
   "cell_type": "markdown",
   "metadata": {},
   "source": [
    "## Create a deployable model \n",
    "by identifying the location of model artifacts and the Docker image that contains the inference code."
   ]
  },
  {
   "cell_type": "code",
   "execution_count": 15,
   "metadata": {
    "tags": []
   },
   "outputs": [
    {
     "output_type": "stream",
     "name": "stdout",
     "text": "s3://st-crayon-dev/sagemaker/labelbox/output/ss-labelbox-train-aug-manifest-15964472-2020-08-03-09-49-26-446/output/model.tar.gz\narn:aws:sagemaker:us-east-2:395166463292:model/ss-labelbox-1024-v0\n"
    }
   ],
   "source": [
    "model_name = f'ss-labelbox-1024-v0'\n",
    "training_job_name = 'ss-labelbox-train-aug-manifest-15964472-2020-08-03-09-49-26-446'\n",
    "info = sagemaker_client.describe_training_job(TrainingJobName=training_job_name)\n",
    "model_data = info['ModelArtifacts']['S3ModelArtifacts']\n",
    "print(model_data)\n",
    "primary_container = {\n",
    "    'Image': training_image,\n",
    "    'ModelDataUrl': model_data\n",
    "}\n",
    "create_model_response = sagemaker_client.create_model(\n",
    "    ModelName = model_name,\n",
    "    ExecutionRoleArn = role,\n",
    "    PrimaryContainer = primary_container)\n",
    "\n",
    "print(create_model_response['ModelArn'])"
   ]
  },
  {
   "cell_type": "markdown",
   "metadata": {},
   "source": [
    "## Create an Amazon SageMaker endpoint configuration \n",
    "by specifying the ML compute instances that you want to deploy your model to."
   ]
  },
  {
   "cell_type": "code",
   "execution_count": 16,
   "metadata": {
    "tags": []
   },
   "outputs": [
    {
     "output_type": "stream",
     "name": "stdout",
     "text": "ss-labelbox-1024-config-v0\nEndpoint Config Arn: arn:aws:sagemaker:us-east-2:395166463292:endpoint-config/ss-labelbox-1024-config-v0\n"
    }
   ],
   "source": [
    "endpoint_config_name = f'ss-labelbox-1024-config-v0'\n",
    "print(endpoint_config_name)\n",
    "create_endpoint_config_response = sagemaker_client.create_endpoint_config(\n",
    "    EndpointConfigName = endpoint_config_name,\n",
    "    ProductionVariants=[{\n",
    "        'InstanceType':'ml.c4.2xlarge',\n",
    "        'InitialVariantWeight':1,\n",
    "        'InitialInstanceCount':1,\n",
    "        'ModelName':model_name,\n",
    "        'VariantName':'AllTraffic'}])\n",
    "\n",
    "print(\"Endpoint Config Arn: \" + create_endpoint_config_response['EndpointConfigArn'])"
   ]
  },
  {
   "cell_type": "markdown",
   "metadata": {},
   "source": [
    "## Create an Amazon SageMaker endpoint."
   ]
  },
  {
   "cell_type": "code",
   "execution_count": 18,
   "metadata": {
    "tags": []
   },
   "outputs": [
    {
     "output_type": "stream",
     "name": "stdout",
     "text": "ss-labelbox-1024-size-1024-v0\narn:aws:sagemaker:us-east-2:395166463292:endpoint/ss-labelbox-1024-size-1024-v0\nStatus: Creating\n"
    }
   ],
   "source": [
    "import time\n",
    "\n",
    "endpoint_name = f'ss-labelbox-1024-size-1024-v0'\n",
    "print(endpoint_name)\n",
    "create_endpoint_response = sagemaker_client.create_endpoint(\n",
    "    EndpointName=endpoint_name,\n",
    "    EndpointConfigName=endpoint_config_name)\n",
    "print(create_endpoint_response['EndpointArn'])\n",
    "\n",
    "resp = sagemaker_client.describe_endpoint(EndpointName=endpoint_name)\n",
    "status = resp['EndpointStatus']\n",
    "print(\"Status: \" + status)"
   ]
  },
  {
   "cell_type": "markdown",
   "metadata": {},
   "source": [
    "## Wait for model deployment\n",
    "once model is deployed Status changes to 'InService'"
   ]
  },
  {
   "cell_type": "code",
   "execution_count": 19,
   "metadata": {
    "tags": []
   },
   "outputs": [
    {
     "output_type": "stream",
     "name": "stdout",
     "text": "Status: Creating\nStatus: Creating\nStatus: Creating\nStatus: Creating\nStatus: Creating\nStatus: Creating\nStatus: Creating\nStatus: Creating\nStatus: InService\nArn: arn:aws:sagemaker:us-east-2:395166463292:endpoint/ss-labelbox-1024-size-1024-v0\nStatus: InService\n"
    }
   ],
   "source": [
    "while status=='Creating':\n",
    "    time.sleep(60)\n",
    "    resp = sagemaker_client.describe_endpoint(EndpointName=endpoint_name)\n",
    "    status = resp['EndpointStatus']\n",
    "    print(\"Status: \" + status)\n",
    "\n",
    "print(\"Arn: \" + resp['EndpointArn'])\n",
    "print(\"Status: \" + status)"
   ]
  },
  {
   "cell_type": "code",
   "execution_count": null,
   "metadata": {},
   "outputs": [],
   "source": []
  }
 ]
}