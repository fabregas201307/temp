{
 "cells": [
  {
   "cell_type": "code",
   "execution_count": null,
   "metadata": {},
   "outputs": [],
   "source": [
    "import matplotlib.pyplot as plt\n",
    "import matplotlib.image as mpimg\n",
    "import PIL\n",
    "from PIL import Image\n",
    "import random\n",
    "\n",
    "import numpy as np\n",
    "\n",
    "import boto3\n",
    "import sagemaker\n",
    "\n",
    "import io\n",
    "import json\n",
    "from pathlib import Path\n",
    "\n",
    "from site_tools import category2mask\n",
    "from matplotlib.backends.backend_pdf import PdfPages\n",
    "from site_tools import get_matching_s3_keys\n",
    "\n",
    "profile = 'crayon-site'\n",
    "region_name='us-east-2'\n",
    "bucket = 'st-crayon-dev'\n",
    "prefix = 'sagemaker/labelbox/'\n",
    "\n",
    "endpoint_name = 'ss-labelbox-I1024-B1024-C896-E20'\n",
    "\n"
   ]
  },
  {
   "cell_type": "code",
   "execution_count": null,
   "metadata": {},
   "outputs": [],
   "source": [
    "session = boto3.session.Session(profile_name = profile, region_name = region_name)\n",
    "sess = sagemaker.Session(session,default_bucket=bucket)\n",
    "s3 = session.resource('s3', region_name=region_name)\n",
    "bucket_obj = s3.Bucket(bucket)\n",
    "runtime_client = session.client('runtime.sagemaker')"
   ]
  },
  {
   "cell_type": "code",
   "execution_count": null,
   "metadata": {},
   "outputs": [],
   "source": [
    "def compute_miou(actual, pred, num_cls=6):\n",
    "    \n",
    "    print('inside function')\n",
    "\n",
    "    a = actual\n",
    "    print(np.unique(a))\n",
    "    a = a.flatten()\n",
    "    a_count = np.bincount(a, weights = None, minlength = num_cls) # A\n",
    "    # print(f'a_count shape = {a_count.shape}')\n",
    "    \n",
    "    b = pred\n",
    "    print(np.unique(a))\n",
    "    b = b.flatten()\n",
    "    b_count = np.bincount(b, weights = None, minlength = num_cls) # B\n",
    "    # print(np.unique(b_count))\n",
    "    # print(f'b_count shape = {b_count.shape}')\n",
    "\n",
    "    c = a * num_cls + b\n",
    "    cm = np.bincount(c, weights = None, minlength = num_cls**2)\n",
    "    cm = cm.reshape((num_cls, num_cls))\n",
    "\n",
    "    Nr = np.diag(cm) # A ⋂ B\n",
    "    Dr = a_count + b_count - Nr # A ⋃ B\n",
    "    individual_iou = Nr/Dr\n",
    "    miou = np.nanmean(individual_iou)\n",
    "\n",
    "    print(miou)\n",
    "    return individual_iou"
   ]
  },
  {
   "cell_type": "code",
   "execution_count": null,
   "metadata": {},
   "outputs": [],
   "source": [
    "s3_paths = get_matching_s3_keys('st-crayon', 'TestSite/ri4386_chicagoil_DBM6891680292/Mapping/', '.JPG')\n",
    "s3_paths = [path for path in s3_paths]"
   ]
  },
  {
   "cell_type": "code",
   "execution_count": null,
   "metadata": {},
   "outputs": [],
   "source": [
    "s3_paths = get_matching_s3_keys('st-crayon-dev', 'data/raw/imgs/original/testing/anno_testsite_fcn-512-p2-8xlarge', '.png')\n",
    "s3_paths = [path for path in s3_paths]"
   ]
  },
  {
   "cell_type": "code",
   "execution_count": null,
   "metadata": {},
   "outputs": [],
   "source": [
    "image_paths = [f\"TestSite/ri4386_chicagoil_DBM6891680292/Mapping/{Path(path).stem}.JPG\" for path in s3_paths]\n"
   ]
  },
  {
   "cell_type": "code",
   "execution_count": null,
   "metadata": {
    "tags": []
   },
   "outputs": [],
   "source": [
    "manifest_filepath = 'data/raw/imgs/original/manifests/manifest_file_test_imgs.json'\n",
    "manifest_file = bucket_obj.Object(key=manifest_filepath).get()\n",
    "manifest_file = manifest_file['Body'].read().decode('ascii')\n",
    "j_content = json.dumps(manifest_file)\n",
    "j_content = json.loads(j_content)\n",
    "\n",
    "manifest_list = []\n",
    "for line in j_content.splitlines():\n",
    "     line = json.loads(line)\n",
    "     manifest_list.append(line)\n",
    "\n",
    "source_ref = [f['source-ref'].replace(f's3://{bucket}/','') for f in manifest_list]\n",
    "annontation_ref = [f['annotation-ref'].replace(f's3://{bucket}/','') for f in manifest_list]\n",
    "\n",
    "# source_ref_samp = source_ref[:10]\n",
    "# annontation_ref_sam = annontation_ref[:10]\n",
    "\n",
    "all_img = source_ref + annontation_ref\n",
    "print(f'total number of image to be copied = {len(all_img)}')"
   ]
  },
  {
   "cell_type": "code",
   "execution_count": null,
   "metadata": {},
   "outputs": [],
   "source": [
    "endpoint_name = 'psp_1024_old'\n",
    "endpoint_name = 'psp-1024-new'\n",
    "endpoint_name = 'fcn-512-new-chip512'\n",
    "endpoint_name = 'psp-1024-new'\n",
    "endpoint_name = 'testsite_fcn-512'\n",
    "pdf_file_name = f'{endpoint_name}.pdf'\n",
    "num_img_per_pg = 4"
   ]
  },
  {
   "cell_type": "code",
   "execution_count": null,
   "metadata": {},
   "outputs": [],
   "source": [
    "image_refs = [path.replace('/images/', '/testing/images/').replace('.JPG', '.jpg') for path in source_ref]\n",
    "anno_refs = [path.replace('/annotations/', '/testing/annotations/') for path in annontation_ref]\n",
    "preds_ref = [path.replace('/annotations/', f'/anno_{endpoint_name}/') for path in anno_refs]"
   ]
  },
  {
   "cell_type": "code",
   "execution_count": null,
   "metadata": {},
   "outputs": [],
   "source": [
    "bucket_obj = s3.Bucket(bucket)\n",
    "bucket_obj_img = s3.Bucket(\"st-crayon\")\n",
    "# bucket_obj_img = bucket_obj\n",
    "bucket_pred = bucket_obj"
   ]
  },
  {
   "cell_type": "code",
   "execution_count": null,
   "metadata": {},
   "outputs": [],
   "source": [
    "image_refs = image_paths\n",
    "preds_ref = s3_paths"
   ]
  },
  {
   "cell_type": "code",
   "execution_count": null,
   "metadata": {},
   "outputs": [],
   "source": [
    "bucket_obj_img.Object()"
   ]
  },
  {
   "cell_type": "code",
   "execution_count": null,
   "metadata": {},
   "outputs": [],
   "source": [
    "have_ground_truth = False\n",
    "with PdfPages(pdf_file_name) as pdf:    \n",
    "    num_images = len(image_refs)\n",
    "    for i, img_num in enumerate(range(num_images)):\n",
    "        if (i % num_img_per_pg == 0):\n",
    "            print('new figure')\n",
    "            fig, axs = plt.subplots(num_img_per_pg, 3, figsize=(16, num_img_per_pg*6), constrained_layout=True)\n",
    "        img_count = i % num_img_per_pg\n",
    "        print(f'processing image-{img_num}-iteration-{i}')\n",
    "        image_object = bucket_obj_img.Object(image_refs[img_num])\n",
    "        if have_ground_truth:\n",
    "            mask_object = bucket_obj.Object(anno_refs[img_num])\n",
    "        mask_pred = bucket_obj.Object(preds_ref[img_num])\n",
    "        \n",
    "        thumbnail_size = 1024\n",
    "        img_stream = io.BytesIO(image_object.get()['Body'].read())  \n",
    "        img = Image.open(img_stream)  \n",
    "        img.thumbnail((thumbnail_size,thumbnail_size), Image.ANTIALIAS)\n",
    "        if have_ground_truth:\n",
    "            msk_stream = np.array(Image.open(io.BytesIO(mask_object.get()['Body'].read())))        \n",
    "            msk = category2mask(msk_stream)\n",
    "            msk = Image.fromarray(msk, 'RGB')\n",
    "            msk.thumbnail((thumbnail_size,thumbnail_size), Image.ANTIALIAS)\n",
    "        msk_pred_stream= np.array(Image.open(io.BytesIO(mask_pred.get()['Body'].read())))        \n",
    "        msk_pred = category2mask(msk_pred_stream)\n",
    "        msk_pred = Image.fromarray(msk_pred, 'RGB')\n",
    "        msk_pred.thumbnail((thumbnail_size,thumbnail_size), Image.ANTIALIAS)\n",
    "        axs[img_count,0].imshow(img,cmap='gray')\n",
    "        axs[img_count,0].set_title('orignal image')\n",
    "        if have_ground_truth:\n",
    "            axs[img_count,1].imshow(msk,cmap='gray')\n",
    "            axs[img_count,1].set_title(f'ground truth')\n",
    "        axs[img_count,2].imshow(msk_pred,cmap='gray')\n",
    "        axs[img_count,2].set_title(f'prediction')\n",
    "        if(img_count % num_img_per_pg == num_img_per_pg - 1):\n",
    "            pdf.savefig()\n",
    "        elif(num_images - i == 1):\n",
    "            pdf.savefig()"
   ]
  },
  {
   "cell_type": "code",
   "execution_count": null,
   "metadata": {
    "tags": []
   },
   "outputs": [],
   "source": [
    "for img in all_img:\n",
    "    p = Path(img)\n",
    "\n",
    "    file_nam_wo_ext = p.stem\n",
    "    base_loc = img.split('/')[:-2]\n",
    "    base_loc = '/'.join(base_loc)\n",
    "\n",
    "    copy_source = {\n",
    "    'Bucket': bucket,\n",
    "    'Key': img\n",
    "    }\n",
    "    \n",
    "    if '/images/' in str(p):\n",
    "        destination = f'{base_loc}/testing/images/{p.name}'\n",
    "    elif '/annotations/' in str(p):\n",
    "        destination = f'{base_loc}/testing/annotations/{file_nam_wo_ext}.png'\n",
    "    \n",
    "    # print(f'{copy_source=}')\n",
    "    try:\n",
    "        s3.meta.client.copy(copy_source, bucket, destination)\n",
    "    except:\n",
    "        print(f'Files not copied :-\\n{copy_source=}\\n{destination=}')\n",
    "    # print(f'{destination=}')\n",
    "print('File copying complete')\n",
    "    "
   ]
  },
  {
   "cell_type": "code",
   "execution_count": null,
   "metadata": {
    "tags": []
   },
   "outputs": [],
   "source": [
    "%%time\n",
    "endpoint_name = 'ss-labelbox-I1024-B1024-C896-E20'\n",
    "random_img_list = random.sample(range(0, len(source_ref)), 10)\n",
    "# random_img_list =  [64,141,14,122 ]\n",
    "print(random_img_list)\n",
    "\n",
    "ious = []\n",
    "\n",
    "\n",
    "fig, axs = plt.subplots(len(random_img_list), 3, figsize=(16, len(random_img_list)*6), constrained_layout=True)\n",
    "\n",
    "for i, img_num in enumerate(random_img_list):\n",
    "    print(f'processing image-{img_num}-iteration-{i}')\n",
    "    image_object = bucket_obj.Object(source_ref[img_num])\n",
    "    mask_object = bucket_obj.Object(annontation_ref[img_num])\n",
    "    \n",
    "    img_byte_obj = io.BytesIO(image_object.get()['Body'].read())\n",
    "    img = mpimg.imread(img_byte_obj, 'jpg')\n",
    "    # mask = mpimg.imread(io.BytesIO(mask_object.get()['Body'].read()), 'png')\n",
    "    mask_grey = np.array(Image.open(io.BytesIO(mask_object.get()['Body'].read())))\n",
    "    mask = category2mask(mask_grey)\n",
    "    \n",
    "    img_4_pred = Image.open(img_byte_obj)\n",
    "    # print(type(img_byte_obj))\n",
    "    # print(type(img_4_pred))\n",
    "\n",
    "    # print(type(img_4_pred.tobytes()))\n",
    "\n",
    "    imgByteArr = io.BytesIO()\n",
    "    img_4_pred.save(imgByteArr, format='PNG')\n",
    "    imgByteArr = imgByteArr.getvalue()\n",
    "    # print(type(imgByteArr))\n",
    "\n",
    "    response = runtime_client.invoke_endpoint(EndpointName = endpoint_name,\n",
    "                                         ContentType = 'image/jpeg',\n",
    "                                         Accept = 'image/png',\n",
    "                                         Body = imgByteArr)\n",
    "    \n",
    "    prediction = response['Body'].read() \n",
    "    mask_pred_grey = np.array(Image.open(io.BytesIO(prediction)))\n",
    "    mask_pred = category2mask(mask_pred_grey)\n",
    "\n",
    "    \n",
    "    print(np.unique(mask_grey))\n",
    "    print(np.unique(mask_pred_grey))\n",
    "\n",
    "    try:\n",
    "        individual_iou = compute_miou(mask_grey,mask_pred_grey,9)   \n",
    "        ious.append(individual_iou) \n",
    "    except e:\n",
    "        print(f'An exception occurred + {e}')\n",
    "\n",
    "    print(ious)\n",
    "\n",
    "\n",
    "    axs[i,0].imshow(img,cmap='gray')\n",
    "    axs[i,0].set_title('orignal image')\n",
    "    axs[i,1].imshow(mask,cmap='gray')\n",
    "    axs[i,1].set_title(f'image mask \\nnumber of classes{np.unique(mask_grey)}')\n",
    "    axs[i,2].imshow(mask_pred,cmap='gray')\n",
    "    axs[i,2].set_title(f'predicted mask\\n{individual_iou=}\\n miou = {str(np.nanmean(individual_iou))}')\n",
    "\n",
    "\n",
    "\n",
    "\n",
    "# image_object = bucket_obj.Object(source_ref[random_img_num])\n",
    "# mask_object = bucket_obj.Object(annontation_ref[random_img_num])\n",
    "# # display(image_object.get())\n",
    "# img = mpimg.imread(io.BytesIO(image_object.get()['Body'].read()), 'jpg')\n",
    "# mask = mpimg.imread(io.BytesIO(mask_object.get()['Body'].read()), 'png')\n",
    "\n",
    "# fig, axs = plt.subplots(1, 2, figsize=(16, 6), constrained_layout=True)\n",
    "# print(type(axs[0]))\n",
    "# axs[0].imshow(img,cmap='gray')\n",
    "# axs[1].imshow(mask,cmap='gray')\n"
   ]
  },
  {
   "cell_type": "code",
   "execution_count": null,
   "metadata": {
    "tags": []
   },
   "outputs": [],
   "source": [
    "\n",
    "img_orig = '../../../../data/20_AZ_1066_DBM3174640504_-_Mapping_-_DBI0278920773_DBI-21-gnNDUPti-DJI_0374-000006.jpg'\n",
    "mask_orig = '../../../../data/20_AZ_1066_DBM3174640504_-_Mapping_-_DBI0278920773_DBI-21-gnNDUPti-DJI_0374-000006.png'\n",
    "# endpoints = sagemaker_client.list_endpoints()\n",
    "\n",
    "im = PIL.Image.open(img_orig)\n",
    "# im.thumbnail([800,600],PIL.Image.ANTIALIAS)\n",
    "# im.save(img_orig, \"JPEG\")\n",
    "# converting images to bytearray\n",
    "with open(img_orig, 'rb') as img_4_pred:\n",
    "    img_4_pred = img_4_pred.read()\n",
    "    img_4_pred = bytearray(img_4_pred)\n",
    "    print(type(img_4_pred))\n",
    "\n",
    "\n",
    "# envoking the endpoint\n",
    "response = runtime_client.invoke_endpoint(EndpointName = endpoint_name,\n",
    "                                         ContentType = 'image/jpeg',\n",
    "                                         Accept = 'image/png',\n",
    "                                         Body = img_4_pred)\n",
    "prediction = response['Body'].read()           \n",
    "img_orig = PIL.Image.open(img_orig)\n",
    "mask_orig = category2mask(np.array(PIL.Image.open(mask_orig)))\n",
    "    \n",
    "mask_pred = category2mask(np.array(Image.open(io.BytesIO(prediction))))\n",
    "fig, axs = plt.subplots(1, 3, figsize=(16, 6), constrained_layout=True)\n",
    "mask = np.array(Image.open(io.BytesIO(prediction)))\n",
    "axs[0].imshow(img_orig,cmap='gray')\n",
    "axs[1].imshow(mask_orig,cmap='gray')\n",
    "axs[2].imshow(mask_pred, cmap='gray')"
   ]
  }
 ],
 "metadata": {
  "kernelspec": {
   "display_name": "Python 3",
   "language": "python",
   "name": "python3"
  },
  "language_info": {
   "codemirror_mode": {
    "name": "ipython",
    "version": 3
   },
   "file_extension": ".py",
   "mimetype": "text/x-python",
   "name": "python",
   "nbconvert_exporter": "python",
   "pygments_lexer": "ipython3",
   "version": "3.8.5"
  },
  "toc": {
   "base_numbering": 1,
   "nav_menu": {},
   "number_sections": true,
   "sideBar": true,
   "skip_h1_title": false,
   "title_cell": "Table of Contents",
   "title_sidebar": "Contents",
   "toc_cell": false,
   "toc_position": {},
   "toc_section_display": true,
   "toc_window_display": false
  },
  "varInspector": {
   "cols": {
    "lenName": 16,
    "lenType": 16,
    "lenVar": 40
   },
   "kernels_config": {
    "python": {
     "delete_cmd_postfix": "",
     "delete_cmd_prefix": "del ",
     "library": "var_list.py",
     "varRefreshCmd": "print(var_dic_list())"
    },
    "r": {
     "delete_cmd_postfix": ") ",
     "delete_cmd_prefix": "rm(",
     "library": "var_list.r",
     "varRefreshCmd": "cat(var_dic_list()) "
    }
   },
   "types_to_exclude": [
    "module",
    "function",
    "builtin_function_or_method",
    "instance",
    "_Feature"
   ],
   "window_display": false
  }
 },
 "nbformat": 4,
 "nbformat_minor": 2
}
