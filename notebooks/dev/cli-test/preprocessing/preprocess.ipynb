{
 "cells": [
  {
   "cell_type": "code",
   "execution_count": 1,
   "metadata": {},
   "outputs": [],
   "source": [
    "import sagemaker\n",
    "import boto3\n",
    "\n",
    "import numpy as np"
   ]
  },
  {
   "cell_type": "code",
   "execution_count": 2,
   "metadata": {},
   "outputs": [],
   "source": [
    "profile_name = 'crayon-site'\n",
    "\n",
    "boto3.setup_default_session(profile_name=profile_name)\n",
    "\n",
    "boto_session = boto3.Session(profile_name=profile_name) # specify your local aws profile\n",
    "sagemaker_session = sagemaker.Session(boto_session)\n",
    "SAGEMAKER_ROLE = \"AmazonSageMaker-ExecutionRole-20200714T182988\"\n",
    "\n",
    "account_id = boto_session.client(\"sts\").get_caller_identity().get(\"Account\")\n",
    "region_name = \"us-east-2\"\n",
    "ecr_repository = \"sitecli-inference-preprocessing-container-v0\"\n",
    "tag = ':latest'\n",
    "\n",
    "processing_repository_uri = \"{}.dkr.ecr.{}.amazonaws.com/{}\".format(\n",
    "    account_id, region_name, ecr_repository + tag\n",
    ")"
   ]
  },
  {
   "cell_type": "code",
   "execution_count": 3,
   "metadata": {},
   "outputs": [
    {
     "name": "stdout",
     "output_type": "stream",
     "text": [
      "WARNING! Your password will be stored unencrypted in /home/tailaiw/.docker/config.json.\n",
      "Configure a credential helper to remove this warning. See\n",
      "https://docs.docker.com/engine/reference/commandline/login/#credentials-store\n",
      "\n",
      "Login Succeeded\n",
      "\n",
      "An error occurred (RepositoryAlreadyExistsException) when calling the CreateRepository operation: The repository with name 'sitecli-inference-preprocessing-container-v0' already exists in the registry with id '395166463292'\n"
     ]
    }
   ],
   "source": [
    "!aws ecr get-login-password --region $region_name | docker login --username AWS --password-stdin \"{account_id}\".dkr.ecr.\"{region_name}\".amazonaws.com\n",
    "!aws ecr create-repository --repository-name $ecr_repository --profile $profile_name"
   ]
  },
  {
   "cell_type": "code",
   "execution_count": 4,
   "metadata": {},
   "outputs": [
    {
     "name": "stdout",
     "output_type": "stream",
     "text": [
      "Sending build context to Docker daemon  2.048kB\n",
      "Step 1/8 : FROM python:3.7\n",
      " ---> 11c6e5fd966a\n",
      "Step 2/8 : ARG PIP_NO_CACHE_DIR=1\n",
      " ---> Using cache\n",
      " ---> 3193c1139681\n",
      "Step 3/8 : RUN apt-get -y update\n",
      " ---> Using cache\n",
      " ---> c91fc3394ac2\n",
      "Step 4/8 : RUN apt-get -y upgrade\n",
      " ---> Using cache\n",
      " ---> ab04bac1ac8f\n",
      "Step 5/8 : RUN apt-get install -y libglib2.0-0 libsm6 libxext6 libxrender-dev libgl1-mesa-glx git\n",
      " ---> Using cache\n",
      " ---> eb1bded5b0e6\n",
      "Step 6/8 : RUN pip3 install pandas==0.25.3 scikit-learn==0.21.3 numpy Pillow opencv-python boto3 tqdm cython\n",
      " ---> Using cache\n",
      " ---> 5b1eb1c2de72\n",
      "Step 7/8 : ENV PYTHONUNBUFFERED=TRUE\n",
      " ---> Using cache\n",
      " ---> 5b938faf2bc3\n",
      "Step 8/8 : ENTRYPOINT [\"python3\"]\n",
      " ---> Using cache\n",
      " ---> cf922c68f342\n",
      "Successfully built cf922c68f342\n",
      "Successfully tagged sitecli-inference-preprocessing-container-v0:latest\n"
     ]
    }
   ],
   "source": [
    "!docker build -t $ecr_repository docker"
   ]
  },
  {
   "cell_type": "code",
   "execution_count": 5,
   "metadata": {},
   "outputs": [
    {
     "name": "stdout",
     "output_type": "stream",
     "text": [
      "The push refers to repository [395166463292.dkr.ecr.us-east-2.amazonaws.com/sitecli-inference-preprocessing-container-v0]\n",
      "\n",
      "\u001b[1B59731650: Preparing \n",
      "\u001b[1Be398039c: Preparing \n",
      "\u001b[1B3c45f2b6: Preparing \n",
      "\u001b[1B2d1b54ad: Preparing \n",
      "\u001b[1B28556ea3: Preparing \n",
      "\u001b[1Bbbf2ef8c: Preparing \n",
      "\u001b[1B0e907f05: Preparing \n",
      "\u001b[1Be27dc3b8: Preparing \n",
      "\u001b[1Bc5106335: Preparing \n",
      "\u001b[1Bf5e22660: Preparing \n",
      "\u001b[1B96232ed8: Preparing \n",
      "\u001b[1B0d2b5482: Preparing \n",
      "\u001b[5Bc5106335: Pushed   520.4MB/509.9MB\u001b[2K\u001b[12A\u001b[2K\u001b[10A\u001b[2K\u001b[12A\u001b[2K\u001b[10A\u001b[2K\u001b[12A\u001b[2K\u001b[10A\u001b[2K\u001b[12A\u001b[2K\u001b[10A\u001b[2K\u001b[12A\u001b[2K\u001b[13A\u001b[2K\u001b[9A\u001b[2K\u001b[12A\u001b[2K\u001b[11A\u001b[2K\u001b[12A\u001b[2K\u001b[10A\u001b[2K\u001b[9A\u001b[2K\u001b[12A\u001b[2K\u001b[12A\u001b[2K\u001b[9A\u001b[2K\u001b[12A\u001b[2K\u001b[10A\u001b[2K\u001b[13A\u001b[2K\u001b[10A\u001b[2K\u001b[12A\u001b[2K\u001b[8A\u001b[2K\u001b[12A\u001b[2K\u001b[10A\u001b[2K\u001b[10A\u001b[2K\u001b[12A\u001b[2K\u001b[13A\u001b[2K\u001b[13A\u001b[2K\u001b[13A\u001b[2K\u001b[9A\u001b[2K\u001b[12A\u001b[2K\u001b[13A\u001b[2K\u001b[12A\u001b[2K\u001b[13A\u001b[2K\u001b[12A\u001b[2K\u001b[13A\u001b[2K\u001b[13A\u001b[2K\u001b[12A\u001b[2K\u001b[13A\u001b[2K\u001b[12A\u001b[2K\u001b[7A\u001b[2K\u001b[12A\u001b[2K\u001b[6A\u001b[2K\u001b[12A\u001b[2K\u001b[13A\u001b[2K\u001b[12A\u001b[2K\u001b[10A\u001b[2K\u001b[7A\u001b[2K\u001b[13A\u001b[2K\u001b[6A\u001b[2K\u001b[13A\u001b[2K\u001b[12A\u001b[2K\u001b[13A\u001b[2K\u001b[6A\u001b[2K\u001b[13A\u001b[2K\u001b[6A\u001b[2K\u001b[13A\u001b[2K\u001b[12A\u001b[2K\u001b[13A\u001b[2K\u001b[12A\u001b[2K\u001b[13A\u001b[2K\u001b[12A\u001b[2K\u001b[6A\u001b[2K\u001b[12A\u001b[2K\u001b[6A\u001b[2K\u001b[13A\u001b[2K\u001b[6A\u001b[2K\u001b[5A\u001b[2K\u001b[13A\u001b[2K\u001b[7A\u001b[2K\u001b[13A\u001b[2K\u001b[5A\u001b[2K\u001b[5A\u001b[2K\u001b[13A\u001b[2K\u001b[5A\u001b[2K\u001b[13A\u001b[2K\u001b[5A\u001b[2K\u001b[13A\u001b[2K\u001b[5A\u001b[2K\u001b[7A\u001b[2K\u001b[13A\u001b[2K\u001b[5A\u001b[2K\u001b[13A\u001b[2K\u001b[5A\u001b[2K\u001b[13A\u001b[2K\u001b[5A\u001b[2K\u001b[7A\u001b[2K\u001b[13A\u001b[2K\u001b[7A\u001b[2K\u001b[13A\u001b[2K\u001b[5A\u001b[2K\u001b[13A\u001b[2K\u001b[5A\u001b[2K\u001b[13A\u001b[2K\u001b[5A\u001b[2K\u001b[13A\u001b[2K\u001b[5A\u001b[2K\u001b[13A\u001b[2K\u001b[7A\u001b[2K\u001b[5A\u001b[2K\u001b[13A\u001b[2K\u001b[5A\u001b[2K\u001b[13A\u001b[2K\u001b[5A\u001b[2K\u001b[13A\u001b[2K\u001b[7A\u001b[2K\u001b[4A\u001b[2K\u001b[13A\u001b[2K\u001b[3A\u001b[2K\u001b[13A\u001b[2K\u001b[3A\u001b[2K\u001b[13A\u001b[2K\u001b[3A\u001b[2K\u001b[13A\u001b[2K\u001b[5A\u001b[2K\u001b[4A\u001b[2K\u001b[5A\u001b[2K\u001b[4A\u001b[2K\u001b[13A\u001b[2K\u001b[4A\u001b[2K\u001b[13A\u001b[2K\u001b[5A\u001b[2K\u001b[13A\u001b[2K\u001b[3A\u001b[2K\u001b[13A\u001b[2K\u001b[4A\u001b[2K\u001b[5A\u001b[2K\u001b[13A\u001b[2K\u001b[5A\u001b[2K\u001b[13A\u001b[2K\u001b[3A\u001b[2K\u001b[5A\u001b[2K\u001b[3A\u001b[2K\u001b[5A\u001b[2K\u001b[3A\u001b[2K\u001b[5A\u001b[2K\u001b[4A\u001b[2K\u001b[5A\u001b[2K\u001b[4A\u001b[2K\u001b[5A\u001b[2K\u001b[4A\u001b[2K\u001b[5A\u001b[2K\u001b[4A\u001b[2K\u001b[13A\u001b[2K\u001b[2A\u001b[2K\u001b[13A\u001b[2K\u001b[2A\u001b[2K\u001b[13A\u001b[2K\u001b[5A\u001b[2K\u001b[13A\u001b[2K\u001b[5A\u001b[2K\u001b[13A\u001b[2K\u001b[5A\u001b[2K\u001b[13A\u001b[2K\u001b[4A\u001b[2K\u001b[13A\u001b[2K\u001b[4A\u001b[2K\u001b[5A\u001b[2K\u001b[13A\u001b[2K\u001b[2A\u001b[2K\u001b[5A\u001b[2K\u001b[2A\u001b[2K\u001b[13A\u001b[2K\u001b[2A\u001b[2K\u001b[13A\u001b[2K\u001b[4A\u001b[2K\u001b[3A\u001b[2K\u001b[4A\u001b[2K\u001b[13A\u001b[2K\u001b[4A\u001b[2K\u001b[13A\u001b[2K\u001b[4A\u001b[2K\u001b[5A\u001b[2K\u001b[4A\u001b[2K\u001b[5A\u001b[2K\u001b[13A\u001b[2K\u001b[5A\u001b[2K\u001b[4A\u001b[2K\u001b[13A\u001b[2K\u001b[1A\u001b[2K\u001b[13A\u001b[2K\u001b[5A\u001b[2K\u001b[4A\u001b[2K\u001b[5A\u001b[2K\u001b[1A\u001b[2K\u001b[5A\u001b[2K\u001b[1A\u001b[2K\u001b[5A\u001b[2K\u001b[1A\u001b[2K\u001b[5A\u001b[2K\u001b[4A\u001b[2K\u001b[13A\u001b[2K\u001b[5A\u001b[2K\u001b[4A\u001b[2K\u001b[5A\u001b[2K\u001b[4A\u001b[2K\u001b[1A\u001b[2K\u001b[4A\u001b[2K\u001b[13A\u001b[2K\u001b[5A\u001b[2K\u001b[1A\u001b[2K\u001b[5A\u001b[2K\u001b[13A\u001b[2K\u001b[1A\u001b[2K\u001b[13A\u001b[2K\u001b[13A\u001b[2K\u001b[5A\u001b[2K\u001b[1A\u001b[2K\u001b[5A\u001b[2K\u001b[13A\u001b[2K\u001b[5A\u001b[2K\u001b[13A\u001b[2K\u001b[4A\u001b[2K\u001b[5A\u001b[2K\u001b[1A\u001b[2K\u001b[5A\u001b[2K\u001b[1A\u001b[2K\u001b[5A\u001b[2K\u001b[13A\u001b[2K\u001b[4A\u001b[2K\u001b[5A\u001b[2K\u001b[4A\u001b[2K\u001b[13A\u001b[2K\u001b[4A\u001b[2K\u001b[13A\u001b[2K\u001b[1A\u001b[2K\u001b[13A\u001b[2K\u001b[1A\u001b[2K\u001b[13A\u001b[2K\u001b[1A\u001b[2K\u001b[13A\u001b[2K\u001b[5A\u001b[2K\u001b[13A\u001b[2K\u001b[5A\u001b[2K\u001b[13A\u001b[2K\u001b[13A\u001b[2K\u001b[13A\u001b[2K\u001b[4A\u001b[2K\u001b[13A\u001b[2K\u001b[1A\u001b[2K\u001b[13A\u001b[2K\u001b[1A\u001b[2K\u001b[4A\u001b[2K\u001b[13A\u001b[2K\u001b[4A\u001b[2K\u001b[13A\u001b[2K\u001b[4A\u001b[2K\u001b[13A\u001b[2K\u001b[5A\u001b[2K\u001b[13A\u001b[2K\u001b[5A\u001b[2K\u001b[13A\u001b[2K\u001b[1A\u001b[2K\u001b[4A\u001b[2K\u001b[13A\u001b[2K\u001b[5A\u001b[2K\u001b[13A\u001b[2K\u001b[1A\u001b[2K\u001b[13A\u001b[2K\u001b[1A\u001b[2K\u001b[13A\u001b[2K\u001b[1A\u001b[2K\u001b[5A\u001b[2K\u001b[1A\u001b[2K\u001b[5A\u001b[2K\u001b[1A\u001b[2K\u001b[5A\u001b[2K\u001b[13A\u001b[2K\u001b[1A\u001b[2K\u001b[13A\u001b[2K\u001b[1A\u001b[2K\u001b[13A\u001b[2K\u001b[1A\u001b[2K\u001b[13A\u001b[2K\u001b[1A\u001b[2K\u001b[13A\u001b[2K\u001b[1A\u001b[2K\u001b[5A\u001b[2K\u001b[13A\u001b[2K\u001b[5A\u001b[2K\u001b[13A\u001b[2K\u001b[5A\u001b[2K\u001b[13A\u001b[2K\u001b[5A\u001b[2K\u001b[1A\u001b[2K\u001b[5A\u001b[2K\u001b[1A\u001b[2K\u001b[5A\u001b[2K\u001b[1A\u001b[2K\u001b[1A\u001b[2K\u001b[13A\u001b[2K\u001b[1A\u001b[2K\u001b[13A\u001b[2K\u001b[1A\u001b[2K\u001b[5A\u001b[2K\u001b[5A\u001b[2K\u001b[13A\u001b[2K\u001b[5A\u001b[2K\u001b[13A\u001b[2K\u001b[5A\u001b[2K\u001b[13A\u001b[2K\u001b[5A\u001b[2K\u001b[13A\u001b[2K\u001b[5A\u001b[2K\u001b[5A\u001b[2K\u001b[5A\u001b[2K\u001b[13A\u001b[2K\u001b[5A\u001b[2K\u001b[13A\u001b[2K\u001b[5A\u001b[2K\u001b[13A\u001b[2K\u001b[5A\u001b[2K\u001b[13A\u001b[2K\u001b[5A\u001b[2K\u001b[5A\u001b[2K\u001b[13A\u001b[2K\u001b[5A\u001b[2K\u001b[13A\u001b[2K\u001b[5A\u001b[2K\u001b[13A\u001b[2K\u001b[5A\u001b[2K\u001b[13A\u001b[2K\u001b[5A\u001b[2K\u001b[13A\u001b[2K\u001b[5A\u001b[2K\u001b[13A\u001b[2K\u001b[5A\u001b[2K\u001b[13A\u001b[2K\u001b[5A\u001b[2K\u001b[13A\u001b[2K\u001b[5A\u001b[2K\u001b[13A\u001b[2K\u001b[5A\u001b[2K\u001b[13A\u001b[2K\u001b[5A\u001b[2K\u001b[13A\u001b[2K\u001b[5A\u001b[2K\u001b[13A\u001b[2K\u001b[5A\u001b[2K\u001b[13A\u001b[2K\u001b[5A\u001b[2K\u001b[13A\u001b[2K\u001b[5A\u001b[2K\u001b[13A\u001b[2K\u001b[5A\u001b[2K\u001b[13A\u001b[2K\u001b[13A\u001b[2K\u001b[5A\u001b[2K\u001b[13A\u001b[2K\u001b[5A\u001b[2K\u001b[13A\u001b[2K\u001b[5A\u001b[2K\u001b[5A\u001b[2K\u001b[5A\u001b[2K\u001b[5A\u001b[2K\u001b[5A\u001b[2K\u001b[5A\u001b[2K\u001b[5A\u001b[2K\u001b[5A\u001b[2K\u001b[5A\u001b[2K\u001b[5A\u001b[2K\u001b[5A\u001b[2K\u001b[5A\u001b[2K\u001b[13A\u001b[2K\u001b[5A\u001b[2K\u001b[5A\u001b[2K\u001b[5A\u001b[2K\u001b[5A\u001b[2K\u001b[5A\u001b[2K\u001b[5A\u001b[2K\u001b[5A\u001b[2K\u001b[5A\u001b[2K\u001b[5A\u001b[2K\u001b[5A\u001b[2K\u001b[5A\u001b[2K\u001b[5A\u001b[2K\u001b[5A\u001b[2K\u001b[5A\u001b[2K\u001b[5A\u001b[2K\u001b[5A\u001b[2K\u001b[5A\u001b[2K\u001b[5A\u001b[2K\u001b[5A\u001b[2K\u001b[5A\u001b[2K\u001b[5A\u001b[2K\u001b[5A\u001b[2K\u001b[5A\u001b[2K\u001b[5A\u001b[2K\u001b[5A\u001b[2K\u001b[5A\u001b[2K\u001b[5A\u001b[2K\u001b[5A\u001b[2K\u001b[5A\u001b[2K\u001b[5A\u001b[2K\u001b[5A\u001b[2K\u001b[5A\u001b[2K\u001b[5A\u001b[2K\u001b[5A\u001b[2K\u001b[5A\u001b[2K\u001b[5A\u001b[2K\u001b[5A\u001b[2K\u001b[5A\u001b[2K\u001b[5A\u001b[2K\u001b[5A\u001b[2K\u001b[5A\u001b[2K\u001b[5A\u001b[2K\u001b[5A\u001b[2K\u001b[5A\u001b[2K\u001b[5A\u001b[2K\u001b[5A\u001b[2K\u001b[5A\u001b[2K\u001b[5A\u001b[2K\u001b[5A\u001b[2K\u001b[5A\u001b[2K\u001b[5A\u001b[2K\u001b[5A\u001b[2K\u001b[5A\u001b[2K\u001b[5A\u001b[2K\u001b[5A\u001b[2K\u001b[5A\u001b[2K\u001b[5A\u001b[2K\u001b[5A\u001b[2Klatest: digest: sha256:9494f392afbd436c808acabab49ba182d04bca07afcf1530a87a213e112fe72a size: 3062\n"
     ]
    }
   ],
   "source": [
    "!docker tag {ecr_repository + tag} $processing_repository_uri\n",
    "!docker push $processing_repository_uri"
   ]
  },
  {
   "cell_type": "code",
   "execution_count": 13,
   "metadata": {},
   "outputs": [
    {
     "data": {
      "text/plain": [
       "'395166463292.dkr.ecr.us-east-2.amazonaws.com/sitecli-inference-preprocessing-container-v0:latest'"
      ]
     },
     "execution_count": 13,
     "metadata": {},
     "output_type": "execute_result"
    }
   ],
   "source": [
    "processing_repository_uri"
   ]
  },
  {
   "cell_type": "code",
   "execution_count": 6,
   "metadata": {},
   "outputs": [],
   "source": [
    "from sagemaker.processing import ScriptProcessor, ProcessingInput, ProcessingOutput\n",
    "\n",
    "script_processor = ScriptProcessor(\n",
    "    command=[\"python3\"],\n",
    "    image_uri=processing_repository_uri,\n",
    "    role=SAGEMAKER_ROLE,\n",
    "    instance_count=1,\n",
    "    instance_type=\"ml.r5.large\",\n",
    "    sagemaker_session=sagemaker_session,\n",
    ")"
   ]
  },
  {
   "cell_type": "code",
   "execution_count": 14,
   "metadata": {},
   "outputs": [],
   "source": [
    "s3 = boto_session.resource(\"s3\")"
   ]
  },
  {
   "cell_type": "code",
   "execution_count": 20,
   "metadata": {},
   "outputs": [],
   "source": [
    "import re"
   ]
  },
  {
   "cell_type": "code",
   "execution_count": 79,
   "metadata": {},
   "outputs": [],
   "source": [
    "path = \"s3://afdf-dfad.dfa/rajfasd/f.png\""
   ]
  },
  {
   "cell_type": "code",
   "execution_count": 80,
   "metadata": {},
   "outputs": [],
   "source": [
    "pattern = \"s3://([a-z0-9-.]+)/([\\x00-\\x7F]+)\""
   ]
  },
  {
   "cell_type": "code",
   "execution_count": 82,
   "metadata": {},
   "outputs": [
    {
     "data": {
      "text/plain": [
       "'afdf-dfad.dfa'"
      ]
     },
     "execution_count": 82,
     "metadata": {},
     "output_type": "execute_result"
    }
   ],
   "source": [
    "re.search(pattern, path)[1]"
   ]
  },
  {
   "cell_type": "code",
   "execution_count": 83,
   "metadata": {},
   "outputs": [],
   "source": [
    "import datetime"
   ]
  },
  {
   "cell_type": "code",
   "execution_count": 96,
   "metadata": {},
   "outputs": [],
   "source": [
    "wtl = datetime.datetime.utcnow()"
   ]
  },
  {
   "cell_type": "code",
   "execution_count": 97,
   "metadata": {},
   "outputs": [
    {
     "data": {
      "text/plain": [
       "datetime.datetime(2020, 9, 15, 1, 3, 56, 52329)"
      ]
     },
     "execution_count": 97,
     "metadata": {},
     "output_type": "execute_result"
    }
   ],
   "source": [
    "wtl"
   ]
  },
  {
   "cell_type": "code",
   "execution_count": 99,
   "metadata": {},
   "outputs": [
    {
     "data": {
      "text/plain": [
       "'2020-09-15-01-03-56-052329'"
      ]
     },
     "execution_count": 99,
     "metadata": {},
     "output_type": "execute_result"
    }
   ],
   "source": [
    "wtl.strftime(\"%Y-%m-%d-%H-%M-%S-%f\")"
   ]
  },
  {
   "cell_type": "code",
   "execution_count": 18,
   "metadata": {},
   "outputs": [
    {
     "ename": "ValueError",
     "evalue": "Required parameter key not set",
     "output_type": "error",
     "traceback": [
      "\u001b[0;31m---------------------------------------------------------------------------\u001b[0m",
      "\u001b[0;31mValueError\u001b[0m                                Traceback (most recent call last)",
      "\u001b[0;32m<ipython-input-18-30ca83ea3954>\u001b[0m in \u001b[0;36m<module>\u001b[0;34m\u001b[0m\n\u001b[0;32m----> 1\u001b[0;31m \u001b[0mwtl\u001b[0m \u001b[0;34m=\u001b[0m \u001b[0ms3\u001b[0m\u001b[0;34m.\u001b[0m\u001b[0mObject\u001b[0m\u001b[0;34m(\u001b[0m\u001b[0;34m'st-crayon/TestSite/ri4386_chicagoil_DBM6891680292_2020.ti'\u001b[0m\u001b[0;34m)\u001b[0m\u001b[0;34m.\u001b[0m\u001b[0mload\u001b[0m\u001b[0;34m(\u001b[0m\u001b[0;34m)\u001b[0m\u001b[0;34m\u001b[0m\u001b[0;34m\u001b[0m\u001b[0m\n\u001b[0m",
      "\u001b[0;32m~/work/site/ai-automation/venv/lib/python3.7/site-packages/boto3/resources/factory.py\u001b[0m in \u001b[0;36mcreate_resource\u001b[0;34m(self, *args, **kwargs)\u001b[0m\n\u001b[1;32m    472\u001b[0m \u001b[0;34m\u001b[0m\u001b[0m\n\u001b[1;32m    473\u001b[0m             return partial(resource_cls, *positional_args,\n\u001b[0;32m--> 474\u001b[0;31m                            client=self.meta.client)(*args, **kwargs)\n\u001b[0m\u001b[1;32m    475\u001b[0m \u001b[0;34m\u001b[0m\u001b[0m\n\u001b[1;32m    476\u001b[0m         \u001b[0mcreate_resource\u001b[0m\u001b[0;34m.\u001b[0m\u001b[0m__name__\u001b[0m \u001b[0;34m=\u001b[0m \u001b[0mstr\u001b[0m\u001b[0;34m(\u001b[0m\u001b[0mname\u001b[0m\u001b[0;34m)\u001b[0m\u001b[0;34m\u001b[0m\u001b[0;34m\u001b[0m\u001b[0m\n",
      "\u001b[0;32m~/work/site/ai-automation/venv/lib/python3.7/site-packages/boto3/resources/base.py\u001b[0m in \u001b[0;36m__init__\u001b[0;34m(self, *args, **kwargs)\u001b[0m\n\u001b[1;32m    117\u001b[0m             \u001b[0;32mif\u001b[0m \u001b[0mgetattr\u001b[0m\u001b[0;34m(\u001b[0m\u001b[0mself\u001b[0m\u001b[0;34m,\u001b[0m \u001b[0midentifier\u001b[0m\u001b[0;34m)\u001b[0m \u001b[0;32mis\u001b[0m \u001b[0;32mNone\u001b[0m\u001b[0;34m:\u001b[0m\u001b[0;34m\u001b[0m\u001b[0;34m\u001b[0m\u001b[0m\n\u001b[1;32m    118\u001b[0m                 raise ValueError(\n\u001b[0;32m--> 119\u001b[0;31m                     'Required parameter {0} not set'.format(identifier))\n\u001b[0m\u001b[1;32m    120\u001b[0m \u001b[0;34m\u001b[0m\u001b[0m\n\u001b[1;32m    121\u001b[0m     \u001b[0;32mdef\u001b[0m \u001b[0m__repr__\u001b[0m\u001b[0;34m(\u001b[0m\u001b[0mself\u001b[0m\u001b[0;34m)\u001b[0m\u001b[0;34m:\u001b[0m\u001b[0;34m\u001b[0m\u001b[0;34m\u001b[0m\u001b[0m\n",
      "\u001b[0;31mValueError\u001b[0m: Required parameter key not set"
     ]
    }
   ],
   "source": [
    "wtl = s3.Object('st-crayon', 'TestSite/ri4386_chicagoil_DBM6891680292_2020.tif').load()"
   ]
  },
  {
   "cell_type": "code",
   "execution_count": 16,
   "metadata": {},
   "outputs": [],
   "source": [
    "wtl"
   ]
  },
  {
   "cell_type": "code",
   "execution_count": 100,
   "metadata": {},
   "outputs": [
    {
     "name": "stdout",
     "output_type": "stream",
     "text": [
      "\n",
      "Job Name:  sitecli-inference-preprocessing-contain-2020-09-15-02-07-08-976\n",
      "Inputs:  [{'InputName': 'input-1', 'S3Input': {'S3Uri': 's3://st-crayon-dev/cli/inference/raw_input/ri4386_chicagoil_DBM6891680292_2020.tif', 'LocalPath': '/opt/ml/processing/input/data/', 'S3DataType': 'S3Prefix', 'S3InputMode': 'File', 'S3DataDistributionType': 'FullyReplicated', 'S3CompressionType': 'None'}}, {'InputName': 'code', 'S3Input': {'S3Uri': 's3://sagemaker-us-east-2-395166463292/sitecli-inference-preprocessing-contain-2020-09-15-02-07-08-976/input/code/preprocess.py', 'LocalPath': '/opt/ml/processing/input/code', 'S3DataType': 'S3Prefix', 'S3InputMode': 'File', 'S3DataDistributionType': 'FullyReplicated', 'S3CompressionType': 'None'}}]\n",
      "Outputs:  [{'OutputName': 'output-1', 'S3Output': {'S3Uri': 's3://st-crayon-dev/cli/inference/input_crops', 'LocalPath': '/opt/ml/processing/output/test/', 'S3UploadMode': 'Continuous'}}]\n",
      "........................\n",
      ".."
     ]
    }
   ],
   "source": [
    "script_processor.run(\n",
    "    code=\"preprocess.py\",\n",
    "    inputs=[\n",
    "        ProcessingInput(\n",
    "            source=\"s3://st-crayon-dev/cli/inference/raw_input/ri4386_chicagoil_DBM6891680292_2020.tif\",\n",
    "            destination=\"/opt/ml/processing/input/data/\",\n",
    "        )\n",
    "    ],\n",
    "    outputs=[\n",
    "        ProcessingOutput(\n",
    "            source=\"/opt/ml/processing/output/test/\",\n",
    "            destination=f\"s3://st-crayon-dev/cli/inference/input_crops\",\n",
    "            s3_upload_mode=\"Continuous\",\n",
    "        ),\n",
    "    ],\n",
    "    arguments=[\n",
    "        \"crop_width\",\n",
    "        \"896\",\n",
    "        \"crop_height\",\n",
    "        \"896\",\n",
    "        \"input_width\",\n",
    "        \"224\",\n",
    "        \"input_height\",\n",
    "        \"224\",\n",
    "        \"overlap_factor\",\n",
    "        \"3\",\n",
    "    ],\n",
    ")"
   ]
  },
  {
   "cell_type": "code",
   "execution_count": 101,
   "metadata": {},
   "outputs": [
    {
     "data": {
      "text/plain": [
       "'5756'"
      ]
     },
     "execution_count": 101,
     "metadata": {},
     "output_type": "execute_result"
    }
   ],
   "source": [
    "str(5756)"
   ]
  },
  {
   "cell_type": "code",
   "execution_count": null,
   "metadata": {},
   "outputs": [],
   "source": []
  }
 ],
 "metadata": {
  "kernelspec": {
   "display_name": "site",
   "language": "python",
   "name": "site"
  },
  "language_info": {
   "codemirror_mode": {
    "name": "ipython",
    "version": 3
   },
   "file_extension": ".py",
   "mimetype": "text/x-python",
   "name": "python",
   "nbconvert_exporter": "python",
   "pygments_lexer": "ipython3",
   "version": "3.7.9"
  }
 },
 "nbformat": 4,
 "nbformat_minor": 4
}
