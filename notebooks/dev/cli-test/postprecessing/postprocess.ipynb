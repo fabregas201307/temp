{
 "cells": [
  {
   "cell_type": "code",
   "execution_count": 35,
   "metadata": {},
   "outputs": [],
   "source": [
    "import sagemaker\n",
    "import boto3\n",
    "\n",
    "import numpy as np"
   ]
  },
  {
   "cell_type": "code",
   "execution_count": 36,
   "metadata": {},
   "outputs": [],
   "source": [
    "profile_name = 'crayon-site'\n",
    "\n",
    "boto3.setup_default_session(profile_name=profile_name)\n",
    "\n",
    "boto_session = boto3.Session(profile_name=profile_name) # specify your local aws profile\n",
    "sagemaker_session = sagemaker.Session(boto_session)\n",
    "SAGEMAKER_ROLE = \"AmazonSageMaker-ExecutionRole-20200714T182988\"\n",
    "\n",
    "account_id = boto_session.client(\"sts\").get_caller_identity().get(\"Account\")\n",
    "region_name = \"us-east-2\"\n",
    "ecr_repository = \"sitecli-inference-preprocessing-container-v0\"\n",
    "tag = ':latest'\n",
    "\n",
    "processing_repository_uri = \"{}.dkr.ecr.{}.amazonaws.com/{}\".format(\n",
    "    account_id, region_name, ecr_repository + tag\n",
    ")"
   ]
  },
  {
   "cell_type": "code",
   "execution_count": 37,
   "metadata": {},
   "outputs": [
    {
     "data": {
      "text/plain": [
       "'395166463292.dkr.ecr.us-east-2.amazonaws.com/sitecli-inference-preprocessing-container-v0:latest'"
      ]
     },
     "execution_count": 37,
     "metadata": {},
     "output_type": "execute_result"
    }
   ],
   "source": [
    "processing_repository_uri"
   ]
  },
  {
   "cell_type": "code",
   "execution_count": 38,
   "metadata": {},
   "outputs": [],
   "source": [
    "from sagemaker.processing import ScriptProcessor, ProcessingInput, ProcessingOutput\n",
    "\n",
    "script_processor = ScriptProcessor(\n",
    "    command=[\"python3\"],\n",
    "    image_uri=processing_repository_uri,\n",
    "    role=SAGEMAKER_ROLE,\n",
    "    instance_count=1,\n",
    "    instance_type=\"ml.r5.large\",\n",
    "    sagemaker_session=sagemaker_session,\n",
    ")"
   ]
  },
  {
   "cell_type": "code",
   "execution_count": 40,
   "metadata": {},
   "outputs": [
    {
     "name": "stdout",
     "output_type": "stream",
     "text": [
      "\n",
      "Job Name:  sitecli-inference-preprocessing-contain-2020-09-15-03-24-12-913\n",
      "Inputs:  [{'InputName': 'input-1', 'S3Input': {'S3Uri': 's3://st-crayon-dev/cli/inference/2020-09-15-02-49-43-939113/output_crops', 'LocalPath': '/opt/ml/processing/input/data/', 'S3DataType': 'S3Prefix', 'S3InputMode': 'File', 'S3DataDistributionType': 'FullyReplicated', 'S3CompressionType': 'None'}}, {'InputName': 'code', 'S3Input': {'S3Uri': 's3://sagemaker-us-east-2-395166463292/sitecli-inference-preprocessing-contain-2020-09-15-03-24-12-913/input/code/postprocess.py', 'LocalPath': '/opt/ml/processing/input/code', 'S3DataType': 'S3Prefix', 'S3InputMode': 'File', 'S3DataDistributionType': 'FullyReplicated', 'S3CompressionType': 'None'}}]\n",
      "Outputs:  [{'OutputName': 'output-1', 'S3Output': {'S3Uri': 's3://sagemaker-us-east-2-395166463292/sitecli-inference-preprocessing-contain-2020-09-15-03-24-12-913/output/output-1', 'LocalPath': '/opt/ml/processing/output/test/', 'S3UploadMode': 'Continuous'}}]\n",
      ".............................................\n",
      ".."
     ]
    }
   ],
   "source": [
    "script_processor.run(\n",
    "    code=\"postprocess.py\",\n",
    "    inputs=[\n",
    "        ProcessingInput(\n",
    "            source=\"s3://st-crayon-dev/cli/inference/2020-09-15-02-49-43-939113/output_crops\",\n",
    "            destination=\"/opt/ml/processing/input/data/\",\n",
    "        )\n",
    "    ],\n",
    "    outputs=[\n",
    "        ProcessingOutput(\n",
    "            source=\"/opt/ml/processing/output/test/\",\n",
    "            destination=\"s3://st-crayon-dev/cli/inference/2020-09-15-02-49-43-939113/output_mask\",\n",
    "            s3_upload_mode=\"Continuous\",\n",
    "        ),\n",
    "    ],\n",
    "    arguments=[\n",
    "        \"crop_width\",\n",
    "        \"896\",\n",
    "        \"crop_height\",\n",
    "        \"896\",\n",
    "        \"input_width\",\n",
    "        \"224\",\n",
    "        \"input_height\",\n",
    "        \"224\",\n",
    "        \"n_classes\",\n",
    "        \"6\",\n",
    "    ],\n",
    ")"
   ]
  },
  {
   "cell_type": "code",
   "execution_count": null,
   "metadata": {},
   "outputs": [],
   "source": []
  }
 ],
 "metadata": {
  "kernelspec": {
   "display_name": "site",
   "language": "python",
   "name": "site"
  },
  "language_info": {
   "codemirror_mode": {
    "name": "ipython",
    "version": 3
   },
   "file_extension": ".py",
   "mimetype": "text/x-python",
   "name": "python",
   "nbconvert_exporter": "python",
   "pygments_lexer": "ipython3",
   "version": "3.7.9"
  }
 },
 "nbformat": 4,
 "nbformat_minor": 4
}
