{
 "cells": [
  {
   "cell_type": "markdown",
   "metadata": {},
   "source": [
    "## Setup"
   ]
  },
  {
   "cell_type": "code",
   "execution_count": 350,
   "metadata": {},
   "outputs": [],
   "source": [
    "import pandas as pd\n",
    "import boto3\n",
    "import os\n",
    "from pathlib import Path\n",
    "pd.set_option('display.max_columns', 500)"
   ]
  },
  {
   "cell_type": "code",
   "execution_count": 351,
   "metadata": {},
   "outputs": [],
   "source": [
    "from site_tools import get_image_files\n",
    "from site_tools.metadata_tools import extract_metadata"
   ]
  },
  {
   "cell_type": "code",
   "execution_count": 352,
   "metadata": {},
   "outputs": [],
   "source": [
    "path_data = Path.home() / 'data/site'\n",
    "path_images = path_data / 'images'"
   ]
  },
  {
   "cell_type": "markdown",
   "metadata": {},
   "source": [
    "## Get metadata"
   ]
  },
  {
   "cell_type": "code",
   "execution_count": 353,
   "metadata": {},
   "outputs": [],
   "source": [
    "fns = get_image_files(path_images)"
   ]
  },
  {
   "cell_type": "markdown",
   "metadata": {},
   "source": [
    "This will remove unloadable images from the filesystem. Optionally, don't remove the file but just modify the `fns` list using the last line below. Commented out due to filesystem changes. The verify_images runs in parallel, but still not fast having to open every image.\n"
   ]
  },
  {
   "cell_type": "code",
   "execution_count": 296,
   "metadata": {},
   "outputs": [],
   "source": [
    "# bad = verify_images(fns)\n",
    "# for bad_file in bad:\n",
    "#     os.remove(bad_file)\n",
    "# fns = [fn for fn in fns if not fn in set(bad)]"
   ]
  },
  {
   "cell_type": "code",
   "execution_count": 354,
   "metadata": {},
   "outputs": [],
   "source": [
    "df = extract_metadata(path_images)"
   ]
  },
  {
   "cell_type": "markdown",
   "metadata": {},
   "source": [
    "## Cleanup metadata"
   ]
  },
  {
   "cell_type": "markdown",
   "metadata": {},
   "source": [
    "Started to cleanup some of the metadata, but much more needs to be done."
   ]
  },
  {
   "cell_type": "code",
   "execution_count": 355,
   "metadata": {},
   "outputs": [],
   "source": [
    "def replace_plus_in_degree(df, cols):\n",
    "    if type(cols) == str:\n",
    "        cols = [cols]\n",
    "    for col in cols:\n",
    "        if df[col].dtype != np.number:\n",
    "            df[col] = df[col].str.replace('+', '')"
   ]
  },
  {
   "cell_type": "code",
   "execution_count": 356,
   "metadata": {},
   "outputs": [],
   "source": [
    "def convert_col_to_float(df, cols):\n",
    "    if type(cols) == str:\n",
    "        cols = [cols]\n",
    "    for col in cols:        \n",
    "        df[col] = df[col].astype(float)"
   ]
  },
  {
   "cell_type": "code",
   "execution_count": 357,
   "metadata": {},
   "outputs": [],
   "source": [
    "def convert_col_to_str(df, cols):\n",
    "    if type(cols) == str:\n",
    "        cols = [cols]\n",
    "    for col in cols:\n",
    "        df[col] = df[col].astype(str)"
   ]
  },
  {
   "cell_type": "code",
   "execution_count": 358,
   "metadata": {},
   "outputs": [],
   "source": [
    "deg_cols = ['XMP:AbsoluteAltitude', 'XMP:RelativeAltitude',\n",
    "            'XMP:GimbalRollDegree', 'XMP:GimbalYawDegree',\n",
    "            'XMP:GimbalPitchDegree', 'XMP:FlightRollDegree',\n",
    "            'XMP:FlightYawDegree', 'XMP:FlightPitchDegree', 'XMP:GPSLatitude',\n",
    "            'XMP:FlightXSpeed', 'XMP:FlightYSpeed', 'XMP:FlightZSpeed']"
   ]
  },
  {
   "cell_type": "code",
   "execution_count": 359,
   "metadata": {},
   "outputs": [],
   "source": [
    "float_cols = ['EXIF:ShutterSpeedValue', 'Composite:CircleOfConfusion']\n",
    "null_cols = ['EXIF:SubSecTimeOriginal', 'EXIF:SubSecTimeDigitized']\n",
    "str_cols = ['EXIF:Software']"
   ]
  },
  {
   "cell_type": "code",
   "execution_count": 360,
   "metadata": {},
   "outputs": [],
   "source": [
    "replace_plus_in_degree(df, deg_cols)\n",
    "convert_col_to_float(df, float_cols + deg_cols + null_cols)\n",
    "convert_col_to_str(df, str_cols)"
   ]
  },
  {
   "cell_type": "markdown",
   "metadata": {},
   "source": [
    "## Save metadata"
   ]
  },
  {
   "cell_type": "markdown",
   "metadata": {},
   "source": [
    "### Locally"
   ]
  },
  {
   "cell_type": "code",
   "execution_count": 361,
   "metadata": {},
   "outputs": [],
   "source": [
    "df.to_json(path_data / 'raw' / 'metadata.json')"
   ]
  },
  {
   "cell_type": "markdown",
   "metadata": {},
   "source": [
    "### To S3"
   ]
  },
  {
   "cell_type": "code",
   "execution_count": 362,
   "metadata": {},
   "outputs": [],
   "source": [
    "boto3.setup_default_session(profile_name=\"crayon-site\")\n",
    "s3 = boto3.resource(\"s3\")\n",
    "s3_client = boto3.client(\"s3\")"
   ]
  },
  {
   "cell_type": "code",
   "execution_count": 363,
   "metadata": {},
   "outputs": [],
   "source": [
    "local_path = path_data / 'raw' / 'metadata.json'\n",
    "bucket = 'st-crayon'\n",
    "s3_path = 'data/raw/' + 'metadata.json'\n",
    "s3_client.upload_file(str(local_path), bucket, str(s3_path))"
   ]
  }
 ],
 "metadata": {
  "kernelspec": {
   "display_name": "Python 3",
   "language": "python",
   "name": "python3"
  },
  "language_info": {
   "codemirror_mode": {
    "name": "ipython",
    "version": 3
   },
   "file_extension": ".py",
   "mimetype": "text/x-python",
   "name": "python",
   "nbconvert_exporter": "python",
   "pygments_lexer": "ipython3",
   "version": "3.7.7"
  },
  "toc": {
   "base_numbering": 1,
   "nav_menu": {},
   "number_sections": true,
   "sideBar": true,
   "skip_h1_title": false,
   "title_cell": "Table of Contents",
   "title_sidebar": "Contents",
   "toc_cell": false,
   "toc_position": {},
   "toc_section_display": true,
   "toc_window_display": false
  },
  "varInspector": {
   "cols": {
    "lenName": 16,
    "lenType": 16,
    "lenVar": 40
   },
   "kernels_config": {
    "python": {
     "delete_cmd_postfix": "",
     "delete_cmd_prefix": "del ",
     "library": "var_list.py",
     "varRefreshCmd": "print(var_dic_list())"
    },
    "r": {
     "delete_cmd_postfix": ") ",
     "delete_cmd_prefix": "rm(",
     "library": "var_list.r",
     "varRefreshCmd": "cat(var_dic_list()) "
    }
   },
   "types_to_exclude": [
    "module",
    "function",
    "builtin_function_or_method",
    "instance",
    "_Feature"
   ],
   "window_display": false
  }
 },
 "nbformat": 4,
 "nbformat_minor": 4
}
