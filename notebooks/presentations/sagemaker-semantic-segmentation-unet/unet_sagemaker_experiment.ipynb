{
 "cells": [
  {
   "cell_type": "markdown",
   "metadata": {},
   "source": [
    "### This notebook demonstrates how to train a U-net model with different hyperparameters as experiment trials on Sagemaker"
   ]
  },
  {
   "cell_type": "code",
   "execution_count": 1,
   "metadata": {},
   "outputs": [],
   "source": [
    "import os\n",
    "import logging\n",
    "import sagemaker\n",
    "import boto3\n",
    "from sagemaker.tensorflow import TensorFlow\n",
    "from datetime import datetime\n",
    "from smexperiments import experiment"
   ]
  },
  {
   "cell_type": "markdown",
   "metadata": {},
   "source": [
    "# Configure environment"
   ]
  },
  {
   "cell_type": "code",
   "execution_count": 2,
   "metadata": {},
   "outputs": [
    {
     "name": "stderr",
     "output_type": "stream",
     "text": [
      "INFO:botocore.credentials:Found credentials in shared credentials file: ~/.aws/credentials\n"
     ]
    }
   ],
   "source": [
    "boto_session = boto3.Session(profile_name=\"crayon-site\") # specify your local aws profile\n",
    "sagemaker_session = sagemaker.Session(boto_session)\n",
    "SAGEMAKER_ROLE = \"AmazonSageMaker-ExecutionRole-20200714T182988\""
   ]
  },
  {
   "cell_type": "code",
   "execution_count": 3,
   "metadata": {},
   "outputs": [],
   "source": [
    "AI_AUTOMATION_REPO_DIR = \"/home/tailaiw/work/site/ai-automation/\" # specific you local path to the repo"
   ]
  },
  {
   "cell_type": "markdown",
   "metadata": {},
   "source": [
    "# Setup hyperparameters"
   ]
  },
  {
   "cell_type": "markdown",
   "metadata": {},
   "source": [
    "### Fixed hyperparameters"
   ]
  },
  {
   "cell_type": "code",
   "execution_count": 4,
   "metadata": {},
   "outputs": [],
   "source": [
    "encoder = \"resnet50\"\n",
    "pretrained = 1\n",
    "\n",
    "classes = \"asphalt,concrete,rooftop,landscape,gravel\" \n",
    "classes = classes.replace(\" \", \"\")\n",
    "\n",
    "train_dataset_mode = \"random\"\n",
    "train_ratio = 0.8\n",
    "\n",
    "epochs = 100\n",
    "cache_size = 500 "
   ]
  },
  {
   "cell_type": "markdown",
   "metadata": {},
   "source": [
    "### Hyperparameters to experiment"
   ]
  },
  {
   "cell_type": "code",
   "execution_count": 5,
   "metadata": {},
   "outputs": [],
   "source": [
    "experiment_grid = [\n",
    "    {\n",
    "        \"input_width\": 224,\n",
    "        \"input_height\": 224,\n",
    "        \"crop_width\": 896,\n",
    "        \"crop_height\": 896,\n",
    "        \"crops_per_train_image\": 64,\n",
    "        \"crops_per_val_image_w\": 8,\n",
    "        \"crops_per_val_image_h\": 4,\n",
    "        \"train_batch_size\": 32,\n",
    "        \"val_batch_size\": 32,\n",
    "    },\n",
    "    {\n",
    "        \"input_width\": 224,\n",
    "        \"input_height\": 224,\n",
    "        \"crop_width\": 896 * 2,\n",
    "        \"crop_height\": 896 * 2,\n",
    "        \"crops_per_train_image\": 16,\n",
    "        \"crops_per_val_image_w\": 4,\n",
    "        \"crops_per_val_image_h\": 2,\n",
    "        \"train_batch_size\": 32,\n",
    "        \"val_batch_size\": 32,\n",
    "    },\n",
    "    {\n",
    "        \"input_width\": 224 * 2,\n",
    "        \"input_height\": 224 * 2,\n",
    "        \"crop_width\": 896,\n",
    "        \"crop_height\": 896,\n",
    "        \"crops_per_train_image\": 64,\n",
    "        \"crops_per_val_image_w\": 8,\n",
    "        \"crops_per_val_image_h\": 4,\n",
    "        \"train_batch_size\": 8,\n",
    "        \"val_batch_size\": 8,\n",
    "    },\n",
    "    {\n",
    "        \"input_width\": 224 * 2,\n",
    "        \"input_height\": 224 * 2,\n",
    "        \"crop_width\": 896 * 2,\n",
    "        \"crop_height\": 896 * 2,\n",
    "        \"crops_per_train_image\": 16,\n",
    "        \"crops_per_val_image_w\": 4,\n",
    "        \"crops_per_val_image_h\": 2,\n",
    "        \"train_batch_size\": 8,\n",
    "        \"val_batch_size\": 8,\n",
    "    },\n",
    "    {\n",
    "        \"input_width\": 224 * 4,\n",
    "        \"input_height\": 224 * 4,\n",
    "        \"crop_width\": 896,\n",
    "        \"crop_height\": 896,\n",
    "        \"crops_per_train_image\": 64,\n",
    "        \"crops_per_val_image_w\": 8,\n",
    "        \"crops_per_val_image_h\": 4,\n",
    "        \"train_batch_size\": 4,\n",
    "        \"val_batch_size\": 4,\n",
    "    },\n",
    "    {\n",
    "        \"input_width\": 224 * 4,\n",
    "        \"input_height\": 224 * 4,\n",
    "        \"crop_width\": 896 * 2,\n",
    "        \"crop_height\": 896 * 2,\n",
    "        \"crops_per_train_image\": 16,\n",
    "        \"crops_per_val_image_w\": 4,\n",
    "        \"crops_per_val_image_h\": 2,\n",
    "        \"train_batch_size\": 4,\n",
    "        \"val_batch_size\": 4,\n",
    "    },\n",
    "]"
   ]
  },
  {
   "cell_type": "markdown",
   "metadata": {},
   "source": [
    "# Setup experiment and create trials"
   ]
  },
  {
   "cell_type": "code",
   "execution_count": 6,
   "metadata": {},
   "outputs": [],
   "source": [
    "experiment_name = \"unet-cropsize\"\n",
    "if experiment_name not in [\n",
    "    exp.experiment_name\n",
    "    for exp in list(\n",
    "        experiment.Experiment.list(\n",
    "            sagemaker_boto_client=sagemaker_session.sagemaker_client\n",
    "        )\n",
    "    )\n",
    "]:\n",
    "    my_experiment = experiment.Experiment.create(\n",
    "        experiment_name=experiment_name,\n",
    "        sagemaker_boto_client=sagemaker_session.sagemaker_client,\n",
    "    )\n",
    "else:\n",
    "    my_experiment = experiment.Experiment.load(\n",
    "        sagemaker_boto_client=sagemaker_session.sagemaker_client,\n",
    "        experiment_name=experiment_name,\n",
    "    )"
   ]
  },
  {
   "cell_type": "code",
   "execution_count": 7,
   "metadata": {},
   "outputs": [
    {
     "name": "stdout",
     "output_type": "stream",
     "text": [
      "resnet50-acrlg-224x224-896x896-random-64-8x4-80-32-32\n"
     ]
    },
    {
     "name": "stderr",
     "output_type": "stream",
     "text": [
      "INFO:sagemaker:Creating training-job with name: resnet50-acrlg-224x224-896x896-random-6-2020-09-03-01-42-15-994\n"
     ]
    },
    {
     "name": "stdout",
     "output_type": "stream",
     "text": [
      "resnet50-acrlg-224x224-1792x1792-random-16-4x2-80-32-32\n"
     ]
    },
    {
     "name": "stderr",
     "output_type": "stream",
     "text": [
      "INFO:sagemaker:Creating training-job with name: resnet50-acrlg-224x224-1792x1792-random-2020-09-03-01-42-17-540\n"
     ]
    },
    {
     "name": "stdout",
     "output_type": "stream",
     "text": [
      "resnet50-acrlg-448x448-896x896-random-64-8x4-80-8-8\n"
     ]
    },
    {
     "name": "stderr",
     "output_type": "stream",
     "text": [
      "INFO:sagemaker:Creating training-job with name: resnet50-acrlg-448x448-896x896-random-6-2020-09-03-01-42-21-765\n"
     ]
    },
    {
     "name": "stdout",
     "output_type": "stream",
     "text": [
      "resnet50-acrlg-448x448-1792x1792-random-16-4x2-80-8-8\n"
     ]
    },
    {
     "name": "stderr",
     "output_type": "stream",
     "text": [
      "INFO:sagemaker:Creating training-job with name: resnet50-acrlg-448x448-1792x1792-random-2020-09-03-01-42-24-575\n"
     ]
    },
    {
     "name": "stdout",
     "output_type": "stream",
     "text": [
      "resnet50-acrlg-896x896-896x896-random-64-8x4-80-4-4\n"
     ]
    },
    {
     "name": "stderr",
     "output_type": "stream",
     "text": [
      "INFO:sagemaker:Creating training-job with name: resnet50-acrlg-896x896-896x896-random-6-2020-09-03-01-42-26-109\n"
     ]
    },
    {
     "name": "stdout",
     "output_type": "stream",
     "text": [
      "resnet50-acrlg-896x896-1792x1792-random-16-4x2-80-4-4\n"
     ]
    },
    {
     "name": "stderr",
     "output_type": "stream",
     "text": [
      "INFO:sagemaker:Creating training-job with name: resnet50-acrlg-896x896-1792x1792-random-2020-09-03-01-42-28-120\n"
     ]
    }
   ],
   "source": [
    "for hp in experiment_grid:\n",
    "    # load experimental hyperparameters\n",
    "    input_width = hp[\"input_width\"]\n",
    "    input_height = hp[\"input_height\"]\n",
    "    crop_width = hp[\"crop_width\"]\n",
    "    crop_height = hp[\"crop_height\"]\n",
    "    crops_per_train_image = hp[\"crops_per_train_image\"]\n",
    "    crops_per_val_image_w = hp[\"crops_per_val_image_w\"]\n",
    "    crops_per_val_image_h = hp[\"crops_per_val_image_h\"]\n",
    "    train_batch_size = hp[\"train_batch_size\"]\n",
    "    val_batch_size = hp[\"val_batch_size\"]\n",
    "\n",
    "    # configure trial\n",
    "    base_job_name = (\n",
    "        f\"{encoder}-{''.join([cl[0] for cl in classes.split(',')])}-\"\n",
    "        f\"{input_width}x{input_height}-{crop_width}x{crop_height}-\"\n",
    "        f\"{train_dataset_mode}-{crops_per_train_image}-\"\n",
    "        f\"{crops_per_val_image_w}x{crops_per_val_image_h}-\"\n",
    "        f\"{int(train_ratio*100)}-\"\n",
    "        f\"{train_batch_size}-{val_batch_size}\"\n",
    "    )\n",
    "    output_path = f\"s3://st-crayon-dev/tf-outputs/\"\n",
    "    now = datetime.utcnow().strftime(\"%Y-%m-%d-%H-%M-%S-%f\")\n",
    "    checkpoint_s3_uri = f\"s3://st-crayon-dev/tf-checkpoints/{base_job_name}_{now}/\"\n",
    "\n",
    "    trial_name = base_job_name\n",
    "    if trial_name not in [trial.trial_name for trial in my_experiment.list_trials()]:\n",
    "        my_trial = my_experiment.create_trial(trial_name=trial_name)\n",
    "    else:\n",
    "        my_trial = experiment.trial.Trial.load(\n",
    "            sagemaker_boto_client=sagemaker_session.sagemaker_client,\n",
    "            trial_name=trial_name,\n",
    "        )\n",
    "    print(my_trial.trial_name)\n",
    "\n",
    "    # create estimator\n",
    "    estimator = TensorFlow(\n",
    "        sagemaker_session=sagemaker_session,\n",
    "        entry_point=\"unet.py\",\n",
    "        source_dir=os.path.join(AI_AUTOMATION_REPO_DIR, \"src\", \"unet\"),\n",
    "        role=SAGEMAKER_ROLE,\n",
    "        instance_count=1,\n",
    "        instance_type=\"ml.p3.2xlarge\",\n",
    "        #         use_spot_instances=True,  # uncomment this line to use spot instance\n",
    "        #         max_run=60 * 60 * 12,  # uncomment this line to use spot instance\n",
    "        #         max_wait=60 * 60 * 18,  # uncomment this line to use spot instance\n",
    "        framework_version=\"2.1\",\n",
    "        py_version=\"py3\",\n",
    "        base_job_name=base_job_name,\n",
    "        output_path=output_path,\n",
    "        checkpoint_s3_uri=checkpoint_s3_uri,\n",
    "        container_log_level=logging.WARNING,\n",
    "        hyperparameters={\n",
    "            \"encoder\": encoder,\n",
    "            \"pretrained\": pretrained,\n",
    "            \"classes\": classes,\n",
    "            \"input-width\": input_width,\n",
    "            \"input-height\": input_height,\n",
    "            \"crop-width\": crop_width,\n",
    "            \"crop-height\": crop_height,\n",
    "            \"train-dataset-mode\": train_dataset_mode,\n",
    "            \"crops-per-train-image\": crops_per_train_image,\n",
    "            \"crops-per-val-image-w\": crops_per_val_image_w,\n",
    "            \"crops-per-val-image-h\": crops_per_val_image_h,\n",
    "            \"train-batch-size\": train_batch_size,\n",
    "            \"val-batch-size\": val_batch_size,\n",
    "            \"epochs\": epochs,\n",
    "            \"cache-size\": cache_size,\n",
    "        },\n",
    "        metric_definitions=[\n",
    "            {\n",
    "                \"Name\": \"train:loss\",\n",
    "                \"Regex\": \".*loss: ([0-9\\\\.]+) - mean_io_u[_0-9]*: [0-9\\\\.]+ - categorical_accuracy: [0-9\\\\.]+.*\",\n",
    "            },\n",
    "            {\n",
    "                \"Name\": \"train:categorical_accuracy\",\n",
    "                \"Regex\": \".*loss: [0-9\\\\.]+ - mean_io_u[_0-9]*: [0-9\\\\.]+ - categorical_accuracy: ([0-9\\\\.]+).*\",\n",
    "            },\n",
    "            {\n",
    "                \"Name\": \"train:miou\",\n",
    "                \"Regex\": \".*loss: [0-9\\\\.]+ - mean_io_u[_0-9]*: ([0-9\\\\.]+) - categorical_accuracy: [0-9\\\\.]+.*\",\n",
    "            },\n",
    "            {\n",
    "                \"Name\": \"validation:loss\",\n",
    "                \"Regex\": \".*loss: [0-9\\\\.]+ - mean_io_u[_0-9]*: [0-9\\\\.]+ - categorical_accuracy: [0-9\\\\.]+ - val_loss: ([0-9\\\\.]+) - val_mean_io_u[_0-9]*: [0-9\\\\.]+ - val_categorical_accuracy: [0-9\\\\.]+.*\",\n",
    "            },\n",
    "            {\n",
    "                \"Name\": \"validation:categorical_accuracy\",\n",
    "                \"Regex\": \".*loss: [0-9\\\\.]+ - mean_io_u[_0-9]*: [0-9\\\\.]+ - categorical_accuracy: [0-9\\\\.]+ - val_loss: [0-9\\\\.]+ - val_mean_io_u[_0-9]*: [0-9\\\\.]+ - val_categorical_accuracy: ([0-9\\\\.]+).*\",\n",
    "            },\n",
    "            {\n",
    "                \"Name\": \"validation:miou\",\n",
    "                \"Regex\": \".*loss: [0-9\\\\.]+ - mean_io_u[_0-9]*: [0-9\\\\.]+ - categorical_accuracy: [0-9\\\\.]+ - val_loss: [0-9\\\\.]+ - val_mean_io_u[_0-9]*: ([0-9\\\\.]+) - val_categorical_accuracy: [0-9\\\\.]+.*\",\n",
    "            },\n",
    "        ],\n",
    "    )\n",
    "\n",
    "    # train estimator asynchronously\n",
    "    input_dir = \"s3://st-crayon-dev/annotation/phase_1/export-2020-08-25T18_12_45.454Z\"  # S3 folder where images and masks are saved\n",
    "    estimator.fit(\n",
    "        input_dir,\n",
    "        wait=False,\n",
    "        experiment_config={\n",
    "            \"ExperimentName\": my_experiment.experiment_name,\n",
    "            \"TrialName\": my_trial.trial_name,\n",
    "            \"TrialComponentDisplayName\": f\"{my_experiment.experiment_name}-{my_trial.trial_name}\",\n",
    "        },\n",
    "    )"
   ]
  }
 ],
 "metadata": {
  "kernelspec": {
   "display_name": "site",
   "language": "python",
   "name": "site"
  },
  "language_info": {
   "codemirror_mode": {
    "name": "ipython",
    "version": 3
   },
   "file_extension": ".py",
   "mimetype": "text/x-python",
   "name": "python",
   "nbconvert_exporter": "python",
   "pygments_lexer": "ipython3",
   "version": "3.7.9"
  }
 },
 "nbformat": 4,
 "nbformat_minor": 4
}
