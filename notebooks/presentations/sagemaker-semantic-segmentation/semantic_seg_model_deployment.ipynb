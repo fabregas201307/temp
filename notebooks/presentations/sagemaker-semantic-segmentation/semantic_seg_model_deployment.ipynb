{
 "cells": [
  {
   "cell_type": "markdown",
   "metadata": {},
   "source": [
    "# Hosting\n",
    "Once the training is done, we can deploy the trained model as an Amazon SageMaker hosted endpoint. This will allow us to make predictions (or inference) from the model.\n",
    "\n",
    "**Note:** We don't have to host on the same instance (or type of instance) that we used to train. Training is requires accelerated compute instances (GPU-based training and larger memory requirements) and this is not required for inference/hosting. We can choose any sagemaker supported instance we want to host the model. This notebook walks through the endpoint deployment."
   ]
  },
  {
   "cell_type": "markdown",
   "metadata": {},
   "source": [
    "## Setup\n",
    "The S3 bucket and prefix that you want to use for training and model data. This should be within the same region as the Notebook Instance, training, and hosting. If you don't specify a bucket, SageMaker SDK will create a default bucket following a pre-defined naming convention in the same region. The IAM role ARN used to give SageMaker access to your data. It can be fetched using the get_execution_role method from sagemaker python SDK if running this notebook in sagemaker studio\n",
    "\n",
    "profile = aws profile\n",
    "role = predefined role arn"
   ]
  },
  {
   "cell_type": "code",
   "execution_count": 12,
   "metadata": {
    "tags": []
   },
   "outputs": [
    {
     "name": "stdout",
     "output_type": "stream",
     "text": [
      "Session(region_name='us-east-2')\n"
     ]
    }
   ],
   "source": [
    "import sagemaker\n",
    "import boto3\n",
    "import time\n",
    "from PIL import Image\n",
    "\n",
    "role='arn:aws:iam::395166463292:role/service-role/AmazonSageMaker-ExecutionRole-20200714T182988'\n",
    "\n",
    "profile = 'crayon-site'\n",
    "region_name='us-east-2'\n",
    "bucket = 'st-crayon-dev'\n",
    "prefix = 'sagemaker/labelbox/'\n",
    "\n",
    "from botocore.exceptions import ProfileNotFound\n",
    "\n",
    "try:\n",
    "    boto3.setup_default_session(profile_name=profile)\n",
    "except ProfileNotFound:\n",
    "    print(\"crayon-site profile not found. Using default aws profile.\")\n",
    "\n",
    "\n",
    "session = boto3.session.Session(profile_name = profile, region_name = region_name)\n",
    "sess = sagemaker.Session(session,default_bucket=bucket)\n",
    "sagemaker_client = session.client('sagemaker')\n",
    "print(sess.boto_session)"
   ]
  },
  {
   "cell_type": "markdown",
   "metadata": {},
   "source": [
    "## Training image\n",
    "Since we are using prebaked aws semantic segmentation algo, we need the Amazon SageMaker Semantic Segmentaion docker image, which is static and need not be changed"
   ]
  },
  {
   "cell_type": "code",
   "execution_count": 2,
   "metadata": {
    "tags": []
   },
   "outputs": [
    {
     "name": "stderr",
     "output_type": "stream",
     "text": [
      "'get_image_uri' method will be deprecated in favor of 'ImageURIProvider' class in SageMaker Python SDK v2.\n"
     ]
    },
    {
     "name": "stdout",
     "output_type": "stream",
     "text": [
      "825641698319.dkr.ecr.us-east-2.amazonaws.com/semantic-segmentation:latest\n"
     ]
    }
   ],
   "source": [
    "from sagemaker.amazon.amazon_estimator import get_image_uri\n",
    "training_image = get_image_uri(sess.boto_region_name, 'semantic-segmentation', repo_version=\"latest\")\n",
    "print (training_image)"
   ]
  },
  {
   "cell_type": "markdown",
   "metadata": {},
   "source": [
    "This will use the aws cli to list the training jobs. You need the training job name in the following step to deploy the model."
   ]
  },
  {
   "cell_type": "code",
   "execution_count": 4,
   "metadata": {
    "tags": []
   },
   "outputs": [
    {
     "name": "stdout",
     "output_type": "stream",
     "text": [
      "{\r\n",
      "    \"TrainingJobSummaries\": [\r\n",
      "        {\r\n",
      "            \"TrainingJobName\": \"ss-labelbox-train-aug-manifest-15965354-2020-08-04-10-18-20-513\",\r\n",
      "            \"TrainingJobArn\": \"arn:aws:sagemaker:us-east-2:395166463292:training-job/ss-labelbox-train-aug-manifest-15965354-2020-08-04-10-18-20-513\",\r\n",
      "            \"CreationTime\": \"2020-08-04T06:18:21.162000-04:00\",\r\n",
      "            \"TrainingEndTime\": \"2020-08-04T07:47:33.786000-04:00\",\r\n",
      "            \"LastModifiedTime\": \"2020-08-04T07:47:33.786000-04:00\",\r\n",
      "            \"TrainingJobStatus\": \"Completed\"\r\n",
      "        },\r\n",
      "        {\r\n",
      "            \"TrainingJobName\": \"ss-labelbox-train-aug-manifest-15965315-2020-08-04-08-59-08-997\",\r\n",
      "            \"TrainingJobArn\": \"arn:aws:sagemaker:us-east-2:395166463292:training-job/ss-labelbox-train-aug-manifest-15965315-2020-08-04-08-59-08-997\",\r\n",
      "            \"CreationTime\": \"2020-08-04T04:59:09.702000-04:00\",\r\n",
      "            \"TrainingEndTime\": \"2020-08-04T05:26:54.363000-04:00\",\r\n",
      "            \"LastModifiedTime\": \"2020-08-04T05:26:54.363000-04:00\",\r\n",
      "            \"TrainingJobStatus\": \"Completed\"\r\n",
      "        },\r\n",
      "        {\r\n",
      "            \"TrainingJobName\": \"ss-labelbox-train-aug-manifest-15964472-2020-08-03-09-49-26-446\",\r\n",
      "            \"TrainingJobArn\": \"arn:aws:sagemaker:us-east-2:395166463292:training-job/ss-labelbox-train-aug-manifest-15964472-2020-08-03-09-49-26-446\",\r\n",
      "            \"CreationTime\": \"2020-08-03T05:49:27.075000-04:00\",\r\n",
      "            \"TrainingEndTime\": \"2020-08-03T06:54:57.485000-04:00\",\r\n",
      "            \"LastModifiedTime\": \"2020-08-03T06:54:57.485000-04:00\",\r\n",
      "            \"TrainingJobStatus\": \"Completed\"\r\n",
      "        }\r\n",
      "    ]\r\n",
      "}\r\n"
     ]
    }
   ],
   "source": [
    "!aws sagemaker list-training-jobs --name-contains ss-labelbox-train-aug-manifest --status-equals Completed --profile $profile"
   ]
  },
  {
   "cell_type": "markdown",
   "metadata": {},
   "source": [
    "## Create a deployable model \n",
    "\n",
    "The model can be deployed by identifying the location of the model artifacts and the Docker image that contains the inference code."
   ]
  },
  {
   "cell_type": "code",
   "execution_count": 7,
   "metadata": {
    "tags": []
   },
   "outputs": [
    {
     "name": "stdout",
     "output_type": "stream",
     "text": [
      "s3://st-crayon-dev/sagemaker/labelbox/output/ss-labelbox-train-aug-manifest-15965354-2020-08-04-10-18-20-513/output/model.tar.gz\n",
      "arn:aws:sagemaker:us-east-2:395166463292:model/ss-labelbox-1024-v1\n"
     ]
    }
   ],
   "source": [
    "model_name = f'ss-labelbox-1024-v1'\n",
    "training_job_name = 'ss-labelbox-train-aug-manifest-15965354-2020-08-04-10-18-20-513'\n",
    "info = sagemaker_client.describe_training_job(TrainingJobName=training_job_name)\n",
    "model_data = info['ModelArtifacts']['S3ModelArtifacts']\n",
    "print(model_data)\n",
    "primary_container = {\n",
    "    'Image': training_image,\n",
    "    'ModelDataUrl': model_data\n",
    "}\n",
    "create_model_response = sagemaker_client.create_model(\n",
    "    ModelName = model_name,\n",
    "    ExecutionRoleArn = role,\n",
    "    PrimaryContainer = primary_container)\n",
    "\n",
    "print(create_model_response['ModelArn'])"
   ]
  },
  {
   "cell_type": "markdown",
   "metadata": {},
   "source": [
    "## Create an Amazon SageMaker endpoint configuration \n",
    "by specifying the ML compute instances that you want to deploy your model to."
   ]
  },
  {
   "cell_type": "code",
   "execution_count": 8,
   "metadata": {
    "tags": []
   },
   "outputs": [
    {
     "name": "stdout",
     "output_type": "stream",
     "text": [
      "ss-labelbox-1024-config-v1\n",
      "Endpoint Config Arn: arn:aws:sagemaker:us-east-2:395166463292:endpoint-config/ss-labelbox-1024-config-v1\n"
     ]
    }
   ],
   "source": [
    "endpoint_config_name = f'ss-labelbox-1024-config-v1'\n",
    "print(endpoint_config_name)\n",
    "create_endpoint_config_response = sagemaker_client.create_endpoint_config(\n",
    "    EndpointConfigName = endpoint_config_name,\n",
    "    ProductionVariants=[{\n",
    "        'InstanceType':'ml.c4.2xlarge',\n",
    "        'InitialVariantWeight':1,\n",
    "        'InitialInstanceCount':1,\n",
    "        'ModelName':model_name,\n",
    "        'VariantName':'AllTraffic'}])\n",
    "\n",
    "print(\"Endpoint Config Arn: \" + create_endpoint_config_response['EndpointConfigArn'])"
   ]
  },
  {
   "cell_type": "markdown",
   "metadata": {},
   "source": [
    "## Create an Amazon SageMaker endpoint.\n",
    "Actually create the Sagemaker endpoint after specifying the instances."
   ]
  },
  {
   "cell_type": "code",
   "execution_count": 9,
   "metadata": {
    "tags": []
   },
   "outputs": [
    {
     "name": "stdout",
     "output_type": "stream",
     "text": [
      "ss-labelbox-1024-size-1024-v1\n",
      "arn:aws:sagemaker:us-east-2:395166463292:endpoint/ss-labelbox-1024-size-1024-v1\n",
      "Status: Creating\n"
     ]
    }
   ],
   "source": [
    "import time\n",
    "\n",
    "endpoint_name = f'ss-labelbox-1024-size-1024-v1'\n",
    "print(endpoint_name)\n",
    "create_endpoint_response = sagemaker_client.create_endpoint(\n",
    "    EndpointName=endpoint_name,\n",
    "    EndpointConfigName=endpoint_config_name)\n",
    "print(create_endpoint_response['EndpointArn'])\n",
    "\n",
    "resp = sagemaker_client.describe_endpoint(EndpointName=endpoint_name)\n",
    "status = resp['EndpointStatus']\n",
    "print(\"Status: \" + status)"
   ]
  },
  {
   "cell_type": "markdown",
   "metadata": {},
   "source": [
    "## Wait for model deployment\n",
    "once model is deployed Status changes to 'InService'"
   ]
  },
  {
   "cell_type": "code",
   "execution_count": 10,
   "metadata": {
    "tags": []
   },
   "outputs": [
    {
     "name": "stdout",
     "output_type": "stream",
     "text": [
      "Status: Creating\n",
      "Status: Creating\n",
      "Status: Creating\n",
      "Status: Creating\n",
      "Status: Creating\n",
      "Status: Creating\n",
      "Status: InService\n",
      "Arn: arn:aws:sagemaker:us-east-2:395166463292:endpoint/ss-labelbox-1024-size-1024-v1\n",
      "Status: InService\n"
     ]
    }
   ],
   "source": [
    "while status=='Creating':\n",
    "    time.sleep(60)\n",
    "    resp = sagemaker_client.describe_endpoint(EndpointName=endpoint_name)\n",
    "    status = resp['EndpointStatus']\n",
    "    print(\"Status: \" + status)\n",
    "\n",
    "print(\"Arn: \" + resp['EndpointArn'])\n",
    "print(\"Status: \" + status)"
   ]
  },
  {
   "cell_type": "markdown",
   "metadata": {},
   "source": [
    "## Delete Endpoint"
   ]
  },
  {
   "cell_type": "markdown",
   "metadata": {},
   "source": [
    "This frees up the endpoint resources (or you are charged ongoing costs for the instance running the endpoint)."
   ]
  },
  {
   "cell_type": "code",
   "execution_count": 11,
   "metadata": {},
   "outputs": [
    {
     "data": {
      "text/plain": [
       "{'ResponseMetadata': {'RequestId': 'b2d93d38-c0e1-4d1d-8ca1-57477c96e06d',\n",
       "  'HTTPStatusCode': 200,\n",
       "  'HTTPHeaders': {'x-amzn-requestid': 'b2d93d38-c0e1-4d1d-8ca1-57477c96e06d',\n",
       "   'content-type': 'application/x-amz-json-1.1',\n",
       "   'content-length': '0',\n",
       "   'date': 'Wed, 12 Aug 2020 02:11:16 GMT'},\n",
       "  'RetryAttempts': 0}}"
      ]
     },
     "execution_count": 11,
     "metadata": {},
     "output_type": "execute_result"
    }
   ],
   "source": [
    "sagemaker_client.delete_endpoint(EndpointName=endpoint_name)"
   ]
  }
 ],
 "metadata": {
  "keep_output": true,
  "kernelspec": {
   "display_name": "Python 3",
   "language": "python",
   "name": "python3"
  },
  "language_info": {
   "codemirror_mode": {
    "name": "ipython",
    "version": 3
   },
   "file_extension": ".py",
   "mimetype": "text/x-python",
   "name": "python",
   "nbconvert_exporter": "python",
   "pygments_lexer": "ipython3",
   "version": "3.8.5"
  },
  "toc": {
   "base_numbering": 1,
   "nav_menu": {},
   "number_sections": true,
   "sideBar": true,
   "skip_h1_title": false,
   "title_cell": "Table of Contents",
   "title_sidebar": "Contents",
   "toc_cell": false,
   "toc_position": {},
   "toc_section_display": true,
   "toc_window_display": false
  },
  "varInspector": {
   "cols": {
    "lenName": 16,
    "lenType": 16,
    "lenVar": 40
   },
   "kernels_config": {
    "python": {
     "delete_cmd_postfix": "",
     "delete_cmd_prefix": "del ",
     "library": "var_list.py",
     "varRefreshCmd": "print(var_dic_list())"
    },
    "r": {
     "delete_cmd_postfix": ") ",
     "delete_cmd_prefix": "rm(",
     "library": "var_list.r",
     "varRefreshCmd": "cat(var_dic_list()) "
    }
   },
   "types_to_exclude": [
    "module",
    "function",
    "builtin_function_or_method",
    "instance",
    "_Feature"
   ],
   "window_display": false
  }
 },
 "nbformat": 4,
 "nbformat_minor": 2
}
