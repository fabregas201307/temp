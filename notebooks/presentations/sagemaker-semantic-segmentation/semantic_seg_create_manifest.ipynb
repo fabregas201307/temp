{
 "cells": [
  {
   "cell_type": "markdown",
   "metadata": {},
   "source": [
    "## Imports and Setup"
   ]
  },
  {
   "cell_type": "code",
   "execution_count": 7,
   "metadata": {},
   "outputs": [],
   "source": [
    "from site_tools import get_keys_and_create_manifest"
   ]
  },
  {
   "cell_type": "markdown",
   "metadata": {},
   "source": [
    "## Create manifest file"
   ]
  },
  {
   "cell_type": "code",
   "execution_count": 5,
   "metadata": {},
   "outputs": [],
   "source": [
    "bucket = \"st-crayon-dev\""
   ]
  },
  {
   "cell_type": "markdown",
   "metadata": {},
   "source": [
    "### Original Images"
   ]
  },
  {
   "cell_type": "code",
   "execution_count": 20,
   "metadata": {},
   "outputs": [],
   "source": [
    "prefix = \"data/raw/imgs/original\"\n",
    "train_path = f\"{prefix}/images\"\n",
    "manifest_file_path = f\"{prefix}/manifests\""
   ]
  },
  {
   "cell_type": "code",
   "execution_count": 21,
   "metadata": {},
   "outputs": [
    {
     "name": "stdout",
     "output_type": "stream",
     "text": [
      "train_imgs 162\n",
      "data/raw/imgs/original/manifests/manifest_file_train_imgs.json\n",
      "test_imgs 21\n",
      "data/raw/imgs/original/manifests/manifest_file_test_imgs.json\n",
      "val_imgs 18\n",
      "data/raw/imgs/original/manifests/manifest_file_val_imgs.json\n"
     ]
    }
   ],
   "source": [
    "get_keys_and_create_manifest(bucket, prefix, train_path, manifest_file_path)"
   ]
  },
  {
   "cell_type": "markdown",
   "metadata": {},
   "source": [
    "### Tiled 1024 Images"
   ]
  },
  {
   "cell_type": "code",
   "execution_count": 22,
   "metadata": {},
   "outputs": [],
   "source": [
    "prefix = \"data/raw/imgs/tiles_1024\"\n",
    "train_path = f\"{prefix}/images\"\n",
    "manifest_file_path = f\"{prefix}/manifests\""
   ]
  },
  {
   "cell_type": "code",
   "execution_count": 23,
   "metadata": {},
   "outputs": [
    {
     "name": "stdout",
     "output_type": "stream",
     "text": [
      "train_imgs 2397\n",
      "data/raw/imgs/tiles_1024/manifests/manifest_file_train_imgs.json\n",
      "test_imgs 297\n",
      "data/raw/imgs/tiles_1024/manifests/manifest_file_test_imgs.json\n",
      "val_imgs 267\n",
      "data/raw/imgs/tiles_1024/manifests/manifest_file_val_imgs.json\n"
     ]
    }
   ],
   "source": [
    "get_keys_and_create_manifest(bucket, prefix, train_path, manifest_file_path)"
   ]
  },
  {
   "cell_type": "markdown",
   "metadata": {},
   "source": [
    "### Original Images"
   ]
  },
  {
   "cell_type": "code",
   "execution_count": 24,
   "metadata": {},
   "outputs": [],
   "source": [
    "prefix = \"data/raw/imgs/tiles_512\"\n",
    "train_path = f\"{prefix}/images\"\n",
    "manifest_file_path = f\"{prefix}/manifests\""
   ]
  },
  {
   "cell_type": "code",
   "execution_count": 25,
   "metadata": {},
   "outputs": [
    {
     "name": "stdout",
     "output_type": "stream",
     "text": [
      "train_imgs 11294\n",
      "data/raw/imgs/tiles_512/manifests/manifest_file_train_imgs.json\n",
      "test_imgs 1395\n",
      "data/raw/imgs/tiles_512/manifests/manifest_file_test_imgs.json\n",
      "val_imgs 1255\n",
      "data/raw/imgs/tiles_512/manifests/manifest_file_val_imgs.json\n"
     ]
    }
   ],
   "source": [
    "get_keys_and_create_manifest(bucket, prefix, train_path, manifest_file_path)"
   ]
  }
 ],
 "metadata": {
  "kernelspec": {
   "display_name": "Python 3",
   "language": "python",
   "name": "python3"
  },
  "language_info": {
   "codemirror_mode": {
    "name": "ipython",
    "version": 3
   },
   "file_extension": ".py",
   "mimetype": "text/x-python",
   "name": "python",
   "nbconvert_exporter": "python",
   "pygments_lexer": "ipython3",
   "version": "3.8.5"
  },
  "toc": {
   "base_numbering": 1,
   "nav_menu": {},
   "number_sections": true,
   "sideBar": true,
   "skip_h1_title": false,
   "title_cell": "Table of Contents",
   "title_sidebar": "Contents",
   "toc_cell": false,
   "toc_position": {},
   "toc_section_display": true,
   "toc_window_display": false
  },
  "varInspector": {
   "cols": {
    "lenName": 16,
    "lenType": 16,
    "lenVar": 40
   },
   "kernels_config": {
    "python": {
     "delete_cmd_postfix": "",
     "delete_cmd_prefix": "del ",
     "library": "var_list.py",
     "varRefreshCmd": "print(var_dic_list())"
    },
    "r": {
     "delete_cmd_postfix": ") ",
     "delete_cmd_prefix": "rm(",
     "library": "var_list.r",
     "varRefreshCmd": "cat(var_dic_list()) "
    }
   },
   "types_to_exclude": [
    "module",
    "function",
    "builtin_function_or_method",
    "instance",
    "_Feature"
   ],
   "window_display": false
  }
 },
 "nbformat": 4,
 "nbformat_minor": 4
}
