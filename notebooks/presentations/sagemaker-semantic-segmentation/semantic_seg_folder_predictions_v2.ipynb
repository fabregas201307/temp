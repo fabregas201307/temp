{
 "cells": [
  {
   "cell_type": "markdown",
   "metadata": {},
   "source": [
    "## Imports and Setup"
   ]
  },
  {
   "cell_type": "code",
   "execution_count": 1,
   "metadata": {},
   "outputs": [],
   "source": [
    "import sagemaker\n",
    "import boto3\n",
    "import time\n",
    "\n",
    "from PIL import Image\n",
    "import numpy as np\n",
    "import io\n",
    "\n",
    "profile = 'crayon-site'\n",
    "region_name='us-east-2'\n",
    "bucket = 'st-crayon-dev'\n",
    "prefix = 'sagemaker/labelbox/'\n",
    "role = 'arn:aws:iam::395166463292:role/service-role/AmazonSageMaker-ExecutionRole-20200714T182988'\n",
    "\n",
    "from botocore.exceptions import ProfileNotFound\n",
    "\n",
    "try:\n",
    "    boto3.setup_default_session(profile_name=profile)\n",
    "except ProfileNotFound:\n",
    "    print(\"crayon-site profile not found. Using default aws profile.\")\n",
    "    \n",
    "\n",
    "session = boto3.session.Session(profile_name = profile, region_name = region_name)\n",
    "sess = sagemaker.Session(session,default_bucket=bucket)\n",
    "sagemaker_client = session.client('sagemaker')\n",
    "account_id = session.client('sts').get_caller_identity().get('Account')"
   ]
  },
  {
   "cell_type": "code",
   "execution_count": 2,
   "metadata": {
    "tags": []
   },
   "outputs": [],
   "source": [
    "ecr_repository = 'ss-processing-container-v0'\n",
    "tag = ':sitetools'\n",
    "processing_repository_uri = '{}.dkr.ecr.{}.amazonaws.com/{}'.format(account_id, region_name, ecr_repository + tag)"
   ]
  },
  {
   "cell_type": "markdown",
   "metadata": {
    "heading_collapsed": true
   },
   "source": [
    "## Creates an Amazon Elastic Container Registry (Amazon ECR) repository"
   ]
  },
  {
   "cell_type": "markdown",
   "metadata": {
    "hidden": true
   },
   "source": [
    "This step needs the aws cli installed locally, and sets up the repository to store the docker container to run the script processor with.\n",
    "\n",
    "NOTE: This only needs to be done once!"
   ]
  },
  {
   "cell_type": "code",
   "execution_count": 5,
   "metadata": {
    "hidden": true,
    "tags": []
   },
   "outputs": [
    {
     "name": "stdout",
     "output_type": "stream",
     "text": [
      "Sending build context to Docker daemon   2.56kB\n",
      "Step 1/7 : FROM python:3.7-slim-buster\n",
      "3.7-slim-buster: Pulling from library/python\n",
      "\n",
      "\u001b[1B52930446: Pulling fs layer \n",
      "\u001b[1Bb58d08e6: Pulling fs layer \n",
      "\u001b[1B8cd499d2: Pulling fs layer \n",
      "\u001b[1B81fc14b2: Pulling fs layer \n",
      "\u001b[1BDigest: sha256:d37be9a444493e0a542a6d6d7465ac12f485b3c5bb4e40c69be72adfe3d8db6a4A\u001b[2K\u001b[5A\u001b[2K\u001b[3A\u001b[2K\u001b[3A\u001b[2K\u001b[3A\u001b[2K\u001b[5A\u001b[2K\u001b[5A\u001b[2K\u001b[3A\u001b[2K\u001b[5A\u001b[2K\u001b[3A\u001b[2K\u001b[3A\u001b[2K\u001b[3A\u001b[2K\u001b[3A\u001b[2K\u001b[5A\u001b[2K\u001b[5A\u001b[2K\u001b[5A\u001b[2K\u001b[1A\u001b[2K\u001b[5A\u001b[2K\u001b[1A\u001b[2K\u001b[5A\u001b[2K\u001b[1A\u001b[2K\u001b[1A\u001b[2K\u001b[5A\u001b[2K\u001b[5A\u001b[2K\u001b[5A\u001b[2K\u001b[5A\u001b[2K\u001b[5A\u001b[2K\u001b[5A\u001b[2K\u001b[5A\u001b[2K\u001b[5A\u001b[2K\u001b[5A\u001b[2K\u001b[5A\u001b[2K\u001b[5A\u001b[2K\u001b[5A\u001b[2K\u001b[5A\u001b[2K\u001b[5A\u001b[2K\u001b[5A\u001b[2K\u001b[5A\u001b[2K\u001b[5A\u001b[2K\u001b[5A\u001b[2K\u001b[5A\u001b[2K\u001b[5A\u001b[2K\u001b[5A\u001b[2K\u001b[5A\u001b[2K\u001b[5A\u001b[2K\u001b[4A\u001b[2K\u001b[4A\u001b[2K\u001b[4A\u001b[2K\u001b[4A\u001b[2K\u001b[3A\u001b[2K\u001b[3A\u001b[2K\u001b[3A\u001b[2K\u001b[3A\u001b[2K\u001b[3A\u001b[2K\u001b[3A\u001b[2K\u001b[2A\u001b[2K\u001b[1A\u001b[2K\u001b[1A\u001b[2K\u001b[1A\u001b[2K\u001b[1A\u001b[2K\n",
      "Status: Downloaded newer image for python:3.7-slim-buster\n",
      " ---> f6d88f1a6438\n",
      "Step 2/7 : RUN apt-get -y update\n",
      " ---> Running in f7f552a91293\n",
      "Get:1 http://deb.debian.org/debian buster InRelease [122 kB]\n",
      "Get:2 http://deb.debian.org/debian buster-updates InRelease [51.9 kB]\n",
      "Get:3 http://deb.debian.org/debian buster/main amd64 Packages [7906 kB]\n",
      "Get:4 http://deb.debian.org/debian buster-updates/main amd64 Packages [7868 B]\n",
      "Get:5 http://security.debian.org/debian-security buster/updates InRelease [65.4 kB]\n",
      "Get:6 http://security.debian.org/debian-security buster/updates/main amd64 Packages [218 kB]\n",
      "Fetched 8372 kB in 3s (3053 kB/s)\n",
      "Reading package lists...\n",
      "Removing intermediate container f7f552a91293\n",
      " ---> edb20dbb5377\n",
      "Step 3/7 : RUN apt-get -y upgrade\n",
      " ---> Running in ab241401fc2a\n",
      "Reading package lists...\n",
      "Building dependency tree...\n",
      "Reading state information...\n",
      "Calculating upgrade...\n",
      "0 upgraded, 0 newly installed, 0 to remove and 0 not upgraded.\n",
      "Removing intermediate container ab241401fc2a\n",
      " ---> fcea4e318f24\n",
      "Step 4/7 : RUN apt-get install -y libglib2.0-0 libsm6 libxext6 libxrender-dev\n",
      " ---> Running in 4bbf60796f4d\n",
      "Reading package lists...\n",
      "Building dependency tree...\n",
      "Reading state information...\n",
      "The following additional packages will be installed:\n",
      "  libbsd0 libglib2.0-data libice6 libicu63 libpthread-stubs0-dev libx11-6\n",
      "  libx11-data libx11-dev libxau-dev libxau6 libxcb1 libxcb1-dev libxdmcp-dev\n",
      "  libxdmcp6 libxml2 libxrender1 lsb-base shared-mime-info x11-common\n",
      "  x11proto-core-dev x11proto-dev xdg-user-dirs xorg-sgml-doctools xtrans-dev\n",
      "Suggested packages:\n",
      "  libx11-doc libxcb-doc\n",
      "The following NEW packages will be installed:\n",
      "  libbsd0 libglib2.0-0 libglib2.0-data libice6 libicu63 libpthread-stubs0-dev\n",
      "  libsm6 libx11-6 libx11-data libx11-dev libxau-dev libxau6 libxcb1\n",
      "  libxcb1-dev libxdmcp-dev libxdmcp6 libxext6 libxml2 libxrender-dev\n",
      "  libxrender1 lsb-base shared-mime-info x11-common x11proto-core-dev\n",
      "  x11proto-dev xdg-user-dirs xorg-sgml-doctools xtrans-dev\n",
      "0 upgraded, 28 newly installed, 0 to remove and 0 not upgraded.\n",
      "Need to get 15.5 MB of archives.\n",
      "After this operation, 62.4 MB of additional disk space will be used.\n",
      "Get:1 http://deb.debian.org/debian buster/main amd64 libbsd0 amd64 0.9.1-2 [99.5 kB]\n",
      "Get:2 http://deb.debian.org/debian buster/main amd64 libglib2.0-0 amd64 2.58.3-2+deb10u2 [1258 kB]\n",
      "Get:3 http://deb.debian.org/debian buster/main amd64 libglib2.0-data all 2.58.3-2+deb10u2 [1110 kB]\n",
      "Get:4 http://deb.debian.org/debian buster/main amd64 lsb-base all 10.2019051400 [28.4 kB]\n",
      "Get:5 http://deb.debian.org/debian buster/main amd64 x11-common all 1:7.7+19 [251 kB]\n",
      "Get:6 http://deb.debian.org/debian buster/main amd64 libice6 amd64 2:1.0.9-2 [58.7 kB]\n",
      "Get:7 http://deb.debian.org/debian buster/main amd64 libicu63 amd64 63.1-6+deb10u1 [8300 kB]\n",
      "Get:8 http://deb.debian.org/debian buster/main amd64 libpthread-stubs0-dev amd64 0.4-1 [5344 B]\n",
      "Get:9 http://deb.debian.org/debian buster/main amd64 libsm6 amd64 2:1.2.3-1 [35.1 kB]\n",
      "Get:10 http://deb.debian.org/debian buster/main amd64 libxau6 amd64 1:1.0.8-1+b2 [19.9 kB]\n",
      "Get:11 http://deb.debian.org/debian buster/main amd64 libxdmcp6 amd64 1:1.1.2-3 [26.3 kB]\n",
      "Get:12 http://deb.debian.org/debian buster/main amd64 libxcb1 amd64 1.13.1-2 [137 kB]\n",
      "Get:13 http://deb.debian.org/debian buster/main amd64 libx11-data all 2:1.6.7-1 [298 kB]\n",
      "Get:14 http://deb.debian.org/debian buster/main amd64 libx11-6 amd64 2:1.6.7-1 [754 kB]\n",
      "Get:15 http://deb.debian.org/debian buster/main amd64 xorg-sgml-doctools all 1:1.11-1 [21.9 kB]\n",
      "Get:16 http://deb.debian.org/debian buster/main amd64 x11proto-dev all 2018.4-4 [251 kB]\n",
      "Get:17 http://deb.debian.org/debian buster/main amd64 x11proto-core-dev all 2018.4-4 [3128 B]\n",
      "Get:18 http://deb.debian.org/debian buster/main amd64 libxau-dev amd64 1:1.0.8-1+b2 [23.1 kB]\n",
      "Get:19 http://deb.debian.org/debian buster/main amd64 libxdmcp-dev amd64 1:1.1.2-3 [42.2 kB]\n",
      "Get:20 http://deb.debian.org/debian buster/main amd64 xtrans-dev all 1.3.5-1 [100 kB]\n",
      "Get:21 http://deb.debian.org/debian buster/main amd64 libxcb1-dev amd64 1.13.1-2 [174 kB]\n",
      "Get:22 http://deb.debian.org/debian buster/main amd64 libx11-dev amd64 2:1.6.7-1 [827 kB]\n",
      "Get:23 http://deb.debian.org/debian buster/main amd64 libxext6 amd64 2:1.3.3-1+b2 [52.5 kB]\n",
      "Get:24 http://deb.debian.org/debian buster/main amd64 libxml2 amd64 2.9.4+dfsg1-7+b3 [687 kB]\n",
      "Get:25 http://deb.debian.org/debian buster/main amd64 libxrender1 amd64 1:0.9.10-1 [33.0 kB]\n",
      "Get:26 http://deb.debian.org/debian buster/main amd64 libxrender-dev amd64 1:0.9.10-1 [40.8 kB]\n",
      "Get:27 http://deb.debian.org/debian buster/main amd64 shared-mime-info amd64 1.10-1 [766 kB]\n",
      "Get:28 http://deb.debian.org/debian buster/main amd64 xdg-user-dirs amd64 0.17-2 [53.8 kB]\n",
      "\u001b[91mdebconf: delaying package configuration, since apt-utils is not installed\n",
      "\u001b[0mFetched 15.5 MB in 1s (10.6 MB/s)\n",
      "Selecting previously unselected package libbsd0:amd64.\n",
      "(Reading database ... 6829 files and directories currently installed.)\n",
      "Preparing to unpack .../00-libbsd0_0.9.1-2_amd64.deb ...\n",
      "Unpacking libbsd0:amd64 (0.9.1-2) ...\n",
      "Selecting previously unselected package libglib2.0-0:amd64.\n",
      "Preparing to unpack .../01-libglib2.0-0_2.58.3-2+deb10u2_amd64.deb ...\n",
      "Unpacking libglib2.0-0:amd64 (2.58.3-2+deb10u2) ...\n",
      "Selecting previously unselected package libglib2.0-data.\n",
      "Preparing to unpack .../02-libglib2.0-data_2.58.3-2+deb10u2_all.deb ...\n",
      "Unpacking libglib2.0-data (2.58.3-2+deb10u2) ...\n",
      "Selecting previously unselected package lsb-base.\n",
      "Preparing to unpack .../03-lsb-base_10.2019051400_all.deb ...\n",
      "Unpacking lsb-base (10.2019051400) ...\n",
      "Selecting previously unselected package x11-common.\n",
      "Preparing to unpack .../04-x11-common_1%3a7.7+19_all.deb ...\n",
      "Unpacking x11-common (1:7.7+19) ...\n",
      "Selecting previously unselected package libice6:amd64.\n",
      "Preparing to unpack .../05-libice6_2%3a1.0.9-2_amd64.deb ...\n",
      "Unpacking libice6:amd64 (2:1.0.9-2) ...\n",
      "Selecting previously unselected package libicu63:amd64.\n",
      "Preparing to unpack .../06-libicu63_63.1-6+deb10u1_amd64.deb ...\n",
      "Unpacking libicu63:amd64 (63.1-6+deb10u1) ...\n",
      "Selecting previously unselected package libpthread-stubs0-dev:amd64.\n",
      "Preparing to unpack .../07-libpthread-stubs0-dev_0.4-1_amd64.deb ...\n",
      "Unpacking libpthread-stubs0-dev:amd64 (0.4-1) ...\n",
      "Selecting previously unselected package libsm6:amd64.\n",
      "Preparing to unpack .../08-libsm6_2%3a1.2.3-1_amd64.deb ...\n",
      "Unpacking libsm6:amd64 (2:1.2.3-1) ...\n",
      "Selecting previously unselected package libxau6:amd64.\n",
      "Preparing to unpack .../09-libxau6_1%3a1.0.8-1+b2_amd64.deb ...\n",
      "Unpacking libxau6:amd64 (1:1.0.8-1+b2) ...\n",
      "Selecting previously unselected package libxdmcp6:amd64.\n",
      "Preparing to unpack .../10-libxdmcp6_1%3a1.1.2-3_amd64.deb ...\n",
      "Unpacking libxdmcp6:amd64 (1:1.1.2-3) ...\n",
      "Selecting previously unselected package libxcb1:amd64.\n",
      "Preparing to unpack .../11-libxcb1_1.13.1-2_amd64.deb ...\n",
      "Unpacking libxcb1:amd64 (1.13.1-2) ...\n",
      "Selecting previously unselected package libx11-data.\n",
      "Preparing to unpack .../12-libx11-data_2%3a1.6.7-1_all.deb ...\n",
      "Unpacking libx11-data (2:1.6.7-1) ...\n",
      "Selecting previously unselected package libx11-6:amd64.\n",
      "Preparing to unpack .../13-libx11-6_2%3a1.6.7-1_amd64.deb ...\n",
      "Unpacking libx11-6:amd64 (2:1.6.7-1) ...\n",
      "Selecting previously unselected package xorg-sgml-doctools.\n",
      "Preparing to unpack .../14-xorg-sgml-doctools_1%3a1.11-1_all.deb ...\n",
      "Unpacking xorg-sgml-doctools (1:1.11-1) ...\n",
      "Selecting previously unselected package x11proto-dev.\n",
      "Preparing to unpack .../15-x11proto-dev_2018.4-4_all.deb ...\n",
      "Unpacking x11proto-dev (2018.4-4) ...\n"
     ]
    },
    {
     "name": "stdout",
     "output_type": "stream",
     "text": [
      "Selecting previously unselected package x11proto-core-dev.\n",
      "Preparing to unpack .../16-x11proto-core-dev_2018.4-4_all.deb ...\n",
      "Unpacking x11proto-core-dev (2018.4-4) ...\n",
      "Selecting previously unselected package libxau-dev:amd64.\n",
      "Preparing to unpack .../17-libxau-dev_1%3a1.0.8-1+b2_amd64.deb ...\n",
      "Unpacking libxau-dev:amd64 (1:1.0.8-1+b2) ...\n",
      "Selecting previously unselected package libxdmcp-dev:amd64.\n",
      "Preparing to unpack .../18-libxdmcp-dev_1%3a1.1.2-3_amd64.deb ...\n",
      "Unpacking libxdmcp-dev:amd64 (1:1.1.2-3) ...\n",
      "Selecting previously unselected package xtrans-dev.\n",
      "Preparing to unpack .../19-xtrans-dev_1.3.5-1_all.deb ...\n",
      "Unpacking xtrans-dev (1.3.5-1) ...\n",
      "Selecting previously unselected package libxcb1-dev:amd64.\n",
      "Preparing to unpack .../20-libxcb1-dev_1.13.1-2_amd64.deb ...\n",
      "Unpacking libxcb1-dev:amd64 (1.13.1-2) ...\n",
      "Selecting previously unselected package libx11-dev:amd64.\n",
      "Preparing to unpack .../21-libx11-dev_2%3a1.6.7-1_amd64.deb ...\n",
      "Unpacking libx11-dev:amd64 (2:1.6.7-1) ...\n",
      "Selecting previously unselected package libxext6:amd64.\n",
      "Preparing to unpack .../22-libxext6_2%3a1.3.3-1+b2_amd64.deb ...\n",
      "Unpacking libxext6:amd64 (2:1.3.3-1+b2) ...\n",
      "Selecting previously unselected package libxml2:amd64.\n",
      "Preparing to unpack .../23-libxml2_2.9.4+dfsg1-7+b3_amd64.deb ...\n",
      "Unpacking libxml2:amd64 (2.9.4+dfsg1-7+b3) ...\n",
      "Selecting previously unselected package libxrender1:amd64.\n",
      "Preparing to unpack .../24-libxrender1_1%3a0.9.10-1_amd64.deb ...\n",
      "Unpacking libxrender1:amd64 (1:0.9.10-1) ...\n",
      "Selecting previously unselected package libxrender-dev:amd64.\n",
      "Preparing to unpack .../25-libxrender-dev_1%3a0.9.10-1_amd64.deb ...\n",
      "Unpacking libxrender-dev:amd64 (1:0.9.10-1) ...\n",
      "Selecting previously unselected package shared-mime-info.\n",
      "Preparing to unpack .../26-shared-mime-info_1.10-1_amd64.deb ...\n",
      "Unpacking shared-mime-info (1.10-1) ...\n",
      "Selecting previously unselected package xdg-user-dirs.\n",
      "Preparing to unpack .../27-xdg-user-dirs_0.17-2_amd64.deb ...\n",
      "Unpacking xdg-user-dirs (0.17-2) ...\n",
      "Setting up lsb-base (10.2019051400) ...\n",
      "Setting up libxau6:amd64 (1:1.0.8-1+b2) ...\n",
      "Setting up xdg-user-dirs (0.17-2) ...\n",
      "Setting up libglib2.0-0:amd64 (2.58.3-2+deb10u2) ...\n",
      "No schema files found: doing nothing.\n",
      "Setting up x11-common (1:7.7+19) ...\n",
      "debconf: unable to initialize frontend: Dialog\n",
      "debconf: (TERM is not set, so the dialog frontend is not usable.)\n",
      "debconf: falling back to frontend: Readline\n",
      "debconf: unable to initialize frontend: Readline\n",
      "debconf: (Can't locate Term/ReadLine.pm in @INC (you may need to install the Term::ReadLine module) (@INC contains: /etc/perl /usr/local/lib/x86_64-linux-gnu/perl/5.28.1 /usr/local/share/perl/5.28.1 /usr/lib/x86_64-linux-gnu/perl5/5.28 /usr/share/perl5 /usr/lib/x86_64-linux-gnu/perl/5.28 /usr/share/perl/5.28 /usr/local/lib/site_perl /usr/lib/x86_64-linux-gnu/perl-base) at /usr/share/perl5/Debconf/FrontEnd/Readline.pm line 7.)\n",
      "debconf: falling back to frontend: Teletype\n",
      "update-rc.d: warning: start and stop actions are no longer supported; falling back to defaults\n",
      "invoke-rc.d: could not determine current runlevel\n",
      "invoke-rc.d: policy-rc.d denied execution of start.\n",
      "Setting up libpthread-stubs0-dev:amd64 (0.4-1) ...\n",
      "Setting up libicu63:amd64 (63.1-6+deb10u1) ...\n",
      "Setting up xtrans-dev (1.3.5-1) ...\n",
      "Setting up libglib2.0-data (2.58.3-2+deb10u2) ...\n",
      "Setting up libx11-data (2:1.6.7-1) ...\n",
      "Setting up xorg-sgml-doctools (1:1.11-1) ...\n",
      "Setting up libbsd0:amd64 (0.9.1-2) ...\n",
      "Setting up libxml2:amd64 (2.9.4+dfsg1-7+b3) ...\n",
      "Setting up x11proto-dev (2018.4-4) ...\n",
      "Setting up libice6:amd64 (2:1.0.9-2) ...\n",
      "Setting up libxdmcp6:amd64 (1:1.1.2-3) ...\n",
      "Setting up libxcb1:amd64 (1.13.1-2) ...\n",
      "Setting up libxau-dev:amd64 (1:1.0.8-1+b2) ...\n",
      "Setting up libxdmcp-dev:amd64 (1:1.1.2-3) ...\n",
      "Setting up x11proto-core-dev (2018.4-4) ...\n",
      "Setting up shared-mime-info (1.10-1) ...\n",
      "Setting up libx11-6:amd64 (2:1.6.7-1) ...\n",
      "Setting up libsm6:amd64 (2:1.2.3-1) ...\n",
      "Setting up libxcb1-dev:amd64 (1.13.1-2) ...\n",
      "Setting up libxrender1:amd64 (1:0.9.10-1) ...\n",
      "Setting up libx11-dev:amd64 (2:1.6.7-1) ...\n",
      "Setting up libxext6:amd64 (2:1.3.3-1+b2) ...\n",
      "Setting up libxrender-dev:amd64 (1:0.9.10-1) ...\n",
      "Processing triggers for libc-bin (2.28-10) ...\n",
      "Removing intermediate container 4bbf60796f4d\n",
      " ---> a7c7d9e2b0bc\n",
      "Step 5/7 : RUN pip3 install pandas==0.25.3 scikit-learn==0.21.3 numpy Pillow opencv-python boto3\n",
      " ---> Running in e1fca2a623ae\n",
      "Collecting pandas==0.25.3\n",
      "  Downloading pandas-0.25.3-cp37-cp37m-manylinux1_x86_64.whl (10.4 MB)\n",
      "Collecting scikit-learn==0.21.3\n",
      "  Downloading scikit_learn-0.21.3-cp37-cp37m-manylinux1_x86_64.whl (6.7 MB)\n",
      "Collecting numpy\n",
      "  Downloading numpy-1.19.1-cp37-cp37m-manylinux2010_x86_64.whl (14.5 MB)\n",
      "Collecting Pillow\n",
      "  Downloading Pillow-7.2.0-cp37-cp37m-manylinux1_x86_64.whl (2.2 MB)\n",
      "Collecting opencv-python\n",
      "  Downloading opencv_python-4.3.0.36-cp37-cp37m-manylinux2014_x86_64.whl (43.7 MB)\n",
      "Collecting boto3\n",
      "  Downloading boto3-1.14.36-py2.py3-none-any.whl (129 kB)\n",
      "Collecting pytz>=2017.2\n",
      "  Downloading pytz-2020.1-py2.py3-none-any.whl (510 kB)\n",
      "Collecting python-dateutil>=2.6.1\n",
      "  Downloading python_dateutil-2.8.1-py2.py3-none-any.whl (227 kB)\n",
      "Collecting joblib>=0.11\n",
      "  Downloading joblib-0.16.0-py3-none-any.whl (300 kB)\n",
      "Collecting scipy>=0.17.0\n",
      "  Downloading scipy-1.5.2-cp37-cp37m-manylinux1_x86_64.whl (25.9 MB)\n",
      "Collecting s3transfer<0.4.0,>=0.3.0\n",
      "  Downloading s3transfer-0.3.3-py2.py3-none-any.whl (69 kB)\n",
      "Collecting botocore<1.18.0,>=1.17.36\n",
      "  Downloading botocore-1.17.36-py2.py3-none-any.whl (6.5 MB)\n",
      "Collecting jmespath<1.0.0,>=0.7.1\n",
      "  Downloading jmespath-0.10.0-py2.py3-none-any.whl (24 kB)\n",
      "Collecting six>=1.5\n",
      "  Downloading six-1.15.0-py2.py3-none-any.whl (10 kB)\n",
      "Collecting docutils<0.16,>=0.10\n",
      "  Downloading docutils-0.15.2-py3-none-any.whl (547 kB)\n",
      "Collecting urllib3<1.26,>=1.20; python_version != \"3.4\"\n",
      "  Downloading urllib3-1.25.10-py2.py3-none-any.whl (127 kB)\n",
      "Installing collected packages: numpy, pytz, six, python-dateutil, pandas, joblib, scipy, scikit-learn, Pillow, opencv-python, docutils, jmespath, urllib3, botocore, s3transfer, boto3\n",
      "Successfully installed Pillow-7.2.0 boto3-1.14.36 botocore-1.17.36 docutils-0.15.2 jmespath-0.10.0 joblib-0.16.0 numpy-1.19.1 opencv-python-4.3.0.36 pandas-0.25.3 python-dateutil-2.8.1 pytz-2020.1 s3transfer-0.3.3 scikit-learn-0.21.3 scipy-1.5.2 six-1.15.0 urllib3-1.25.10\n",
      "Removing intermediate container e1fca2a623ae\n",
      " ---> 30de2af27cd9\n",
      "Step 6/7 : ENV PYTHONUNBUFFERED=TRUE\n",
      " ---> Running in 386cdefb82b4\n",
      "Removing intermediate container 386cdefb82b4\n",
      " ---> 2285e71ce289\n",
      "Step 7/7 : ENTRYPOINT [\"python3\"]\n",
      " ---> Running in beead66d4c83\n",
      "Removing intermediate container beead66d4c83\n",
      " ---> e9d9b80fb00a\n",
      "Successfully built e9d9b80fb00a\n",
      "Successfully tagged ss-processing-container-v2:latest\n"
     ]
    }
   ],
   "source": [
    "!aws ecr get-login-password --region $region_name | docker login --username AWS --password-stdin \"{account_id}\".dkr.ecr.\"{region_name}\".amazonaws.com\n",
    "!aws ecr create-repository --repository-name $ecr_repository --profile $profile"
   ]
  },
  {
   "cell_type": "markdown",
   "metadata": {
    "heading_collapsed": true
   },
   "source": [
    "## Build the container using the docker command and Push to ECR"
   ]
  },
  {
   "cell_type": "markdown",
   "metadata": {
    "hidden": true
   },
   "source": [
    "Building the container and pushing into Amazon ECR.\n",
    "\n",
    "NOTE: This only needs to be done once!"
   ]
  },
  {
   "cell_type": "code",
   "execution_count": null,
   "metadata": {
    "hidden": true,
    "tags": []
   },
   "outputs": [],
   "source": [
    "!docker build -t $ecr_repository docker"
   ]
  },
  {
   "cell_type": "code",
   "execution_count": 6,
   "metadata": {
    "hidden": true,
    "tags": []
   },
   "outputs": [
    {
     "name": "stdout",
     "output_type": "stream",
     "text": [
      "WARNING! Using --password via the CLI is insecure. Use --password-stdin.\n",
      "Login Succeeded\n",
      "{\n",
      "    \"repository\": {\n",
      "        \"repositoryUri\": \"395166463292.dkr.ecr.us-east-2.amazonaws.com/ss-processing-container-v2\", \n",
      "        \"imageScanningConfiguration\": {\n",
      "            \"scanOnPush\": false\n",
      "        }, \n",
      "        \"registryId\": \"395166463292\", \n",
      "        \"imageTagMutability\": \"MUTABLE\", \n",
      "        \"repositoryArn\": \"arn:aws:ecr:us-east-2:395166463292:repository/ss-processing-container-v2\", \n",
      "        \"repositoryName\": \"ss-processing-container-v2\", \n",
      "        \"createdAt\": 1596720223.0\n",
      "    }\n",
      "}\n",
      "The push refers to repository [395166463292.dkr.ecr.us-east-2.amazonaws.com/ss-processing-container-v2]\n",
      "\n",
      "\u001b[1B6dbe0cfa: Preparing \n",
      "\u001b[1B6c9f4bbb: Preparing \n",
      "\u001b[1B042e525f: Preparing \n",
      "\u001b[1B95c6e59b: Preparing \n",
      "\u001b[1B4143095c: Preparing \n",
      "\u001b[1B6fb81c22: Preparing \n",
      "\u001b[1Bba74fd9a: Preparing \n",
      "\u001b[1Be2403063: Preparing \n",
      "\u001b[9B6dbe0cfa: Pushed   522.8MB/515.6MB2K\u001b[6A\u001b[2K\u001b[9A\u001b[2K\u001b[8A\u001b[2K\u001b[6A\u001b[2K\u001b[8A\u001b[2K\u001b[5A\u001b[2K\u001b[5A\u001b[2K\u001b[6A\u001b[2K\u001b[7A\u001b[2K\u001b[4A\u001b[2K\u001b[9A\u001b[2K\u001b[5A\u001b[2K\u001b[4A\u001b[2K\u001b[6A\u001b[2K\u001b[9A\u001b[2K\u001b[3A\u001b[2K\u001b[3A\u001b[2K\u001b[8A\u001b[2K\u001b[5A\u001b[2K\u001b[3A\u001b[2K\u001b[8A\u001b[2K\u001b[6A\u001b[2K\u001b[5A\u001b[2K\u001b[6A\u001b[2K\u001b[6A\u001b[2K\u001b[5A\u001b[2K\u001b[8A\u001b[2K\u001b[6A\u001b[2K\u001b[3A\u001b[2K\u001b[3A\u001b[2K\u001b[5A\u001b[2K\u001b[9A\u001b[2K\u001b[3A\u001b[2K\u001b[6A\u001b[2K\u001b[6A\u001b[2K\u001b[5A\u001b[2K\u001b[6A\u001b[2K\u001b[8A\u001b[2K\u001b[3A\u001b[2K\u001b[3A\u001b[2K\u001b[6A\u001b[2K\u001b[8A\u001b[2K\u001b[5A\u001b[2K\u001b[3A\u001b[2K\u001b[6A\u001b[2K\u001b[3A\u001b[2K\u001b[8A\u001b[2K\u001b[9A\u001b[2K\u001b[3A\u001b[2K\u001b[5A\u001b[2K\u001b[3A\u001b[2K\u001b[8A\u001b[2K\u001b[3A\u001b[2K\u001b[6A\u001b[2K\u001b[5A\u001b[2K\u001b[3A\u001b[2K\u001b[6A\u001b[2K\u001b[3A\u001b[2K\u001b[5A\u001b[2K\u001b[6A\u001b[2K\u001b[3A\u001b[2K\u001b[8A\u001b[2K\u001b[5A\u001b[2K\u001b[6A\u001b[2K\u001b[8A\u001b[2K\u001b[8A\u001b[2K\u001b[3A\u001b[2K\u001b[5A\u001b[2K\u001b[9A\u001b[2K\u001b[6A\u001b[2K\u001b[5A\u001b[2K\u001b[3A\u001b[2K\u001b[8A\u001b[2K\u001b[6A\u001b[2K\u001b[5A\u001b[2K\u001b[8A\u001b[2K\u001b[6A\u001b[2K\u001b[3A\u001b[2K\u001b[9A\u001b[2K\u001b[6A\u001b[2K\u001b[3A\u001b[2K\u001b[6A\u001b[2K\u001b[8A\u001b[2K\u001b[3A\u001b[2K\u001b[9A\u001b[2K\u001b[6A\u001b[2K\u001b[9A\u001b[2K\u001b[3A\u001b[2K\u001b[6A\u001b[2K\u001b[8A\u001b[2K\u001b[6A\u001b[2K\u001b[3A\u001b[2K\u001b[6A\u001b[2K\u001b[8A\u001b[2K\u001b[6A\u001b[2K\u001b[3A\u001b[2K\u001b[5A\u001b[2K\u001b[8A\u001b[2K\u001b[9A\u001b[2K\u001b[2A\u001b[2K\u001b[2A\u001b[2K\u001b[2A\u001b[2K\u001b[2A\u001b[2K\u001b[6A\u001b[2K\u001b[3A\u001b[2K\u001b[8A\u001b[2K\u001b[6A\u001b[2K\u001b[2A\u001b[2K\u001b[2A\u001b[2K\u001b[8A\u001b[2K\u001b[6A\u001b[2K\u001b[3A\u001b[2K\u001b[2A\u001b[2K\u001b[9A\u001b[2K\u001b[6A\u001b[2K\u001b[2A\u001b[2K\u001b[8A\u001b[2K\u001b[6A\u001b[2K\u001b[8A\u001b[2K\u001b[3A\u001b[2K\u001b[6A\u001b[2K\u001b[2A\u001b[2K\u001b[8A\u001b[2K\u001b[9A\u001b[2K\u001b[6A\u001b[2K\u001b[8A\u001b[2K\u001b[2A\u001b[2K\u001b[3A\u001b[2K\u001b[2A\u001b[2K\u001b[8A\u001b[2K\u001b[6A\u001b[2K\u001b[3A\u001b[2K\u001b[2A\u001b[2K\u001b[8A\u001b[2K\u001b[2A\u001b[2K\u001b[3A\u001b[2K\u001b[9A\u001b[2K\u001b[6A\u001b[2K\u001b[2A\u001b[2K\u001b[6A\u001b[2K\u001b[3A\u001b[2K\u001b[6A\u001b[2K\u001b[2A\u001b[2K\u001b[8A\u001b[2K\u001b[9A\u001b[2K\u001b[6A\u001b[2K\u001b[8A\u001b[2K\u001b[2A\u001b[2K\u001b[3A\u001b[2K\u001b[6A\u001b[2K\u001b[8A\u001b[2K\u001b[2A\u001b[2K\u001b[3A\u001b[2K\u001b[2A\u001b[2K\u001b[6A\u001b[2K\u001b[3A\u001b[2K\u001b[6A\u001b[2K\u001b[9A\u001b[2K\u001b[8A\u001b[2K\u001b[6A\u001b[2K\u001b[3A\u001b[2K\u001b[8A\u001b[2K\u001b[8A\u001b[2K\u001b[9A\u001b[2K\u001b[3A\u001b[2K\u001b[6A\u001b[2K\u001b[8A\u001b[2K\u001b[3A\u001b[2K\u001b[6A\u001b[2K\u001b[2A\u001b[2K\u001b[8A\u001b[2K\u001b[3A\u001b[2K\u001b[6A\u001b[2K\u001b[1A\u001b[2K\u001b[3A\u001b[2K\u001b[9A\u001b[2K\u001b[1A\u001b[2K\u001b[6A\u001b[2K\u001b[3A\u001b[2K\u001b[6A\u001b[2K\u001b[1A\u001b[2K\u001b[8A\u001b[2K\u001b[3A\u001b[2K\u001b[6A\u001b[2K\u001b[1A\u001b[2K\u001b[3A\u001b[2K\u001b[1A\u001b[2K\u001b[8A\u001b[2K\u001b[6A\u001b[2K\u001b[3A\u001b[2K\u001b[1A\u001b[2KPushing  3.775MB/69.22MB\u001b[9A\u001b[2K\u001b[6A\u001b[2K\u001b[3A\u001b[2K\u001b[1A\u001b[2K\u001b[8A\u001b[2K\u001b[1A\u001b[2K\u001b[3A\u001b[2K\u001b[6A\u001b[2K\u001b[1A\u001b[2K\u001b[3A\u001b[2K\u001b[9A\u001b[2K\u001b[1A\u001b[2K\u001b[8A\u001b[2K\u001b[6A\u001b[2K\u001b[3A\u001b[2K\u001b[1A\u001b[2K\u001b[6A\u001b[2K\u001b[8A\u001b[2K\u001b[1A\u001b[2K\u001b[3A\u001b[2K\u001b[6A\u001b[2K\u001b[1A\u001b[2K\u001b[8A\u001b[2K\u001b[9A\u001b[2K\u001b[6A\u001b[2K\u001b[3A\u001b[2K\u001b[8A\u001b[2K\u001b[1A\u001b[2K\u001b[1A\u001b[2K\u001b[8A\u001b[2K\u001b[6A\u001b[2K\u001b[1A\u001b[2K\u001b[1A\u001b[2K\u001b[8A\u001b[2K\u001b[6A\u001b[2K\u001b[1A\u001b[2K\u001b[9A\u001b[2K\u001b[1A\u001b[2K\u001b[8A\u001b[2K\u001b[6A\u001b[2K\u001b[8A\u001b[2K\u001b[6A\u001b[2K\u001b[1A\u001b[2K\u001b[8A\u001b[2K\u001b[3A\u001b[2K\u001b[6A\u001b[2K\u001b[9A\u001b[2K\u001b[8A\u001b[2K\u001b[1A\u001b[2K\u001b[6A\u001b[2K\u001b[8A\u001b[2K\u001b[1A\u001b[2K\u001b[8A\u001b[2K\u001b[1A\u001b[2K\u001b[1A\u001b[2K\u001b[8A\u001b[2K\u001b[9A\u001b[2K\u001b[8A\u001b[2K\u001b[1A\u001b[2K\u001b[8A\u001b[2K\u001b[1A\u001b[2K\u001b[1A\u001b[2K\u001b[9A\u001b[2K\u001b[1A\u001b[2K\u001b[8A\u001b[2K\u001b[1A\u001b[2K\u001b[1A\u001b[2K\u001b[8A\u001b[2K\u001b[6A\u001b[2K\u001b[1A\u001b[2K\u001b[1A\u001b[2K\u001b[1A\u001b[2K\u001b[1A\u001b[2K\u001b[8A\u001b[2K\u001b[9A\u001b[2K\u001b[1A\u001b[2K\u001b[1A\u001b[2K\u001b[8A\u001b[2K\u001b[1A\u001b[2K\u001b[8A\u001b[2K\u001b[9A\u001b[2K\u001b[1A\u001b[2K\u001b[1A\u001b[2K\u001b[8A\u001b[2K\u001b[1A\u001b[2K\u001b[9A\u001b[2K\u001b[1A\u001b[2K\u001b[8A\u001b[2K\u001b[1A\u001b[2K\u001b[1A\u001b[2K\u001b[8A\u001b[2K\u001b[1A\u001b[2K\u001b[8A\u001b[2K\u001b[1A\u001b[2K\u001b[9A\u001b[2K\u001b[1A\u001b[2K\u001b[1A\u001b[2K\u001b[8A\u001b[2K\u001b[9A\u001b[2K\u001b[8A\u001b[2K\u001b[1A\u001b[2K\u001b[8A\u001b[2K\u001b[8A\u001b[2K\u001b[1A\u001b[2K\u001b[9A\u001b[2K\u001b[1A\u001b[2K\u001b[8A\u001b[2K\u001b[1A\u001b[2K\u001b[8A\u001b[2K\u001b[1A\u001b[2K\u001b[1A\u001b[2K\u001b[8A\u001b[2K\u001b[1A\u001b[2K\u001b[9A\u001b[2K\u001b[8A\u001b[2K\u001b[1A\u001b[2K\u001b[1A\u001b[2K\u001b[8A\u001b[2K\u001b[1A\u001b[2K\u001b[8A\u001b[2K\u001b[9A\u001b[2K\u001b[8A\u001b[2K\u001b[8A\u001b[2K\u001b[1A\u001b[2K\u001b[1A\u001b[2K\u001b[1A\u001b[2K\u001b[9A\u001b[2K\u001b[1A\u001b[2K\u001b[1A\u001b[2K\u001b[1A\u001b[2K\u001b[9A\u001b[2K\u001b[1A\u001b[2K\u001b[1A\u001b[2K\u001b[1A\u001b[2K\u001b[8A\u001b[2K\u001b[9A\u001b[2K\u001b[1A\u001b[2K\u001b[1A\u001b[2K\u001b[1A\u001b[2K\u001b[9A\u001b[2K\u001b[1A\u001b[2K\u001b[1A\u001b[2K\u001b[9A\u001b[2K\u001b[1A\u001b[2K\u001b[1A\u001b[2K\u001b[1A\u001b[2K\u001b[9A\u001b[2K\u001b[1A\u001b[2K\u001b[1A\u001b[2K\u001b[1A\u001b[2K\u001b[9A\u001b[2K\u001b[1A\u001b[2K\u001b[9A\u001b[2K\u001b[1A\u001b[2K\u001b[9A\u001b[2K\u001b[1A\u001b[2K\u001b[1A\u001b[2K\u001b[9A\u001b[2K\u001b[1A\u001b[2K\u001b[1A\u001b[2K\u001b[9A\u001b[2K\u001b[1A\u001b[2K\u001b[1A\u001b[2K\u001b[1A\u001b[2K\u001b[9A\u001b[2K\u001b[1A\u001b[2K\u001b[1A\u001b[2K\u001b[9A\u001b[2K\u001b[1A\u001b[2K\u001b[1A\u001b[2K\u001b[1A\u001b[2K\u001b[9A\u001b[2K\u001b[1A\u001b[2K\u001b[9A\u001b[2K\u001b[9A\u001b[2K\u001b[9A\u001b[2K\u001b[1A\u001b[2K\u001b[9A\u001b[2K\u001b[9A\u001b[2K\u001b[9A\u001b[2K\u001b[9A\u001b[2K\u001b[9A\u001b[2K\u001b[9A\u001b[2K\u001b[9A\u001b[2K\u001b[9A\u001b[2K\u001b[9A\u001b[2K\u001b[9A\u001b[2K\u001b[9A\u001b[2K\u001b[9A\u001b[2K\u001b[9A\u001b[2K\u001b[9A\u001b[2K\u001b[9A\u001b[2K\u001b[9A\u001b[2K\u001b[9A\u001b[2K\u001b[9A\u001b[2K\u001b[9A\u001b[2K\u001b[9A\u001b[2K\u001b[9A\u001b[2K\u001b[9A\u001b[2K\u001b[9A\u001b[2K\u001b[9A\u001b[2K\u001b[9A\u001b[2K\u001b[9A\u001b[2K\u001b[9A\u001b[2K\u001b[9A\u001b[2K\u001b[9A\u001b[2K\u001b[9A\u001b[2K\u001b[9A\u001b[2K\u001b[9A\u001b[2K\u001b[9A\u001b[2K\u001b[9A\u001b[2K\u001b[9A\u001b[2KPushing  48.33MB/515.6MB\u001b[9A\u001b[2K\u001b[9A\u001b[2K\u001b[9A\u001b[2K\u001b[9A\u001b[2K\u001b[9A\u001b[2K\u001b[9A\u001b[2K\u001b[9A\u001b[2K\u001b[9A\u001b[2K\u001b[9A\u001b[2K\u001b[9A\u001b[2K\u001b[9A\u001b[2K\u001b[9A\u001b[2K\u001b[9A\u001b[2K\u001b[9A\u001b[2K\u001b[9A\u001b[2K\u001b[9A\u001b[2K\u001b[9A\u001b[2K\u001b[9A\u001b[2K\u001b[9A\u001b[2K\u001b[9A\u001b[2K\u001b[9A\u001b[2K\u001b[9A\u001b[2K\u001b[9A\u001b[2K\u001b[9A\u001b[2K\u001b[9A\u001b[2K\u001b[9A\u001b[2K\u001b[9A\u001b[2K\u001b[9A\u001b[2K\u001b[9A\u001b[2K\u001b[9A\u001b[2K\u001b[9A\u001b[2K\u001b[9A\u001b[2K\u001b[9A\u001b[2K\u001b[9A\u001b[2K\u001b[9A\u001b[2K\u001b[9A\u001b[2K\u001b[9A\u001b[2K\u001b[9A\u001b[2K\u001b[9A\u001b[2K\u001b[9A\u001b[2K\u001b[9A\u001b[2K\u001b[9A\u001b[2K\u001b[9A\u001b[2K\u001b[9A\u001b[2K\u001b[9A\u001b[2K\u001b[9A\u001b[2K\u001b[9A\u001b[2K\u001b[9A\u001b[2K\u001b[9A\u001b[2K\u001b[9A\u001b[2K\u001b[9A\u001b[2K\u001b[9A\u001b[2K\u001b[9A\u001b[2K\u001b[9A\u001b[2K\u001b[9A\u001b[2K\u001b[9A\u001b[2K\u001b[9A\u001b[2K\u001b[9A\u001b[2K\u001b[9A\u001b[2K\u001b[9A\u001b[2K\u001b[9A\u001b[2K\u001b[9A\u001b[2K\u001b[9A\u001b[2K\u001b[9A\u001b[2K\u001b[9A\u001b[2K\u001b[9A\u001b[2K\u001b[9A\u001b[2K\u001b[9A\u001b[2K\u001b[9A\u001b[2K\u001b[9A\u001b[2K\u001b[9A\u001b[2K\u001b[9A\u001b[2K\u001b[9A\u001b[2K\u001b[9A\u001b[2K\u001b[9A\u001b[2K\u001b[9A\u001b[2K\u001b[9A\u001b[2K\u001b[9A\u001b[2K\u001b[9A\u001b[2K\u001b[9A\u001b[2K\u001b[9A\u001b[2K\u001b[9A\u001b[2K\u001b[9A\u001b[2K\u001b[9A\u001b[2K\u001b[9A\u001b[2K\u001b[9A\u001b[2K\u001b[9A\u001b[2K\u001b[9A\u001b[2K\u001b[9A\u001b[2K\u001b[9A\u001b[2K\u001b[9A\u001b[2K\u001b[9A\u001b[2K\u001b[9A\u001b[2K\u001b[9A\u001b[2K\u001b[9A\u001b[2K\u001b[9A\u001b[2K\u001b[9A\u001b[2K\u001b[9A\u001b[2K\u001b[9A\u001b[2K\u001b[9A\u001b[2K\u001b[9A\u001b[2K\u001b[9A\u001b[2K\u001b[9A\u001b[2K\u001b[9A\u001b[2K\u001b[9A\u001b[2K\u001b[9A\u001b[2K\u001b[9A\u001b[2K\u001b[9A\u001b[2K\u001b[9A\u001b[2K\u001b[9A\u001b[2K\u001b[9A\u001b[2K\u001b[9A\u001b[2K\u001b[9A\u001b[2K\u001b[9A\u001b[2K\u001b[9A\u001b[2K\u001b[9A\u001b[2K\u001b[9A\u001b[2K\u001b[9A\u001b[2K\u001b[9A\u001b[2K\u001b[9A\u001b[2K\u001b[9A\u001b[2K\u001b[9A\u001b[2K\u001b[9A\u001b[2K\u001b[9A\u001b[2K\u001b[9A\u001b[2K\u001b[9A\u001b[2K\u001b[9A\u001b[2K\u001b[9A\u001b[2K\u001b[9A\u001b[2K\u001b[9A\u001b[2K\u001b[9A\u001b[2K\u001b[9A\u001b[2K\u001b[9A\u001b[2K\u001b[9A\u001b[2K\u001b[9A\u001b[2K\u001b[9A\u001b[2K\u001b[9A\u001b[2K\u001b[9A\u001b[2K\u001b[9A\u001b[2K\u001b[9A\u001b[2K\u001b[9A\u001b[2K\u001b[9A\u001b[2K\u001b[9A\u001b[2K\u001b[9A\u001b[2K\u001b[9A\u001b[2K\u001b[9A\u001b[2K\u001b[9A\u001b[2K\u001b[9A\u001b[2K\u001b[9A\u001b[2K\u001b[9A\u001b[2K\u001b[9A\u001b[2K\u001b[9A\u001b[2K\u001b[9A\u001b[2K\u001b[9A\u001b[2K\u001b[9A\u001b[2K\u001b[9A\u001b[2K\u001b[9A\u001b[2K\u001b[9A\u001b[2K\u001b[9A\u001b[2K\u001b[9A\u001b[2K\u001b[9A\u001b[2K\u001b[9A\u001b[2K\u001b[9A\u001b[2K\u001b[9A\u001b[2K\u001b[9A\u001b[2K\u001b[9A\u001b[2K\u001b[9A\u001b[2K\u001b[9A\u001b[2K\u001b[9A\u001b[2K\u001b[9A\u001b[2K\u001b[9A\u001b[2K\u001b[9A\u001b[2K\u001b[9A\u001b[2K\u001b[9A\u001b[2K\u001b[9A\u001b[2K\u001b[9A\u001b[2K\u001b[9A\u001b[2K\u001b[9A\u001b[2K\u001b[9A\u001b[2KPushing  222.2MB/515.6MB\u001b[9A\u001b[2K\u001b[9A\u001b[2K\u001b[9A\u001b[2K\u001b[9A\u001b[2K\u001b[9A\u001b[2K\u001b[9A\u001b[2K\u001b[9A\u001b[2K\u001b[9A\u001b[2K\u001b[9A\u001b[2K\u001b[9A\u001b[2K\u001b[9A\u001b[2K\u001b[9A\u001b[2K\u001b[9A\u001b[2K\u001b[9A\u001b[2K\u001b[9A\u001b[2K\u001b[9A\u001b[2K\u001b[9A\u001b[2K\u001b[9A\u001b[2K\u001b[9A\u001b[2K\u001b[9A\u001b[2K\u001b[9A\u001b[2K\u001b[9A\u001b[2K\u001b[9A\u001b[2K\u001b[9A\u001b[2K\u001b[9A\u001b[2K\u001b[9A\u001b[2K\u001b[9A\u001b[2K\u001b[9A\u001b[2K\u001b[9A\u001b[2K\u001b[9A\u001b[2K\u001b[9A\u001b[2K\u001b[9A\u001b[2K\u001b[9A\u001b[2K\u001b[9A\u001b[2K\u001b[9A\u001b[2K\u001b[9A\u001b[2K\u001b[9A\u001b[2K\u001b[9A\u001b[2K\u001b[9A\u001b[2K\u001b[9A\u001b[2K\u001b[9A\u001b[2K\u001b[9A\u001b[2K\u001b[9A\u001b[2K\u001b[9A\u001b[2K\u001b[9A\u001b[2K\u001b[9A\u001b[2K\u001b[9A\u001b[2K\u001b[9A\u001b[2K\u001b[9A\u001b[2K\u001b[9A\u001b[2K\u001b[9A\u001b[2K\u001b[9A\u001b[2K\u001b[9A\u001b[2K\u001b[9A\u001b[2K\u001b[9A\u001b[2K\u001b[9A\u001b[2K\u001b[9A\u001b[2K\u001b[9A\u001b[2K\u001b[9A\u001b[2K\u001b[9A\u001b[2K\u001b[9A\u001b[2K\u001b[9A\u001b[2K\u001b[9A\u001b[2K\u001b[9A\u001b[2K\u001b[9A\u001b[2K\u001b[9A\u001b[2K\u001b[9A\u001b[2K\u001b[9A\u001b[2K\u001b[9A\u001b[2K\u001b[9A\u001b[2K\u001b[9A\u001b[2K\u001b[9A\u001b[2K\u001b[9A\u001b[2K\u001b[9A\u001b[2K\u001b[9A\u001b[2K\u001b[9A\u001b[2K\u001b[9A\u001b[2K\u001b[9A\u001b[2K\u001b[9A\u001b[2K\u001b[9A\u001b[2K\u001b[9A\u001b[2K\u001b[9A\u001b[2K\u001b[9A\u001b[2K\u001b[9A\u001b[2K\u001b[9A\u001b[2K\u001b[9A\u001b[2K\u001b[9A\u001b[2K\u001b[9A\u001b[2K\u001b[9A\u001b[2K\u001b[9A\u001b[2K\u001b[9A\u001b[2K\u001b[9A\u001b[2K\u001b[9A\u001b[2K\u001b[9A\u001b[2K\u001b[9A\u001b[2K\u001b[9A\u001b[2K\u001b[9A\u001b[2K\u001b[9A\u001b[2K\u001b[9A\u001b[2K\u001b[9A\u001b[2K\u001b[9A\u001b[2K\u001b[9A\u001b[2K\u001b[9A\u001b[2K\u001b[9A\u001b[2K\u001b[9A\u001b[2K\u001b[9A\u001b[2K\u001b[9A\u001b[2K\u001b[9A\u001b[2K\u001b[9A\u001b[2K\u001b[9A\u001b[2K\u001b[9A\u001b[2K\u001b[9A\u001b[2K\u001b[9A\u001b[2K\u001b[9A\u001b[2K\u001b[9A\u001b[2K\u001b[9A\u001b[2K\u001b[9A\u001b[2K\u001b[9A\u001b[2K\u001b[9A\u001b[2K\u001b[9A\u001b[2K\u001b[9A\u001b[2K\u001b[9A\u001b[2K\u001b[9A\u001b[2K\u001b[9A\u001b[2K\u001b[9A\u001b[2K\u001b[9A\u001b[2K\u001b[9A\u001b[2K\u001b[9A\u001b[2K\u001b[9A\u001b[2K\u001b[9A\u001b[2K\u001b[9A\u001b[2K\u001b[9A\u001b[2K\u001b[9A\u001b[2K\u001b[9A\u001b[2K\u001b[9A\u001b[2K\u001b[9A\u001b[2K\u001b[9A\u001b[2K\u001b[9A\u001b[2K\u001b[9A\u001b[2K\u001b[9A\u001b[2K\u001b[9A\u001b[2K\u001b[9A\u001b[2K\u001b[9A\u001b[2K\u001b[9A\u001b[2K\u001b[9A\u001b[2K\u001b[9A\u001b[2K\u001b[9A\u001b[2K\u001b[9A\u001b[2K\u001b[9A\u001b[2K\u001b[9A\u001b[2K\u001b[9A\u001b[2K\u001b[9A\u001b[2K\u001b[9A\u001b[2K\u001b[9A\u001b[2K\u001b[9A\u001b[2K\u001b[9A\u001b[2K\u001b[9A\u001b[2K\u001b[9A\u001b[2K\u001b[9A\u001b[2K\u001b[9A\u001b[2K\u001b[9A\u001b[2K\u001b[9A\u001b[2K\u001b[9A\u001b[2K\u001b[9A\u001b[2K\u001b[9A\u001b[2K\u001b[9A\u001b[2K\u001b[9A\u001b[2K\u001b[9A\u001b[2K\u001b[9A\u001b[2K\u001b[9A\u001b[2K\u001b[9A\u001b[2K\u001b[9A\u001b[2K\u001b[9A\u001b[2K\u001b[9A\u001b[2K\u001b[9A\u001b[2K\u001b[9A\u001b[2K\u001b[9A\u001b[2K\u001b[9A\u001b[2K\u001b[9A\u001b[2K\u001b[9A\u001b[2K\u001b[9A\u001b[2K\u001b[9A\u001b[2K\u001b[9A\u001b[2Klatest: digest: sha256:476848889d459600b1da184932e39ef298bd16abf456c665ce755fdfcd35edde size: 2214\n"
     ]
    }
   ],
   "source": [
    "!docker tag {ecr_repository + tag} $processing_repository_uri\n",
    "!docker push $processing_repository_uri"
   ]
  },
  {
   "cell_type": "markdown",
   "metadata": {},
   "source": [
    "## Set up the ScriptProcessor from the Amazon SageMaker Python SDK to run the script."
   ]
  },
  {
   "cell_type": "markdown",
   "metadata": {},
   "source": [
    "Setup ScriptProcessor by pointing it to the docker container we created and specifying the instance count and type that it will run on. The `endpoint` is passed in as an argument."
   ]
  },
  {
   "cell_type": "code",
   "execution_count": 3,
   "metadata": {},
   "outputs": [],
   "source": [
    "from sagemaker.processing import ScriptProcessor, ProcessingInput, ProcessingOutput\n",
    "script_processor = ScriptProcessor(command=['python3'],\n",
    "                image_uri=processing_repository_uri,\n",
    "                role=role,\n",
    "                instance_count=1,\n",
    "                instance_type='ml.r5.large',\n",
    "                sagemaker_session=sess,\n",
    "                env={'endpoint':'endpointvalues'})"
   ]
  },
  {
   "cell_type": "code",
   "execution_count": 4,
   "metadata": {},
   "outputs": [
    {
     "name": "stdout",
     "output_type": "stream",
     "text": [
      "['fcn-512-new', 'psp-1024-new', 'psp-old-test'] fcn-512-new\n"
     ]
    }
   ],
   "source": [
    "endpoints = sagemaker_client.list_endpoints()\n",
    "endpoint_names = [endpoint['EndpointName'] for endpoint in endpoints['Endpoints']]\n",
    "endpoint = endpoints['Endpoints'][0]['EndpointName']\n",
    "print(endpoint_names, endpoint)"
   ]
  },
  {
   "cell_type": "markdown",
   "metadata": {},
   "source": [
    "## Run the script in the docker container\n",
    "You can also use existing Docker images, including images that you run on other platforms, such Kubernetes.\n",
    "This will be output into the training folder as `output-1` for the script processor."
   ]
  },
  {
   "cell_type": "code",
   "execution_count": 5,
   "metadata": {
    "tags": []
   },
   "outputs": [
    {
     "name": "stderr",
     "output_type": "stream",
     "text": [
      "Parameter 'session' will be renamed to 'sagemaker_session' in SageMaker Python SDK v2.\n"
     ]
    },
    {
     "name": "stdout",
     "output_type": "stream",
     "text": [
      "\n",
      "Job Name:  ss-processing-container-v0-2020-08-20-22-50-07-664\n",
      "Inputs:  [{'InputName': 'input-1', 'S3Input': {'S3Uri': 's3://st-crayon-dev/data/raw/imgs/original/testing/images/', 'LocalPath': '/opt/ml/processing/input/data', 'S3DataType': 'S3Prefix', 'S3InputMode': 'File', 'S3DataDistributionType': 'FullyReplicated', 'S3CompressionType': 'None'}}, {'InputName': 'code', 'S3Input': {'S3Uri': 's3://st-crayon-dev/ss-processing-container-v0-2020-08-20-22-50-07-664/input/code/inference_script.py', 'LocalPath': '/opt/ml/processing/input/code', 'S3DataType': 'S3Prefix', 'S3InputMode': 'File', 'S3DataDistributionType': 'FullyReplicated', 'S3CompressionType': 'None'}}]\n",
      "Outputs:  [{'OutputName': 'output-1', 'S3Output': {'S3Uri': 's3://st-crayon-dev/data/raw/imgs/original/testing/anno_fcn-512-new-chip512', 'LocalPath': '/opt/ml/processing/output/train', 'S3UploadMode': 'Continuous'}}]\n",
      "......................\u001b[34m20_KY_1317_DBM8839393143_-_Mapping_-_DBI4447445465_DBI1861-1133894-DJI_0760 (3648, 5472)\u001b[0m\n",
      "\u001b[34mvalley_plaza_2020_DBM5959821491_-_Mapping_-_DBI1952809936_DBI-1836-6s87yPIH-DJI_0576 (3648, 5472)\u001b[0m\n",
      "\u001b[34m20_TX_1374_DBM2789862228_-_Mapping_-_DBI9497269894_DBI-384-pKy9niDk-DJI_0882 (3648, 5472)\u001b[0m\n",
      "\u001b[34mrush_effingham_2020_-_mapping_-_DJI_0870 (3648, 5472)\u001b[0m\n",
      "\u001b[34m20_CA_1327_DBM2236713281_-_Mapping_-_DBI5374350131_DBI-64-n55wAAN6-DJI_0064 (3648, 5472)\u001b[0m\n",
      "\u001b[34m20_TX_1263_DBM8876429465_-_Mapping_-_DBI9111832375_DBI-139-cT4gtIE6-DJI_0477 (3648, 5472)\u001b[0m\n",
      "\u001b[34mneshaminy_mall_2020_local_-_mapping_-_DJI_0757DFE (183) (3648, 5472)\u001b[0m\n",
      "\u001b[34mvalley_plaza_2020_DBM5959821491_-_Mapping_-_DBI4064828611_DBI-1827-oL94AbiY-DJI_0567 (3648, 5472)\u001b[0m\n",
      "\u001b[34mrush_effingham_2020_-_mapping_-_DJI_0248 (3648, 5472)\u001b[0m\n",
      "\u001b[34mneshaminy_mall_2020_local_-_mapping_-_DJI_0999DD (750) (3648, 5472)\u001b[0m\n",
      "\u001b[34m20_OR_1088_DBM1093526169_-_Mapping_-_DBI0395953880_DBI-962-JsQBrdJJ-DJI_0921 (3648, 5472)\u001b[0m\n",
      "\u001b[34mvalley_plaza_2020_DBM5959821491_-_Mapping_-_DBI0435264081_DBI-2280-v1Mfnoou-DJI_0021 (3648, 5472)\u001b[0m\n",
      "\u001b[34mrush_effingham_2020_-_mapping_-_DJI_0560 (3648, 5472)\u001b[0m\n",
      "\u001b[34m20_TX_1263_DBM8876429465_-_Mapping_-_DBI7225637231_DBI-140-Iss44Si2-DJI_0478 (3648, 5472)\u001b[0m\n",
      "\u001b[34mneshaminy_mall_2020_local_-_Mapping_300_-_DJI_0233 (3648, 4864)\u001b[0m\n",
      "\u001b[34mRush_Boise_-_Mapping_-_DJI_0765 (3648, 5472)\u001b[0m\n",
      "\u001b[34mneshaminy_mall_2020_local_-_mapping_-_DJI_0999DD (395) (3648, 5472)\u001b[0m\n",
      "\u001b[34m20_TX_362_DBM9850599032_-_Mapping_-_DBI5140355787_DBI-188-GLYzfC7P-DJI_0702 (3648, 5472)\u001b[0m\n",
      "\u001b[34m20_TX_1374_DBM2789862228_-_Mapping_-_DBI0069829717_DBI-13-03ajhbnc-DJI_0013 (3648, 5472)\u001b[0m\n",
      "\n",
      "\u001b[34m20_TX_790_DBM8195085916_-_Mapping_-_DBI8632154067_DBI-6-d28wyGtQ-DJI_0103 (3648, 5472)\u001b[0m\n",
      "\u001b[34m20_IN_1037_DBM5218738239_-_Mapping_-_DBI4371886958_DBI-155-aOBrVkMe-DJI_0572 (3648, 5472)\u001b[0m\n",
      "CPU times: user 1.9 s, sys: 154 ms, total: 2.06 s\n",
      "Wall time: 12min 17s\n"
     ]
    }
   ],
   "source": [
    "%%time\n",
    "script_processor.run(\n",
    "    code=\"inference_script.py\",\n",
    "    inputs=[\n",
    "        ProcessingInput(\n",
    "            source=f\"s3://{bucket}/data/raw/imgs/original/testing/images/\",\n",
    "            destination=\"/opt/ml/processing/input/data\",\n",
    "        )\n",
    "    ],\n",
    "    outputs=[\n",
    "        ProcessingOutput(\n",
    "            source=\"/opt/ml/processing/output/train\", \n",
    "            destination=f\"s3://{bucket}/data/raw/imgs/original/testing/anno_{endpoint}-chip512\",\n",
    "            s3_upload_mode=\"Continuous\"),\n",
    "            \n",
    "    ],\n",
    "    arguments=[\n",
    "        \"s3_input_bucket\",\n",
    "        bucket,\n",
    "        \"s3_input_key_prefix\",\n",
    "        prefix,\n",
    "        \"endpoint\",\n",
    "        endpoint,\n",
    "        \"chipsize\",\n",
    "        \"512\",\n",
    "        \"verbose\",\n",
    "        \"True\"\n",
    "    ],\n",
    ")"
   ]
  }
 ],
 "metadata": {
  "kernelspec": {
   "display_name": "Python 3",
   "language": "python",
   "name": "python3"
  },
  "language_info": {
   "codemirror_mode": {
    "name": "ipython",
    "version": 3
   },
   "file_extension": ".py",
   "mimetype": "text/x-python",
   "name": "python",
   "nbconvert_exporter": "python",
   "pygments_lexer": "ipython3",
   "version": "3.8.5"
  },
  "toc": {
   "base_numbering": 1,
   "nav_menu": {},
   "number_sections": true,
   "sideBar": true,
   "skip_h1_title": false,
   "title_cell": "Table of Contents",
   "title_sidebar": "Contents",
   "toc_cell": false,
   "toc_position": {},
   "toc_section_display": true,
   "toc_window_display": false
  },
  "varInspector": {
   "cols": {
    "lenName": 16,
    "lenType": 16,
    "lenVar": 40
   },
   "kernels_config": {
    "python": {
     "delete_cmd_postfix": "",
     "delete_cmd_prefix": "del ",
     "library": "var_list.py",
     "varRefreshCmd": "print(var_dic_list())"
    },
    "r": {
     "delete_cmd_postfix": ") ",
     "delete_cmd_prefix": "rm(",
     "library": "var_list.r",
     "varRefreshCmd": "cat(var_dic_list()) "
    }
   },
   "types_to_exclude": [
    "module",
    "function",
    "builtin_function_or_method",
    "instance",
    "_Feature"
   ],
   "window_display": false
  }
 },
 "nbformat": 4,
 "nbformat_minor": 2
}
